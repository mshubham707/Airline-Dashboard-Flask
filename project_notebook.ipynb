{
 "cells": [
  {
   "cell_type": "code",
   "execution_count": 1,
   "id": "0846649d",
   "metadata": {},
   "outputs": [],
   "source": [
    "import numpy as np\n",
    "import matplotlib.pyplot as plt\n",
    "import pandas as pd\n",
    "import seaborn as sns\n",
    "import plotly.express as px\n",
    "import plotly.graph_objects as go"
   ]
  },
  {
   "cell_type": "code",
   "execution_count": 2,
   "id": "b79154e0",
   "metadata": {},
   "outputs": [],
   "source": [
    "df=pd.read_csv(\"data/airline_monthly_data.csv\")"
   ]
  },
  {
   "cell_type": "code",
   "execution_count": 3,
   "id": "dc18c881",
   "metadata": {},
   "outputs": [
    {
     "data": {
      "text/html": [
       "<div>\n",
       "<style scoped>\n",
       "    .dataframe tbody tr th:only-of-type {\n",
       "        vertical-align: middle;\n",
       "    }\n",
       "\n",
       "    .dataframe tbody tr th {\n",
       "        vertical-align: top;\n",
       "    }\n",
       "\n",
       "    .dataframe thead th {\n",
       "        text-align: right;\n",
       "    }\n",
       "</style>\n",
       "<table border=\"1\" class=\"dataframe\">\n",
       "  <thead>\n",
       "    <tr style=\"text-align: right;\">\n",
       "      <th></th>\n",
       "      <th>Year</th>\n",
       "      <th>Month</th>\n",
       "      <th>Month_Name</th>\n",
       "      <th>Route</th>\n",
       "      <th>Region</th>\n",
       "      <th>Revenue (INR Cr)</th>\n",
       "      <th>ASK (Mn km)</th>\n",
       "      <th>RPK (Mn km)</th>\n",
       "      <th>Passengers</th>\n",
       "      <th>CASK</th>\n",
       "      <th>PRASK</th>\n",
       "    </tr>\n",
       "  </thead>\n",
       "  <tbody>\n",
       "    <tr>\n",
       "      <th>0</th>\n",
       "      <td>2022</td>\n",
       "      <td>1</td>\n",
       "      <td>January</td>\n",
       "      <td>DEL-BOM</td>\n",
       "      <td>Domestic</td>\n",
       "      <td>52.13</td>\n",
       "      <td>16.73</td>\n",
       "      <td>11.81</td>\n",
       "      <td>11423</td>\n",
       "      <td>4.64</td>\n",
       "      <td>31.16</td>\n",
       "    </tr>\n",
       "    <tr>\n",
       "      <th>1</th>\n",
       "      <td>2022</td>\n",
       "      <td>2</td>\n",
       "      <td>February</td>\n",
       "      <td>DEL-BOM</td>\n",
       "      <td>Domestic</td>\n",
       "      <td>55.09</td>\n",
       "      <td>17.68</td>\n",
       "      <td>12.49</td>\n",
       "      <td>12073</td>\n",
       "      <td>4.80</td>\n",
       "      <td>31.16</td>\n",
       "    </tr>\n",
       "    <tr>\n",
       "      <th>2</th>\n",
       "      <td>2022</td>\n",
       "      <td>3</td>\n",
       "      <td>March</td>\n",
       "      <td>DEL-BOM</td>\n",
       "      <td>Domestic</td>\n",
       "      <td>45.97</td>\n",
       "      <td>14.75</td>\n",
       "      <td>10.42</td>\n",
       "      <td>10073</td>\n",
       "      <td>4.70</td>\n",
       "      <td>31.17</td>\n",
       "    </tr>\n",
       "    <tr>\n",
       "      <th>3</th>\n",
       "      <td>2022</td>\n",
       "      <td>4</td>\n",
       "      <td>April</td>\n",
       "      <td>DEL-BOM</td>\n",
       "      <td>Domestic</td>\n",
       "      <td>46.95</td>\n",
       "      <td>15.07</td>\n",
       "      <td>10.64</td>\n",
       "      <td>10289</td>\n",
       "      <td>4.55</td>\n",
       "      <td>31.15</td>\n",
       "    </tr>\n",
       "    <tr>\n",
       "      <th>4</th>\n",
       "      <td>2022</td>\n",
       "      <td>5</td>\n",
       "      <td>May</td>\n",
       "      <td>DEL-BOM</td>\n",
       "      <td>Domestic</td>\n",
       "      <td>59.36</td>\n",
       "      <td>19.05</td>\n",
       "      <td>13.45</td>\n",
       "      <td>13008</td>\n",
       "      <td>4.51</td>\n",
       "      <td>31.16</td>\n",
       "    </tr>\n",
       "  </tbody>\n",
       "</table>\n",
       "</div>"
      ],
      "text/plain": [
       "   Year  Month Month_Name    Route  ... RPK (Mn km)  Passengers  CASK  PRASK\n",
       "0  2022      1    January  DEL-BOM  ...       11.81       11423  4.64  31.16\n",
       "1  2022      2   February  DEL-BOM  ...       12.49       12073  4.80  31.16\n",
       "2  2022      3      March  DEL-BOM  ...       10.42       10073  4.70  31.17\n",
       "3  2022      4      April  DEL-BOM  ...       10.64       10289  4.55  31.15\n",
       "4  2022      5        May  DEL-BOM  ...       13.45       13008  4.51  31.16\n",
       "\n",
       "[5 rows x 11 columns]"
      ]
     },
     "execution_count": 3,
     "metadata": {},
     "output_type": "execute_result"
    }
   ],
   "source": [
    "df.head()\n"
   ]
  },
  {
   "cell_type": "code",
   "execution_count": 4,
   "id": "835cf565",
   "metadata": {},
   "outputs": [
    {
     "name": "stdout",
     "output_type": "stream",
     "text": [
      "<class 'pandas.core.frame.DataFrame'>\n",
      "RangeIndex: 576 entries, 0 to 575\n",
      "Data columns (total 11 columns):\n",
      " #   Column            Non-Null Count  Dtype  \n",
      "---  ------            --------------  -----  \n",
      " 0   Year              576 non-null    int64  \n",
      " 1   Month             576 non-null    int64  \n",
      " 2   Month_Name        576 non-null    object \n",
      " 3   Route             576 non-null    object \n",
      " 4   Region            576 non-null    object \n",
      " 5   Revenue (INR Cr)  576 non-null    float64\n",
      " 6   ASK (Mn km)       576 non-null    float64\n",
      " 7   RPK (Mn km)       576 non-null    float64\n",
      " 8   Passengers        576 non-null    int64  \n",
      " 9   CASK              576 non-null    float64\n",
      " 10  PRASK             576 non-null    float64\n",
      "dtypes: float64(5), int64(3), object(3)\n",
      "memory usage: 49.6+ KB\n"
     ]
    }
   ],
   "source": [
    "df.info()"
   ]
  },
  {
   "cell_type": "code",
   "execution_count": 5,
   "id": "9c53a7a9",
   "metadata": {},
   "outputs": [
    {
     "data": {
      "text/html": [
       "<div>\n",
       "<style scoped>\n",
       "    .dataframe tbody tr th:only-of-type {\n",
       "        vertical-align: middle;\n",
       "    }\n",
       "\n",
       "    .dataframe tbody tr th {\n",
       "        vertical-align: top;\n",
       "    }\n",
       "\n",
       "    .dataframe thead th {\n",
       "        text-align: right;\n",
       "    }\n",
       "</style>\n",
       "<table border=\"1\" class=\"dataframe\">\n",
       "  <thead>\n",
       "    <tr style=\"text-align: right;\">\n",
       "      <th></th>\n",
       "      <th>Year</th>\n",
       "      <th>Month</th>\n",
       "      <th>Revenue (INR Cr)</th>\n",
       "      <th>ASK (Mn km)</th>\n",
       "      <th>RPK (Mn km)</th>\n",
       "      <th>Passengers</th>\n",
       "      <th>CASK</th>\n",
       "      <th>PRASK</th>\n",
       "    </tr>\n",
       "  </thead>\n",
       "  <tbody>\n",
       "    <tr>\n",
       "      <th>count</th>\n",
       "      <td>576.000000</td>\n",
       "      <td>576.000000</td>\n",
       "      <td>576.000000</td>\n",
       "      <td>576.000000</td>\n",
       "      <td>576.000000</td>\n",
       "      <td>576.000000</td>\n",
       "      <td>576.000000</td>\n",
       "      <td>576.000000</td>\n",
       "    </tr>\n",
       "    <tr>\n",
       "      <th>mean</th>\n",
       "      <td>2023.000000</td>\n",
       "      <td>6.500000</td>\n",
       "      <td>59.347830</td>\n",
       "      <td>15.208368</td>\n",
       "      <td>12.487187</td>\n",
       "      <td>13161.060764</td>\n",
       "      <td>4.193229</td>\n",
       "      <td>38.877639</td>\n",
       "    </tr>\n",
       "    <tr>\n",
       "      <th>std</th>\n",
       "      <td>0.817206</td>\n",
       "      <td>3.455053</td>\n",
       "      <td>24.807729</td>\n",
       "      <td>5.764993</td>\n",
       "      <td>4.984182</td>\n",
       "      <td>5306.150852</td>\n",
       "      <td>0.478995</td>\n",
       "      <td>4.914405</td>\n",
       "    </tr>\n",
       "    <tr>\n",
       "      <th>min</th>\n",
       "      <td>2022.000000</td>\n",
       "      <td>1.000000</td>\n",
       "      <td>20.820000</td>\n",
       "      <td>4.950000</td>\n",
       "      <td>4.280000</td>\n",
       "      <td>4127.000000</td>\n",
       "      <td>3.340000</td>\n",
       "      <td>29.970000</td>\n",
       "    </tr>\n",
       "    <tr>\n",
       "      <th>25%</th>\n",
       "      <td>2022.000000</td>\n",
       "      <td>3.750000</td>\n",
       "      <td>39.052500</td>\n",
       "      <td>10.315000</td>\n",
       "      <td>8.342500</td>\n",
       "      <td>8808.250000</td>\n",
       "      <td>3.790000</td>\n",
       "      <td>35.812500</td>\n",
       "    </tr>\n",
       "    <tr>\n",
       "      <th>50%</th>\n",
       "      <td>2023.000000</td>\n",
       "      <td>6.500000</td>\n",
       "      <td>54.455000</td>\n",
       "      <td>14.350000</td>\n",
       "      <td>11.490000</td>\n",
       "      <td>12090.000000</td>\n",
       "      <td>4.100000</td>\n",
       "      <td>38.205000</td>\n",
       "    </tr>\n",
       "    <tr>\n",
       "      <th>75%</th>\n",
       "      <td>2024.000000</td>\n",
       "      <td>9.250000</td>\n",
       "      <td>76.860000</td>\n",
       "      <td>19.405000</td>\n",
       "      <td>16.102500</td>\n",
       "      <td>16810.000000</td>\n",
       "      <td>4.610000</td>\n",
       "      <td>42.567500</td>\n",
       "    </tr>\n",
       "    <tr>\n",
       "      <th>max</th>\n",
       "      <td>2024.000000</td>\n",
       "      <td>12.000000</td>\n",
       "      <td>138.370000</td>\n",
       "      <td>29.500000</td>\n",
       "      <td>26.240000</td>\n",
       "      <td>27806.000000</td>\n",
       "      <td>5.190000</td>\n",
       "      <td>49.740000</td>\n",
       "    </tr>\n",
       "  </tbody>\n",
       "</table>\n",
       "</div>"
      ],
      "text/plain": [
       "              Year       Month  ...        CASK       PRASK\n",
       "count   576.000000  576.000000  ...  576.000000  576.000000\n",
       "mean   2023.000000    6.500000  ...    4.193229   38.877639\n",
       "std       0.817206    3.455053  ...    0.478995    4.914405\n",
       "min    2022.000000    1.000000  ...    3.340000   29.970000\n",
       "25%    2022.000000    3.750000  ...    3.790000   35.812500\n",
       "50%    2023.000000    6.500000  ...    4.100000   38.205000\n",
       "75%    2024.000000    9.250000  ...    4.610000   42.567500\n",
       "max    2024.000000   12.000000  ...    5.190000   49.740000\n",
       "\n",
       "[8 rows x 8 columns]"
      ]
     },
     "execution_count": 5,
     "metadata": {},
     "output_type": "execute_result"
    }
   ],
   "source": [
    "df.describe() #summarry about the quantitative data"
   ]
  },
  {
   "cell_type": "code",
   "execution_count": 6,
   "id": "258ebcec",
   "metadata": {},
   "outputs": [
    {
     "data": {
      "text/html": [
       "<div>\n",
       "<style scoped>\n",
       "    .dataframe tbody tr th:only-of-type {\n",
       "        vertical-align: middle;\n",
       "    }\n",
       "\n",
       "    .dataframe tbody tr th {\n",
       "        vertical-align: top;\n",
       "    }\n",
       "\n",
       "    .dataframe thead th {\n",
       "        text-align: right;\n",
       "    }\n",
       "</style>\n",
       "<table border=\"1\" class=\"dataframe\">\n",
       "  <thead>\n",
       "    <tr style=\"text-align: right;\">\n",
       "      <th></th>\n",
       "      <th>Year</th>\n",
       "      <th>Month</th>\n",
       "      <th>Month_Name</th>\n",
       "      <th>Route</th>\n",
       "      <th>Region</th>\n",
       "      <th>Revenue (INR Cr)</th>\n",
       "      <th>ASK (Mn km)</th>\n",
       "      <th>RPK (Mn km)</th>\n",
       "      <th>Passengers</th>\n",
       "      <th>CASK</th>\n",
       "      <th>PRASK</th>\n",
       "      <th>Yield</th>\n",
       "      <th>Revenue (INR Mn)</th>\n",
       "    </tr>\n",
       "  </thead>\n",
       "  <tbody>\n",
       "    <tr>\n",
       "      <th>0</th>\n",
       "      <td>2022</td>\n",
       "      <td>1</td>\n",
       "      <td>January</td>\n",
       "      <td>DEL-BOM</td>\n",
       "      <td>Domestic</td>\n",
       "      <td>52.13</td>\n",
       "      <td>16.73</td>\n",
       "      <td>11.81</td>\n",
       "      <td>11423</td>\n",
       "      <td>4.64</td>\n",
       "      <td>3.12</td>\n",
       "      <td>4.41</td>\n",
       "      <td>52.13</td>\n",
       "    </tr>\n",
       "    <tr>\n",
       "      <th>1</th>\n",
       "      <td>2022</td>\n",
       "      <td>2</td>\n",
       "      <td>February</td>\n",
       "      <td>DEL-BOM</td>\n",
       "      <td>Domestic</td>\n",
       "      <td>55.09</td>\n",
       "      <td>17.68</td>\n",
       "      <td>12.49</td>\n",
       "      <td>12073</td>\n",
       "      <td>4.80</td>\n",
       "      <td>3.12</td>\n",
       "      <td>4.41</td>\n",
       "      <td>55.09</td>\n",
       "    </tr>\n",
       "    <tr>\n",
       "      <th>2</th>\n",
       "      <td>2022</td>\n",
       "      <td>3</td>\n",
       "      <td>March</td>\n",
       "      <td>DEL-BOM</td>\n",
       "      <td>Domestic</td>\n",
       "      <td>45.97</td>\n",
       "      <td>14.75</td>\n",
       "      <td>10.42</td>\n",
       "      <td>10073</td>\n",
       "      <td>4.70</td>\n",
       "      <td>3.12</td>\n",
       "      <td>4.41</td>\n",
       "      <td>45.97</td>\n",
       "    </tr>\n",
       "    <tr>\n",
       "      <th>3</th>\n",
       "      <td>2022</td>\n",
       "      <td>4</td>\n",
       "      <td>April</td>\n",
       "      <td>DEL-BOM</td>\n",
       "      <td>Domestic</td>\n",
       "      <td>46.95</td>\n",
       "      <td>15.07</td>\n",
       "      <td>10.64</td>\n",
       "      <td>10289</td>\n",
       "      <td>4.55</td>\n",
       "      <td>3.12</td>\n",
       "      <td>4.41</td>\n",
       "      <td>46.95</td>\n",
       "    </tr>\n",
       "    <tr>\n",
       "      <th>4</th>\n",
       "      <td>2022</td>\n",
       "      <td>5</td>\n",
       "      <td>May</td>\n",
       "      <td>DEL-BOM</td>\n",
       "      <td>Domestic</td>\n",
       "      <td>59.36</td>\n",
       "      <td>19.05</td>\n",
       "      <td>13.45</td>\n",
       "      <td>13008</td>\n",
       "      <td>4.51</td>\n",
       "      <td>3.12</td>\n",
       "      <td>4.41</td>\n",
       "      <td>59.36</td>\n",
       "    </tr>\n",
       "    <tr>\n",
       "      <th>...</th>\n",
       "      <td>...</td>\n",
       "      <td>...</td>\n",
       "      <td>...</td>\n",
       "      <td>...</td>\n",
       "      <td>...</td>\n",
       "      <td>...</td>\n",
       "      <td>...</td>\n",
       "      <td>...</td>\n",
       "      <td>...</td>\n",
       "      <td>...</td>\n",
       "      <td>...</td>\n",
       "      <td>...</td>\n",
       "      <td>...</td>\n",
       "    </tr>\n",
       "    <tr>\n",
       "      <th>571</th>\n",
       "      <td>2024</td>\n",
       "      <td>8</td>\n",
       "      <td>August</td>\n",
       "      <td>COK-DEL</td>\n",
       "      <td>Domestic</td>\n",
       "      <td>36.63</td>\n",
       "      <td>9.09</td>\n",
       "      <td>8.38</td>\n",
       "      <td>9039</td>\n",
       "      <td>4.56</td>\n",
       "      <td>4.03</td>\n",
       "      <td>4.37</td>\n",
       "      <td>36.63</td>\n",
       "    </tr>\n",
       "    <tr>\n",
       "      <th>572</th>\n",
       "      <td>2024</td>\n",
       "      <td>9</td>\n",
       "      <td>September</td>\n",
       "      <td>COK-DEL</td>\n",
       "      <td>Domestic</td>\n",
       "      <td>27.47</td>\n",
       "      <td>6.82</td>\n",
       "      <td>6.29</td>\n",
       "      <td>6780</td>\n",
       "      <td>4.34</td>\n",
       "      <td>4.03</td>\n",
       "      <td>4.37</td>\n",
       "      <td>27.47</td>\n",
       "    </tr>\n",
       "    <tr>\n",
       "      <th>573</th>\n",
       "      <td>2024</td>\n",
       "      <td>10</td>\n",
       "      <td>October</td>\n",
       "      <td>COK-DEL</td>\n",
       "      <td>Domestic</td>\n",
       "      <td>39.84</td>\n",
       "      <td>9.88</td>\n",
       "      <td>9.12</td>\n",
       "      <td>9832</td>\n",
       "      <td>4.52</td>\n",
       "      <td>4.03</td>\n",
       "      <td>4.37</td>\n",
       "      <td>39.84</td>\n",
       "    </tr>\n",
       "    <tr>\n",
       "      <th>574</th>\n",
       "      <td>2024</td>\n",
       "      <td>11</td>\n",
       "      <td>November</td>\n",
       "      <td>COK-DEL</td>\n",
       "      <td>Domestic</td>\n",
       "      <td>27.49</td>\n",
       "      <td>6.82</td>\n",
       "      <td>6.29</td>\n",
       "      <td>6785</td>\n",
       "      <td>4.52</td>\n",
       "      <td>4.03</td>\n",
       "      <td>4.37</td>\n",
       "      <td>27.49</td>\n",
       "    </tr>\n",
       "    <tr>\n",
       "      <th>575</th>\n",
       "      <td>2024</td>\n",
       "      <td>12</td>\n",
       "      <td>December</td>\n",
       "      <td>COK-DEL</td>\n",
       "      <td>Domestic</td>\n",
       "      <td>33.03</td>\n",
       "      <td>8.19</td>\n",
       "      <td>7.56</td>\n",
       "      <td>8151</td>\n",
       "      <td>4.21</td>\n",
       "      <td>4.03</td>\n",
       "      <td>4.37</td>\n",
       "      <td>33.03</td>\n",
       "    </tr>\n",
       "  </tbody>\n",
       "</table>\n",
       "<p>576 rows × 13 columns</p>\n",
       "</div>"
      ],
      "text/plain": [
       "     Year  Month Month_Name    Route  ...  CASK  PRASK  Yield  Revenue (INR Mn)\n",
       "0    2022      1    January  DEL-BOM  ...  4.64   3.12   4.41             52.13\n",
       "1    2022      2   February  DEL-BOM  ...  4.80   3.12   4.41             55.09\n",
       "2    2022      3      March  DEL-BOM  ...  4.70   3.12   4.41             45.97\n",
       "3    2022      4      April  DEL-BOM  ...  4.55   3.12   4.41             46.95\n",
       "4    2022      5        May  DEL-BOM  ...  4.51   3.12   4.41             59.36\n",
       "..    ...    ...        ...      ...  ...   ...    ...    ...               ...\n",
       "571  2024      8     August  COK-DEL  ...  4.56   4.03   4.37             36.63\n",
       "572  2024      9  September  COK-DEL  ...  4.34   4.03   4.37             27.47\n",
       "573  2024     10    October  COK-DEL  ...  4.52   4.03   4.37             39.84\n",
       "574  2024     11   November  COK-DEL  ...  4.52   4.03   4.37             27.49\n",
       "575  2024     12   December  COK-DEL  ...  4.21   4.03   4.37             33.03\n",
       "\n",
       "[576 rows x 13 columns]"
      ]
     },
     "execution_count": 6,
     "metadata": {},
     "output_type": "execute_result"
    }
   ],
   "source": [
    "df[\"Yield\"]=(df[\"Revenue (INR Cr)\"]/df[\"RPK (Mn km)\"]).round(2)\n",
    "df[\"PRASK\"]=(df[\"PRASK\"]/10).round(2)\n",
    "df[\"Revenue (INR Mn)\"]=df[\"Revenue (INR Cr)\"]\n",
    "df"
   ]
  },
  {
   "cell_type": "code",
   "execution_count": 7,
   "id": "350e4232",
   "metadata": {},
   "outputs": [
    {
     "data": {
      "text/html": [
       "<div>\n",
       "<style scoped>\n",
       "    .dataframe tbody tr th:only-of-type {\n",
       "        vertical-align: middle;\n",
       "    }\n",
       "\n",
       "    .dataframe tbody tr th {\n",
       "        vertical-align: top;\n",
       "    }\n",
       "\n",
       "    .dataframe thead th {\n",
       "        text-align: right;\n",
       "    }\n",
       "</style>\n",
       "<table border=\"1\" class=\"dataframe\">\n",
       "  <thead>\n",
       "    <tr style=\"text-align: right;\">\n",
       "      <th></th>\n",
       "      <th>Year</th>\n",
       "      <th>Month</th>\n",
       "      <th>Month_Name</th>\n",
       "      <th>Route</th>\n",
       "      <th>Region</th>\n",
       "      <th>Revenue (INR Cr)</th>\n",
       "      <th>ASK (Mn km)</th>\n",
       "      <th>RPK (Mn km)</th>\n",
       "      <th>Passengers</th>\n",
       "      <th>CASK</th>\n",
       "      <th>PRASK</th>\n",
       "      <th>Yield</th>\n",
       "      <th>Revenue (INR Mn)</th>\n",
       "      <th>Market</th>\n",
       "    </tr>\n",
       "  </thead>\n",
       "  <tbody>\n",
       "    <tr>\n",
       "      <th>0</th>\n",
       "      <td>2022</td>\n",
       "      <td>1</td>\n",
       "      <td>January</td>\n",
       "      <td>DEL-BOM</td>\n",
       "      <td>Domestic</td>\n",
       "      <td>52.13</td>\n",
       "      <td>16.73</td>\n",
       "      <td>11.81</td>\n",
       "      <td>11423</td>\n",
       "      <td>4.64</td>\n",
       "      <td>3.12</td>\n",
       "      <td>4.41</td>\n",
       "      <td>52.13</td>\n",
       "      <td>BOM-DEL</td>\n",
       "    </tr>\n",
       "    <tr>\n",
       "      <th>1</th>\n",
       "      <td>2022</td>\n",
       "      <td>2</td>\n",
       "      <td>February</td>\n",
       "      <td>DEL-BOM</td>\n",
       "      <td>Domestic</td>\n",
       "      <td>55.09</td>\n",
       "      <td>17.68</td>\n",
       "      <td>12.49</td>\n",
       "      <td>12073</td>\n",
       "      <td>4.80</td>\n",
       "      <td>3.12</td>\n",
       "      <td>4.41</td>\n",
       "      <td>55.09</td>\n",
       "      <td>BOM-DEL</td>\n",
       "    </tr>\n",
       "    <tr>\n",
       "      <th>2</th>\n",
       "      <td>2022</td>\n",
       "      <td>3</td>\n",
       "      <td>March</td>\n",
       "      <td>DEL-BOM</td>\n",
       "      <td>Domestic</td>\n",
       "      <td>45.97</td>\n",
       "      <td>14.75</td>\n",
       "      <td>10.42</td>\n",
       "      <td>10073</td>\n",
       "      <td>4.70</td>\n",
       "      <td>3.12</td>\n",
       "      <td>4.41</td>\n",
       "      <td>45.97</td>\n",
       "      <td>BOM-DEL</td>\n",
       "    </tr>\n",
       "    <tr>\n",
       "      <th>3</th>\n",
       "      <td>2022</td>\n",
       "      <td>4</td>\n",
       "      <td>April</td>\n",
       "      <td>DEL-BOM</td>\n",
       "      <td>Domestic</td>\n",
       "      <td>46.95</td>\n",
       "      <td>15.07</td>\n",
       "      <td>10.64</td>\n",
       "      <td>10289</td>\n",
       "      <td>4.55</td>\n",
       "      <td>3.12</td>\n",
       "      <td>4.41</td>\n",
       "      <td>46.95</td>\n",
       "      <td>BOM-DEL</td>\n",
       "    </tr>\n",
       "    <tr>\n",
       "      <th>4</th>\n",
       "      <td>2022</td>\n",
       "      <td>5</td>\n",
       "      <td>May</td>\n",
       "      <td>DEL-BOM</td>\n",
       "      <td>Domestic</td>\n",
       "      <td>59.36</td>\n",
       "      <td>19.05</td>\n",
       "      <td>13.45</td>\n",
       "      <td>13008</td>\n",
       "      <td>4.51</td>\n",
       "      <td>3.12</td>\n",
       "      <td>4.41</td>\n",
       "      <td>59.36</td>\n",
       "      <td>BOM-DEL</td>\n",
       "    </tr>\n",
       "  </tbody>\n",
       "</table>\n",
       "</div>"
      ],
      "text/plain": [
       "   Year  Month Month_Name    Route  ... PRASK  Yield  Revenue (INR Mn)   Market\n",
       "0  2022      1    January  DEL-BOM  ...  3.12   4.41             52.13  BOM-DEL\n",
       "1  2022      2   February  DEL-BOM  ...  3.12   4.41             55.09  BOM-DEL\n",
       "2  2022      3      March  DEL-BOM  ...  3.12   4.41             45.97  BOM-DEL\n",
       "3  2022      4      April  DEL-BOM  ...  3.12   4.41             46.95  BOM-DEL\n",
       "4  2022      5        May  DEL-BOM  ...  3.12   4.41             59.36  BOM-DEL\n",
       "\n",
       "[5 rows x 14 columns]"
      ]
     },
     "execution_count": 7,
     "metadata": {},
     "output_type": "execute_result"
    }
   ],
   "source": [
    "\n",
    "def market(x):\n",
    "    l=sorted(x.split(\"-\"))\n",
    "    mar=l[0]+\"-\"+l[1]\n",
    "    return mar\n",
    "\n",
    "df[\"Market\"]=df[\"Route\"].apply(market)\n",
    "df.head()"
   ]
  },
  {
   "cell_type": "code",
   "execution_count": 8,
   "id": "da73f482",
   "metadata": {},
   "outputs": [],
   "source": [
    "df.drop(columns=[\"Revenue (INR Cr)\"], inplace=True)"
   ]
  },
  {
   "cell_type": "code",
   "execution_count": 9,
   "id": "7445e4fb",
   "metadata": {},
   "outputs": [
    {
     "data": {
      "text/html": [
       "<div>\n",
       "<style scoped>\n",
       "    .dataframe tbody tr th:only-of-type {\n",
       "        vertical-align: middle;\n",
       "    }\n",
       "\n",
       "    .dataframe tbody tr th {\n",
       "        vertical-align: top;\n",
       "    }\n",
       "\n",
       "    .dataframe thead th {\n",
       "        text-align: right;\n",
       "    }\n",
       "</style>\n",
       "<table border=\"1\" class=\"dataframe\">\n",
       "  <thead>\n",
       "    <tr style=\"text-align: right;\">\n",
       "      <th></th>\n",
       "      <th>Year</th>\n",
       "      <th>Month</th>\n",
       "      <th>Month_Name</th>\n",
       "      <th>Route</th>\n",
       "      <th>Region</th>\n",
       "      <th>ASK (Mn km)</th>\n",
       "      <th>RPK (Mn km)</th>\n",
       "      <th>Passengers</th>\n",
       "      <th>CASK</th>\n",
       "      <th>PRASK</th>\n",
       "      <th>Yield</th>\n",
       "      <th>Revenue (INR Mn)</th>\n",
       "      <th>Market</th>\n",
       "      <th>Cost (INR Mn)</th>\n",
       "      <th>Profit (INR Mn)</th>\n",
       "    </tr>\n",
       "  </thead>\n",
       "  <tbody>\n",
       "    <tr>\n",
       "      <th>0</th>\n",
       "      <td>2022</td>\n",
       "      <td>1</td>\n",
       "      <td>January</td>\n",
       "      <td>DEL-BOM</td>\n",
       "      <td>Domestic</td>\n",
       "      <td>16.73</td>\n",
       "      <td>11.81</td>\n",
       "      <td>11423</td>\n",
       "      <td>4.64</td>\n",
       "      <td>3.12</td>\n",
       "      <td>4.41</td>\n",
       "      <td>52.13</td>\n",
       "      <td>BOM-DEL</td>\n",
       "      <td>77.6272</td>\n",
       "      <td>-25.4972</td>\n",
       "    </tr>\n",
       "    <tr>\n",
       "      <th>1</th>\n",
       "      <td>2022</td>\n",
       "      <td>2</td>\n",
       "      <td>February</td>\n",
       "      <td>DEL-BOM</td>\n",
       "      <td>Domestic</td>\n",
       "      <td>17.68</td>\n",
       "      <td>12.49</td>\n",
       "      <td>12073</td>\n",
       "      <td>4.80</td>\n",
       "      <td>3.12</td>\n",
       "      <td>4.41</td>\n",
       "      <td>55.09</td>\n",
       "      <td>BOM-DEL</td>\n",
       "      <td>84.8640</td>\n",
       "      <td>-29.7740</td>\n",
       "    </tr>\n",
       "    <tr>\n",
       "      <th>2</th>\n",
       "      <td>2022</td>\n",
       "      <td>3</td>\n",
       "      <td>March</td>\n",
       "      <td>DEL-BOM</td>\n",
       "      <td>Domestic</td>\n",
       "      <td>14.75</td>\n",
       "      <td>10.42</td>\n",
       "      <td>10073</td>\n",
       "      <td>4.70</td>\n",
       "      <td>3.12</td>\n",
       "      <td>4.41</td>\n",
       "      <td>45.97</td>\n",
       "      <td>BOM-DEL</td>\n",
       "      <td>69.3250</td>\n",
       "      <td>-23.3550</td>\n",
       "    </tr>\n",
       "    <tr>\n",
       "      <th>3</th>\n",
       "      <td>2022</td>\n",
       "      <td>4</td>\n",
       "      <td>April</td>\n",
       "      <td>DEL-BOM</td>\n",
       "      <td>Domestic</td>\n",
       "      <td>15.07</td>\n",
       "      <td>10.64</td>\n",
       "      <td>10289</td>\n",
       "      <td>4.55</td>\n",
       "      <td>3.12</td>\n",
       "      <td>4.41</td>\n",
       "      <td>46.95</td>\n",
       "      <td>BOM-DEL</td>\n",
       "      <td>68.5685</td>\n",
       "      <td>-21.6185</td>\n",
       "    </tr>\n",
       "    <tr>\n",
       "      <th>4</th>\n",
       "      <td>2022</td>\n",
       "      <td>5</td>\n",
       "      <td>May</td>\n",
       "      <td>DEL-BOM</td>\n",
       "      <td>Domestic</td>\n",
       "      <td>19.05</td>\n",
       "      <td>13.45</td>\n",
       "      <td>13008</td>\n",
       "      <td>4.51</td>\n",
       "      <td>3.12</td>\n",
       "      <td>4.41</td>\n",
       "      <td>59.36</td>\n",
       "      <td>BOM-DEL</td>\n",
       "      <td>85.9155</td>\n",
       "      <td>-26.5555</td>\n",
       "    </tr>\n",
       "  </tbody>\n",
       "</table>\n",
       "</div>"
      ],
      "text/plain": [
       "   Year  Month Month_Name  ...   Market Cost (INR Mn)  Profit (INR Mn)\n",
       "0  2022      1    January  ...  BOM-DEL       77.6272         -25.4972\n",
       "1  2022      2   February  ...  BOM-DEL       84.8640         -29.7740\n",
       "2  2022      3      March  ...  BOM-DEL       69.3250         -23.3550\n",
       "3  2022      4      April  ...  BOM-DEL       68.5685         -21.6185\n",
       "4  2022      5        May  ...  BOM-DEL       85.9155         -26.5555\n",
       "\n",
       "[5 rows x 15 columns]"
      ]
     },
     "execution_count": 9,
     "metadata": {},
     "output_type": "execute_result"
    }
   ],
   "source": [
    "df[\"Cost (INR Mn)\"]=df[\"CASK\"]*df[\"ASK (Mn km)\"]\n",
    "df[\"Profit (INR Mn)\"]=df[\"Revenue (INR Mn)\"]-df[\"Cost (INR Mn)\"]\n",
    "df.head()\n"
   ]
  },
  {
   "cell_type": "code",
   "execution_count": 10,
   "id": "79427b94",
   "metadata": {},
   "outputs": [
    {
     "data": {
      "text/html": [
       "<div>\n",
       "<style scoped>\n",
       "    .dataframe tbody tr th:only-of-type {\n",
       "        vertical-align: middle;\n",
       "    }\n",
       "\n",
       "    .dataframe tbody tr th {\n",
       "        vertical-align: top;\n",
       "    }\n",
       "\n",
       "    .dataframe thead th {\n",
       "        text-align: right;\n",
       "    }\n",
       "</style>\n",
       "<table border=\"1\" class=\"dataframe\">\n",
       "  <thead>\n",
       "    <tr style=\"text-align: right;\">\n",
       "      <th></th>\n",
       "      <th>Year</th>\n",
       "      <th>Route</th>\n",
       "      <th>Passengers</th>\n",
       "    </tr>\n",
       "  </thead>\n",
       "  <tbody>\n",
       "    <tr>\n",
       "      <th>0</th>\n",
       "      <td>2022</td>\n",
       "      <td>BOM-JFK</td>\n",
       "      <td>268004</td>\n",
       "    </tr>\n",
       "    <tr>\n",
       "      <th>1</th>\n",
       "      <td>2022</td>\n",
       "      <td>DEL-SIN</td>\n",
       "      <td>252338</td>\n",
       "    </tr>\n",
       "    <tr>\n",
       "      <th>2</th>\n",
       "      <td>2022</td>\n",
       "      <td>BOM-DXB</td>\n",
       "      <td>214763</td>\n",
       "    </tr>\n",
       "    <tr>\n",
       "      <th>3</th>\n",
       "      <td>2022</td>\n",
       "      <td>BOM-DEL</td>\n",
       "      <td>213074</td>\n",
       "    </tr>\n",
       "    <tr>\n",
       "      <th>4</th>\n",
       "      <td>2022</td>\n",
       "      <td>SIN-DEL</td>\n",
       "      <td>201477</td>\n",
       "    </tr>\n",
       "    <tr>\n",
       "      <th>5</th>\n",
       "      <td>2023</td>\n",
       "      <td>DEL-COK</td>\n",
       "      <td>238214</td>\n",
       "    </tr>\n",
       "    <tr>\n",
       "      <th>6</th>\n",
       "      <td>2023</td>\n",
       "      <td>BLR-MAA</td>\n",
       "      <td>224984</td>\n",
       "    </tr>\n",
       "    <tr>\n",
       "      <th>7</th>\n",
       "      <td>2023</td>\n",
       "      <td>SIN-DEL</td>\n",
       "      <td>213880</td>\n",
       "    </tr>\n",
       "    <tr>\n",
       "      <th>8</th>\n",
       "      <td>2023</td>\n",
       "      <td>DEL-SIN</td>\n",
       "      <td>198894</td>\n",
       "    </tr>\n",
       "    <tr>\n",
       "      <th>9</th>\n",
       "      <td>2023</td>\n",
       "      <td>DEL-BOM</td>\n",
       "      <td>179054</td>\n",
       "    </tr>\n",
       "    <tr>\n",
       "      <th>10</th>\n",
       "      <td>2024</td>\n",
       "      <td>BOM-JFK</td>\n",
       "      <td>266627</td>\n",
       "    </tr>\n",
       "    <tr>\n",
       "      <th>11</th>\n",
       "      <td>2024</td>\n",
       "      <td>DEL-BLR</td>\n",
       "      <td>264232</td>\n",
       "    </tr>\n",
       "    <tr>\n",
       "      <th>12</th>\n",
       "      <td>2024</td>\n",
       "      <td>SIN-DEL</td>\n",
       "      <td>257408</td>\n",
       "    </tr>\n",
       "    <tr>\n",
       "      <th>13</th>\n",
       "      <td>2024</td>\n",
       "      <td>BLR-MAA</td>\n",
       "      <td>249737</td>\n",
       "    </tr>\n",
       "    <tr>\n",
       "      <th>14</th>\n",
       "      <td>2024</td>\n",
       "      <td>HYD-BOM</td>\n",
       "      <td>223330</td>\n",
       "    </tr>\n",
       "  </tbody>\n",
       "</table>\n",
       "</div>"
      ],
      "text/plain": [
       "    Year    Route  Passengers\n",
       "0   2022  BOM-JFK      268004\n",
       "1   2022  DEL-SIN      252338\n",
       "2   2022  BOM-DXB      214763\n",
       "3   2022  BOM-DEL      213074\n",
       "4   2022  SIN-DEL      201477\n",
       "5   2023  DEL-COK      238214\n",
       "6   2023  BLR-MAA      224984\n",
       "7   2023  SIN-DEL      213880\n",
       "8   2023  DEL-SIN      198894\n",
       "9   2023  DEL-BOM      179054\n",
       "10  2024  BOM-JFK      266627\n",
       "11  2024  DEL-BLR      264232\n",
       "12  2024  SIN-DEL      257408\n",
       "13  2024  BLR-MAA      249737\n",
       "14  2024  HYD-BOM      223330"
      ]
     },
     "execution_count": 10,
     "metadata": {},
     "output_type": "execute_result"
    }
   ],
   "source": [
    "group=df.groupby(['Year','Route'])[\"Passengers\"].sum().reset_index().sort_values(by=[\"Passengers\"], ascending=False)\n",
    "top_routes=group.groupby([\"Year\"]).head(5).reset_index(drop=True).sort_values(by=[\"Year\",\"Passengers\"], ascending=[True,False]).reset_index(drop=True)\n",
    "top_routes"
   ]
  },
  {
   "cell_type": "code",
   "execution_count": 11,
   "id": "e813937e",
   "metadata": {},
   "outputs": [
    {
     "data": {
      "application/vnd.plotly.v1+json": {
       "config": {
        "plotlyServerURL": "https://plot.ly"
       },
       "data": [
        {
         "hovertemplate": "Route=BOM-JFK<br>Year=%{x}<br>Passengers=%{marker.size}<extra></extra>",
         "legendgroup": "BOM-JFK",
         "marker": {
          "color": "#636efa",
          "line": {
           "color": "DarkSlateGrey",
           "width": 1
          },
          "size": {
           "bdata": "5BYEAIMRBAA=",
           "dtype": "i4"
          },
          "sizemode": "area",
          "sizeref": 54.69469387755102,
          "symbol": "circle"
         },
         "mode": "markers",
         "name": "BOM-JFK",
         "orientation": "v",
         "showlegend": true,
         "type": "scatter",
         "x": [
          "2022",
          "2024"
         ],
         "xaxis": "x",
         "y": {
          "bdata": "5BYEAIMRBAA=",
          "dtype": "i4"
         },
         "yaxis": "y"
        },
        {
         "hovertemplate": "Route=DEL-SIN<br>Year=%{x}<br>Passengers=%{marker.size}<extra></extra>",
         "legendgroup": "DEL-SIN",
         "marker": {
          "color": "#EF553B",
          "line": {
           "color": "DarkSlateGrey",
           "width": 1
          },
          "size": {
           "bdata": "stkDAO4IAwA=",
           "dtype": "i4"
          },
          "sizemode": "area",
          "sizeref": 54.69469387755102,
          "symbol": "circle"
         },
         "mode": "markers",
         "name": "DEL-SIN",
         "orientation": "v",
         "showlegend": true,
         "type": "scatter",
         "x": [
          "2022",
          "2023"
         ],
         "xaxis": "x",
         "y": {
          "bdata": "stkDAO4IAwA=",
          "dtype": "i4"
         },
         "yaxis": "y"
        },
        {
         "hovertemplate": "Route=BOM-DXB<br>Year=%{x}<br>Passengers=%{marker.size}<extra></extra>",
         "legendgroup": "BOM-DXB",
         "marker": {
          "color": "#00cc96",
          "line": {
           "color": "DarkSlateGrey",
           "width": 1
          },
          "size": {
           "bdata": "60YDAA==",
           "dtype": "i4"
          },
          "sizemode": "area",
          "sizeref": 54.69469387755102,
          "symbol": "circle"
         },
         "mode": "markers",
         "name": "BOM-DXB",
         "orientation": "v",
         "showlegend": true,
         "type": "scatter",
         "x": [
          "2022"
         ],
         "xaxis": "x",
         "y": {
          "bdata": "60YDAA==",
          "dtype": "i4"
         },
         "yaxis": "y"
        },
        {
         "hovertemplate": "Route=BOM-DEL<br>Year=%{x}<br>Passengers=%{marker.size}<extra></extra>",
         "legendgroup": "BOM-DEL",
         "marker": {
          "color": "#ab63fa",
          "line": {
           "color": "DarkSlateGrey",
           "width": 1
          },
          "size": {
           "bdata": "UkADAA==",
           "dtype": "i4"
          },
          "sizemode": "area",
          "sizeref": 54.69469387755102,
          "symbol": "circle"
         },
         "mode": "markers",
         "name": "BOM-DEL",
         "orientation": "v",
         "showlegend": true,
         "type": "scatter",
         "x": [
          "2022"
         ],
         "xaxis": "x",
         "y": {
          "bdata": "UkADAA==",
          "dtype": "i4"
         },
         "yaxis": "y"
        },
        {
         "hovertemplate": "Route=SIN-DEL<br>Year=%{x}<br>Passengers=%{marker.size}<extra></extra>",
         "legendgroup": "SIN-DEL",
         "marker": {
          "color": "#FFA15A",
          "line": {
           "color": "DarkSlateGrey",
           "width": 1
          },
          "size": {
           "bdata": "BRMDAHhDAwCA7QMA",
           "dtype": "i4"
          },
          "sizemode": "area",
          "sizeref": 54.69469387755102,
          "symbol": "circle"
         },
         "mode": "markers",
         "name": "SIN-DEL",
         "orientation": "v",
         "showlegend": true,
         "type": "scatter",
         "x": [
          "2022",
          "2023",
          "2024"
         ],
         "xaxis": "x",
         "y": {
          "bdata": "BRMDAHhDAwCA7QMA",
          "dtype": "i4"
         },
         "yaxis": "y"
        },
        {
         "hovertemplate": "Route=DEL-COK<br>Year=%{x}<br>Passengers=%{marker.size}<extra></extra>",
         "legendgroup": "DEL-COK",
         "marker": {
          "color": "#19d3f3",
          "line": {
           "color": "DarkSlateGrey",
           "width": 1
          },
          "size": {
           "bdata": "hqIDAA==",
           "dtype": "i4"
          },
          "sizemode": "area",
          "sizeref": 54.69469387755102,
          "symbol": "circle"
         },
         "mode": "markers",
         "name": "DEL-COK",
         "orientation": "v",
         "showlegend": true,
         "type": "scatter",
         "x": [
          "2023"
         ],
         "xaxis": "x",
         "y": {
          "bdata": "hqIDAA==",
          "dtype": "i4"
         },
         "yaxis": "y"
        },
        {
         "hovertemplate": "Route=BLR-MAA<br>Year=%{x}<br>Passengers=%{marker.size}<extra></extra>",
         "legendgroup": "BLR-MAA",
         "marker": {
          "color": "#FF6692",
          "line": {
           "color": "DarkSlateGrey",
           "width": 1
          },
          "size": {
           "bdata": "2G4DAInPAwA=",
           "dtype": "i4"
          },
          "sizemode": "area",
          "sizeref": 54.69469387755102,
          "symbol": "circle"
         },
         "mode": "markers",
         "name": "BLR-MAA",
         "orientation": "v",
         "showlegend": true,
         "type": "scatter",
         "x": [
          "2023",
          "2024"
         ],
         "xaxis": "x",
         "y": {
          "bdata": "2G4DAInPAwA=",
          "dtype": "i4"
         },
         "yaxis": "y"
        },
        {
         "hovertemplate": "Route=DEL-BOM<br>Year=%{x}<br>Passengers=%{marker.size}<extra></extra>",
         "legendgroup": "DEL-BOM",
         "marker": {
          "color": "#B6E880",
          "line": {
           "color": "DarkSlateGrey",
           "width": 1
          },
          "size": {
           "bdata": "brsCAA==",
           "dtype": "i4"
          },
          "sizemode": "area",
          "sizeref": 54.69469387755102,
          "symbol": "circle"
         },
         "mode": "markers",
         "name": "DEL-BOM",
         "orientation": "v",
         "showlegend": true,
         "type": "scatter",
         "x": [
          "2023"
         ],
         "xaxis": "x",
         "y": {
          "bdata": "brsCAA==",
          "dtype": "i4"
         },
         "yaxis": "y"
        },
        {
         "hovertemplate": "Route=DEL-BLR<br>Year=%{x}<br>Passengers=%{marker.size}<extra></extra>",
         "legendgroup": "DEL-BLR",
         "marker": {
          "color": "#FF97FF",
          "line": {
           "color": "DarkSlateGrey",
           "width": 1
          },
          "size": {
           "bdata": "KAgEAA==",
           "dtype": "i4"
          },
          "sizemode": "area",
          "sizeref": 54.69469387755102,
          "symbol": "circle"
         },
         "mode": "markers",
         "name": "DEL-BLR",
         "orientation": "v",
         "showlegend": true,
         "type": "scatter",
         "x": [
          "2024"
         ],
         "xaxis": "x",
         "y": {
          "bdata": "KAgEAA==",
          "dtype": "i4"
         },
         "yaxis": "y"
        },
        {
         "hovertemplate": "Route=HYD-BOM<br>Year=%{x}<br>Passengers=%{marker.size}<extra></extra>",
         "legendgroup": "HYD-BOM",
         "marker": {
          "color": "#FECB52",
          "line": {
           "color": "DarkSlateGrey",
           "width": 1
          },
          "size": {
           "bdata": "YmgDAA==",
           "dtype": "i4"
          },
          "sizemode": "area",
          "sizeref": 54.69469387755102,
          "symbol": "circle"
         },
         "mode": "markers",
         "name": "HYD-BOM",
         "orientation": "v",
         "showlegend": true,
         "type": "scatter",
         "x": [
          "2024"
         ],
         "xaxis": "x",
         "y": {
          "bdata": "YmgDAA==",
          "dtype": "i4"
         },
         "yaxis": "y"
        }
       ],
       "layout": {
        "height": 600,
        "legend": {
         "itemsizing": "constant",
         "title": {
          "text": "Route"
         },
         "tracegroupgap": 0
        },
        "template": {
         "data": {
          "bar": [
           {
            "error_x": {
             "color": "#2a3f5f"
            },
            "error_y": {
             "color": "#2a3f5f"
            },
            "marker": {
             "line": {
              "color": "white",
              "width": 0.5
             },
             "pattern": {
              "fillmode": "overlay",
              "size": 10,
              "solidity": 0.2
             }
            },
            "type": "bar"
           }
          ],
          "barpolar": [
           {
            "marker": {
             "line": {
              "color": "white",
              "width": 0.5
             },
             "pattern": {
              "fillmode": "overlay",
              "size": 10,
              "solidity": 0.2
             }
            },
            "type": "barpolar"
           }
          ],
          "carpet": [
           {
            "aaxis": {
             "endlinecolor": "#2a3f5f",
             "gridcolor": "#C8D4E3",
             "linecolor": "#C8D4E3",
             "minorgridcolor": "#C8D4E3",
             "startlinecolor": "#2a3f5f"
            },
            "baxis": {
             "endlinecolor": "#2a3f5f",
             "gridcolor": "#C8D4E3",
             "linecolor": "#C8D4E3",
             "minorgridcolor": "#C8D4E3",
             "startlinecolor": "#2a3f5f"
            },
            "type": "carpet"
           }
          ],
          "choropleth": [
           {
            "colorbar": {
             "outlinewidth": 0,
             "ticks": ""
            },
            "type": "choropleth"
           }
          ],
          "contour": [
           {
            "colorbar": {
             "outlinewidth": 0,
             "ticks": ""
            },
            "colorscale": [
             [
              0,
              "#0d0887"
             ],
             [
              0.1111111111111111,
              "#46039f"
             ],
             [
              0.2222222222222222,
              "#7201a8"
             ],
             [
              0.3333333333333333,
              "#9c179e"
             ],
             [
              0.4444444444444444,
              "#bd3786"
             ],
             [
              0.5555555555555556,
              "#d8576b"
             ],
             [
              0.6666666666666666,
              "#ed7953"
             ],
             [
              0.7777777777777778,
              "#fb9f3a"
             ],
             [
              0.8888888888888888,
              "#fdca26"
             ],
             [
              1,
              "#f0f921"
             ]
            ],
            "type": "contour"
           }
          ],
          "contourcarpet": [
           {
            "colorbar": {
             "outlinewidth": 0,
             "ticks": ""
            },
            "type": "contourcarpet"
           }
          ],
          "heatmap": [
           {
            "colorbar": {
             "outlinewidth": 0,
             "ticks": ""
            },
            "colorscale": [
             [
              0,
              "#0d0887"
             ],
             [
              0.1111111111111111,
              "#46039f"
             ],
             [
              0.2222222222222222,
              "#7201a8"
             ],
             [
              0.3333333333333333,
              "#9c179e"
             ],
             [
              0.4444444444444444,
              "#bd3786"
             ],
             [
              0.5555555555555556,
              "#d8576b"
             ],
             [
              0.6666666666666666,
              "#ed7953"
             ],
             [
              0.7777777777777778,
              "#fb9f3a"
             ],
             [
              0.8888888888888888,
              "#fdca26"
             ],
             [
              1,
              "#f0f921"
             ]
            ],
            "type": "heatmap"
           }
          ],
          "histogram": [
           {
            "marker": {
             "pattern": {
              "fillmode": "overlay",
              "size": 10,
              "solidity": 0.2
             }
            },
            "type": "histogram"
           }
          ],
          "histogram2d": [
           {
            "colorbar": {
             "outlinewidth": 0,
             "ticks": ""
            },
            "colorscale": [
             [
              0,
              "#0d0887"
             ],
             [
              0.1111111111111111,
              "#46039f"
             ],
             [
              0.2222222222222222,
              "#7201a8"
             ],
             [
              0.3333333333333333,
              "#9c179e"
             ],
             [
              0.4444444444444444,
              "#bd3786"
             ],
             [
              0.5555555555555556,
              "#d8576b"
             ],
             [
              0.6666666666666666,
              "#ed7953"
             ],
             [
              0.7777777777777778,
              "#fb9f3a"
             ],
             [
              0.8888888888888888,
              "#fdca26"
             ],
             [
              1,
              "#f0f921"
             ]
            ],
            "type": "histogram2d"
           }
          ],
          "histogram2dcontour": [
           {
            "colorbar": {
             "outlinewidth": 0,
             "ticks": ""
            },
            "colorscale": [
             [
              0,
              "#0d0887"
             ],
             [
              0.1111111111111111,
              "#46039f"
             ],
             [
              0.2222222222222222,
              "#7201a8"
             ],
             [
              0.3333333333333333,
              "#9c179e"
             ],
             [
              0.4444444444444444,
              "#bd3786"
             ],
             [
              0.5555555555555556,
              "#d8576b"
             ],
             [
              0.6666666666666666,
              "#ed7953"
             ],
             [
              0.7777777777777778,
              "#fb9f3a"
             ],
             [
              0.8888888888888888,
              "#fdca26"
             ],
             [
              1,
              "#f0f921"
             ]
            ],
            "type": "histogram2dcontour"
           }
          ],
          "mesh3d": [
           {
            "colorbar": {
             "outlinewidth": 0,
             "ticks": ""
            },
            "type": "mesh3d"
           }
          ],
          "parcoords": [
           {
            "line": {
             "colorbar": {
              "outlinewidth": 0,
              "ticks": ""
             }
            },
            "type": "parcoords"
           }
          ],
          "pie": [
           {
            "automargin": true,
            "type": "pie"
           }
          ],
          "scatter": [
           {
            "fillpattern": {
             "fillmode": "overlay",
             "size": 10,
             "solidity": 0.2
            },
            "type": "scatter"
           }
          ],
          "scatter3d": [
           {
            "line": {
             "colorbar": {
              "outlinewidth": 0,
              "ticks": ""
             }
            },
            "marker": {
             "colorbar": {
              "outlinewidth": 0,
              "ticks": ""
             }
            },
            "type": "scatter3d"
           }
          ],
          "scattercarpet": [
           {
            "marker": {
             "colorbar": {
              "outlinewidth": 0,
              "ticks": ""
             }
            },
            "type": "scattercarpet"
           }
          ],
          "scattergeo": [
           {
            "marker": {
             "colorbar": {
              "outlinewidth": 0,
              "ticks": ""
             }
            },
            "type": "scattergeo"
           }
          ],
          "scattergl": [
           {
            "marker": {
             "colorbar": {
              "outlinewidth": 0,
              "ticks": ""
             }
            },
            "type": "scattergl"
           }
          ],
          "scattermap": [
           {
            "marker": {
             "colorbar": {
              "outlinewidth": 0,
              "ticks": ""
             }
            },
            "type": "scattermap"
           }
          ],
          "scattermapbox": [
           {
            "marker": {
             "colorbar": {
              "outlinewidth": 0,
              "ticks": ""
             }
            },
            "type": "scattermapbox"
           }
          ],
          "scatterpolar": [
           {
            "marker": {
             "colorbar": {
              "outlinewidth": 0,
              "ticks": ""
             }
            },
            "type": "scatterpolar"
           }
          ],
          "scatterpolargl": [
           {
            "marker": {
             "colorbar": {
              "outlinewidth": 0,
              "ticks": ""
             }
            },
            "type": "scatterpolargl"
           }
          ],
          "scatterternary": [
           {
            "marker": {
             "colorbar": {
              "outlinewidth": 0,
              "ticks": ""
             }
            },
            "type": "scatterternary"
           }
          ],
          "surface": [
           {
            "colorbar": {
             "outlinewidth": 0,
             "ticks": ""
            },
            "colorscale": [
             [
              0,
              "#0d0887"
             ],
             [
              0.1111111111111111,
              "#46039f"
             ],
             [
              0.2222222222222222,
              "#7201a8"
             ],
             [
              0.3333333333333333,
              "#9c179e"
             ],
             [
              0.4444444444444444,
              "#bd3786"
             ],
             [
              0.5555555555555556,
              "#d8576b"
             ],
             [
              0.6666666666666666,
              "#ed7953"
             ],
             [
              0.7777777777777778,
              "#fb9f3a"
             ],
             [
              0.8888888888888888,
              "#fdca26"
             ],
             [
              1,
              "#f0f921"
             ]
            ],
            "type": "surface"
           }
          ],
          "table": [
           {
            "cells": {
             "fill": {
              "color": "#EBF0F8"
             },
             "line": {
              "color": "white"
             }
            },
            "header": {
             "fill": {
              "color": "#C8D4E3"
             },
             "line": {
              "color": "white"
             }
            },
            "type": "table"
           }
          ]
         },
         "layout": {
          "annotationdefaults": {
           "arrowcolor": "#2a3f5f",
           "arrowhead": 0,
           "arrowwidth": 1
          },
          "autotypenumbers": "strict",
          "coloraxis": {
           "colorbar": {
            "outlinewidth": 0,
            "ticks": ""
           }
          },
          "colorscale": {
           "diverging": [
            [
             0,
             "#8e0152"
            ],
            [
             0.1,
             "#c51b7d"
            ],
            [
             0.2,
             "#de77ae"
            ],
            [
             0.3,
             "#f1b6da"
            ],
            [
             0.4,
             "#fde0ef"
            ],
            [
             0.5,
             "#f7f7f7"
            ],
            [
             0.6,
             "#e6f5d0"
            ],
            [
             0.7,
             "#b8e186"
            ],
            [
             0.8,
             "#7fbc41"
            ],
            [
             0.9,
             "#4d9221"
            ],
            [
             1,
             "#276419"
            ]
           ],
           "sequential": [
            [
             0,
             "#0d0887"
            ],
            [
             0.1111111111111111,
             "#46039f"
            ],
            [
             0.2222222222222222,
             "#7201a8"
            ],
            [
             0.3333333333333333,
             "#9c179e"
            ],
            [
             0.4444444444444444,
             "#bd3786"
            ],
            [
             0.5555555555555556,
             "#d8576b"
            ],
            [
             0.6666666666666666,
             "#ed7953"
            ],
            [
             0.7777777777777778,
             "#fb9f3a"
            ],
            [
             0.8888888888888888,
             "#fdca26"
            ],
            [
             1,
             "#f0f921"
            ]
           ],
           "sequentialminus": [
            [
             0,
             "#0d0887"
            ],
            [
             0.1111111111111111,
             "#46039f"
            ],
            [
             0.2222222222222222,
             "#7201a8"
            ],
            [
             0.3333333333333333,
             "#9c179e"
            ],
            [
             0.4444444444444444,
             "#bd3786"
            ],
            [
             0.5555555555555556,
             "#d8576b"
            ],
            [
             0.6666666666666666,
             "#ed7953"
            ],
            [
             0.7777777777777778,
             "#fb9f3a"
            ],
            [
             0.8888888888888888,
             "#fdca26"
            ],
            [
             1,
             "#f0f921"
            ]
           ]
          },
          "colorway": [
           "#636efa",
           "#EF553B",
           "#00cc96",
           "#ab63fa",
           "#FFA15A",
           "#19d3f3",
           "#FF6692",
           "#B6E880",
           "#FF97FF",
           "#FECB52"
          ],
          "font": {
           "color": "#2a3f5f"
          },
          "geo": {
           "bgcolor": "white",
           "lakecolor": "white",
           "landcolor": "white",
           "showlakes": true,
           "showland": true,
           "subunitcolor": "#C8D4E3"
          },
          "hoverlabel": {
           "align": "left"
          },
          "hovermode": "closest",
          "mapbox": {
           "style": "light"
          },
          "paper_bgcolor": "white",
          "plot_bgcolor": "white",
          "polar": {
           "angularaxis": {
            "gridcolor": "#EBF0F8",
            "linecolor": "#EBF0F8",
            "ticks": ""
           },
           "bgcolor": "white",
           "radialaxis": {
            "gridcolor": "#EBF0F8",
            "linecolor": "#EBF0F8",
            "ticks": ""
           }
          },
          "scene": {
           "xaxis": {
            "backgroundcolor": "white",
            "gridcolor": "#DFE8F3",
            "gridwidth": 2,
            "linecolor": "#EBF0F8",
            "showbackground": true,
            "ticks": "",
            "zerolinecolor": "#EBF0F8"
           },
           "yaxis": {
            "backgroundcolor": "white",
            "gridcolor": "#DFE8F3",
            "gridwidth": 2,
            "linecolor": "#EBF0F8",
            "showbackground": true,
            "ticks": "",
            "zerolinecolor": "#EBF0F8"
           },
           "zaxis": {
            "backgroundcolor": "white",
            "gridcolor": "#DFE8F3",
            "gridwidth": 2,
            "linecolor": "#EBF0F8",
            "showbackground": true,
            "ticks": "",
            "zerolinecolor": "#EBF0F8"
           }
          },
          "shapedefaults": {
           "line": {
            "color": "#2a3f5f"
           }
          },
          "ternary": {
           "aaxis": {
            "gridcolor": "#DFE8F3",
            "linecolor": "#A2B1C6",
            "ticks": ""
           },
           "baxis": {
            "gridcolor": "#DFE8F3",
            "linecolor": "#A2B1C6",
            "ticks": ""
           },
           "bgcolor": "white",
           "caxis": {
            "gridcolor": "#DFE8F3",
            "linecolor": "#A2B1C6",
            "ticks": ""
           }
          },
          "title": {
           "x": 0.05
          },
          "xaxis": {
           "automargin": true,
           "gridcolor": "#EBF0F8",
           "linecolor": "#EBF0F8",
           "ticks": "",
           "title": {
            "standoff": 15
           },
           "zerolinecolor": "#EBF0F8",
           "zerolinewidth": 2
          },
          "yaxis": {
           "automargin": true,
           "gridcolor": "#EBF0F8",
           "linecolor": "#EBF0F8",
           "ticks": "",
           "title": {
            "standoff": 15
           },
           "zerolinecolor": "#EBF0F8",
           "zerolinewidth": 2
          }
         }
        },
        "title": {
         "text": "Top 5 Routes per Year by Passenger Count"
        },
        "xaxis": {
         "anchor": "y",
         "categoryarray": [
          "2022",
          "2023",
          "2024"
         ],
         "categoryorder": "array",
         "domain": [
          0,
          1
         ],
         "title": {
          "text": "Year"
         }
        },
        "yaxis": {
         "anchor": "x",
         "domain": [
          0,
          1
         ],
         "title": {
          "text": "Passenger Count"
         }
        }
       }
      }
     },
     "metadata": {},
     "output_type": "display_data"
    }
   ],
   "source": [
    "#Top 5 Routes per Year by Passenger Count\n",
    "\n",
    "import plotly.express as px\n",
    "\n",
    "top_routes[\"Year\"] = top_routes[\"Year\"].astype(str)\n",
    "manuaL_order=[\"2022\",\"2023\",\"2024\"]\n",
    "\n",
    "fig = px.scatter(\n",
    "    top_routes,\n",
    "    x=\"Year\",\n",
    "    y=\"Passengers\",\n",
    "    size=\"Passengers\",\n",
    "    color=\"Route\",\n",
    "    hover_data=[\"Passengers\"],\n",
    "    title=\"Top 5 Routes per Year by Passenger Count\",\n",
    "    size_max=70,\n",
    "    height=600,\n",
    "    category_orders={\"Year\": manuaL_order},\n",
    ")\n",
    "\n",
    "fig.update_traces(marker=dict(line=dict(width=1, color='DarkSlateGrey')))\n",
    "fig.update_layout(\n",
    "    xaxis_title=\"Year\",\n",
    "    yaxis_title=\"Passenger Count\",\n",
    "    legend_title=\"Route\",\n",
    "    template=\"plotly_white\"\n",
    ")\n",
    "\n",
    "fig.show()\n"
   ]
  },
  {
   "cell_type": "code",
   "execution_count": 12,
   "id": "35688780",
   "metadata": {},
   "outputs": [
    {
     "name": "stderr",
     "output_type": "stream",
     "text": [
      "C:\\Users\\mshub\\AppData\\Local\\Temp\\ipykernel_26916\\704510362.py:9: FutureWarning:\n",
      "\n",
      "The default of observed=False is deprecated and will be changed to True in a future version of pandas. Pass observed=False to retain current behavior or observed=True to adopt the future default and silence this warning.\n",
      "\n"
     ]
    },
    {
     "data": {
      "text/html": [
       "<div>\n",
       "<style scoped>\n",
       "    .dataframe tbody tr th:only-of-type {\n",
       "        vertical-align: middle;\n",
       "    }\n",
       "\n",
       "    .dataframe tbody tr th {\n",
       "        vertical-align: top;\n",
       "    }\n",
       "\n",
       "    .dataframe thead th {\n",
       "        text-align: right;\n",
       "    }\n",
       "</style>\n",
       "<table border=\"1\" class=\"dataframe\">\n",
       "  <thead>\n",
       "    <tr style=\"text-align: right;\">\n",
       "      <th></th>\n",
       "      <th>Year</th>\n",
       "      <th>Month_Name</th>\n",
       "      <th>Revenue (INR Mn)</th>\n",
       "      <th>Cost (INR Mn)</th>\n",
       "      <th>ASK (Mn km)</th>\n",
       "      <th>Monthly_PRASK</th>\n",
       "    </tr>\n",
       "  </thead>\n",
       "  <tbody>\n",
       "    <tr>\n",
       "      <th>0</th>\n",
       "      <td>2022</td>\n",
       "      <td>January</td>\n",
       "      <td>874.93</td>\n",
       "      <td>982.1233</td>\n",
       "      <td>234.79</td>\n",
       "      <td>3.73</td>\n",
       "    </tr>\n",
       "    <tr>\n",
       "      <th>1</th>\n",
       "      <td>2022</td>\n",
       "      <td>February</td>\n",
       "      <td>930.65</td>\n",
       "      <td>1058.5332</td>\n",
       "      <td>250.92</td>\n",
       "      <td>3.71</td>\n",
       "    </tr>\n",
       "    <tr>\n",
       "      <th>2</th>\n",
       "      <td>2022</td>\n",
       "      <td>March</td>\n",
       "      <td>955.83</td>\n",
       "      <td>1069.2161</td>\n",
       "      <td>253.67</td>\n",
       "      <td>3.77</td>\n",
       "    </tr>\n",
       "    <tr>\n",
       "      <th>3</th>\n",
       "      <td>2022</td>\n",
       "      <td>April</td>\n",
       "      <td>944.53</td>\n",
       "      <td>1054.5595</td>\n",
       "      <td>252.28</td>\n",
       "      <td>3.74</td>\n",
       "    </tr>\n",
       "    <tr>\n",
       "      <th>4</th>\n",
       "      <td>2022</td>\n",
       "      <td>May</td>\n",
       "      <td>932.87</td>\n",
       "      <td>1054.3885</td>\n",
       "      <td>251.12</td>\n",
       "      <td>3.71</td>\n",
       "    </tr>\n",
       "    <tr>\n",
       "      <th>5</th>\n",
       "      <td>2022</td>\n",
       "      <td>June</td>\n",
       "      <td>966.36</td>\n",
       "      <td>1082.2070</td>\n",
       "      <td>257.89</td>\n",
       "      <td>3.75</td>\n",
       "    </tr>\n",
       "    <tr>\n",
       "      <th>6</th>\n",
       "      <td>2022</td>\n",
       "      <td>July</td>\n",
       "      <td>956.67</td>\n",
       "      <td>1089.5488</td>\n",
       "      <td>257.81</td>\n",
       "      <td>3.71</td>\n",
       "    </tr>\n",
       "    <tr>\n",
       "      <th>7</th>\n",
       "      <td>2022</td>\n",
       "      <td>August</td>\n",
       "      <td>936.29</td>\n",
       "      <td>1066.0843</td>\n",
       "      <td>251.35</td>\n",
       "      <td>3.73</td>\n",
       "    </tr>\n",
       "    <tr>\n",
       "      <th>8</th>\n",
       "      <td>2022</td>\n",
       "      <td>September</td>\n",
       "      <td>989.15</td>\n",
       "      <td>1095.9701</td>\n",
       "      <td>265.59</td>\n",
       "      <td>3.72</td>\n",
       "    </tr>\n",
       "    <tr>\n",
       "      <th>9</th>\n",
       "      <td>2022</td>\n",
       "      <td>October</td>\n",
       "      <td>1026.19</td>\n",
       "      <td>1151.1098</td>\n",
       "      <td>274.36</td>\n",
       "      <td>3.74</td>\n",
       "    </tr>\n",
       "    <tr>\n",
       "      <th>10</th>\n",
       "      <td>2022</td>\n",
       "      <td>November</td>\n",
       "      <td>1049.91</td>\n",
       "      <td>1182.4145</td>\n",
       "      <td>281.67</td>\n",
       "      <td>3.73</td>\n",
       "    </tr>\n",
       "    <tr>\n",
       "      <th>11</th>\n",
       "      <td>2022</td>\n",
       "      <td>December</td>\n",
       "      <td>918.97</td>\n",
       "      <td>1033.1370</td>\n",
       "      <td>247.98</td>\n",
       "      <td>3.71</td>\n",
       "    </tr>\n",
       "    <tr>\n",
       "      <th>12</th>\n",
       "      <td>2023</td>\n",
       "      <td>January</td>\n",
       "      <td>913.89</td>\n",
       "      <td>949.2454</td>\n",
       "      <td>230.67</td>\n",
       "      <td>3.96</td>\n",
       "    </tr>\n",
       "    <tr>\n",
       "      <th>13</th>\n",
       "      <td>2023</td>\n",
       "      <td>February</td>\n",
       "      <td>952.40</td>\n",
       "      <td>987.0951</td>\n",
       "      <td>241.89</td>\n",
       "      <td>3.94</td>\n",
       "    </tr>\n",
       "    <tr>\n",
       "      <th>14</th>\n",
       "      <td>2023</td>\n",
       "      <td>March</td>\n",
       "      <td>921.31</td>\n",
       "      <td>952.8843</td>\n",
       "      <td>232.29</td>\n",
       "      <td>3.97</td>\n",
       "    </tr>\n",
       "    <tr>\n",
       "      <th>15</th>\n",
       "      <td>2023</td>\n",
       "      <td>April</td>\n",
       "      <td>921.58</td>\n",
       "      <td>953.0439</td>\n",
       "      <td>233.20</td>\n",
       "      <td>3.95</td>\n",
       "    </tr>\n",
       "    <tr>\n",
       "      <th>16</th>\n",
       "      <td>2023</td>\n",
       "      <td>May</td>\n",
       "      <td>909.58</td>\n",
       "      <td>947.5311</td>\n",
       "      <td>231.47</td>\n",
       "      <td>3.93</td>\n",
       "    </tr>\n",
       "    <tr>\n",
       "      <th>17</th>\n",
       "      <td>2023</td>\n",
       "      <td>June</td>\n",
       "      <td>917.25</td>\n",
       "      <td>955.1126</td>\n",
       "      <td>234.27</td>\n",
       "      <td>3.92</td>\n",
       "    </tr>\n",
       "    <tr>\n",
       "      <th>18</th>\n",
       "      <td>2023</td>\n",
       "      <td>July</td>\n",
       "      <td>936.94</td>\n",
       "      <td>964.0274</td>\n",
       "      <td>238.10</td>\n",
       "      <td>3.94</td>\n",
       "    </tr>\n",
       "    <tr>\n",
       "      <th>19</th>\n",
       "      <td>2023</td>\n",
       "      <td>August</td>\n",
       "      <td>968.66</td>\n",
       "      <td>997.2770</td>\n",
       "      <td>244.91</td>\n",
       "      <td>3.96</td>\n",
       "    </tr>\n",
       "    <tr>\n",
       "      <th>20</th>\n",
       "      <td>2023</td>\n",
       "      <td>September</td>\n",
       "      <td>927.24</td>\n",
       "      <td>967.8859</td>\n",
       "      <td>235.03</td>\n",
       "      <td>3.95</td>\n",
       "    </tr>\n",
       "    <tr>\n",
       "      <th>21</th>\n",
       "      <td>2023</td>\n",
       "      <td>October</td>\n",
       "      <td>928.08</td>\n",
       "      <td>954.9884</td>\n",
       "      <td>235.82</td>\n",
       "      <td>3.94</td>\n",
       "    </tr>\n",
       "    <tr>\n",
       "      <th>22</th>\n",
       "      <td>2023</td>\n",
       "      <td>November</td>\n",
       "      <td>874.21</td>\n",
       "      <td>910.8565</td>\n",
       "      <td>222.31</td>\n",
       "      <td>3.93</td>\n",
       "    </tr>\n",
       "    <tr>\n",
       "      <th>23</th>\n",
       "      <td>2023</td>\n",
       "      <td>December</td>\n",
       "      <td>908.06</td>\n",
       "      <td>956.6374</td>\n",
       "      <td>231.19</td>\n",
       "      <td>3.93</td>\n",
       "    </tr>\n",
       "    <tr>\n",
       "      <th>24</th>\n",
       "      <td>2024</td>\n",
       "      <td>January</td>\n",
       "      <td>1017.47</td>\n",
       "      <td>1076.3702</td>\n",
       "      <td>250.39</td>\n",
       "      <td>4.06</td>\n",
       "    </tr>\n",
       "    <tr>\n",
       "      <th>25</th>\n",
       "      <td>2024</td>\n",
       "      <td>February</td>\n",
       "      <td>964.87</td>\n",
       "      <td>1044.1617</td>\n",
       "      <td>239.39</td>\n",
       "      <td>4.03</td>\n",
       "    </tr>\n",
       "    <tr>\n",
       "      <th>26</th>\n",
       "      <td>2024</td>\n",
       "      <td>March</td>\n",
       "      <td>995.24</td>\n",
       "      <td>1058.4702</td>\n",
       "      <td>246.64</td>\n",
       "      <td>4.04</td>\n",
       "    </tr>\n",
       "    <tr>\n",
       "      <th>27</th>\n",
       "      <td>2024</td>\n",
       "      <td>April</td>\n",
       "      <td>959.45</td>\n",
       "      <td>1015.7475</td>\n",
       "      <td>236.88</td>\n",
       "      <td>4.05</td>\n",
       "    </tr>\n",
       "    <tr>\n",
       "      <th>28</th>\n",
       "      <td>2024</td>\n",
       "      <td>May</td>\n",
       "      <td>911.59</td>\n",
       "      <td>964.7788</td>\n",
       "      <td>225.25</td>\n",
       "      <td>4.05</td>\n",
       "    </tr>\n",
       "    <tr>\n",
       "      <th>29</th>\n",
       "      <td>2024</td>\n",
       "      <td>June</td>\n",
       "      <td>981.29</td>\n",
       "      <td>1054.3188</td>\n",
       "      <td>245.69</td>\n",
       "      <td>3.99</td>\n",
       "    </tr>\n",
       "    <tr>\n",
       "      <th>30</th>\n",
       "      <td>2024</td>\n",
       "      <td>July</td>\n",
       "      <td>979.17</td>\n",
       "      <td>1036.8249</td>\n",
       "      <td>241.42</td>\n",
       "      <td>4.06</td>\n",
       "    </tr>\n",
       "    <tr>\n",
       "      <th>31</th>\n",
       "      <td>2024</td>\n",
       "      <td>August</td>\n",
       "      <td>982.14</td>\n",
       "      <td>1053.8537</td>\n",
       "      <td>241.84</td>\n",
       "      <td>4.06</td>\n",
       "    </tr>\n",
       "    <tr>\n",
       "      <th>32</th>\n",
       "      <td>2024</td>\n",
       "      <td>September</td>\n",
       "      <td>964.38</td>\n",
       "      <td>1003.1523</td>\n",
       "      <td>235.70</td>\n",
       "      <td>4.09</td>\n",
       "    </tr>\n",
       "    <tr>\n",
       "      <th>33</th>\n",
       "      <td>2024</td>\n",
       "      <td>October</td>\n",
       "      <td>939.84</td>\n",
       "      <td>1007.4559</td>\n",
       "      <td>232.33</td>\n",
       "      <td>4.05</td>\n",
       "    </tr>\n",
       "    <tr>\n",
       "      <th>34</th>\n",
       "      <td>2024</td>\n",
       "      <td>November</td>\n",
       "      <td>948.72</td>\n",
       "      <td>1011.9838</td>\n",
       "      <td>233.24</td>\n",
       "      <td>4.07</td>\n",
       "    </tr>\n",
       "    <tr>\n",
       "      <th>35</th>\n",
       "      <td>2024</td>\n",
       "      <td>December</td>\n",
       "      <td>978.64</td>\n",
       "      <td>1036.4707</td>\n",
       "      <td>240.67</td>\n",
       "      <td>4.07</td>\n",
       "    </tr>\n",
       "  </tbody>\n",
       "</table>\n",
       "</div>"
      ],
      "text/plain": [
       "    Year Month_Name  ...  ASK (Mn km)  Monthly_PRASK\n",
       "0   2022    January  ...       234.79           3.73\n",
       "1   2022   February  ...       250.92           3.71\n",
       "2   2022      March  ...       253.67           3.77\n",
       "3   2022      April  ...       252.28           3.74\n",
       "4   2022        May  ...       251.12           3.71\n",
       "5   2022       June  ...       257.89           3.75\n",
       "6   2022       July  ...       257.81           3.71\n",
       "7   2022     August  ...       251.35           3.73\n",
       "8   2022  September  ...       265.59           3.72\n",
       "9   2022    October  ...       274.36           3.74\n",
       "10  2022   November  ...       281.67           3.73\n",
       "11  2022   December  ...       247.98           3.71\n",
       "12  2023    January  ...       230.67           3.96\n",
       "13  2023   February  ...       241.89           3.94\n",
       "14  2023      March  ...       232.29           3.97\n",
       "15  2023      April  ...       233.20           3.95\n",
       "16  2023        May  ...       231.47           3.93\n",
       "17  2023       June  ...       234.27           3.92\n",
       "18  2023       July  ...       238.10           3.94\n",
       "19  2023     August  ...       244.91           3.96\n",
       "20  2023  September  ...       235.03           3.95\n",
       "21  2023    October  ...       235.82           3.94\n",
       "22  2023   November  ...       222.31           3.93\n",
       "23  2023   December  ...       231.19           3.93\n",
       "24  2024    January  ...       250.39           4.06\n",
       "25  2024   February  ...       239.39           4.03\n",
       "26  2024      March  ...       246.64           4.04\n",
       "27  2024      April  ...       236.88           4.05\n",
       "28  2024        May  ...       225.25           4.05\n",
       "29  2024       June  ...       245.69           3.99\n",
       "30  2024       July  ...       241.42           4.06\n",
       "31  2024     August  ...       241.84           4.06\n",
       "32  2024  September  ...       235.70           4.09\n",
       "33  2024    October  ...       232.33           4.05\n",
       "34  2024   November  ...       233.24           4.07\n",
       "35  2024   December  ...       240.67           4.07\n",
       "\n",
       "[36 rows x 6 columns]"
      ]
     },
     "execution_count": 12,
     "metadata": {},
     "output_type": "execute_result"
    }
   ],
   "source": [
    "\n",
    "df[\"Month_Name\"] = df[\"Month_Name\"].str.capitalize()\n",
    "month_order = [\n",
    "    \"January\", \"February\", \"March\", \"April\", \"May\", \"June\",\n",
    "    \"July\", \"August\", \"September\", \"October\", \"November\", \"December\"\n",
    "]\n",
    "\n",
    "df[\"Month_Name\"] = pd.Categorical(df[\"Month_Name\"], categories=month_order, ordered=True)\n",
    "\n",
    "pnl=df.groupby([\"Year\",\"Month_Name\"])[[\"Revenue (INR Mn)\",\"Cost (INR Mn)\",\"ASK (Mn km)\"]].sum().reset_index()\n",
    "pnl[\"Monthly_PRASK\"]=(pnl[\"Revenue (INR Mn)\"]/pnl[\"ASK (Mn km)\"]).round(2)\n",
    "pnl"
   ]
  },
  {
   "cell_type": "code",
   "execution_count": 13,
   "id": "013e0751",
   "metadata": {},
   "outputs": [
    {
     "data": {
      "application/vnd.plotly.v1+json": {
       "config": {
        "plotlyServerURL": "https://plot.ly"
       },
       "data": [
        {
         "hovertemplate": "Year=2022<br>Month_Name=%{x}<br>PRASK (INR)=%{y}<extra></extra>",
         "legendgroup": "2022",
         "line": {
          "color": "#636efa",
          "dash": "solid"
         },
         "marker": {
          "symbol": "circle"
         },
         "mode": "lines+markers",
         "name": "2022",
         "orientation": "v",
         "showlegend": true,
         "type": "scatter",
         "x": [
          "January",
          "February",
          "March",
          "April",
          "May",
          "June",
          "July",
          "August",
          "September",
          "October",
          "November",
          "December"
         ],
         "xaxis": "x",
         "y": {
          "bdata": "16NwPQrXDUCuR+F6FK4NQClcj8L1KA5A7FG4HoXrDUCuR+F6FK4NQAAAAAAAAA5ArkfhehSuDUDXo3A9CtcNQMP1KFyPwg1A7FG4HoXrDUDXo3A9CtcNQK5H4XoUrg1A",
          "dtype": "f8"
         },
         "yaxis": "y"
        },
        {
         "hovertemplate": "Year=2023<br>Month_Name=%{x}<br>PRASK (INR)=%{y}<extra></extra>",
         "legendgroup": "2023",
         "line": {
          "color": "#EF553B",
          "dash": "solid"
         },
         "marker": {
          "symbol": "circle"
         },
         "mode": "lines+markers",
         "name": "2023",
         "orientation": "v",
         "showlegend": true,
         "type": "scatter",
         "x": [
          "January",
          "February",
          "March",
          "April",
          "May",
          "June",
          "July",
          "August",
          "September",
          "October",
          "November",
          "December"
         ],
         "xaxis": "x",
         "y": {
          "bdata": "rkfhehSuD0CF61G4HoUPQMP1KFyPwg9AmpmZmZmZD0BxPQrXo3APQFyPwvUoXA9AhetRuB6FD0CuR+F6FK4PQJqZmZmZmQ9AhetRuB6FD0BxPQrXo3APQHE9CtejcA9A",
          "dtype": "f8"
         },
         "yaxis": "y"
        },
        {
         "hovertemplate": "Year=2024<br>Month_Name=%{x}<br>PRASK (INR)=%{y}<extra></extra>",
         "legendgroup": "2024",
         "line": {
          "color": "#00cc96",
          "dash": "solid"
         },
         "marker": {
          "symbol": "circle"
         },
         "mode": "lines+markers",
         "name": "2024",
         "orientation": "v",
         "showlegend": true,
         "type": "scatter",
         "x": [
          "January",
          "February",
          "March",
          "April",
          "May",
          "June",
          "July",
          "August",
          "September",
          "October",
          "November",
          "December"
         ],
         "xaxis": "x",
         "y": {
          "bdata": "PQrXo3A9EEAfhetRuB4QQClcj8L1KBBAMzMzMzMzEEAzMzMzMzMQQOxRuB6F6w9APQrXo3A9EEA9CtejcD0QQFyPwvUoXBBAMzMzMzMzEEBI4XoUrkcQQEjhehSuRxBA",
          "dtype": "f8"
         },
         "yaxis": "y"
        }
       ],
       "layout": {
        "legend": {
         "title": {
          "text": "Year"
         },
         "tracegroupgap": 0
        },
        "template": {
         "data": {
          "bar": [
           {
            "error_x": {
             "color": "#2a3f5f"
            },
            "error_y": {
             "color": "#2a3f5f"
            },
            "marker": {
             "line": {
              "color": "#E5ECF6",
              "width": 0.5
             },
             "pattern": {
              "fillmode": "overlay",
              "size": 10,
              "solidity": 0.2
             }
            },
            "type": "bar"
           }
          ],
          "barpolar": [
           {
            "marker": {
             "line": {
              "color": "#E5ECF6",
              "width": 0.5
             },
             "pattern": {
              "fillmode": "overlay",
              "size": 10,
              "solidity": 0.2
             }
            },
            "type": "barpolar"
           }
          ],
          "carpet": [
           {
            "aaxis": {
             "endlinecolor": "#2a3f5f",
             "gridcolor": "white",
             "linecolor": "white",
             "minorgridcolor": "white",
             "startlinecolor": "#2a3f5f"
            },
            "baxis": {
             "endlinecolor": "#2a3f5f",
             "gridcolor": "white",
             "linecolor": "white",
             "minorgridcolor": "white",
             "startlinecolor": "#2a3f5f"
            },
            "type": "carpet"
           }
          ],
          "choropleth": [
           {
            "colorbar": {
             "outlinewidth": 0,
             "ticks": ""
            },
            "type": "choropleth"
           }
          ],
          "contour": [
           {
            "colorbar": {
             "outlinewidth": 0,
             "ticks": ""
            },
            "colorscale": [
             [
              0,
              "#0d0887"
             ],
             [
              0.1111111111111111,
              "#46039f"
             ],
             [
              0.2222222222222222,
              "#7201a8"
             ],
             [
              0.3333333333333333,
              "#9c179e"
             ],
             [
              0.4444444444444444,
              "#bd3786"
             ],
             [
              0.5555555555555556,
              "#d8576b"
             ],
             [
              0.6666666666666666,
              "#ed7953"
             ],
             [
              0.7777777777777778,
              "#fb9f3a"
             ],
             [
              0.8888888888888888,
              "#fdca26"
             ],
             [
              1,
              "#f0f921"
             ]
            ],
            "type": "contour"
           }
          ],
          "contourcarpet": [
           {
            "colorbar": {
             "outlinewidth": 0,
             "ticks": ""
            },
            "type": "contourcarpet"
           }
          ],
          "heatmap": [
           {
            "colorbar": {
             "outlinewidth": 0,
             "ticks": ""
            },
            "colorscale": [
             [
              0,
              "#0d0887"
             ],
             [
              0.1111111111111111,
              "#46039f"
             ],
             [
              0.2222222222222222,
              "#7201a8"
             ],
             [
              0.3333333333333333,
              "#9c179e"
             ],
             [
              0.4444444444444444,
              "#bd3786"
             ],
             [
              0.5555555555555556,
              "#d8576b"
             ],
             [
              0.6666666666666666,
              "#ed7953"
             ],
             [
              0.7777777777777778,
              "#fb9f3a"
             ],
             [
              0.8888888888888888,
              "#fdca26"
             ],
             [
              1,
              "#f0f921"
             ]
            ],
            "type": "heatmap"
           }
          ],
          "histogram": [
           {
            "marker": {
             "pattern": {
              "fillmode": "overlay",
              "size": 10,
              "solidity": 0.2
             }
            },
            "type": "histogram"
           }
          ],
          "histogram2d": [
           {
            "colorbar": {
             "outlinewidth": 0,
             "ticks": ""
            },
            "colorscale": [
             [
              0,
              "#0d0887"
             ],
             [
              0.1111111111111111,
              "#46039f"
             ],
             [
              0.2222222222222222,
              "#7201a8"
             ],
             [
              0.3333333333333333,
              "#9c179e"
             ],
             [
              0.4444444444444444,
              "#bd3786"
             ],
             [
              0.5555555555555556,
              "#d8576b"
             ],
             [
              0.6666666666666666,
              "#ed7953"
             ],
             [
              0.7777777777777778,
              "#fb9f3a"
             ],
             [
              0.8888888888888888,
              "#fdca26"
             ],
             [
              1,
              "#f0f921"
             ]
            ],
            "type": "histogram2d"
           }
          ],
          "histogram2dcontour": [
           {
            "colorbar": {
             "outlinewidth": 0,
             "ticks": ""
            },
            "colorscale": [
             [
              0,
              "#0d0887"
             ],
             [
              0.1111111111111111,
              "#46039f"
             ],
             [
              0.2222222222222222,
              "#7201a8"
             ],
             [
              0.3333333333333333,
              "#9c179e"
             ],
             [
              0.4444444444444444,
              "#bd3786"
             ],
             [
              0.5555555555555556,
              "#d8576b"
             ],
             [
              0.6666666666666666,
              "#ed7953"
             ],
             [
              0.7777777777777778,
              "#fb9f3a"
             ],
             [
              0.8888888888888888,
              "#fdca26"
             ],
             [
              1,
              "#f0f921"
             ]
            ],
            "type": "histogram2dcontour"
           }
          ],
          "mesh3d": [
           {
            "colorbar": {
             "outlinewidth": 0,
             "ticks": ""
            },
            "type": "mesh3d"
           }
          ],
          "parcoords": [
           {
            "line": {
             "colorbar": {
              "outlinewidth": 0,
              "ticks": ""
             }
            },
            "type": "parcoords"
           }
          ],
          "pie": [
           {
            "automargin": true,
            "type": "pie"
           }
          ],
          "scatter": [
           {
            "fillpattern": {
             "fillmode": "overlay",
             "size": 10,
             "solidity": 0.2
            },
            "type": "scatter"
           }
          ],
          "scatter3d": [
           {
            "line": {
             "colorbar": {
              "outlinewidth": 0,
              "ticks": ""
             }
            },
            "marker": {
             "colorbar": {
              "outlinewidth": 0,
              "ticks": ""
             }
            },
            "type": "scatter3d"
           }
          ],
          "scattercarpet": [
           {
            "marker": {
             "colorbar": {
              "outlinewidth": 0,
              "ticks": ""
             }
            },
            "type": "scattercarpet"
           }
          ],
          "scattergeo": [
           {
            "marker": {
             "colorbar": {
              "outlinewidth": 0,
              "ticks": ""
             }
            },
            "type": "scattergeo"
           }
          ],
          "scattergl": [
           {
            "marker": {
             "colorbar": {
              "outlinewidth": 0,
              "ticks": ""
             }
            },
            "type": "scattergl"
           }
          ],
          "scattermap": [
           {
            "marker": {
             "colorbar": {
              "outlinewidth": 0,
              "ticks": ""
             }
            },
            "type": "scattermap"
           }
          ],
          "scattermapbox": [
           {
            "marker": {
             "colorbar": {
              "outlinewidth": 0,
              "ticks": ""
             }
            },
            "type": "scattermapbox"
           }
          ],
          "scatterpolar": [
           {
            "marker": {
             "colorbar": {
              "outlinewidth": 0,
              "ticks": ""
             }
            },
            "type": "scatterpolar"
           }
          ],
          "scatterpolargl": [
           {
            "marker": {
             "colorbar": {
              "outlinewidth": 0,
              "ticks": ""
             }
            },
            "type": "scatterpolargl"
           }
          ],
          "scatterternary": [
           {
            "marker": {
             "colorbar": {
              "outlinewidth": 0,
              "ticks": ""
             }
            },
            "type": "scatterternary"
           }
          ],
          "surface": [
           {
            "colorbar": {
             "outlinewidth": 0,
             "ticks": ""
            },
            "colorscale": [
             [
              0,
              "#0d0887"
             ],
             [
              0.1111111111111111,
              "#46039f"
             ],
             [
              0.2222222222222222,
              "#7201a8"
             ],
             [
              0.3333333333333333,
              "#9c179e"
             ],
             [
              0.4444444444444444,
              "#bd3786"
             ],
             [
              0.5555555555555556,
              "#d8576b"
             ],
             [
              0.6666666666666666,
              "#ed7953"
             ],
             [
              0.7777777777777778,
              "#fb9f3a"
             ],
             [
              0.8888888888888888,
              "#fdca26"
             ],
             [
              1,
              "#f0f921"
             ]
            ],
            "type": "surface"
           }
          ],
          "table": [
           {
            "cells": {
             "fill": {
              "color": "#EBF0F8"
             },
             "line": {
              "color": "white"
             }
            },
            "header": {
             "fill": {
              "color": "#C8D4E3"
             },
             "line": {
              "color": "white"
             }
            },
            "type": "table"
           }
          ]
         },
         "layout": {
          "annotationdefaults": {
           "arrowcolor": "#2a3f5f",
           "arrowhead": 0,
           "arrowwidth": 1
          },
          "autotypenumbers": "strict",
          "coloraxis": {
           "colorbar": {
            "outlinewidth": 0,
            "ticks": ""
           }
          },
          "colorscale": {
           "diverging": [
            [
             0,
             "#8e0152"
            ],
            [
             0.1,
             "#c51b7d"
            ],
            [
             0.2,
             "#de77ae"
            ],
            [
             0.3,
             "#f1b6da"
            ],
            [
             0.4,
             "#fde0ef"
            ],
            [
             0.5,
             "#f7f7f7"
            ],
            [
             0.6,
             "#e6f5d0"
            ],
            [
             0.7,
             "#b8e186"
            ],
            [
             0.8,
             "#7fbc41"
            ],
            [
             0.9,
             "#4d9221"
            ],
            [
             1,
             "#276419"
            ]
           ],
           "sequential": [
            [
             0,
             "#0d0887"
            ],
            [
             0.1111111111111111,
             "#46039f"
            ],
            [
             0.2222222222222222,
             "#7201a8"
            ],
            [
             0.3333333333333333,
             "#9c179e"
            ],
            [
             0.4444444444444444,
             "#bd3786"
            ],
            [
             0.5555555555555556,
             "#d8576b"
            ],
            [
             0.6666666666666666,
             "#ed7953"
            ],
            [
             0.7777777777777778,
             "#fb9f3a"
            ],
            [
             0.8888888888888888,
             "#fdca26"
            ],
            [
             1,
             "#f0f921"
            ]
           ],
           "sequentialminus": [
            [
             0,
             "#0d0887"
            ],
            [
             0.1111111111111111,
             "#46039f"
            ],
            [
             0.2222222222222222,
             "#7201a8"
            ],
            [
             0.3333333333333333,
             "#9c179e"
            ],
            [
             0.4444444444444444,
             "#bd3786"
            ],
            [
             0.5555555555555556,
             "#d8576b"
            ],
            [
             0.6666666666666666,
             "#ed7953"
            ],
            [
             0.7777777777777778,
             "#fb9f3a"
            ],
            [
             0.8888888888888888,
             "#fdca26"
            ],
            [
             1,
             "#f0f921"
            ]
           ]
          },
          "colorway": [
           "#636efa",
           "#EF553B",
           "#00cc96",
           "#ab63fa",
           "#FFA15A",
           "#19d3f3",
           "#FF6692",
           "#B6E880",
           "#FF97FF",
           "#FECB52"
          ],
          "font": {
           "color": "#2a3f5f"
          },
          "geo": {
           "bgcolor": "white",
           "lakecolor": "white",
           "landcolor": "#E5ECF6",
           "showlakes": true,
           "showland": true,
           "subunitcolor": "white"
          },
          "hoverlabel": {
           "align": "left"
          },
          "hovermode": "closest",
          "mapbox": {
           "style": "light"
          },
          "paper_bgcolor": "white",
          "plot_bgcolor": "#E5ECF6",
          "polar": {
           "angularaxis": {
            "gridcolor": "white",
            "linecolor": "white",
            "ticks": ""
           },
           "bgcolor": "#E5ECF6",
           "radialaxis": {
            "gridcolor": "white",
            "linecolor": "white",
            "ticks": ""
           }
          },
          "scene": {
           "xaxis": {
            "backgroundcolor": "#E5ECF6",
            "gridcolor": "white",
            "gridwidth": 2,
            "linecolor": "white",
            "showbackground": true,
            "ticks": "",
            "zerolinecolor": "white"
           },
           "yaxis": {
            "backgroundcolor": "#E5ECF6",
            "gridcolor": "white",
            "gridwidth": 2,
            "linecolor": "white",
            "showbackground": true,
            "ticks": "",
            "zerolinecolor": "white"
           },
           "zaxis": {
            "backgroundcolor": "#E5ECF6",
            "gridcolor": "white",
            "gridwidth": 2,
            "linecolor": "white",
            "showbackground": true,
            "ticks": "",
            "zerolinecolor": "white"
           }
          },
          "shapedefaults": {
           "line": {
            "color": "#2a3f5f"
           }
          },
          "ternary": {
           "aaxis": {
            "gridcolor": "white",
            "linecolor": "white",
            "ticks": ""
           },
           "baxis": {
            "gridcolor": "white",
            "linecolor": "white",
            "ticks": ""
           },
           "bgcolor": "#E5ECF6",
           "caxis": {
            "gridcolor": "white",
            "linecolor": "white",
            "ticks": ""
           }
          },
          "title": {
           "x": 0.05
          },
          "xaxis": {
           "automargin": true,
           "gridcolor": "white",
           "linecolor": "white",
           "ticks": "",
           "title": {
            "standoff": 15
           },
           "zerolinecolor": "white",
           "zerolinewidth": 2
          },
          "yaxis": {
           "automargin": true,
           "gridcolor": "white",
           "linecolor": "white",
           "ticks": "",
           "title": {
            "standoff": 15
           },
           "zerolinecolor": "white",
           "zerolinewidth": 2
          }
         }
        },
        "title": {
         "text": "Monthly PRASK Trend"
        },
        "xaxis": {
         "anchor": "y",
         "categoryarray": [
          "January",
          "February",
          "March",
          "April",
          "May",
          "June",
          "July",
          "August",
          "September",
          "October",
          "November",
          "December"
         ],
         "categoryorder": "array",
         "domain": [
          0,
          1
         ],
         "title": {
          "text": "Month_Name"
         }
        },
        "yaxis": {
         "anchor": "x",
         "domain": [
          0,
          1
         ],
         "title": {
          "text": "PRASK (INR)"
         }
        }
       }
      }
     },
     "metadata": {},
     "output_type": "display_data"
    }
   ],
   "source": [
    "#Monthly PRASK Trend for each year\n",
    "fig=px.line(pnl, x=\"Month_Name\", y=\"Monthly_PRASK\",\n",
    "            color=\"Year\",\n",
    "            title=\"Monthly PRASK Trend\",\n",
    "            labels={\"Monthly_PRASK\":\"PRASK (INR)\"},\n",
    "            markers=True,\n",
    "            category_orders={\"Month_Name\": month_order},\n",
    "            )\n",
    "fig.show()"
   ]
  },
  {
   "cell_type": "code",
   "execution_count": 14,
   "id": "6ba35fac",
   "metadata": {},
   "outputs": [
    {
     "name": "stderr",
     "output_type": "stream",
     "text": [
      "C:\\Users\\mshub\\AppData\\Local\\Temp\\ipykernel_26916\\2851202792.py:1: FutureWarning:\n",
      "\n",
      "The default of observed=False is deprecated and will be changed to True in a future version of pandas. Pass observed=False to retain current behavior or observed=True to adopt the future default and silence this warning.\n",
      "\n",
      "C:\\Users\\mshub\\AppData\\Local\\Temp\\ipykernel_26916\\2851202792.py:2: FutureWarning:\n",
      "\n",
      "The default of observed=False is deprecated and will be changed to True in a future version of pandas. Pass observed=False to retain current behavior or observed=True to adopt the future default and silence this warning.\n",
      "\n"
     ]
    },
    {
     "data": {
      "text/html": [
       "<div>\n",
       "<style scoped>\n",
       "    .dataframe tbody tr th:only-of-type {\n",
       "        vertical-align: middle;\n",
       "    }\n",
       "\n",
       "    .dataframe tbody tr th {\n",
       "        vertical-align: top;\n",
       "    }\n",
       "\n",
       "    .dataframe thead th {\n",
       "        text-align: right;\n",
       "    }\n",
       "</style>\n",
       "<table border=\"1\" class=\"dataframe\">\n",
       "  <thead>\n",
       "    <tr style=\"text-align: right;\">\n",
       "      <th></th>\n",
       "      <th>Month_Name</th>\n",
       "      <th>Market</th>\n",
       "      <th>Revenue (INR Mn)</th>\n",
       "      <th>ASK (Mn km)</th>\n",
       "    </tr>\n",
       "  </thead>\n",
       "  <tbody>\n",
       "    <tr>\n",
       "      <th>0</th>\n",
       "      <td>January</td>\n",
       "      <td>BOM-HYD</td>\n",
       "      <td>137.26</td>\n",
       "      <td>32.42</td>\n",
       "    </tr>\n",
       "    <tr>\n",
       "      <th>1</th>\n",
       "      <td>January</td>\n",
       "      <td>BLR-MAA</td>\n",
       "      <td>134.68</td>\n",
       "      <td>27.42</td>\n",
       "    </tr>\n",
       "    <tr>\n",
       "      <th>2</th>\n",
       "      <td>January</td>\n",
       "      <td>BLR-DEL</td>\n",
       "      <td>120.45</td>\n",
       "      <td>31.78</td>\n",
       "    </tr>\n",
       "    <tr>\n",
       "      <th>3</th>\n",
       "      <td>January</td>\n",
       "      <td>BOM-JFK</td>\n",
       "      <td>116.11</td>\n",
       "      <td>28.55</td>\n",
       "    </tr>\n",
       "    <tr>\n",
       "      <th>4</th>\n",
       "      <td>January</td>\n",
       "      <td>DEL-SIN</td>\n",
       "      <td>110.68</td>\n",
       "      <td>32.62</td>\n",
       "    </tr>\n",
       "    <tr>\n",
       "      <th>5</th>\n",
       "      <td>February</td>\n",
       "      <td>BOM-HYD</td>\n",
       "      <td>135.43</td>\n",
       "      <td>31.96</td>\n",
       "    </tr>\n",
       "    <tr>\n",
       "      <th>6</th>\n",
       "      <td>February</td>\n",
       "      <td>DEL-SIN</td>\n",
       "      <td>130.64</td>\n",
       "      <td>38.47</td>\n",
       "    </tr>\n",
       "    <tr>\n",
       "      <th>7</th>\n",
       "      <td>February</td>\n",
       "      <td>BLR-DEL</td>\n",
       "      <td>128.31</td>\n",
       "      <td>33.67</td>\n",
       "    </tr>\n",
       "    <tr>\n",
       "      <th>8</th>\n",
       "      <td>February</td>\n",
       "      <td>BLR-MAA</td>\n",
       "      <td>119.35</td>\n",
       "      <td>24.30</td>\n",
       "    </tr>\n",
       "    <tr>\n",
       "      <th>9</th>\n",
       "      <td>February</td>\n",
       "      <td>BOM-DXB</td>\n",
       "      <td>101.03</td>\n",
       "      <td>21.25</td>\n",
       "    </tr>\n",
       "  </tbody>\n",
       "</table>\n",
       "</div>"
      ],
      "text/plain": [
       "  Month_Name   Market  Revenue (INR Mn)  ASK (Mn km)\n",
       "0    January  BOM-HYD            137.26        32.42\n",
       "1    January  BLR-MAA            134.68        27.42\n",
       "2    January  BLR-DEL            120.45        31.78\n",
       "3    January  BOM-JFK            116.11        28.55\n",
       "4    January  DEL-SIN            110.68        32.62\n",
       "5   February  BOM-HYD            135.43        31.96\n",
       "6   February  DEL-SIN            130.64        38.47\n",
       "7   February  BLR-DEL            128.31        33.67\n",
       "8   February  BLR-MAA            119.35        24.30\n",
       "9   February  BOM-DXB            101.03        21.25"
      ]
     },
     "execution_count": 14,
     "metadata": {},
     "output_type": "execute_result"
    }
   ],
   "source": [
    "ask_data=df[df[\"Year\"]==2024].groupby([\"Month_Name\",\"Market\"]).agg({\"Revenue (INR Mn)\":\"sum\",\"ASK (Mn km)\":\"sum\"}).reset_index().sort_values(by=[\"Month_Name\",\"Revenue (INR Mn)\"], ascending=[True,False])\n",
    "top_markets=ask_data.groupby([\"Month_Name\"]).head(5).reset_index(drop=True)\n",
    "top_markets.head(10)"
   ]
  },
  {
   "cell_type": "code",
   "execution_count": 15,
   "id": "76b0beef",
   "metadata": {},
   "outputs": [
    {
     "data": {
      "application/vnd.plotly.v1+json": {
       "config": {
        "plotlyServerURL": "https://plot.ly"
       },
       "data": [
        {
         "hovertemplate": "Market=BOM-HYD<br>Month_Name=%{x}<br>Revenue (INR Mn)=%{y}<br>ASK (Mn km)=%{marker.size}<extra></extra>",
         "legendgroup": "BOM-HYD",
         "marker": {
          "color": "#636efa",
          "line": {
           "color": "DarkSlateGrey",
           "width": 1
          },
          "size": {
           "bdata": "9ihcj8I1QED2KFyPwvU/QNejcD0Kd0BAAAAAAABAREAAAAAAAAA/QEjhehSu50FAMzMzMzOzQUAzMzMzM7NCQKRwPQrXoz9ArkfhehQuPkAAAAAAAIBDQPYoXI/CdUBA",
           "dtype": "f8"
          },
          "sizemode": "area",
          "sizeref": 0.102575,
          "symbol": "circle"
         },
         "mode": "markers",
         "name": "BOM-HYD",
         "orientation": "v",
         "showlegend": true,
         "type": "scatter",
         "x": [
          "January",
          "February",
          "March",
          "April",
          "May",
          "June",
          "July",
          "August",
          "September",
          "October",
          "November",
          "December"
         ],
         "xaxis": "x",
         "y": {
          "bdata": "uB6F61EoYUD2KFyPwu1gQHE9CtejcGFAH4XrUbh2ZUBI4XoUrmdgQK5H4XoU/mJA16NwPQrHYkC4HoXrUdhjQIXrUbgexWBA16NwPQr3X0AAAAAAALBkQHsUrkfhcmFA",
          "dtype": "f8"
         },
         "yaxis": "y"
        },
        {
         "hovertemplate": "Market=BLR-MAA<br>Month_Name=%{x}<br>Revenue (INR Mn)=%{y}<br>ASK (Mn km)=%{marker.size}<extra></extra>",
         "legendgroup": "BLR-MAA",
         "marker": {
          "color": "#EF553B",
          "line": {
           "color": "DarkSlateGrey",
           "width": 1
          },
          "size": {
           "bdata": "7FG4HoVrO0DNzMzMzEw4QHE9Ctej8DVAAAAAAABANUApXI/C9SgzQAAAAAAAgDJA7FG4HoUrPEA9CtejcP05QI/C9ShcDztApHA9CtfjMkD2KFyPwnU4QFyPwvUoHDlA",
           "dtype": "f8"
          },
          "sizemode": "area",
          "sizeref": 0.102575,
          "symbol": "circle"
         },
         "mode": "markers",
         "name": "BLR-MAA",
         "orientation": "v",
         "showlegend": true,
         "type": "scatter",
         "x": [
          "January",
          "February",
          "March",
          "April",
          "May",
          "June",
          "July",
          "August",
          "September",
          "October",
          "November",
          "December"
         ],
         "xaxis": "x",
         "y": {
          "bdata": "9ihcj8LVYEBmZmZmZtZdQHE9Ctej8FpAuB6F61EYWkBmZmZmZoZXQGZmZmZmtlZApHA9CtdLYUAK16NwPepfQD0K16NwnWBAMzMzMzMzV0AK16NwPQpeQGZmZmZm1l5A",
          "dtype": "f8"
         },
         "yaxis": "y"
        },
        {
         "hovertemplate": "Market=BLR-DEL<br>Month_Name=%{x}<br>Revenue (INR Mn)=%{y}<br>ASK (Mn km)=%{marker.size}<extra></extra>",
         "legendgroup": "BLR-DEL",
         "marker": {
          "color": "#00cc96",
          "line": {
           "color": "DarkSlateGrey",
           "width": 1
          },
          "size": {
           "bdata": "SOF6FK7HP0D2KFyPwtVAQD4K16NwXUJAKFyPwvXoOkD2KFyPwnU6QOJ6FK5HAUJAHoXrUbjeP0DWo3A9Cpc+QK5H4XoUjkFAkML1KFyPQUCamZmZmZlAQPYoXI/CFUFA",
           "dtype": "f8"
          },
          "sizemode": "area",
          "sizeref": 0.102575,
          "symbol": "circle"
         },
         "mode": "markers",
         "name": "BLR-DEL",
         "orientation": "v",
         "showlegend": true,
         "type": "scatter",
         "x": [
          "January",
          "February",
          "March",
          "April",
          "May",
          "June",
          "July",
          "August",
          "September",
          "October",
          "November",
          "December"
         ],
         "xaxis": "x",
         "y": {
          "bdata": "zMzMzMwcXkBSuB6F6wlgQGZmZmZmhmFAzczMzMxMWUBmZmZmZuZYQClcj8L1+GBAexSuR+HqXUAUrkfhejRdQML1KFyPkmBAKVyPwvWoYECQwvUoXJ9fQGZmZmZmRmBA",
          "dtype": "f8"
         },
         "yaxis": "y"
        },
        {
         "hovertemplate": "Market=BOM-JFK<br>Month_Name=%{x}<br>Revenue (INR Mn)=%{y}<br>ASK (Mn km)=%{marker.size}<extra></extra>",
         "legendgroup": "BOM-JFK",
         "marker": {
          "color": "#ab63fa",
          "line": {
           "color": "DarkSlateGrey",
           "width": 1
          },
          "size": {
           "bdata": "zczMzMyMPEAzMzMzM7M1QEjhehSuBztAuB6F61E4O0C4HoXrUXg5QD0K16Nw/ThAhetRuB6FNUDNzMzMzEwzQOxRuB6FqzxAH4XrUbjeM0AK16NwPQoyQBSuR+F6VDJA",
           "dtype": "f8"
          },
          "sizemode": "area",
          "sizeref": 0.102575,
          "symbol": "circle"
         },
         "mode": "markers",
         "name": "BOM-JFK",
         "orientation": "v",
         "showlegend": true,
         "type": "scatter",
         "x": [
          "January",
          "February",
          "March",
          "April",
          "May",
          "June",
          "July",
          "August",
          "September",
          "October",
          "November",
          "December"
         ],
         "xaxis": "x",
         "y": {
          "bdata": "16NwPQoHXUCPwvUoXA9WQArXo3A9eltAzczMzMysW0AUrkfheuRZQNejcD0KZ1lAAAAAAADgVUAfhetRuJ5TQPYoXI/CJV1AUrgehesxVEDXo3A9CldSQDMzMzMzo1JA",
          "dtype": "f8"
         },
         "yaxis": "y"
        },
        {
         "hovertemplate": "Market=DEL-SIN<br>Month_Name=%{x}<br>Revenue (INR Mn)=%{y}<br>ASK (Mn km)=%{marker.size}<extra></extra>",
         "legendgroup": "DEL-SIN",
         "marker": {
          "color": "#FFA15A",
          "line": {
           "color": "DarkSlateGrey",
           "width": 1
          },
          "size": {
           "bdata": "kML1KFxPQEBcj8L1KDxDQOtRuB6FK0NAZmZmZmYGQEDhehSuR2E9QKRwPQrXg0RAKVyPwvWIQkCQwvUoXE9CQGdmZmZmJjtAuB6F61H4PkAK16NwPUpBQLgehetRGEJA",
           "dtype": "f8"
          },
          "sizemode": "area",
          "sizeref": 0.102575,
          "symbol": "circle"
         },
         "mode": "markers",
         "name": "DEL-SIN",
         "orientation": "v",
         "showlegend": true,
         "type": "scatter",
         "x": [
          "January",
          "February",
          "March",
          "April",
          "May",
          "June",
          "July",
          "August",
          "September",
          "October",
          "November",
          "December"
         ],
         "xaxis": "x",
         "y": {
          "bdata": "7FG4HoWrW0AVrkfhelRgQClcj8L1SGBAexSuR+EqW0CamZmZmelYQKRwPQrXa2FAZmZmZmZ2X0AqXI/C9RhfQD4K16NwDVdA7FG4HoVLWkBxPQrXo2BdQKRwPQrXw15A",
          "dtype": "f8"
         },
         "yaxis": "y"
        },
        {
         "hovertemplate": "Market=BOM-DXB<br>Month_Name=%{x}<br>Revenue (INR Mn)=%{y}<br>ASK (Mn km)=%{marker.size}<extra></extra>",
         "legendgroup": "BOM-DXB",
         "marker": {
          "color": "#19d3f3",
          "line": {
           "color": "DarkSlateGrey",
           "width": 1
          },
          "size": {
           "bdata": "CtejcD2KNUAAAAAAAEA1QArXo3A9CjRAj8L1KFzPM0CamZmZmZk0QLgehetROC5A9ihcj8K1MUCF61G4HsUzQD0K16NwfTZAuB6F61E4NkD2KFyPwnU0QBSuR+F6VDdA",
           "dtype": "f8"
          },
          "sizemode": "area",
          "sizeref": 0.102575,
          "symbol": "circle"
         },
         "mode": "markers",
         "name": "BOM-DXB",
         "orientation": "v",
         "showlegend": true,
         "type": "scatter",
         "x": [
          "January",
          "February",
          "March",
          "April",
          "May",
          "June",
          "July",
          "August",
          "September",
          "October",
          "November",
          "December"
         ],
         "xaxis": "x",
         "y": {
          "bdata": "exSuR+GaWUBSuB6F60FZQFK4HoXr0VdAPQrXo3CNV0CuR+F6FH5YQPYoXI/C9VFAXI/C9SgMVUBSuB6F64FXQFyPwvUovFpAexSuR+FqWkAzMzMzM1NYQFyPwvUovFtA",
          "dtype": "f8"
         },
         "yaxis": "y"
        },
        {
         "hovertemplate": "Market=DEL-LHR<br>Month_Name=%{x}<br>Revenue (INR Mn)=%{y}<br>ASK (Mn km)=%{marker.size}<extra></extra>",
         "legendgroup": "DEL-LHR",
         "marker": {
          "color": "#FF6692",
          "line": {
           "color": "DarkSlateGrey",
           "width": 1
          },
          "size": {
           "bdata": "7FG4HoVrM0B7FK5H4fooQFK4HoXr0TJA4XoUrkfhLkCkcD0K12MzQHE9CtejMDNAcT0K16PwL0AK16NwPQoyQIXrUbgeBTBA7FG4HoWrMkDNzMzMzMwwQHE9CtejMDNA",
           "dtype": "f8"
          },
          "sizemode": "area",
          "sizeref": 0.102575,
          "symbol": "circle"
         },
         "mode": "markers",
         "name": "DEL-LHR",
         "orientation": "v",
         "showlegend": true,
         "type": "scatter",
         "x": [
          "January",
          "February",
          "March",
          "April",
          "May",
          "June",
          "July",
          "August",
          "September",
          "October",
          "November",
          "December"
         ],
         "xaxis": "x",
         "y": {
          "bdata": "mpmZmZkpVUCamZmZmTlLQMP1KFyPglRAw/UoXI/SUEBxPQrXoyBVQArXo3A96lRAZmZmZmZmUUApXI/C9ahTQGZmZmZmdlFASOF6FK5XVEAAAAAAAFBSQJqZmZmZ6VRA",
          "dtype": "f8"
         },
         "yaxis": "y"
        },
        {
         "hovertemplate": "Market=COK-DEL<br>Month_Name=%{x}<br>Revenue (INR Mn)=%{y}<br>ASK (Mn km)=%{marker.size}<extra></extra>",
         "legendgroup": "COK-DEL",
         "marker": {
          "color": "#B6E880",
          "line": {
           "color": "DarkSlateGrey",
           "width": 1
          },
          "size": {
           "bdata": "exSuR+E6MUA+CtejcL0wQClcj8L1qC5A4noUrkdhK0AehetRuN4wQFK4HoXr0TBACtejcD0KMUDXo3A9ClcyQFyPwvUo3ClACtejcD0KM0A+CtejcD0vQFK4HoXrkTFA",
           "dtype": "f8"
          },
          "sizemode": "area",
          "sizeref": 0.102575,
          "symbol": "circle"
         },
         "mode": "markers",
         "name": "COK-DEL",
         "orientation": "v",
         "showlegend": true,
         "type": "scatter",
         "x": [
          "January",
          "February",
          "March",
          "April",
          "May",
          "June",
          "July",
          "August",
          "September",
          "October",
          "November",
          "December"
         ],
         "xaxis": "x",
         "y": {
          "bdata": "UrgeheuBUEDMzMzMzOxPQPYoXI/CdU1AuB6F61E4SkC4HoXrURhQQArXo3A9GlBACtejcD2KUEAK16NwPZpRQIXrUbge5UhAUrgehetRUkCQwvUoXM9NQFK4HoXr0VBA",
          "dtype": "f8"
         },
         "yaxis": "y"
        },
        {
         "hovertemplate": "Market=BOM-DEL<br>Month_Name=%{x}<br>Revenue (INR Mn)=%{y}<br>ASK (Mn km)=%{marker.size}<extra></extra>",
         "legendgroup": "BOM-DEL",
         "marker": {
          "color": "#FF97FF",
          "line": {
           "color": "DarkSlateGrey",
           "width": 1
          },
          "size": {
           "bdata": "7FG4HoUrMUC4HoXrUbgrQPYoXI/C9SxA9ihcj8L1LUC4HoXrUTgtQM3MzMzMzCxApHA9CtcjLkCZmZmZmRkuQIXrUbgeBS9AFK5H4XqULECamZmZmZkrQAAAAAAAADBA",
           "dtype": "f8"
          },
          "sizemode": "area",
          "sizeref": 0.102575,
          "symbol": "circle"
         },
         "mode": "markers",
         "name": "BOM-DEL",
         "orientation": "v",
         "showlegend": true,
         "type": "scatter",
         "x": [
          "January",
          "February",
          "March",
          "April",
          "May",
          "June",
          "July",
          "August",
          "September",
          "October",
          "November",
          "December"
         ],
         "xaxis": "x",
         "y": {
          "bdata": "pHA9CtcjUECkcD0K1wNKQLgehetROEtAhetRuB4lTEApXI/C9YhLQKRwPQrXI0tACtejcD1qTECkcD0K10NMQFyPwvUoPE1ArkfhehTuSkDhehSuRwFKQKRwPQrXI05A",
          "dtype": "f8"
         },
         "yaxis": "y"
        },
        {
         "hovertemplate": "Market=DEL-DXB<br>Month_Name=%{x}<br>Revenue (INR Mn)=%{y}<br>ASK (Mn km)=%{marker.size}<extra></extra>",
         "legendgroup": "DEL-DXB",
         "marker": {
          "color": "#FECB52",
          "line": {
           "color": "DarkSlateGrey",
           "width": 1
          },
          "size": {
           "bdata": "exSuR+F6JUCamZmZmRkrQOxRuB6FayZAw/UoXI9CLUAzMzMzMzMnQDMzMzMzMypAKVyPwvWoK0D2KFyPwnUnQFK4HoXr0SZAj8L1KFwPLECkcD0K1yMjQBSuR+F6FCRA",
           "dtype": "f8"
          },
          "sizemode": "area",
          "sizeref": 0.102575,
          "symbol": "circle"
         },
         "mode": "markers",
         "name": "DEL-DXB",
         "orientation": "v",
         "showlegend": true,
         "type": "scatter",
         "x": [
          "January",
          "February",
          "March",
          "April",
          "May",
          "June",
          "July",
          "August",
          "September",
          "October",
          "November",
          "December"
         ],
         "xaxis": "x",
         "y": {
          "bdata": "4XoUrkeBRUAfhetRuB5LQHE9CtejcEZAZmZmZmZGTUCamZmZmTlHQJqZmZmZOUpArkfhehSuS0C4HoXrUXhHQBSuR+F61EZAMzMzMzMTTEBmZmZmZiZDQPYoXI/CFURA",
          "dtype": "f8"
         },
         "yaxis": "y"
        },
        {
         "hovertemplate": "Market=CCU-DEL<br>Month_Name=%{x}<br>Revenue (INR Mn)=%{y}<br>ASK (Mn km)=%{marker.size}<extra></extra>",
         "legendgroup": "CCU-DEL",
         "marker": {
          "color": "#636efa",
          "line": {
           "color": "DarkSlateGrey",
           "width": 1
          },
          "size": {
           "bdata": "AAAAAAAAJ0DNzMzMzMwmQBSuR+F6lCNAzczMzMzMJEDsUbgehWslQPYoXI/CdSVAFK5H4XoUH0CF61G4HgUiQNejcD0K1x5AmpmZmZkZIkDXo3A9CtceQEjhehSuRx9A",
           "dtype": "f8"
          },
          "sizemode": "area",
          "sizeref": 0.102575,
          "symbol": "circle"
         },
         "mode": "markers",
         "name": "CCU-DEL",
         "orientation": "v",
         "showlegend": true,
         "type": "scatter",
         "x": [
          "January",
          "February",
          "March",
          "April",
          "May",
          "June",
          "July",
          "August",
          "September",
          "October",
          "November",
          "December"
         ],
         "xaxis": "x",
         "y": {
          "bdata": "j8L1KFzPQkBmZmZmZqZCQOF6FK5HAUBA4XoUrkcBQUBmZmZmZoZBQM3MzMzMjEFA7FG4HoVrOUB7FK5H4Xo9QPYoXI/CNTlAXI/C9SicPUC4HoXrUTg5QFK4HoXrkTlA",
          "dtype": "f8"
         },
         "yaxis": "y"
        }
       ],
       "layout": {
        "legend": {
         "itemsizing": "constant",
         "title": {
          "text": "Market"
         },
         "tracegroupgap": 0
        },
        "template": {
         "data": {
          "bar": [
           {
            "error_x": {
             "color": "#2a3f5f"
            },
            "error_y": {
             "color": "#2a3f5f"
            },
            "marker": {
             "line": {
              "color": "white",
              "width": 0.5
             },
             "pattern": {
              "fillmode": "overlay",
              "size": 10,
              "solidity": 0.2
             }
            },
            "type": "bar"
           }
          ],
          "barpolar": [
           {
            "marker": {
             "line": {
              "color": "white",
              "width": 0.5
             },
             "pattern": {
              "fillmode": "overlay",
              "size": 10,
              "solidity": 0.2
             }
            },
            "type": "barpolar"
           }
          ],
          "carpet": [
           {
            "aaxis": {
             "endlinecolor": "#2a3f5f",
             "gridcolor": "#C8D4E3",
             "linecolor": "#C8D4E3",
             "minorgridcolor": "#C8D4E3",
             "startlinecolor": "#2a3f5f"
            },
            "baxis": {
             "endlinecolor": "#2a3f5f",
             "gridcolor": "#C8D4E3",
             "linecolor": "#C8D4E3",
             "minorgridcolor": "#C8D4E3",
             "startlinecolor": "#2a3f5f"
            },
            "type": "carpet"
           }
          ],
          "choropleth": [
           {
            "colorbar": {
             "outlinewidth": 0,
             "ticks": ""
            },
            "type": "choropleth"
           }
          ],
          "contour": [
           {
            "colorbar": {
             "outlinewidth": 0,
             "ticks": ""
            },
            "colorscale": [
             [
              0,
              "#0d0887"
             ],
             [
              0.1111111111111111,
              "#46039f"
             ],
             [
              0.2222222222222222,
              "#7201a8"
             ],
             [
              0.3333333333333333,
              "#9c179e"
             ],
             [
              0.4444444444444444,
              "#bd3786"
             ],
             [
              0.5555555555555556,
              "#d8576b"
             ],
             [
              0.6666666666666666,
              "#ed7953"
             ],
             [
              0.7777777777777778,
              "#fb9f3a"
             ],
             [
              0.8888888888888888,
              "#fdca26"
             ],
             [
              1,
              "#f0f921"
             ]
            ],
            "type": "contour"
           }
          ],
          "contourcarpet": [
           {
            "colorbar": {
             "outlinewidth": 0,
             "ticks": ""
            },
            "type": "contourcarpet"
           }
          ],
          "heatmap": [
           {
            "colorbar": {
             "outlinewidth": 0,
             "ticks": ""
            },
            "colorscale": [
             [
              0,
              "#0d0887"
             ],
             [
              0.1111111111111111,
              "#46039f"
             ],
             [
              0.2222222222222222,
              "#7201a8"
             ],
             [
              0.3333333333333333,
              "#9c179e"
             ],
             [
              0.4444444444444444,
              "#bd3786"
             ],
             [
              0.5555555555555556,
              "#d8576b"
             ],
             [
              0.6666666666666666,
              "#ed7953"
             ],
             [
              0.7777777777777778,
              "#fb9f3a"
             ],
             [
              0.8888888888888888,
              "#fdca26"
             ],
             [
              1,
              "#f0f921"
             ]
            ],
            "type": "heatmap"
           }
          ],
          "histogram": [
           {
            "marker": {
             "pattern": {
              "fillmode": "overlay",
              "size": 10,
              "solidity": 0.2
             }
            },
            "type": "histogram"
           }
          ],
          "histogram2d": [
           {
            "colorbar": {
             "outlinewidth": 0,
             "ticks": ""
            },
            "colorscale": [
             [
              0,
              "#0d0887"
             ],
             [
              0.1111111111111111,
              "#46039f"
             ],
             [
              0.2222222222222222,
              "#7201a8"
             ],
             [
              0.3333333333333333,
              "#9c179e"
             ],
             [
              0.4444444444444444,
              "#bd3786"
             ],
             [
              0.5555555555555556,
              "#d8576b"
             ],
             [
              0.6666666666666666,
              "#ed7953"
             ],
             [
              0.7777777777777778,
              "#fb9f3a"
             ],
             [
              0.8888888888888888,
              "#fdca26"
             ],
             [
              1,
              "#f0f921"
             ]
            ],
            "type": "histogram2d"
           }
          ],
          "histogram2dcontour": [
           {
            "colorbar": {
             "outlinewidth": 0,
             "ticks": ""
            },
            "colorscale": [
             [
              0,
              "#0d0887"
             ],
             [
              0.1111111111111111,
              "#46039f"
             ],
             [
              0.2222222222222222,
              "#7201a8"
             ],
             [
              0.3333333333333333,
              "#9c179e"
             ],
             [
              0.4444444444444444,
              "#bd3786"
             ],
             [
              0.5555555555555556,
              "#d8576b"
             ],
             [
              0.6666666666666666,
              "#ed7953"
             ],
             [
              0.7777777777777778,
              "#fb9f3a"
             ],
             [
              0.8888888888888888,
              "#fdca26"
             ],
             [
              1,
              "#f0f921"
             ]
            ],
            "type": "histogram2dcontour"
           }
          ],
          "mesh3d": [
           {
            "colorbar": {
             "outlinewidth": 0,
             "ticks": ""
            },
            "type": "mesh3d"
           }
          ],
          "parcoords": [
           {
            "line": {
             "colorbar": {
              "outlinewidth": 0,
              "ticks": ""
             }
            },
            "type": "parcoords"
           }
          ],
          "pie": [
           {
            "automargin": true,
            "type": "pie"
           }
          ],
          "scatter": [
           {
            "fillpattern": {
             "fillmode": "overlay",
             "size": 10,
             "solidity": 0.2
            },
            "type": "scatter"
           }
          ],
          "scatter3d": [
           {
            "line": {
             "colorbar": {
              "outlinewidth": 0,
              "ticks": ""
             }
            },
            "marker": {
             "colorbar": {
              "outlinewidth": 0,
              "ticks": ""
             }
            },
            "type": "scatter3d"
           }
          ],
          "scattercarpet": [
           {
            "marker": {
             "colorbar": {
              "outlinewidth": 0,
              "ticks": ""
             }
            },
            "type": "scattercarpet"
           }
          ],
          "scattergeo": [
           {
            "marker": {
             "colorbar": {
              "outlinewidth": 0,
              "ticks": ""
             }
            },
            "type": "scattergeo"
           }
          ],
          "scattergl": [
           {
            "marker": {
             "colorbar": {
              "outlinewidth": 0,
              "ticks": ""
             }
            },
            "type": "scattergl"
           }
          ],
          "scattermap": [
           {
            "marker": {
             "colorbar": {
              "outlinewidth": 0,
              "ticks": ""
             }
            },
            "type": "scattermap"
           }
          ],
          "scattermapbox": [
           {
            "marker": {
             "colorbar": {
              "outlinewidth": 0,
              "ticks": ""
             }
            },
            "type": "scattermapbox"
           }
          ],
          "scatterpolar": [
           {
            "marker": {
             "colorbar": {
              "outlinewidth": 0,
              "ticks": ""
             }
            },
            "type": "scatterpolar"
           }
          ],
          "scatterpolargl": [
           {
            "marker": {
             "colorbar": {
              "outlinewidth": 0,
              "ticks": ""
             }
            },
            "type": "scatterpolargl"
           }
          ],
          "scatterternary": [
           {
            "marker": {
             "colorbar": {
              "outlinewidth": 0,
              "ticks": ""
             }
            },
            "type": "scatterternary"
           }
          ],
          "surface": [
           {
            "colorbar": {
             "outlinewidth": 0,
             "ticks": ""
            },
            "colorscale": [
             [
              0,
              "#0d0887"
             ],
             [
              0.1111111111111111,
              "#46039f"
             ],
             [
              0.2222222222222222,
              "#7201a8"
             ],
             [
              0.3333333333333333,
              "#9c179e"
             ],
             [
              0.4444444444444444,
              "#bd3786"
             ],
             [
              0.5555555555555556,
              "#d8576b"
             ],
             [
              0.6666666666666666,
              "#ed7953"
             ],
             [
              0.7777777777777778,
              "#fb9f3a"
             ],
             [
              0.8888888888888888,
              "#fdca26"
             ],
             [
              1,
              "#f0f921"
             ]
            ],
            "type": "surface"
           }
          ],
          "table": [
           {
            "cells": {
             "fill": {
              "color": "#EBF0F8"
             },
             "line": {
              "color": "white"
             }
            },
            "header": {
             "fill": {
              "color": "#C8D4E3"
             },
             "line": {
              "color": "white"
             }
            },
            "type": "table"
           }
          ]
         },
         "layout": {
          "annotationdefaults": {
           "arrowcolor": "#2a3f5f",
           "arrowhead": 0,
           "arrowwidth": 1
          },
          "autotypenumbers": "strict",
          "coloraxis": {
           "colorbar": {
            "outlinewidth": 0,
            "ticks": ""
           }
          },
          "colorscale": {
           "diverging": [
            [
             0,
             "#8e0152"
            ],
            [
             0.1,
             "#c51b7d"
            ],
            [
             0.2,
             "#de77ae"
            ],
            [
             0.3,
             "#f1b6da"
            ],
            [
             0.4,
             "#fde0ef"
            ],
            [
             0.5,
             "#f7f7f7"
            ],
            [
             0.6,
             "#e6f5d0"
            ],
            [
             0.7,
             "#b8e186"
            ],
            [
             0.8,
             "#7fbc41"
            ],
            [
             0.9,
             "#4d9221"
            ],
            [
             1,
             "#276419"
            ]
           ],
           "sequential": [
            [
             0,
             "#0d0887"
            ],
            [
             0.1111111111111111,
             "#46039f"
            ],
            [
             0.2222222222222222,
             "#7201a8"
            ],
            [
             0.3333333333333333,
             "#9c179e"
            ],
            [
             0.4444444444444444,
             "#bd3786"
            ],
            [
             0.5555555555555556,
             "#d8576b"
            ],
            [
             0.6666666666666666,
             "#ed7953"
            ],
            [
             0.7777777777777778,
             "#fb9f3a"
            ],
            [
             0.8888888888888888,
             "#fdca26"
            ],
            [
             1,
             "#f0f921"
            ]
           ],
           "sequentialminus": [
            [
             0,
             "#0d0887"
            ],
            [
             0.1111111111111111,
             "#46039f"
            ],
            [
             0.2222222222222222,
             "#7201a8"
            ],
            [
             0.3333333333333333,
             "#9c179e"
            ],
            [
             0.4444444444444444,
             "#bd3786"
            ],
            [
             0.5555555555555556,
             "#d8576b"
            ],
            [
             0.6666666666666666,
             "#ed7953"
            ],
            [
             0.7777777777777778,
             "#fb9f3a"
            ],
            [
             0.8888888888888888,
             "#fdca26"
            ],
            [
             1,
             "#f0f921"
            ]
           ]
          },
          "colorway": [
           "#636efa",
           "#EF553B",
           "#00cc96",
           "#ab63fa",
           "#FFA15A",
           "#19d3f3",
           "#FF6692",
           "#B6E880",
           "#FF97FF",
           "#FECB52"
          ],
          "font": {
           "color": "#2a3f5f"
          },
          "geo": {
           "bgcolor": "white",
           "lakecolor": "white",
           "landcolor": "white",
           "showlakes": true,
           "showland": true,
           "subunitcolor": "#C8D4E3"
          },
          "hoverlabel": {
           "align": "left"
          },
          "hovermode": "closest",
          "mapbox": {
           "style": "light"
          },
          "paper_bgcolor": "white",
          "plot_bgcolor": "white",
          "polar": {
           "angularaxis": {
            "gridcolor": "#EBF0F8",
            "linecolor": "#EBF0F8",
            "ticks": ""
           },
           "bgcolor": "white",
           "radialaxis": {
            "gridcolor": "#EBF0F8",
            "linecolor": "#EBF0F8",
            "ticks": ""
           }
          },
          "scene": {
           "xaxis": {
            "backgroundcolor": "white",
            "gridcolor": "#DFE8F3",
            "gridwidth": 2,
            "linecolor": "#EBF0F8",
            "showbackground": true,
            "ticks": "",
            "zerolinecolor": "#EBF0F8"
           },
           "yaxis": {
            "backgroundcolor": "white",
            "gridcolor": "#DFE8F3",
            "gridwidth": 2,
            "linecolor": "#EBF0F8",
            "showbackground": true,
            "ticks": "",
            "zerolinecolor": "#EBF0F8"
           },
           "zaxis": {
            "backgroundcolor": "white",
            "gridcolor": "#DFE8F3",
            "gridwidth": 2,
            "linecolor": "#EBF0F8",
            "showbackground": true,
            "ticks": "",
            "zerolinecolor": "#EBF0F8"
           }
          },
          "shapedefaults": {
           "line": {
            "color": "#2a3f5f"
           }
          },
          "ternary": {
           "aaxis": {
            "gridcolor": "#DFE8F3",
            "linecolor": "#A2B1C6",
            "ticks": ""
           },
           "baxis": {
            "gridcolor": "#DFE8F3",
            "linecolor": "#A2B1C6",
            "ticks": ""
           },
           "bgcolor": "white",
           "caxis": {
            "gridcolor": "#DFE8F3",
            "linecolor": "#A2B1C6",
            "ticks": ""
           }
          },
          "title": {
           "x": 0.05
          },
          "xaxis": {
           "automargin": true,
           "gridcolor": "#EBF0F8",
           "linecolor": "#EBF0F8",
           "ticks": "",
           "title": {
            "standoff": 15
           },
           "zerolinecolor": "#EBF0F8",
           "zerolinewidth": 2
          },
          "yaxis": {
           "automargin": true,
           "gridcolor": "#EBF0F8",
           "linecolor": "#EBF0F8",
           "ticks": "",
           "title": {
            "standoff": 15
           },
           "zerolinecolor": "#EBF0F8",
           "zerolinewidth": 2
          }
         }
        },
        "title": {
         "text": "Revenue for 2024"
        },
        "xaxis": {
         "anchor": "y",
         "domain": [
          0,
          1
         ],
         "title": {
          "text": "Month"
         }
        },
        "yaxis": {
         "anchor": "x",
         "domain": [
          0,
          1
         ],
         "title": {
          "text": "Revenue (INR Mn)"
         }
        }
       }
      }
     },
     "metadata": {},
     "output_type": "display_data"
    }
   ],
   "source": [
    "#Revenue by market for each month in 2024 with ASK as size of the bubble\n",
    "\n",
    "fig=px.scatter(ask_data, x=\"Month_Name\", y=\"Revenue (INR Mn)\",\n",
    "               color=\"Market\", \n",
    "               title=\"Revenue for 2024\",\n",
    "                size=\"ASK (Mn km)\",\n",
    "                size_max=20\n",
    "               )\n",
    "fig.update_traces(marker=dict(line=dict(width=1, color='DarkSlateGrey')))\n",
    "fig.update_layout(\n",
    "    xaxis_title=\"Month\",\n",
    "    yaxis_title=\"Revenue (INR Mn)\",\n",
    "    legend_title=\"Market\",\n",
    "    template=\"plotly_white\"\n",
    ")\n",
    "fig.show()"
   ]
  },
  {
   "cell_type": "code",
   "execution_count": 16,
   "id": "a28596e1",
   "metadata": {},
   "outputs": [
    {
     "data": {
      "application/vnd.plotly.v1+json": {
       "config": {
        "plotlyServerURL": "https://plot.ly"
       },
       "data": [
        {
         "hovertemplate": "Market=BOM-HYD<br>Month_Name=%{x}<br>Revenue (INR Mn)=%{y}<br>ASK (Mn km)=%{marker.size}<extra></extra>",
         "legendgroup": "BOM-HYD",
         "marker": {
          "color": "#636efa",
          "line": {
           "color": "DarkSlateGrey",
           "width": 1
          },
          "size": {
           "bdata": "9ihcj8I1QED2KFyPwvU/QNejcD0Kd0BAAAAAAABAREAAAAAAAAA/QEjhehSu50FAMzMzMzOzQUAzMzMzM7NCQKRwPQrXoz9ArkfhehQuPkAAAAAAAIBDQPYoXI/CdUBA",
           "dtype": "f8"
          },
          "sizemode": "area",
          "sizeref": 0.04558888888888889,
          "symbol": "circle"
         },
         "mode": "markers",
         "name": "BOM-HYD",
         "orientation": "v",
         "showlegend": true,
         "type": "scatter",
         "x": [
          "January",
          "February",
          "March",
          "April",
          "May",
          "June",
          "July",
          "August",
          "September",
          "October",
          "November",
          "December"
         ],
         "xaxis": "x",
         "y": {
          "bdata": "uB6F61EoYUD2KFyPwu1gQHE9CtejcGFAH4XrUbh2ZUBI4XoUrmdgQK5H4XoU/mJA16NwPQrHYkC4HoXrUdhjQIXrUbgexWBA16NwPQr3X0AAAAAAALBkQHsUrkfhcmFA",
          "dtype": "f8"
         },
         "yaxis": "y"
        },
        {
         "hovertemplate": "Market=BLR-MAA<br>Month_Name=%{x}<br>Revenue (INR Mn)=%{y}<br>ASK (Mn km)=%{marker.size}<extra></extra>",
         "legendgroup": "BLR-MAA",
         "marker": {
          "color": "#EF553B",
          "line": {
           "color": "DarkSlateGrey",
           "width": 1
          },
          "size": {
           "bdata": "7FG4HoVrO0DNzMzMzEw4QHE9Ctej8DVAAAAAAABANUAAAAAAAIAyQOxRuB6FKzxAPQrXo3D9OUCPwvUoXA87QKRwPQrX4zJA9ihcj8J1OEBcj8L1KBw5QA==",
           "dtype": "f8"
          },
          "sizemode": "area",
          "sizeref": 0.04558888888888889,
          "symbol": "circle"
         },
         "mode": "markers",
         "name": "BLR-MAA",
         "orientation": "v",
         "showlegend": true,
         "type": "scatter",
         "x": [
          "January",
          "February",
          "March",
          "April",
          "June",
          "July",
          "August",
          "September",
          "October",
          "November",
          "December"
         ],
         "xaxis": "x",
         "y": {
          "bdata": "9ihcj8LVYEBmZmZmZtZdQHE9Ctej8FpAuB6F61EYWkBmZmZmZrZWQKRwPQrXS2FACtejcD3qX0A9CtejcJ1gQDMzMzMzM1dACtejcD0KXkBmZmZmZtZeQA==",
          "dtype": "f8"
         },
         "yaxis": "y"
        },
        {
         "hovertemplate": "Market=BLR-DEL<br>Month_Name=%{x}<br>Revenue (INR Mn)=%{y}<br>ASK (Mn km)=%{marker.size}<extra></extra>",
         "legendgroup": "BLR-DEL",
         "marker": {
          "color": "#00cc96",
          "line": {
           "color": "DarkSlateGrey",
           "width": 1
          },
          "size": {
           "bdata": "SOF6FK7HP0D2KFyPwtVAQD4K16NwXUJAKFyPwvXoOkD2KFyPwnU6QOJ6FK5HAUJAHoXrUbjeP0DWo3A9Cpc+QK5H4XoUjkFAkML1KFyPQUCamZmZmZlAQPYoXI/CFUFA",
           "dtype": "f8"
          },
          "sizemode": "area",
          "sizeref": 0.04558888888888889,
          "symbol": "circle"
         },
         "mode": "markers",
         "name": "BLR-DEL",
         "orientation": "v",
         "showlegend": true,
         "type": "scatter",
         "x": [
          "January",
          "February",
          "March",
          "April",
          "May",
          "June",
          "July",
          "August",
          "September",
          "October",
          "November",
          "December"
         ],
         "xaxis": "x",
         "y": {
          "bdata": "zMzMzMwcXkBSuB6F6wlgQGZmZmZmhmFAzczMzMxMWUBmZmZmZuZYQClcj8L1+GBAexSuR+HqXUAUrkfhejRdQML1KFyPkmBAKVyPwvWoYECQwvUoXJ9fQGZmZmZmRmBA",
          "dtype": "f8"
         },
         "yaxis": "y"
        },
        {
         "hovertemplate": "Market=BOM-JFK<br>Month_Name=%{x}<br>Revenue (INR Mn)=%{y}<br>ASK (Mn km)=%{marker.size}<extra></extra>",
         "legendgroup": "BOM-JFK",
         "marker": {
          "color": "#ab63fa",
          "line": {
           "color": "DarkSlateGrey",
           "width": 1
          },
          "size": {
           "bdata": "zczMzMyMPEBI4XoUrgc7QLgehetRODtAuB6F61F4OUA9CtejcP04QIXrUbgehTVA7FG4HoWrPEA=",
           "dtype": "f8"
          },
          "sizemode": "area",
          "sizeref": 0.04558888888888889,
          "symbol": "circle"
         },
         "mode": "markers",
         "name": "BOM-JFK",
         "orientation": "v",
         "showlegend": true,
         "type": "scatter",
         "x": [
          "January",
          "March",
          "April",
          "May",
          "June",
          "July",
          "September"
         ],
         "xaxis": "x",
         "y": {
          "bdata": "16NwPQoHXUAK16NwPXpbQM3MzMzMrFtAFK5H4XrkWUDXo3A9CmdZQAAAAAAA4FVA9ihcj8IlXUA=",
          "dtype": "f8"
         },
         "yaxis": "y"
        },
        {
         "hovertemplate": "Market=DEL-SIN<br>Month_Name=%{x}<br>Revenue (INR Mn)=%{y}<br>ASK (Mn km)=%{marker.size}<extra></extra>",
         "legendgroup": "DEL-SIN",
         "marker": {
          "color": "#FFA15A",
          "line": {
           "color": "DarkSlateGrey",
           "width": 1
          },
          "size": {
           "bdata": "kML1KFxPQEBcj8L1KDxDQOtRuB6FK0NAZmZmZmYGQEDhehSuR2E9QKRwPQrXg0RAKVyPwvWIQkCQwvUoXE9CQLgehetR+D5ACtejcD1KQUC4HoXrURhCQA==",
           "dtype": "f8"
          },
          "sizemode": "area",
          "sizeref": 0.04558888888888889,
          "symbol": "circle"
         },
         "mode": "markers",
         "name": "DEL-SIN",
         "orientation": "v",
         "showlegend": true,
         "type": "scatter",
         "x": [
          "January",
          "February",
          "March",
          "April",
          "May",
          "June",
          "July",
          "August",
          "October",
          "November",
          "December"
         ],
         "xaxis": "x",
         "y": {
          "bdata": "7FG4HoWrW0AVrkfhelRgQClcj8L1SGBAexSuR+EqW0CamZmZmelYQKRwPQrXa2FAZmZmZmZ2X0AqXI/C9RhfQOxRuB6FS1pAcT0K16NgXUCkcD0K18NeQA==",
          "dtype": "f8"
         },
         "yaxis": "y"
        },
        {
         "hovertemplate": "Market=BOM-DXB<br>Month_Name=%{x}<br>Revenue (INR Mn)=%{y}<br>ASK (Mn km)=%{marker.size}<extra></extra>",
         "legendgroup": "BOM-DXB",
         "marker": {
          "color": "#19d3f3",
          "line": {
           "color": "DarkSlateGrey",
           "width": 1
          },
          "size": {
           "bdata": "AAAAAABANUCamZmZmZk0QIXrUbgexTNAPQrXo3B9NkC4HoXrUTg2QPYoXI/CdTRAFK5H4XpUN0A=",
           "dtype": "f8"
          },
          "sizemode": "area",
          "sizeref": 0.04558888888888889,
          "symbol": "circle"
         },
         "mode": "markers",
         "name": "BOM-DXB",
         "orientation": "v",
         "showlegend": true,
         "type": "scatter",
         "x": [
          "February",
          "May",
          "August",
          "September",
          "October",
          "November",
          "December"
         ],
         "xaxis": "x",
         "y": {
          "bdata": "UrgehetBWUCuR+F6FH5YQFK4HoXrgVdAXI/C9Si8WkB7FK5H4WpaQDMzMzMzU1hAXI/C9Si8W0A=",
          "dtype": "f8"
         },
         "yaxis": "y"
        }
       ],
       "layout": {
        "legend": {
         "itemsizing": "constant",
         "title": {
          "text": "Market"
         },
         "tracegroupgap": 0
        },
        "template": {
         "data": {
          "bar": [
           {
            "error_x": {
             "color": "#2a3f5f"
            },
            "error_y": {
             "color": "#2a3f5f"
            },
            "marker": {
             "line": {
              "color": "white",
              "width": 0.5
             },
             "pattern": {
              "fillmode": "overlay",
              "size": 10,
              "solidity": 0.2
             }
            },
            "type": "bar"
           }
          ],
          "barpolar": [
           {
            "marker": {
             "line": {
              "color": "white",
              "width": 0.5
             },
             "pattern": {
              "fillmode": "overlay",
              "size": 10,
              "solidity": 0.2
             }
            },
            "type": "barpolar"
           }
          ],
          "carpet": [
           {
            "aaxis": {
             "endlinecolor": "#2a3f5f",
             "gridcolor": "#C8D4E3",
             "linecolor": "#C8D4E3",
             "minorgridcolor": "#C8D4E3",
             "startlinecolor": "#2a3f5f"
            },
            "baxis": {
             "endlinecolor": "#2a3f5f",
             "gridcolor": "#C8D4E3",
             "linecolor": "#C8D4E3",
             "minorgridcolor": "#C8D4E3",
             "startlinecolor": "#2a3f5f"
            },
            "type": "carpet"
           }
          ],
          "choropleth": [
           {
            "colorbar": {
             "outlinewidth": 0,
             "ticks": ""
            },
            "type": "choropleth"
           }
          ],
          "contour": [
           {
            "colorbar": {
             "outlinewidth": 0,
             "ticks": ""
            },
            "colorscale": [
             [
              0,
              "#0d0887"
             ],
             [
              0.1111111111111111,
              "#46039f"
             ],
             [
              0.2222222222222222,
              "#7201a8"
             ],
             [
              0.3333333333333333,
              "#9c179e"
             ],
             [
              0.4444444444444444,
              "#bd3786"
             ],
             [
              0.5555555555555556,
              "#d8576b"
             ],
             [
              0.6666666666666666,
              "#ed7953"
             ],
             [
              0.7777777777777778,
              "#fb9f3a"
             ],
             [
              0.8888888888888888,
              "#fdca26"
             ],
             [
              1,
              "#f0f921"
             ]
            ],
            "type": "contour"
           }
          ],
          "contourcarpet": [
           {
            "colorbar": {
             "outlinewidth": 0,
             "ticks": ""
            },
            "type": "contourcarpet"
           }
          ],
          "heatmap": [
           {
            "colorbar": {
             "outlinewidth": 0,
             "ticks": ""
            },
            "colorscale": [
             [
              0,
              "#0d0887"
             ],
             [
              0.1111111111111111,
              "#46039f"
             ],
             [
              0.2222222222222222,
              "#7201a8"
             ],
             [
              0.3333333333333333,
              "#9c179e"
             ],
             [
              0.4444444444444444,
              "#bd3786"
             ],
             [
              0.5555555555555556,
              "#d8576b"
             ],
             [
              0.6666666666666666,
              "#ed7953"
             ],
             [
              0.7777777777777778,
              "#fb9f3a"
             ],
             [
              0.8888888888888888,
              "#fdca26"
             ],
             [
              1,
              "#f0f921"
             ]
            ],
            "type": "heatmap"
           }
          ],
          "histogram": [
           {
            "marker": {
             "pattern": {
              "fillmode": "overlay",
              "size": 10,
              "solidity": 0.2
             }
            },
            "type": "histogram"
           }
          ],
          "histogram2d": [
           {
            "colorbar": {
             "outlinewidth": 0,
             "ticks": ""
            },
            "colorscale": [
             [
              0,
              "#0d0887"
             ],
             [
              0.1111111111111111,
              "#46039f"
             ],
             [
              0.2222222222222222,
              "#7201a8"
             ],
             [
              0.3333333333333333,
              "#9c179e"
             ],
             [
              0.4444444444444444,
              "#bd3786"
             ],
             [
              0.5555555555555556,
              "#d8576b"
             ],
             [
              0.6666666666666666,
              "#ed7953"
             ],
             [
              0.7777777777777778,
              "#fb9f3a"
             ],
             [
              0.8888888888888888,
              "#fdca26"
             ],
             [
              1,
              "#f0f921"
             ]
            ],
            "type": "histogram2d"
           }
          ],
          "histogram2dcontour": [
           {
            "colorbar": {
             "outlinewidth": 0,
             "ticks": ""
            },
            "colorscale": [
             [
              0,
              "#0d0887"
             ],
             [
              0.1111111111111111,
              "#46039f"
             ],
             [
              0.2222222222222222,
              "#7201a8"
             ],
             [
              0.3333333333333333,
              "#9c179e"
             ],
             [
              0.4444444444444444,
              "#bd3786"
             ],
             [
              0.5555555555555556,
              "#d8576b"
             ],
             [
              0.6666666666666666,
              "#ed7953"
             ],
             [
              0.7777777777777778,
              "#fb9f3a"
             ],
             [
              0.8888888888888888,
              "#fdca26"
             ],
             [
              1,
              "#f0f921"
             ]
            ],
            "type": "histogram2dcontour"
           }
          ],
          "mesh3d": [
           {
            "colorbar": {
             "outlinewidth": 0,
             "ticks": ""
            },
            "type": "mesh3d"
           }
          ],
          "parcoords": [
           {
            "line": {
             "colorbar": {
              "outlinewidth": 0,
              "ticks": ""
             }
            },
            "type": "parcoords"
           }
          ],
          "pie": [
           {
            "automargin": true,
            "type": "pie"
           }
          ],
          "scatter": [
           {
            "fillpattern": {
             "fillmode": "overlay",
             "size": 10,
             "solidity": 0.2
            },
            "type": "scatter"
           }
          ],
          "scatter3d": [
           {
            "line": {
             "colorbar": {
              "outlinewidth": 0,
              "ticks": ""
             }
            },
            "marker": {
             "colorbar": {
              "outlinewidth": 0,
              "ticks": ""
             }
            },
            "type": "scatter3d"
           }
          ],
          "scattercarpet": [
           {
            "marker": {
             "colorbar": {
              "outlinewidth": 0,
              "ticks": ""
             }
            },
            "type": "scattercarpet"
           }
          ],
          "scattergeo": [
           {
            "marker": {
             "colorbar": {
              "outlinewidth": 0,
              "ticks": ""
             }
            },
            "type": "scattergeo"
           }
          ],
          "scattergl": [
           {
            "marker": {
             "colorbar": {
              "outlinewidth": 0,
              "ticks": ""
             }
            },
            "type": "scattergl"
           }
          ],
          "scattermap": [
           {
            "marker": {
             "colorbar": {
              "outlinewidth": 0,
              "ticks": ""
             }
            },
            "type": "scattermap"
           }
          ],
          "scattermapbox": [
           {
            "marker": {
             "colorbar": {
              "outlinewidth": 0,
              "ticks": ""
             }
            },
            "type": "scattermapbox"
           }
          ],
          "scatterpolar": [
           {
            "marker": {
             "colorbar": {
              "outlinewidth": 0,
              "ticks": ""
             }
            },
            "type": "scatterpolar"
           }
          ],
          "scatterpolargl": [
           {
            "marker": {
             "colorbar": {
              "outlinewidth": 0,
              "ticks": ""
             }
            },
            "type": "scatterpolargl"
           }
          ],
          "scatterternary": [
           {
            "marker": {
             "colorbar": {
              "outlinewidth": 0,
              "ticks": ""
             }
            },
            "type": "scatterternary"
           }
          ],
          "surface": [
           {
            "colorbar": {
             "outlinewidth": 0,
             "ticks": ""
            },
            "colorscale": [
             [
              0,
              "#0d0887"
             ],
             [
              0.1111111111111111,
              "#46039f"
             ],
             [
              0.2222222222222222,
              "#7201a8"
             ],
             [
              0.3333333333333333,
              "#9c179e"
             ],
             [
              0.4444444444444444,
              "#bd3786"
             ],
             [
              0.5555555555555556,
              "#d8576b"
             ],
             [
              0.6666666666666666,
              "#ed7953"
             ],
             [
              0.7777777777777778,
              "#fb9f3a"
             ],
             [
              0.8888888888888888,
              "#fdca26"
             ],
             [
              1,
              "#f0f921"
             ]
            ],
            "type": "surface"
           }
          ],
          "table": [
           {
            "cells": {
             "fill": {
              "color": "#EBF0F8"
             },
             "line": {
              "color": "white"
             }
            },
            "header": {
             "fill": {
              "color": "#C8D4E3"
             },
             "line": {
              "color": "white"
             }
            },
            "type": "table"
           }
          ]
         },
         "layout": {
          "annotationdefaults": {
           "arrowcolor": "#2a3f5f",
           "arrowhead": 0,
           "arrowwidth": 1
          },
          "autotypenumbers": "strict",
          "coloraxis": {
           "colorbar": {
            "outlinewidth": 0,
            "ticks": ""
           }
          },
          "colorscale": {
           "diverging": [
            [
             0,
             "#8e0152"
            ],
            [
             0.1,
             "#c51b7d"
            ],
            [
             0.2,
             "#de77ae"
            ],
            [
             0.3,
             "#f1b6da"
            ],
            [
             0.4,
             "#fde0ef"
            ],
            [
             0.5,
             "#f7f7f7"
            ],
            [
             0.6,
             "#e6f5d0"
            ],
            [
             0.7,
             "#b8e186"
            ],
            [
             0.8,
             "#7fbc41"
            ],
            [
             0.9,
             "#4d9221"
            ],
            [
             1,
             "#276419"
            ]
           ],
           "sequential": [
            [
             0,
             "#0d0887"
            ],
            [
             0.1111111111111111,
             "#46039f"
            ],
            [
             0.2222222222222222,
             "#7201a8"
            ],
            [
             0.3333333333333333,
             "#9c179e"
            ],
            [
             0.4444444444444444,
             "#bd3786"
            ],
            [
             0.5555555555555556,
             "#d8576b"
            ],
            [
             0.6666666666666666,
             "#ed7953"
            ],
            [
             0.7777777777777778,
             "#fb9f3a"
            ],
            [
             0.8888888888888888,
             "#fdca26"
            ],
            [
             1,
             "#f0f921"
            ]
           ],
           "sequentialminus": [
            [
             0,
             "#0d0887"
            ],
            [
             0.1111111111111111,
             "#46039f"
            ],
            [
             0.2222222222222222,
             "#7201a8"
            ],
            [
             0.3333333333333333,
             "#9c179e"
            ],
            [
             0.4444444444444444,
             "#bd3786"
            ],
            [
             0.5555555555555556,
             "#d8576b"
            ],
            [
             0.6666666666666666,
             "#ed7953"
            ],
            [
             0.7777777777777778,
             "#fb9f3a"
            ],
            [
             0.8888888888888888,
             "#fdca26"
            ],
            [
             1,
             "#f0f921"
            ]
           ]
          },
          "colorway": [
           "#636efa",
           "#EF553B",
           "#00cc96",
           "#ab63fa",
           "#FFA15A",
           "#19d3f3",
           "#FF6692",
           "#B6E880",
           "#FF97FF",
           "#FECB52"
          ],
          "font": {
           "color": "#2a3f5f"
          },
          "geo": {
           "bgcolor": "white",
           "lakecolor": "white",
           "landcolor": "white",
           "showlakes": true,
           "showland": true,
           "subunitcolor": "#C8D4E3"
          },
          "hoverlabel": {
           "align": "left"
          },
          "hovermode": "closest",
          "mapbox": {
           "style": "light"
          },
          "paper_bgcolor": "white",
          "plot_bgcolor": "white",
          "polar": {
           "angularaxis": {
            "gridcolor": "#EBF0F8",
            "linecolor": "#EBF0F8",
            "ticks": ""
           },
           "bgcolor": "white",
           "radialaxis": {
            "gridcolor": "#EBF0F8",
            "linecolor": "#EBF0F8",
            "ticks": ""
           }
          },
          "scene": {
           "xaxis": {
            "backgroundcolor": "white",
            "gridcolor": "#DFE8F3",
            "gridwidth": 2,
            "linecolor": "#EBF0F8",
            "showbackground": true,
            "ticks": "",
            "zerolinecolor": "#EBF0F8"
           },
           "yaxis": {
            "backgroundcolor": "white",
            "gridcolor": "#DFE8F3",
            "gridwidth": 2,
            "linecolor": "#EBF0F8",
            "showbackground": true,
            "ticks": "",
            "zerolinecolor": "#EBF0F8"
           },
           "zaxis": {
            "backgroundcolor": "white",
            "gridcolor": "#DFE8F3",
            "gridwidth": 2,
            "linecolor": "#EBF0F8",
            "showbackground": true,
            "ticks": "",
            "zerolinecolor": "#EBF0F8"
           }
          },
          "shapedefaults": {
           "line": {
            "color": "#2a3f5f"
           }
          },
          "ternary": {
           "aaxis": {
            "gridcolor": "#DFE8F3",
            "linecolor": "#A2B1C6",
            "ticks": ""
           },
           "baxis": {
            "gridcolor": "#DFE8F3",
            "linecolor": "#A2B1C6",
            "ticks": ""
           },
           "bgcolor": "white",
           "caxis": {
            "gridcolor": "#DFE8F3",
            "linecolor": "#A2B1C6",
            "ticks": ""
           }
          },
          "title": {
           "x": 0.05
          },
          "xaxis": {
           "automargin": true,
           "gridcolor": "#EBF0F8",
           "linecolor": "#EBF0F8",
           "ticks": "",
           "title": {
            "standoff": 15
           },
           "zerolinecolor": "#EBF0F8",
           "zerolinewidth": 2
          },
          "yaxis": {
           "automargin": true,
           "gridcolor": "#EBF0F8",
           "linecolor": "#EBF0F8",
           "ticks": "",
           "title": {
            "standoff": 15
           },
           "zerolinecolor": "#EBF0F8",
           "zerolinewidth": 2
          }
         }
        },
        "title": {
         "text": "Revenue for 2024"
        },
        "xaxis": {
         "anchor": "y",
         "domain": [
          0,
          1
         ],
         "title": {
          "text": "Month"
         }
        },
        "yaxis": {
         "anchor": "x",
         "domain": [
          0,
          1
         ],
         "title": {
          "text": "Revenue (INR Mn)"
         }
        }
       }
      }
     },
     "metadata": {},
     "output_type": "display_data"
    }
   ],
   "source": [
    "#Top 5 routes by revenue for each month in 2024 with ASK as size of the bubble\n",
    "fig=px.scatter(top_markets, x=\"Month_Name\", y=\"Revenue (INR Mn)\",\n",
    "               color=\"Market\", \n",
    "               title=\"Revenue for 2024\",\n",
    "                size=\"ASK (Mn km)\",\n",
    "                size_max=30\n",
    "               )\n",
    "fig.update_traces(marker=dict(line=dict(width=1, color='DarkSlateGrey')))\n",
    "fig.update_layout(\n",
    "    xaxis_title=\"Month\",\n",
    "    yaxis_title=\"Revenue (INR Mn)\",\n",
    "    legend_title=\"Market\",\n",
    "    template=\"plotly_white\"\n",
    ")\n",
    "fig.show()"
   ]
  },
  {
   "cell_type": "code",
   "execution_count": 17,
   "id": "4d5c035b",
   "metadata": {},
   "outputs": [
    {
     "data": {
      "text/html": [
       "<div>\n",
       "<style scoped>\n",
       "    .dataframe tbody tr th:only-of-type {\n",
       "        vertical-align: middle;\n",
       "    }\n",
       "\n",
       "    .dataframe tbody tr th {\n",
       "        vertical-align: top;\n",
       "    }\n",
       "\n",
       "    .dataframe thead th {\n",
       "        text-align: right;\n",
       "    }\n",
       "</style>\n",
       "<table border=\"1\" class=\"dataframe\">\n",
       "  <thead>\n",
       "    <tr style=\"text-align: right;\">\n",
       "      <th></th>\n",
       "      <th>Year</th>\n",
       "      <th>Month</th>\n",
       "      <th>Month_Name</th>\n",
       "      <th>Route</th>\n",
       "      <th>Region</th>\n",
       "      <th>ASK (Mn km)</th>\n",
       "      <th>RPK (Mn km)</th>\n",
       "      <th>Passengers</th>\n",
       "      <th>CASK</th>\n",
       "      <th>PRASK</th>\n",
       "      <th>Yield</th>\n",
       "      <th>Revenue (INR Mn)</th>\n",
       "      <th>Market</th>\n",
       "      <th>Cost (INR Mn)</th>\n",
       "      <th>Profit (INR Mn)</th>\n",
       "    </tr>\n",
       "  </thead>\n",
       "  <tbody>\n",
       "    <tr>\n",
       "      <th>571</th>\n",
       "      <td>2024</td>\n",
       "      <td>8</td>\n",
       "      <td>August</td>\n",
       "      <td>COK-DEL</td>\n",
       "      <td>Domestic</td>\n",
       "      <td>9.09</td>\n",
       "      <td>8.38</td>\n",
       "      <td>9039</td>\n",
       "      <td>4.56</td>\n",
       "      <td>4.03</td>\n",
       "      <td>4.37</td>\n",
       "      <td>36.63</td>\n",
       "      <td>COK-DEL</td>\n",
       "      <td>41.4504</td>\n",
       "      <td>-4.8204</td>\n",
       "    </tr>\n",
       "    <tr>\n",
       "      <th>572</th>\n",
       "      <td>2024</td>\n",
       "      <td>9</td>\n",
       "      <td>September</td>\n",
       "      <td>COK-DEL</td>\n",
       "      <td>Domestic</td>\n",
       "      <td>6.82</td>\n",
       "      <td>6.29</td>\n",
       "      <td>6780</td>\n",
       "      <td>4.34</td>\n",
       "      <td>4.03</td>\n",
       "      <td>4.37</td>\n",
       "      <td>27.47</td>\n",
       "      <td>COK-DEL</td>\n",
       "      <td>29.5988</td>\n",
       "      <td>-2.1288</td>\n",
       "    </tr>\n",
       "    <tr>\n",
       "      <th>573</th>\n",
       "      <td>2024</td>\n",
       "      <td>10</td>\n",
       "      <td>October</td>\n",
       "      <td>COK-DEL</td>\n",
       "      <td>Domestic</td>\n",
       "      <td>9.88</td>\n",
       "      <td>9.12</td>\n",
       "      <td>9832</td>\n",
       "      <td>4.52</td>\n",
       "      <td>4.03</td>\n",
       "      <td>4.37</td>\n",
       "      <td>39.84</td>\n",
       "      <td>COK-DEL</td>\n",
       "      <td>44.6576</td>\n",
       "      <td>-4.8176</td>\n",
       "    </tr>\n",
       "    <tr>\n",
       "      <th>574</th>\n",
       "      <td>2024</td>\n",
       "      <td>11</td>\n",
       "      <td>November</td>\n",
       "      <td>COK-DEL</td>\n",
       "      <td>Domestic</td>\n",
       "      <td>6.82</td>\n",
       "      <td>6.29</td>\n",
       "      <td>6785</td>\n",
       "      <td>4.52</td>\n",
       "      <td>4.03</td>\n",
       "      <td>4.37</td>\n",
       "      <td>27.49</td>\n",
       "      <td>COK-DEL</td>\n",
       "      <td>30.8264</td>\n",
       "      <td>-3.3364</td>\n",
       "    </tr>\n",
       "    <tr>\n",
       "      <th>575</th>\n",
       "      <td>2024</td>\n",
       "      <td>12</td>\n",
       "      <td>December</td>\n",
       "      <td>COK-DEL</td>\n",
       "      <td>Domestic</td>\n",
       "      <td>8.19</td>\n",
       "      <td>7.56</td>\n",
       "      <td>8151</td>\n",
       "      <td>4.21</td>\n",
       "      <td>4.03</td>\n",
       "      <td>4.37</td>\n",
       "      <td>33.03</td>\n",
       "      <td>COK-DEL</td>\n",
       "      <td>34.4799</td>\n",
       "      <td>-1.4499</td>\n",
       "    </tr>\n",
       "  </tbody>\n",
       "</table>\n",
       "</div>"
      ],
      "text/plain": [
       "     Year  Month Month_Name  ...   Market Cost (INR Mn)  Profit (INR Mn)\n",
       "571  2024      8     August  ...  COK-DEL       41.4504          -4.8204\n",
       "572  2024      9  September  ...  COK-DEL       29.5988          -2.1288\n",
       "573  2024     10    October  ...  COK-DEL       44.6576          -4.8176\n",
       "574  2024     11   November  ...  COK-DEL       30.8264          -3.3364\n",
       "575  2024     12   December  ...  COK-DEL       34.4799          -1.4499\n",
       "\n",
       "[5 rows x 15 columns]"
      ]
     },
     "execution_count": 17,
     "metadata": {},
     "output_type": "execute_result"
    }
   ],
   "source": [
    "df.tail()"
   ]
  },
  {
   "cell_type": "code",
   "execution_count": 18,
   "id": "2536f2bd",
   "metadata": {},
   "outputs": [],
   "source": [
    "ask_data.reset_index(drop=True, inplace=True)\n"
   ]
  },
  {
   "cell_type": "code",
   "execution_count": 19,
   "id": "2752b959",
   "metadata": {},
   "outputs": [
    {
     "data": {
      "text/html": [
       "<div>\n",
       "<style scoped>\n",
       "    .dataframe tbody tr th:only-of-type {\n",
       "        vertical-align: middle;\n",
       "    }\n",
       "\n",
       "    .dataframe tbody tr th {\n",
       "        vertical-align: top;\n",
       "    }\n",
       "\n",
       "    .dataframe thead th {\n",
       "        text-align: right;\n",
       "    }\n",
       "</style>\n",
       "<table border=\"1\" class=\"dataframe\">\n",
       "  <thead>\n",
       "    <tr style=\"text-align: right;\">\n",
       "      <th></th>\n",
       "      <th>Month_Name</th>\n",
       "      <th>Market</th>\n",
       "      <th>Revenue (INR Mn)</th>\n",
       "      <th>ASK (Mn km)</th>\n",
       "      <th>Year</th>\n",
       "    </tr>\n",
       "  </thead>\n",
       "  <tbody>\n",
       "    <tr>\n",
       "      <th>0</th>\n",
       "      <td>January</td>\n",
       "      <td>BOM-HYD</td>\n",
       "      <td>137.26</td>\n",
       "      <td>32.42</td>\n",
       "      <td>2024</td>\n",
       "    </tr>\n",
       "    <tr>\n",
       "      <th>1</th>\n",
       "      <td>January</td>\n",
       "      <td>BLR-MAA</td>\n",
       "      <td>134.68</td>\n",
       "      <td>27.42</td>\n",
       "      <td>2024</td>\n",
       "    </tr>\n",
       "    <tr>\n",
       "      <th>2</th>\n",
       "      <td>January</td>\n",
       "      <td>BLR-DEL</td>\n",
       "      <td>120.45</td>\n",
       "      <td>31.78</td>\n",
       "      <td>2024</td>\n",
       "    </tr>\n",
       "    <tr>\n",
       "      <th>3</th>\n",
       "      <td>January</td>\n",
       "      <td>BOM-JFK</td>\n",
       "      <td>116.11</td>\n",
       "      <td>28.55</td>\n",
       "      <td>2024</td>\n",
       "    </tr>\n",
       "    <tr>\n",
       "      <th>4</th>\n",
       "      <td>January</td>\n",
       "      <td>DEL-SIN</td>\n",
       "      <td>110.68</td>\n",
       "      <td>32.62</td>\n",
       "      <td>2024</td>\n",
       "    </tr>\n",
       "    <tr>\n",
       "      <th>...</th>\n",
       "      <td>...</td>\n",
       "      <td>...</td>\n",
       "      <td>...</td>\n",
       "      <td>...</td>\n",
       "      <td>...</td>\n",
       "    </tr>\n",
       "    <tr>\n",
       "      <th>127</th>\n",
       "      <td>December</td>\n",
       "      <td>BOM-JFK</td>\n",
       "      <td>74.55</td>\n",
       "      <td>18.33</td>\n",
       "      <td>2024</td>\n",
       "    </tr>\n",
       "    <tr>\n",
       "      <th>128</th>\n",
       "      <td>December</td>\n",
       "      <td>COK-DEL</td>\n",
       "      <td>67.28</td>\n",
       "      <td>17.57</td>\n",
       "      <td>2024</td>\n",
       "    </tr>\n",
       "    <tr>\n",
       "      <th>129</th>\n",
       "      <td>December</td>\n",
       "      <td>BOM-DEL</td>\n",
       "      <td>60.28</td>\n",
       "      <td>16.00</td>\n",
       "      <td>2024</td>\n",
       "    </tr>\n",
       "    <tr>\n",
       "      <th>130</th>\n",
       "      <td>December</td>\n",
       "      <td>DEL-DXB</td>\n",
       "      <td>40.17</td>\n",
       "      <td>10.04</td>\n",
       "      <td>2024</td>\n",
       "    </tr>\n",
       "    <tr>\n",
       "      <th>131</th>\n",
       "      <td>December</td>\n",
       "      <td>CCU-DEL</td>\n",
       "      <td>25.57</td>\n",
       "      <td>7.82</td>\n",
       "      <td>2024</td>\n",
       "    </tr>\n",
       "  </tbody>\n",
       "</table>\n",
       "<p>132 rows × 5 columns</p>\n",
       "</div>"
      ],
      "text/plain": [
       "    Month_Name   Market  Revenue (INR Mn)  ASK (Mn km)  Year\n",
       "0      January  BOM-HYD            137.26        32.42  2024\n",
       "1      January  BLR-MAA            134.68        27.42  2024\n",
       "2      January  BLR-DEL            120.45        31.78  2024\n",
       "3      January  BOM-JFK            116.11        28.55  2024\n",
       "4      January  DEL-SIN            110.68        32.62  2024\n",
       "..         ...      ...               ...          ...   ...\n",
       "127   December  BOM-JFK             74.55        18.33  2024\n",
       "128   December  COK-DEL             67.28        17.57  2024\n",
       "129   December  BOM-DEL             60.28        16.00  2024\n",
       "130   December  DEL-DXB             40.17        10.04  2024\n",
       "131   December  CCU-DEL             25.57         7.82  2024\n",
       "\n",
       "[132 rows x 5 columns]"
      ]
     },
     "execution_count": 19,
     "metadata": {},
     "output_type": "execute_result"
    }
   ],
   "source": [
    "ask_data[\"Year\"]=2024\n",
    "ask_data"
   ]
  },
  {
   "cell_type": "code",
   "execution_count": 20,
   "id": "04c6c5aa",
   "metadata": {},
   "outputs": [
    {
     "name": "stderr",
     "output_type": "stream",
     "text": [
      "C:\\Users\\mshub\\AppData\\Local\\Temp\\ipykernel_26916\\1622765583.py:1: FutureWarning:\n",
      "\n",
      "The default of observed=False is deprecated and will be changed to True in a future version of pandas. Pass observed=False to retain current behavior or observed=True to adopt the future default and silence this warning.\n",
      "\n"
     ]
    }
   ],
   "source": [
    "market_data=df.groupby([\"Market\",\"Month_Name\",\"Year\"])[\"Passengers\"].sum().reset_index()\n",
    "merged_data=ask_data.merge(market_data[[\"Passengers\",\"Year\",\"Month_Name\",\"Market\"]],on=[\"Year\",\"Month_Name\",\"Market\"], how=\"left\")"
   ]
  },
  {
   "cell_type": "code",
   "execution_count": 21,
   "id": "e68b6b69",
   "metadata": {},
   "outputs": [
    {
     "data": {
      "text/html": [
       "<div>\n",
       "<style scoped>\n",
       "    .dataframe tbody tr th:only-of-type {\n",
       "        vertical-align: middle;\n",
       "    }\n",
       "\n",
       "    .dataframe tbody tr th {\n",
       "        vertical-align: top;\n",
       "    }\n",
       "\n",
       "    .dataframe thead th {\n",
       "        text-align: right;\n",
       "    }\n",
       "</style>\n",
       "<table border=\"1\" class=\"dataframe\">\n",
       "  <thead>\n",
       "    <tr style=\"text-align: right;\">\n",
       "      <th></th>\n",
       "      <th>Market</th>\n",
       "      <th>Revenue (INR Mn)</th>\n",
       "      <th>ASK (Mn km)</th>\n",
       "      <th>Passengers</th>\n",
       "    </tr>\n",
       "  </thead>\n",
       "  <tbody>\n",
       "    <tr>\n",
       "      <th>0</th>\n",
       "      <td>BLR-DEL</td>\n",
       "      <td>1484.58</td>\n",
       "      <td>391.62</td>\n",
       "      <td>350137</td>\n",
       "    </tr>\n",
       "    <tr>\n",
       "      <th>1</th>\n",
       "      <td>BLR-MAA</td>\n",
       "      <td>1386.38</td>\n",
       "      <td>282.25</td>\n",
       "      <td>249737</td>\n",
       "    </tr>\n",
       "    <tr>\n",
       "      <th>2</th>\n",
       "      <td>BOM-DEL</td>\n",
       "      <td>674.65</td>\n",
       "      <td>179.22</td>\n",
       "      <td>154600</td>\n",
       "    </tr>\n",
       "    <tr>\n",
       "      <th>3</th>\n",
       "      <td>BOM-DXB</td>\n",
       "      <td>1161.82</td>\n",
       "      <td>244.33</td>\n",
       "      <td>197198</td>\n",
       "    </tr>\n",
       "    <tr>\n",
       "      <th>4</th>\n",
       "      <td>BOM-HYD</td>\n",
       "      <td>1743.19</td>\n",
       "      <td>411.16</td>\n",
       "      <td>342839</td>\n",
       "    </tr>\n",
       "    <tr>\n",
       "      <th>5</th>\n",
       "      <td>BOM-JFK</td>\n",
       "      <td>1141.40</td>\n",
       "      <td>280.69</td>\n",
       "      <td>266627</td>\n",
       "    </tr>\n",
       "    <tr>\n",
       "      <th>6</th>\n",
       "      <td>CCU-DEL</td>\n",
       "      <td>371.60</td>\n",
       "      <td>113.60</td>\n",
       "      <td>92145</td>\n",
       "    </tr>\n",
       "    <tr>\n",
       "      <th>7</th>\n",
       "      <td>COK-DEL</td>\n",
       "      <td>756.57</td>\n",
       "      <td>197.22</td>\n",
       "      <td>178763</td>\n",
       "    </tr>\n",
       "    <tr>\n",
       "      <th>8</th>\n",
       "      <td>DEL-DXB</td>\n",
       "      <td>582.16</td>\n",
       "      <td>145.44</td>\n",
       "      <td>127407</td>\n",
       "    </tr>\n",
       "    <tr>\n",
       "      <th>9</th>\n",
       "      <td>DEL-LHR</td>\n",
       "      <td>912.96</td>\n",
       "      <td>209.44</td>\n",
       "      <td>163806</td>\n",
       "    </tr>\n",
       "    <tr>\n",
       "      <th>10</th>\n",
       "      <td>DEL-SIN</td>\n",
       "      <td>1407.49</td>\n",
       "      <td>414.47</td>\n",
       "      <td>400802</td>\n",
       "    </tr>\n",
       "  </tbody>\n",
       "</table>\n",
       "</div>"
      ],
      "text/plain": [
       "     Market  Revenue (INR Mn)  ASK (Mn km)  Passengers\n",
       "0   BLR-DEL           1484.58       391.62      350137\n",
       "1   BLR-MAA           1386.38       282.25      249737\n",
       "2   BOM-DEL            674.65       179.22      154600\n",
       "3   BOM-DXB           1161.82       244.33      197198\n",
       "4   BOM-HYD           1743.19       411.16      342839\n",
       "5   BOM-JFK           1141.40       280.69      266627\n",
       "6   CCU-DEL            371.60       113.60       92145\n",
       "7   COK-DEL            756.57       197.22      178763\n",
       "8   DEL-DXB            582.16       145.44      127407\n",
       "9   DEL-LHR            912.96       209.44      163806\n",
       "10  DEL-SIN           1407.49       414.47      400802"
      ]
     },
     "execution_count": 21,
     "metadata": {},
     "output_type": "execute_result"
    }
   ],
   "source": [
    "market_data=merged_data.groupby(\"Market\")[[\"Revenue (INR Mn)\",\"ASK (Mn km)\",\"Passengers\"]].sum().reset_index()\n",
    "market_data"
   ]
  },
  {
   "cell_type": "code",
   "execution_count": 22,
   "id": "a6035f75",
   "metadata": {},
   "outputs": [
    {
     "data": {
      "text/plain": [
       "np.int64(8792)"
      ]
     },
     "execution_count": 22,
     "metadata": {},
     "output_type": "execute_result"
    }
   ],
   "source": [
    "df[(df[\"Year\"]==2024)&(df[\"Month_Name\"]==\"December\")&(df[\"Market\"]==\"DEL-DXB\")][\"Passengers\"].sum()"
   ]
  },
  {
   "cell_type": "code",
   "execution_count": 23,
   "id": "c1f3ab4f",
   "metadata": {},
   "outputs": [
    {
     "data": {
      "application/vnd.plotly.v1+json": {
       "config": {
        "plotlyServerURL": "https://plot.ly"
       },
       "data": [
        {
         "hovertemplate": "Market=BLR-DEL<br>Revenue (INR Mn)=%{x}<br>Passengers=%{y}<br>ASK (Mn km)=%{marker.size}<extra></extra>",
         "legendgroup": "BLR-DEL",
         "marker": {
          "color": "#636efa",
          "line": {
           "color": "DarkSlateGrey",
           "width": 1
          },
          "size": {
           "bdata": "Urgehet5eEA=",
           "dtype": "f8"
          },
          "sizemode": "area",
          "sizeref": 0.11513055555555557,
          "symbol": "circle"
         },
         "mode": "markers",
         "name": "BLR-DEL",
         "orientation": "v",
         "showlegend": true,
         "type": "scatter",
         "x": {
          "bdata": "uB6F61Eyl0A=",
          "dtype": "f8"
         },
         "xaxis": "x",
         "y": {
          "bdata": "uVcFAA==",
          "dtype": "i4"
         },
         "yaxis": "y"
        },
        {
         "hovertemplate": "Market=BLR-MAA<br>Revenue (INR Mn)=%{x}<br>Passengers=%{y}<br>ASK (Mn km)=%{marker.size}<extra></extra>",
         "legendgroup": "BLR-MAA",
         "marker": {
          "color": "#EF553B",
          "line": {
           "color": "DarkSlateGrey",
           "width": 1
          },
          "size": {
           "bdata": "AAAAAACkcUA=",
           "dtype": "f8"
          },
          "sizemode": "area",
          "sizeref": 0.11513055555555557,
          "symbol": "circle"
         },
         "mode": "markers",
         "name": "BLR-MAA",
         "orientation": "v",
         "showlegend": true,
         "type": "scatter",
         "x": {
          "bdata": "61G4HoWplUA=",
          "dtype": "f8"
         },
         "xaxis": "x",
         "y": {
          "bdata": "ic8DAA==",
          "dtype": "i4"
         },
         "yaxis": "y"
        },
        {
         "hovertemplate": "Market=BOM-DEL<br>Revenue (INR Mn)=%{x}<br>Passengers=%{y}<br>ASK (Mn km)=%{marker.size}<extra></extra>",
         "legendgroup": "BOM-DEL",
         "marker": {
          "color": "#00cc96",
          "line": {
           "color": "DarkSlateGrey",
           "width": 1
          },
          "size": {
           "bdata": "16NwPQpnZkA=",
           "dtype": "f8"
          },
          "sizemode": "area",
          "sizeref": 0.11513055555555557,
          "symbol": "circle"
         },
         "mode": "markers",
         "name": "BOM-DEL",
         "orientation": "v",
         "showlegend": true,
         "type": "scatter",
         "x": {
          "bdata": "MzMzMzMVhUA=",
          "dtype": "f8"
         },
         "xaxis": "x",
         "y": {
          "bdata": "6FsCAA==",
          "dtype": "i4"
         },
         "yaxis": "y"
        },
        {
         "hovertemplate": "Market=BOM-DXB<br>Revenue (INR Mn)=%{x}<br>Passengers=%{y}<br>ASK (Mn km)=%{marker.size}<extra></extra>",
         "legendgroup": "BOM-DXB",
         "marker": {
          "color": "#ab63fa",
          "line": {
           "color": "DarkSlateGrey",
           "width": 1
          },
          "size": {
           "bdata": "wvUoXI+KbkA=",
           "dtype": "f8"
          },
          "sizemode": "area",
          "sizeref": 0.11513055555555557,
          "symbol": "circle"
         },
         "mode": "markers",
         "name": "BOM-DXB",
         "orientation": "v",
         "showlegend": true,
         "type": "scatter",
         "x": {
          "bdata": "4XoUrkcnkkA=",
          "dtype": "f8"
         },
         "xaxis": "x",
         "y": {
          "bdata": "TgIDAA==",
          "dtype": "i4"
         },
         "yaxis": "y"
        },
        {
         "hovertemplate": "Market=BOM-HYD<br>Revenue (INR Mn)=%{x}<br>Passengers=%{y}<br>ASK (Mn km)=%{marker.size}<extra></extra>",
         "legendgroup": "BOM-HYD",
         "marker": {
          "color": "#FFA15A",
          "line": {
           "color": "DarkSlateGrey",
           "width": 1
          },
          "size": {
           "bdata": "w/UoXI+yeUA=",
           "dtype": "f8"
          },
          "sizemode": "area",
          "sizeref": 0.11513055555555557,
          "symbol": "circle"
         },
         "mode": "markers",
         "name": "BOM-HYD",
         "orientation": "v",
         "showlegend": true,
         "type": "scatter",
         "x": {
          "bdata": "9ihcj8I8m0A=",
          "dtype": "f8"
         },
         "xaxis": "x",
         "y": {
          "bdata": "NzsFAA==",
          "dtype": "i4"
         },
         "yaxis": "y"
        },
        {
         "hovertemplate": "Market=BOM-JFK<br>Revenue (INR Mn)=%{x}<br>Passengers=%{y}<br>ASK (Mn km)=%{marker.size}<extra></extra>",
         "legendgroup": "BOM-JFK",
         "marker": {
          "color": "#19d3f3",
          "line": {
           "color": "DarkSlateGrey",
           "width": 1
          },
          "size": {
           "bdata": "16NwPQqLcUA=",
           "dtype": "f8"
          },
          "sizemode": "area",
          "sizeref": 0.11513055555555557,
          "symbol": "circle"
         },
         "mode": "markers",
         "name": "BOM-JFK",
         "orientation": "v",
         "showlegend": true,
         "type": "scatter",
         "x": {
          "bdata": "mpmZmZnVkUA=",
          "dtype": "f8"
         },
         "xaxis": "x",
         "y": {
          "bdata": "gxEEAA==",
          "dtype": "i4"
         },
         "yaxis": "y"
        },
        {
         "hovertemplate": "Market=CCU-DEL<br>Revenue (INR Mn)=%{x}<br>Passengers=%{y}<br>ASK (Mn km)=%{marker.size}<extra></extra>",
         "legendgroup": "CCU-DEL",
         "marker": {
          "color": "#FF6692",
          "line": {
           "color": "DarkSlateGrey",
           "width": 1
          },
          "size": {
           "bdata": "ZmZmZmZmXEA=",
           "dtype": "f8"
          },
          "sizemode": "area",
          "sizeref": 0.11513055555555557,
          "symbol": "circle"
         },
         "mode": "markers",
         "name": "CCU-DEL",
         "orientation": "v",
         "showlegend": true,
         "type": "scatter",
         "x": {
          "bdata": "mZmZmZk5d0A=",
          "dtype": "f8"
         },
         "xaxis": "x",
         "y": {
          "bdata": "8WcBAA==",
          "dtype": "i4"
         },
         "yaxis": "y"
        },
        {
         "hovertemplate": "Market=COK-DEL<br>Revenue (INR Mn)=%{x}<br>Passengers=%{y}<br>ASK (Mn km)=%{marker.size}<extra></extra>",
         "legendgroup": "COK-DEL",
         "marker": {
          "color": "#B6E880",
          "line": {
           "color": "DarkSlateGrey",
           "width": 1
          },
          "size": {
           "bdata": "16NwPQqnaEA=",
           "dtype": "f8"
          },
          "sizemode": "area",
          "sizeref": 0.11513055555555557,
          "symbol": "circle"
         },
         "mode": "markers",
         "name": "COK-DEL",
         "orientation": "v",
         "showlegend": true,
         "type": "scatter",
         "x": {
          "bdata": "wvUoXI+kh0A=",
          "dtype": "f8"
         },
         "xaxis": "x",
         "y": {
          "bdata": "S7oCAA==",
          "dtype": "i4"
         },
         "yaxis": "y"
        },
        {
         "hovertemplate": "Market=DEL-DXB<br>Revenue (INR Mn)=%{x}<br>Passengers=%{y}<br>ASK (Mn km)=%{marker.size}<extra></extra>",
         "legendgroup": "DEL-DXB",
         "marker": {
          "color": "#FF97FF",
          "line": {
           "color": "DarkSlateGrey",
           "width": 1
          },
          "size": {
           "bdata": "rkfhehQuYkA=",
           "dtype": "f8"
          },
          "sizemode": "area",
          "sizeref": 0.11513055555555557,
          "symbol": "circle"
         },
         "mode": "markers",
         "name": "DEL-DXB",
         "orientation": "v",
         "showlegend": true,
         "type": "scatter",
         "x": {
          "bdata": "4XoUrkcxgkA=",
          "dtype": "f8"
         },
         "xaxis": "x",
         "y": {
          "bdata": "r/EBAA==",
          "dtype": "i4"
         },
         "yaxis": "y"
        },
        {
         "hovertemplate": "Market=DEL-LHR<br>Revenue (INR Mn)=%{x}<br>Passengers=%{y}<br>ASK (Mn km)=%{marker.size}<extra></extra>",
         "legendgroup": "DEL-LHR",
         "marker": {
          "color": "#FECB52",
          "line": {
           "color": "DarkSlateGrey",
           "width": 1
          },
          "size": {
           "bdata": "rkfhehQuakA=",
           "dtype": "f8"
          },
          "sizemode": "area",
          "sizeref": 0.11513055555555557,
          "symbol": "circle"
         },
         "mode": "markers",
         "name": "DEL-LHR",
         "orientation": "v",
         "showlegend": true,
         "type": "scatter",
         "x": {
          "bdata": "SOF6FK6HjEA=",
          "dtype": "f8"
         },
         "xaxis": "x",
         "y": {
          "bdata": "3n8CAA==",
          "dtype": "i4"
         },
         "yaxis": "y"
        },
        {
         "hovertemplate": "Market=DEL-SIN<br>Revenue (INR Mn)=%{x}<br>Passengers=%{y}<br>ASK (Mn km)=%{marker.size}<extra></extra>",
         "legendgroup": "DEL-SIN",
         "marker": {
          "color": "#636efa",
          "line": {
           "color": "DarkSlateGrey",
           "width": 1
          },
          "size": {
           "bdata": "7FG4HoXneUA=",
           "dtype": "f8"
          },
          "sizemode": "area",
          "sizeref": 0.11513055555555557,
          "symbol": "circle"
         },
         "mode": "markers",
         "name": "DEL-SIN",
         "orientation": "v",
         "showlegend": true,
         "type": "scatter",
         "x": {
          "bdata": "KVyPwvX9lUA=",
          "dtype": "f8"
         },
         "xaxis": "x",
         "y": {
          "bdata": "oh0GAA==",
          "dtype": "i4"
         },
         "yaxis": "y"
        }
       ],
       "layout": {
        "legend": {
         "itemsizing": "constant",
         "title": {
          "text": "Market"
         },
         "tracegroupgap": 0
        },
        "template": {
         "data": {
          "bar": [
           {
            "error_x": {
             "color": "#2a3f5f"
            },
            "error_y": {
             "color": "#2a3f5f"
            },
            "marker": {
             "line": {
              "color": "white",
              "width": 0.5
             },
             "pattern": {
              "fillmode": "overlay",
              "size": 10,
              "solidity": 0.2
             }
            },
            "type": "bar"
           }
          ],
          "barpolar": [
           {
            "marker": {
             "line": {
              "color": "white",
              "width": 0.5
             },
             "pattern": {
              "fillmode": "overlay",
              "size": 10,
              "solidity": 0.2
             }
            },
            "type": "barpolar"
           }
          ],
          "carpet": [
           {
            "aaxis": {
             "endlinecolor": "#2a3f5f",
             "gridcolor": "#C8D4E3",
             "linecolor": "#C8D4E3",
             "minorgridcolor": "#C8D4E3",
             "startlinecolor": "#2a3f5f"
            },
            "baxis": {
             "endlinecolor": "#2a3f5f",
             "gridcolor": "#C8D4E3",
             "linecolor": "#C8D4E3",
             "minorgridcolor": "#C8D4E3",
             "startlinecolor": "#2a3f5f"
            },
            "type": "carpet"
           }
          ],
          "choropleth": [
           {
            "colorbar": {
             "outlinewidth": 0,
             "ticks": ""
            },
            "type": "choropleth"
           }
          ],
          "contour": [
           {
            "colorbar": {
             "outlinewidth": 0,
             "ticks": ""
            },
            "colorscale": [
             [
              0,
              "#0d0887"
             ],
             [
              0.1111111111111111,
              "#46039f"
             ],
             [
              0.2222222222222222,
              "#7201a8"
             ],
             [
              0.3333333333333333,
              "#9c179e"
             ],
             [
              0.4444444444444444,
              "#bd3786"
             ],
             [
              0.5555555555555556,
              "#d8576b"
             ],
             [
              0.6666666666666666,
              "#ed7953"
             ],
             [
              0.7777777777777778,
              "#fb9f3a"
             ],
             [
              0.8888888888888888,
              "#fdca26"
             ],
             [
              1,
              "#f0f921"
             ]
            ],
            "type": "contour"
           }
          ],
          "contourcarpet": [
           {
            "colorbar": {
             "outlinewidth": 0,
             "ticks": ""
            },
            "type": "contourcarpet"
           }
          ],
          "heatmap": [
           {
            "colorbar": {
             "outlinewidth": 0,
             "ticks": ""
            },
            "colorscale": [
             [
              0,
              "#0d0887"
             ],
             [
              0.1111111111111111,
              "#46039f"
             ],
             [
              0.2222222222222222,
              "#7201a8"
             ],
             [
              0.3333333333333333,
              "#9c179e"
             ],
             [
              0.4444444444444444,
              "#bd3786"
             ],
             [
              0.5555555555555556,
              "#d8576b"
             ],
             [
              0.6666666666666666,
              "#ed7953"
             ],
             [
              0.7777777777777778,
              "#fb9f3a"
             ],
             [
              0.8888888888888888,
              "#fdca26"
             ],
             [
              1,
              "#f0f921"
             ]
            ],
            "type": "heatmap"
           }
          ],
          "histogram": [
           {
            "marker": {
             "pattern": {
              "fillmode": "overlay",
              "size": 10,
              "solidity": 0.2
             }
            },
            "type": "histogram"
           }
          ],
          "histogram2d": [
           {
            "colorbar": {
             "outlinewidth": 0,
             "ticks": ""
            },
            "colorscale": [
             [
              0,
              "#0d0887"
             ],
             [
              0.1111111111111111,
              "#46039f"
             ],
             [
              0.2222222222222222,
              "#7201a8"
             ],
             [
              0.3333333333333333,
              "#9c179e"
             ],
             [
              0.4444444444444444,
              "#bd3786"
             ],
             [
              0.5555555555555556,
              "#d8576b"
             ],
             [
              0.6666666666666666,
              "#ed7953"
             ],
             [
              0.7777777777777778,
              "#fb9f3a"
             ],
             [
              0.8888888888888888,
              "#fdca26"
             ],
             [
              1,
              "#f0f921"
             ]
            ],
            "type": "histogram2d"
           }
          ],
          "histogram2dcontour": [
           {
            "colorbar": {
             "outlinewidth": 0,
             "ticks": ""
            },
            "colorscale": [
             [
              0,
              "#0d0887"
             ],
             [
              0.1111111111111111,
              "#46039f"
             ],
             [
              0.2222222222222222,
              "#7201a8"
             ],
             [
              0.3333333333333333,
              "#9c179e"
             ],
             [
              0.4444444444444444,
              "#bd3786"
             ],
             [
              0.5555555555555556,
              "#d8576b"
             ],
             [
              0.6666666666666666,
              "#ed7953"
             ],
             [
              0.7777777777777778,
              "#fb9f3a"
             ],
             [
              0.8888888888888888,
              "#fdca26"
             ],
             [
              1,
              "#f0f921"
             ]
            ],
            "type": "histogram2dcontour"
           }
          ],
          "mesh3d": [
           {
            "colorbar": {
             "outlinewidth": 0,
             "ticks": ""
            },
            "type": "mesh3d"
           }
          ],
          "parcoords": [
           {
            "line": {
             "colorbar": {
              "outlinewidth": 0,
              "ticks": ""
             }
            },
            "type": "parcoords"
           }
          ],
          "pie": [
           {
            "automargin": true,
            "type": "pie"
           }
          ],
          "scatter": [
           {
            "fillpattern": {
             "fillmode": "overlay",
             "size": 10,
             "solidity": 0.2
            },
            "type": "scatter"
           }
          ],
          "scatter3d": [
           {
            "line": {
             "colorbar": {
              "outlinewidth": 0,
              "ticks": ""
             }
            },
            "marker": {
             "colorbar": {
              "outlinewidth": 0,
              "ticks": ""
             }
            },
            "type": "scatter3d"
           }
          ],
          "scattercarpet": [
           {
            "marker": {
             "colorbar": {
              "outlinewidth": 0,
              "ticks": ""
             }
            },
            "type": "scattercarpet"
           }
          ],
          "scattergeo": [
           {
            "marker": {
             "colorbar": {
              "outlinewidth": 0,
              "ticks": ""
             }
            },
            "type": "scattergeo"
           }
          ],
          "scattergl": [
           {
            "marker": {
             "colorbar": {
              "outlinewidth": 0,
              "ticks": ""
             }
            },
            "type": "scattergl"
           }
          ],
          "scattermap": [
           {
            "marker": {
             "colorbar": {
              "outlinewidth": 0,
              "ticks": ""
             }
            },
            "type": "scattermap"
           }
          ],
          "scattermapbox": [
           {
            "marker": {
             "colorbar": {
              "outlinewidth": 0,
              "ticks": ""
             }
            },
            "type": "scattermapbox"
           }
          ],
          "scatterpolar": [
           {
            "marker": {
             "colorbar": {
              "outlinewidth": 0,
              "ticks": ""
             }
            },
            "type": "scatterpolar"
           }
          ],
          "scatterpolargl": [
           {
            "marker": {
             "colorbar": {
              "outlinewidth": 0,
              "ticks": ""
             }
            },
            "type": "scatterpolargl"
           }
          ],
          "scatterternary": [
           {
            "marker": {
             "colorbar": {
              "outlinewidth": 0,
              "ticks": ""
             }
            },
            "type": "scatterternary"
           }
          ],
          "surface": [
           {
            "colorbar": {
             "outlinewidth": 0,
             "ticks": ""
            },
            "colorscale": [
             [
              0,
              "#0d0887"
             ],
             [
              0.1111111111111111,
              "#46039f"
             ],
             [
              0.2222222222222222,
              "#7201a8"
             ],
             [
              0.3333333333333333,
              "#9c179e"
             ],
             [
              0.4444444444444444,
              "#bd3786"
             ],
             [
              0.5555555555555556,
              "#d8576b"
             ],
             [
              0.6666666666666666,
              "#ed7953"
             ],
             [
              0.7777777777777778,
              "#fb9f3a"
             ],
             [
              0.8888888888888888,
              "#fdca26"
             ],
             [
              1,
              "#f0f921"
             ]
            ],
            "type": "surface"
           }
          ],
          "table": [
           {
            "cells": {
             "fill": {
              "color": "#EBF0F8"
             },
             "line": {
              "color": "white"
             }
            },
            "header": {
             "fill": {
              "color": "#C8D4E3"
             },
             "line": {
              "color": "white"
             }
            },
            "type": "table"
           }
          ]
         },
         "layout": {
          "annotationdefaults": {
           "arrowcolor": "#2a3f5f",
           "arrowhead": 0,
           "arrowwidth": 1
          },
          "autotypenumbers": "strict",
          "coloraxis": {
           "colorbar": {
            "outlinewidth": 0,
            "ticks": ""
           }
          },
          "colorscale": {
           "diverging": [
            [
             0,
             "#8e0152"
            ],
            [
             0.1,
             "#c51b7d"
            ],
            [
             0.2,
             "#de77ae"
            ],
            [
             0.3,
             "#f1b6da"
            ],
            [
             0.4,
             "#fde0ef"
            ],
            [
             0.5,
             "#f7f7f7"
            ],
            [
             0.6,
             "#e6f5d0"
            ],
            [
             0.7,
             "#b8e186"
            ],
            [
             0.8,
             "#7fbc41"
            ],
            [
             0.9,
             "#4d9221"
            ],
            [
             1,
             "#276419"
            ]
           ],
           "sequential": [
            [
             0,
             "#0d0887"
            ],
            [
             0.1111111111111111,
             "#46039f"
            ],
            [
             0.2222222222222222,
             "#7201a8"
            ],
            [
             0.3333333333333333,
             "#9c179e"
            ],
            [
             0.4444444444444444,
             "#bd3786"
            ],
            [
             0.5555555555555556,
             "#d8576b"
            ],
            [
             0.6666666666666666,
             "#ed7953"
            ],
            [
             0.7777777777777778,
             "#fb9f3a"
            ],
            [
             0.8888888888888888,
             "#fdca26"
            ],
            [
             1,
             "#f0f921"
            ]
           ],
           "sequentialminus": [
            [
             0,
             "#0d0887"
            ],
            [
             0.1111111111111111,
             "#46039f"
            ],
            [
             0.2222222222222222,
             "#7201a8"
            ],
            [
             0.3333333333333333,
             "#9c179e"
            ],
            [
             0.4444444444444444,
             "#bd3786"
            ],
            [
             0.5555555555555556,
             "#d8576b"
            ],
            [
             0.6666666666666666,
             "#ed7953"
            ],
            [
             0.7777777777777778,
             "#fb9f3a"
            ],
            [
             0.8888888888888888,
             "#fdca26"
            ],
            [
             1,
             "#f0f921"
            ]
           ]
          },
          "colorway": [
           "#636efa",
           "#EF553B",
           "#00cc96",
           "#ab63fa",
           "#FFA15A",
           "#19d3f3",
           "#FF6692",
           "#B6E880",
           "#FF97FF",
           "#FECB52"
          ],
          "font": {
           "color": "#2a3f5f"
          },
          "geo": {
           "bgcolor": "white",
           "lakecolor": "white",
           "landcolor": "white",
           "showlakes": true,
           "showland": true,
           "subunitcolor": "#C8D4E3"
          },
          "hoverlabel": {
           "align": "left"
          },
          "hovermode": "closest",
          "mapbox": {
           "style": "light"
          },
          "paper_bgcolor": "white",
          "plot_bgcolor": "white",
          "polar": {
           "angularaxis": {
            "gridcolor": "#EBF0F8",
            "linecolor": "#EBF0F8",
            "ticks": ""
           },
           "bgcolor": "white",
           "radialaxis": {
            "gridcolor": "#EBF0F8",
            "linecolor": "#EBF0F8",
            "ticks": ""
           }
          },
          "scene": {
           "xaxis": {
            "backgroundcolor": "white",
            "gridcolor": "#DFE8F3",
            "gridwidth": 2,
            "linecolor": "#EBF0F8",
            "showbackground": true,
            "ticks": "",
            "zerolinecolor": "#EBF0F8"
           },
           "yaxis": {
            "backgroundcolor": "white",
            "gridcolor": "#DFE8F3",
            "gridwidth": 2,
            "linecolor": "#EBF0F8",
            "showbackground": true,
            "ticks": "",
            "zerolinecolor": "#EBF0F8"
           },
           "zaxis": {
            "backgroundcolor": "white",
            "gridcolor": "#DFE8F3",
            "gridwidth": 2,
            "linecolor": "#EBF0F8",
            "showbackground": true,
            "ticks": "",
            "zerolinecolor": "#EBF0F8"
           }
          },
          "shapedefaults": {
           "line": {
            "color": "#2a3f5f"
           }
          },
          "ternary": {
           "aaxis": {
            "gridcolor": "#DFE8F3",
            "linecolor": "#A2B1C6",
            "ticks": ""
           },
           "baxis": {
            "gridcolor": "#DFE8F3",
            "linecolor": "#A2B1C6",
            "ticks": ""
           },
           "bgcolor": "white",
           "caxis": {
            "gridcolor": "#DFE8F3",
            "linecolor": "#A2B1C6",
            "ticks": ""
           }
          },
          "title": {
           "x": 0.05
          },
          "xaxis": {
           "automargin": true,
           "gridcolor": "#EBF0F8",
           "linecolor": "#EBF0F8",
           "ticks": "",
           "title": {
            "standoff": 15
           },
           "zerolinecolor": "#EBF0F8",
           "zerolinewidth": 2
          },
          "yaxis": {
           "automargin": true,
           "gridcolor": "#EBF0F8",
           "linecolor": "#EBF0F8",
           "ticks": "",
           "title": {
            "standoff": 15
           },
           "zerolinecolor": "#EBF0F8",
           "zerolinewidth": 2
          }
         }
        },
        "title": {
         "text": "Market wise distribution for 2024"
        },
        "xaxis": {
         "anchor": "y",
         "domain": [
          0,
          1
         ],
         "title": {
          "text": "Revenue (INR Mn)"
         }
        },
        "yaxis": {
         "anchor": "x",
         "domain": [
          0,
          1
         ],
         "title": {
          "text": "Passengers"
         }
        }
       }
      }
     },
     "metadata": {},
     "output_type": "display_data"
    }
   ],
   "source": [
    "#Market-wise distribution of Revenue and Passengers for the year 2024 with ASK as size\n",
    "def chart():\n",
    "    fig=px.scatter(market_data,x=market_data[\"Revenue (INR Mn)\"], y=market_data[\"Passengers\"],\n",
    "                color=\"Market\", \n",
    "                title=\"Market wise distribution for 2024\",\n",
    "                    size=\"ASK (Mn km)\",\n",
    "                    size_max=60,\n",
    "                    hover_data=[\"Passengers\"]\n",
    "                )\n",
    "    fig.update_traces(marker=dict(line=dict(width=1, color='DarkSlateGrey')))\n",
    "    fig.update_layout(\n",
    "        xaxis_title=\"Revenue (INR Mn)\",\n",
    "        yaxis_title=\"Passengers\",\n",
    "        legend_title=\"Market\",\n",
    "        template=\"plotly_white\"\n",
    "    )\n",
    "    return fig.show()\n",
    "\n",
    "chart()"
   ]
  },
  {
   "cell_type": "code",
   "execution_count": null,
   "id": "d883f310",
   "metadata": {},
   "outputs": [],
   "source": []
  },
  {
   "cell_type": "code",
   "execution_count": 24,
   "id": "022f1a68",
   "metadata": {},
   "outputs": [
    {
     "data": {
      "text/html": [
       "<div>\n",
       "<style scoped>\n",
       "    .dataframe tbody tr th:only-of-type {\n",
       "        vertical-align: middle;\n",
       "    }\n",
       "\n",
       "    .dataframe tbody tr th {\n",
       "        vertical-align: top;\n",
       "    }\n",
       "\n",
       "    .dataframe thead th {\n",
       "        text-align: right;\n",
       "    }\n",
       "</style>\n",
       "<table border=\"1\" class=\"dataframe\">\n",
       "  <thead>\n",
       "    <tr style=\"text-align: right;\">\n",
       "      <th></th>\n",
       "      <th>Year</th>\n",
       "      <th>Month</th>\n",
       "      <th>Month_Name</th>\n",
       "      <th>Route</th>\n",
       "      <th>Region</th>\n",
       "      <th>ASK (Mn km)</th>\n",
       "      <th>RPK (Mn km)</th>\n",
       "      <th>Passengers</th>\n",
       "      <th>CASK</th>\n",
       "      <th>PRASK</th>\n",
       "      <th>Yield</th>\n",
       "      <th>Revenue (INR Mn)</th>\n",
       "      <th>Market</th>\n",
       "      <th>Cost (INR Mn)</th>\n",
       "    </tr>\n",
       "  </thead>\n",
       "  <tbody>\n",
       "    <tr>\n",
       "      <th>0</th>\n",
       "      <td>2022</td>\n",
       "      <td>1</td>\n",
       "      <td>January</td>\n",
       "      <td>DEL-BOM</td>\n",
       "      <td>Domestic</td>\n",
       "      <td>16.73</td>\n",
       "      <td>11.81</td>\n",
       "      <td>11423</td>\n",
       "      <td>4.64</td>\n",
       "      <td>3.12</td>\n",
       "      <td>4.41</td>\n",
       "      <td>52.13</td>\n",
       "      <td>BOM-DEL</td>\n",
       "      <td>77.6272</td>\n",
       "    </tr>\n",
       "    <tr>\n",
       "      <th>1</th>\n",
       "      <td>2022</td>\n",
       "      <td>2</td>\n",
       "      <td>February</td>\n",
       "      <td>DEL-BOM</td>\n",
       "      <td>Domestic</td>\n",
       "      <td>17.68</td>\n",
       "      <td>12.49</td>\n",
       "      <td>12073</td>\n",
       "      <td>4.80</td>\n",
       "      <td>3.12</td>\n",
       "      <td>4.41</td>\n",
       "      <td>55.09</td>\n",
       "      <td>BOM-DEL</td>\n",
       "      <td>84.8640</td>\n",
       "    </tr>\n",
       "    <tr>\n",
       "      <th>2</th>\n",
       "      <td>2022</td>\n",
       "      <td>3</td>\n",
       "      <td>March</td>\n",
       "      <td>DEL-BOM</td>\n",
       "      <td>Domestic</td>\n",
       "      <td>14.75</td>\n",
       "      <td>10.42</td>\n",
       "      <td>10073</td>\n",
       "      <td>4.70</td>\n",
       "      <td>3.12</td>\n",
       "      <td>4.41</td>\n",
       "      <td>45.97</td>\n",
       "      <td>BOM-DEL</td>\n",
       "      <td>69.3250</td>\n",
       "    </tr>\n",
       "    <tr>\n",
       "      <th>3</th>\n",
       "      <td>2022</td>\n",
       "      <td>4</td>\n",
       "      <td>April</td>\n",
       "      <td>DEL-BOM</td>\n",
       "      <td>Domestic</td>\n",
       "      <td>15.07</td>\n",
       "      <td>10.64</td>\n",
       "      <td>10289</td>\n",
       "      <td>4.55</td>\n",
       "      <td>3.12</td>\n",
       "      <td>4.41</td>\n",
       "      <td>46.95</td>\n",
       "      <td>BOM-DEL</td>\n",
       "      <td>68.5685</td>\n",
       "    </tr>\n",
       "    <tr>\n",
       "      <th>4</th>\n",
       "      <td>2022</td>\n",
       "      <td>5</td>\n",
       "      <td>May</td>\n",
       "      <td>DEL-BOM</td>\n",
       "      <td>Domestic</td>\n",
       "      <td>19.05</td>\n",
       "      <td>13.45</td>\n",
       "      <td>13008</td>\n",
       "      <td>4.51</td>\n",
       "      <td>3.12</td>\n",
       "      <td>4.41</td>\n",
       "      <td>59.36</td>\n",
       "      <td>BOM-DEL</td>\n",
       "      <td>85.9155</td>\n",
       "    </tr>\n",
       "    <tr>\n",
       "      <th>...</th>\n",
       "      <td>...</td>\n",
       "      <td>...</td>\n",
       "      <td>...</td>\n",
       "      <td>...</td>\n",
       "      <td>...</td>\n",
       "      <td>...</td>\n",
       "      <td>...</td>\n",
       "      <td>...</td>\n",
       "      <td>...</td>\n",
       "      <td>...</td>\n",
       "      <td>...</td>\n",
       "      <td>...</td>\n",
       "      <td>...</td>\n",
       "      <td>...</td>\n",
       "    </tr>\n",
       "    <tr>\n",
       "      <th>571</th>\n",
       "      <td>2024</td>\n",
       "      <td>8</td>\n",
       "      <td>August</td>\n",
       "      <td>COK-DEL</td>\n",
       "      <td>Domestic</td>\n",
       "      <td>9.09</td>\n",
       "      <td>8.38</td>\n",
       "      <td>9039</td>\n",
       "      <td>4.56</td>\n",
       "      <td>4.03</td>\n",
       "      <td>4.37</td>\n",
       "      <td>36.63</td>\n",
       "      <td>COK-DEL</td>\n",
       "      <td>41.4504</td>\n",
       "    </tr>\n",
       "    <tr>\n",
       "      <th>572</th>\n",
       "      <td>2024</td>\n",
       "      <td>9</td>\n",
       "      <td>September</td>\n",
       "      <td>COK-DEL</td>\n",
       "      <td>Domestic</td>\n",
       "      <td>6.82</td>\n",
       "      <td>6.29</td>\n",
       "      <td>6780</td>\n",
       "      <td>4.34</td>\n",
       "      <td>4.03</td>\n",
       "      <td>4.37</td>\n",
       "      <td>27.47</td>\n",
       "      <td>COK-DEL</td>\n",
       "      <td>29.5988</td>\n",
       "    </tr>\n",
       "    <tr>\n",
       "      <th>573</th>\n",
       "      <td>2024</td>\n",
       "      <td>10</td>\n",
       "      <td>October</td>\n",
       "      <td>COK-DEL</td>\n",
       "      <td>Domestic</td>\n",
       "      <td>9.88</td>\n",
       "      <td>9.12</td>\n",
       "      <td>9832</td>\n",
       "      <td>4.52</td>\n",
       "      <td>4.03</td>\n",
       "      <td>4.37</td>\n",
       "      <td>39.84</td>\n",
       "      <td>COK-DEL</td>\n",
       "      <td>44.6576</td>\n",
       "    </tr>\n",
       "    <tr>\n",
       "      <th>574</th>\n",
       "      <td>2024</td>\n",
       "      <td>11</td>\n",
       "      <td>November</td>\n",
       "      <td>COK-DEL</td>\n",
       "      <td>Domestic</td>\n",
       "      <td>6.82</td>\n",
       "      <td>6.29</td>\n",
       "      <td>6785</td>\n",
       "      <td>4.52</td>\n",
       "      <td>4.03</td>\n",
       "      <td>4.37</td>\n",
       "      <td>27.49</td>\n",
       "      <td>COK-DEL</td>\n",
       "      <td>30.8264</td>\n",
       "    </tr>\n",
       "    <tr>\n",
       "      <th>575</th>\n",
       "      <td>2024</td>\n",
       "      <td>12</td>\n",
       "      <td>December</td>\n",
       "      <td>COK-DEL</td>\n",
       "      <td>Domestic</td>\n",
       "      <td>8.19</td>\n",
       "      <td>7.56</td>\n",
       "      <td>8151</td>\n",
       "      <td>4.21</td>\n",
       "      <td>4.03</td>\n",
       "      <td>4.37</td>\n",
       "      <td>33.03</td>\n",
       "      <td>COK-DEL</td>\n",
       "      <td>34.4799</td>\n",
       "    </tr>\n",
       "  </tbody>\n",
       "</table>\n",
       "<p>576 rows × 14 columns</p>\n",
       "</div>"
      ],
      "text/plain": [
       "     Year  Month Month_Name  ... Revenue (INR Mn)   Market  Cost (INR Mn)\n",
       "0    2022      1    January  ...            52.13  BOM-DEL        77.6272\n",
       "1    2022      2   February  ...            55.09  BOM-DEL        84.8640\n",
       "2    2022      3      March  ...            45.97  BOM-DEL        69.3250\n",
       "3    2022      4      April  ...            46.95  BOM-DEL        68.5685\n",
       "4    2022      5        May  ...            59.36  BOM-DEL        85.9155\n",
       "..    ...    ...        ...  ...              ...      ...            ...\n",
       "571  2024      8     August  ...            36.63  COK-DEL        41.4504\n",
       "572  2024      9  September  ...            27.47  COK-DEL        29.5988\n",
       "573  2024     10    October  ...            39.84  COK-DEL        44.6576\n",
       "574  2024     11   November  ...            27.49  COK-DEL        30.8264\n",
       "575  2024     12   December  ...            33.03  COK-DEL        34.4799\n",
       "\n",
       "[576 rows x 14 columns]"
      ]
     },
     "execution_count": 24,
     "metadata": {},
     "output_type": "execute_result"
    }
   ],
   "source": [
    "from utils.dataframes import dataframe\n",
    "\n",
    "dataframe"
   ]
  },
  {
   "cell_type": "code",
   "execution_count": 25,
   "id": "6f2cb993",
   "metadata": {},
   "outputs": [
    {
     "name": "stdout",
     "output_type": "stream",
     "text": [
      "11622.8 million rupees\n"
     ]
    }
   ],
   "source": [
    "def revenue(year):\n",
    "    df=dataframe\n",
    "    Revenue=df.groupby(\"Year\")[\"Revenue (INR Mn)\"].sum().reset_index()\n",
    "    \n",
    "    print(Revenue[Revenue[\"Year\"]==int(year)][\"Revenue (INR Mn)\"].values[0],\"million rupees\")\n",
    "\n",
    "revenue(2024)"
   ]
  },
  {
   "cell_type": "code",
   "execution_count": 26,
   "id": "b551aacc",
   "metadata": {},
   "outputs": [
    {
     "data": {
      "text/plain": [
       "'3079.43  million km'"
      ]
     },
     "execution_count": 26,
     "metadata": {},
     "output_type": "execute_result"
    }
   ],
   "source": [
    "def ASK(year):\n",
    "    df=dataframe\n",
    "    ask=df.groupby(\"Year\")[\"ASK (Mn km)\"].sum().reset_index()\n",
    "    \n",
    "    return f\"{float(ask[ask[\"Year\"]==int(year)][\"ASK (Mn km)\"].values[0])}  million km\"\n",
    "\n",
    "ASK(2022)"
   ]
  },
  {
   "cell_type": "code",
   "execution_count": 27,
   "id": "17511330",
   "metadata": {},
   "outputs": [
    {
     "data": {
      "text/plain": [
       "3079.43"
      ]
     },
     "execution_count": 27,
     "metadata": {},
     "output_type": "execute_result"
    }
   ],
   "source": [
    "df=dataframe\n",
    "ask=df.groupby(\"Year\")[\"ASK (Mn km)\"].sum().reset_index()\n",
    "float(ask[ask[\"Year\"]==int(2022)][\"ASK (Mn km)\"].values[0])"
   ]
  },
  {
   "cell_type": "code",
   "execution_count": 47,
   "id": "1a189a02",
   "metadata": {},
   "outputs": [
    {
     "data": {
      "text/plain": [
       "'11,622.80 million rupees'"
      ]
     },
     "execution_count": 47,
     "metadata": {},
     "output_type": "execute_result"
    }
   ],
   "source": [
    "def revenue(year):\n",
    "    df = dataframe\n",
    "    revenue_value = float(df[df[\"Year\"] == int(year)][\"Revenue (INR Mn)\"].sum())\n",
    "    return f\"{revenue_value:,.2f} million rupees\"\n",
    "\n",
    "revenue(2024)"
   ]
  },
  {
   "cell_type": "code",
   "execution_count": 28,
   "id": "2a1b8120",
   "metadata": {},
   "outputs": [
    {
     "data": {
      "text/html": [
       "<div>\n",
       "<style scoped>\n",
       "    .dataframe tbody tr th:only-of-type {\n",
       "        vertical-align: middle;\n",
       "    }\n",
       "\n",
       "    .dataframe tbody tr th {\n",
       "        vertical-align: top;\n",
       "    }\n",
       "\n",
       "    .dataframe thead th {\n",
       "        text-align: right;\n",
       "    }\n",
       "</style>\n",
       "<table border=\"1\" class=\"dataframe\">\n",
       "  <thead>\n",
       "    <tr style=\"text-align: right;\">\n",
       "      <th></th>\n",
       "      <th>Region</th>\n",
       "      <th>Year</th>\n",
       "      <th>Revenue (INR Mn)</th>\n",
       "      <th>Passengers</th>\n",
       "      <th>ASK (Mn km)</th>\n",
       "    </tr>\n",
       "  </thead>\n",
       "  <tbody>\n",
       "    <tr>\n",
       "      <th>0</th>\n",
       "      <td>Domestic</td>\n",
       "      <td>2022</td>\n",
       "      <td>6247.83</td>\n",
       "      <td>1403240</td>\n",
       "      <td>1723.41</td>\n",
       "    </tr>\n",
       "    <tr>\n",
       "      <th>1</th>\n",
       "      <td>Domestic</td>\n",
       "      <td>2023</td>\n",
       "      <td>6822.70</td>\n",
       "      <td>1490492</td>\n",
       "      <td>1681.81</td>\n",
       "    </tr>\n",
       "    <tr>\n",
       "      <th>2</th>\n",
       "      <td>Domestic</td>\n",
       "      <td>2024</td>\n",
       "      <td>6416.97</td>\n",
       "      <td>1368221</td>\n",
       "      <td>1575.07</td>\n",
       "    </tr>\n",
       "    <tr>\n",
       "      <th>3</th>\n",
       "      <td>International</td>\n",
       "      <td>2022</td>\n",
       "      <td>5234.52</td>\n",
       "      <td>1236866</td>\n",
       "      <td>1356.02</td>\n",
       "    </tr>\n",
       "    <tr>\n",
       "      <th>4</th>\n",
       "      <td>International</td>\n",
       "      <td>2023</td>\n",
       "      <td>4256.50</td>\n",
       "      <td>926112</td>\n",
       "      <td>1129.34</td>\n",
       "    </tr>\n",
       "    <tr>\n",
       "      <th>5</th>\n",
       "      <td>International</td>\n",
       "      <td>2024</td>\n",
       "      <td>5205.83</td>\n",
       "      <td>1155840</td>\n",
       "      <td>1294.37</td>\n",
       "    </tr>\n",
       "  </tbody>\n",
       "</table>\n",
       "</div>"
      ],
      "text/plain": [
       "          Region  Year  Revenue (INR Mn)  Passengers  ASK (Mn km)\n",
       "0       Domestic  2022           6247.83     1403240      1723.41\n",
       "1       Domestic  2023           6822.70     1490492      1681.81\n",
       "2       Domestic  2024           6416.97     1368221      1575.07\n",
       "3  International  2022           5234.52     1236866      1356.02\n",
       "4  International  2023           4256.50      926112      1129.34\n",
       "5  International  2024           5205.83     1155840      1294.37"
      ]
     },
     "execution_count": 28,
     "metadata": {},
     "output_type": "execute_result"
    }
   ],
   "source": [
    "from utils.dataframes import dataframe\n",
    "region_data=dataframe.groupby([\"Region\",\"Year\"])[[\"Revenue (INR Mn)\",\"Passengers\",\"ASK (Mn km)\"]].sum().reset_index()\n",
    "region_data"
   ]
  },
  {
   "cell_type": "code",
   "execution_count": 29,
   "id": "9953aea6",
   "metadata": {},
   "outputs": [
    {
     "data": {
      "application/vnd.plotly.v1+json": {
       "config": {
        "plotlyServerURL": "https://plot.ly"
       },
       "data": [
        {
         "domain": {
          "x": [
           0,
           1
          ],
          "y": [
           0,
           1
          ]
         },
         "hovertemplate": "Region=%{label}<br>Revenue (INR Mn)=%{value}<extra></extra>",
         "labels": [
          "Domestic",
          "International"
         ],
         "legendgroup": "",
         "name": "",
         "showlegend": true,
         "textinfo": "percent+label",
         "type": "pie",
         "values": {
          "bdata": "rkfhetRnuEDsUbgehXK0QA==",
          "dtype": "f8"
         }
        }
       ],
       "layout": {
        "legend": {
         "tracegroupgap": 0
        },
        "template": {
         "data": {
          "bar": [
           {
            "error_x": {
             "color": "#2a3f5f"
            },
            "error_y": {
             "color": "#2a3f5f"
            },
            "marker": {
             "line": {
              "color": "white",
              "width": 0.5
             },
             "pattern": {
              "fillmode": "overlay",
              "size": 10,
              "solidity": 0.2
             }
            },
            "type": "bar"
           }
          ],
          "barpolar": [
           {
            "marker": {
             "line": {
              "color": "white",
              "width": 0.5
             },
             "pattern": {
              "fillmode": "overlay",
              "size": 10,
              "solidity": 0.2
             }
            },
            "type": "barpolar"
           }
          ],
          "carpet": [
           {
            "aaxis": {
             "endlinecolor": "#2a3f5f",
             "gridcolor": "#C8D4E3",
             "linecolor": "#C8D4E3",
             "minorgridcolor": "#C8D4E3",
             "startlinecolor": "#2a3f5f"
            },
            "baxis": {
             "endlinecolor": "#2a3f5f",
             "gridcolor": "#C8D4E3",
             "linecolor": "#C8D4E3",
             "minorgridcolor": "#C8D4E3",
             "startlinecolor": "#2a3f5f"
            },
            "type": "carpet"
           }
          ],
          "choropleth": [
           {
            "colorbar": {
             "outlinewidth": 0,
             "ticks": ""
            },
            "type": "choropleth"
           }
          ],
          "contour": [
           {
            "colorbar": {
             "outlinewidth": 0,
             "ticks": ""
            },
            "colorscale": [
             [
              0,
              "#0d0887"
             ],
             [
              0.1111111111111111,
              "#46039f"
             ],
             [
              0.2222222222222222,
              "#7201a8"
             ],
             [
              0.3333333333333333,
              "#9c179e"
             ],
             [
              0.4444444444444444,
              "#bd3786"
             ],
             [
              0.5555555555555556,
              "#d8576b"
             ],
             [
              0.6666666666666666,
              "#ed7953"
             ],
             [
              0.7777777777777778,
              "#fb9f3a"
             ],
             [
              0.8888888888888888,
              "#fdca26"
             ],
             [
              1,
              "#f0f921"
             ]
            ],
            "type": "contour"
           }
          ],
          "contourcarpet": [
           {
            "colorbar": {
             "outlinewidth": 0,
             "ticks": ""
            },
            "type": "contourcarpet"
           }
          ],
          "heatmap": [
           {
            "colorbar": {
             "outlinewidth": 0,
             "ticks": ""
            },
            "colorscale": [
             [
              0,
              "#0d0887"
             ],
             [
              0.1111111111111111,
              "#46039f"
             ],
             [
              0.2222222222222222,
              "#7201a8"
             ],
             [
              0.3333333333333333,
              "#9c179e"
             ],
             [
              0.4444444444444444,
              "#bd3786"
             ],
             [
              0.5555555555555556,
              "#d8576b"
             ],
             [
              0.6666666666666666,
              "#ed7953"
             ],
             [
              0.7777777777777778,
              "#fb9f3a"
             ],
             [
              0.8888888888888888,
              "#fdca26"
             ],
             [
              1,
              "#f0f921"
             ]
            ],
            "type": "heatmap"
           }
          ],
          "histogram": [
           {
            "marker": {
             "pattern": {
              "fillmode": "overlay",
              "size": 10,
              "solidity": 0.2
             }
            },
            "type": "histogram"
           }
          ],
          "histogram2d": [
           {
            "colorbar": {
             "outlinewidth": 0,
             "ticks": ""
            },
            "colorscale": [
             [
              0,
              "#0d0887"
             ],
             [
              0.1111111111111111,
              "#46039f"
             ],
             [
              0.2222222222222222,
              "#7201a8"
             ],
             [
              0.3333333333333333,
              "#9c179e"
             ],
             [
              0.4444444444444444,
              "#bd3786"
             ],
             [
              0.5555555555555556,
              "#d8576b"
             ],
             [
              0.6666666666666666,
              "#ed7953"
             ],
             [
              0.7777777777777778,
              "#fb9f3a"
             ],
             [
              0.8888888888888888,
              "#fdca26"
             ],
             [
              1,
              "#f0f921"
             ]
            ],
            "type": "histogram2d"
           }
          ],
          "histogram2dcontour": [
           {
            "colorbar": {
             "outlinewidth": 0,
             "ticks": ""
            },
            "colorscale": [
             [
              0,
              "#0d0887"
             ],
             [
              0.1111111111111111,
              "#46039f"
             ],
             [
              0.2222222222222222,
              "#7201a8"
             ],
             [
              0.3333333333333333,
              "#9c179e"
             ],
             [
              0.4444444444444444,
              "#bd3786"
             ],
             [
              0.5555555555555556,
              "#d8576b"
             ],
             [
              0.6666666666666666,
              "#ed7953"
             ],
             [
              0.7777777777777778,
              "#fb9f3a"
             ],
             [
              0.8888888888888888,
              "#fdca26"
             ],
             [
              1,
              "#f0f921"
             ]
            ],
            "type": "histogram2dcontour"
           }
          ],
          "mesh3d": [
           {
            "colorbar": {
             "outlinewidth": 0,
             "ticks": ""
            },
            "type": "mesh3d"
           }
          ],
          "parcoords": [
           {
            "line": {
             "colorbar": {
              "outlinewidth": 0,
              "ticks": ""
             }
            },
            "type": "parcoords"
           }
          ],
          "pie": [
           {
            "automargin": true,
            "type": "pie"
           }
          ],
          "scatter": [
           {
            "fillpattern": {
             "fillmode": "overlay",
             "size": 10,
             "solidity": 0.2
            },
            "type": "scatter"
           }
          ],
          "scatter3d": [
           {
            "line": {
             "colorbar": {
              "outlinewidth": 0,
              "ticks": ""
             }
            },
            "marker": {
             "colorbar": {
              "outlinewidth": 0,
              "ticks": ""
             }
            },
            "type": "scatter3d"
           }
          ],
          "scattercarpet": [
           {
            "marker": {
             "colorbar": {
              "outlinewidth": 0,
              "ticks": ""
             }
            },
            "type": "scattercarpet"
           }
          ],
          "scattergeo": [
           {
            "marker": {
             "colorbar": {
              "outlinewidth": 0,
              "ticks": ""
             }
            },
            "type": "scattergeo"
           }
          ],
          "scattergl": [
           {
            "marker": {
             "colorbar": {
              "outlinewidth": 0,
              "ticks": ""
             }
            },
            "type": "scattergl"
           }
          ],
          "scattermap": [
           {
            "marker": {
             "colorbar": {
              "outlinewidth": 0,
              "ticks": ""
             }
            },
            "type": "scattermap"
           }
          ],
          "scattermapbox": [
           {
            "marker": {
             "colorbar": {
              "outlinewidth": 0,
              "ticks": ""
             }
            },
            "type": "scattermapbox"
           }
          ],
          "scatterpolar": [
           {
            "marker": {
             "colorbar": {
              "outlinewidth": 0,
              "ticks": ""
             }
            },
            "type": "scatterpolar"
           }
          ],
          "scatterpolargl": [
           {
            "marker": {
             "colorbar": {
              "outlinewidth": 0,
              "ticks": ""
             }
            },
            "type": "scatterpolargl"
           }
          ],
          "scatterternary": [
           {
            "marker": {
             "colorbar": {
              "outlinewidth": 0,
              "ticks": ""
             }
            },
            "type": "scatterternary"
           }
          ],
          "surface": [
           {
            "colorbar": {
             "outlinewidth": 0,
             "ticks": ""
            },
            "colorscale": [
             [
              0,
              "#0d0887"
             ],
             [
              0.1111111111111111,
              "#46039f"
             ],
             [
              0.2222222222222222,
              "#7201a8"
             ],
             [
              0.3333333333333333,
              "#9c179e"
             ],
             [
              0.4444444444444444,
              "#bd3786"
             ],
             [
              0.5555555555555556,
              "#d8576b"
             ],
             [
              0.6666666666666666,
              "#ed7953"
             ],
             [
              0.7777777777777778,
              "#fb9f3a"
             ],
             [
              0.8888888888888888,
              "#fdca26"
             ],
             [
              1,
              "#f0f921"
             ]
            ],
            "type": "surface"
           }
          ],
          "table": [
           {
            "cells": {
             "fill": {
              "color": "#EBF0F8"
             },
             "line": {
              "color": "white"
             }
            },
            "header": {
             "fill": {
              "color": "#C8D4E3"
             },
             "line": {
              "color": "white"
             }
            },
            "type": "table"
           }
          ]
         },
         "layout": {
          "annotationdefaults": {
           "arrowcolor": "#2a3f5f",
           "arrowhead": 0,
           "arrowwidth": 1
          },
          "autotypenumbers": "strict",
          "coloraxis": {
           "colorbar": {
            "outlinewidth": 0,
            "ticks": ""
           }
          },
          "colorscale": {
           "diverging": [
            [
             0,
             "#8e0152"
            ],
            [
             0.1,
             "#c51b7d"
            ],
            [
             0.2,
             "#de77ae"
            ],
            [
             0.3,
             "#f1b6da"
            ],
            [
             0.4,
             "#fde0ef"
            ],
            [
             0.5,
             "#f7f7f7"
            ],
            [
             0.6,
             "#e6f5d0"
            ],
            [
             0.7,
             "#b8e186"
            ],
            [
             0.8,
             "#7fbc41"
            ],
            [
             0.9,
             "#4d9221"
            ],
            [
             1,
             "#276419"
            ]
           ],
           "sequential": [
            [
             0,
             "#0d0887"
            ],
            [
             0.1111111111111111,
             "#46039f"
            ],
            [
             0.2222222222222222,
             "#7201a8"
            ],
            [
             0.3333333333333333,
             "#9c179e"
            ],
            [
             0.4444444444444444,
             "#bd3786"
            ],
            [
             0.5555555555555556,
             "#d8576b"
            ],
            [
             0.6666666666666666,
             "#ed7953"
            ],
            [
             0.7777777777777778,
             "#fb9f3a"
            ],
            [
             0.8888888888888888,
             "#fdca26"
            ],
            [
             1,
             "#f0f921"
            ]
           ],
           "sequentialminus": [
            [
             0,
             "#0d0887"
            ],
            [
             0.1111111111111111,
             "#46039f"
            ],
            [
             0.2222222222222222,
             "#7201a8"
            ],
            [
             0.3333333333333333,
             "#9c179e"
            ],
            [
             0.4444444444444444,
             "#bd3786"
            ],
            [
             0.5555555555555556,
             "#d8576b"
            ],
            [
             0.6666666666666666,
             "#ed7953"
            ],
            [
             0.7777777777777778,
             "#fb9f3a"
            ],
            [
             0.8888888888888888,
             "#fdca26"
            ],
            [
             1,
             "#f0f921"
            ]
           ]
          },
          "colorway": [
           "#636efa",
           "#EF553B",
           "#00cc96",
           "#ab63fa",
           "#FFA15A",
           "#19d3f3",
           "#FF6692",
           "#B6E880",
           "#FF97FF",
           "#FECB52"
          ],
          "font": {
           "color": "#2a3f5f"
          },
          "geo": {
           "bgcolor": "white",
           "lakecolor": "white",
           "landcolor": "white",
           "showlakes": true,
           "showland": true,
           "subunitcolor": "#C8D4E3"
          },
          "hoverlabel": {
           "align": "left"
          },
          "hovermode": "closest",
          "mapbox": {
           "style": "light"
          },
          "paper_bgcolor": "white",
          "plot_bgcolor": "white",
          "polar": {
           "angularaxis": {
            "gridcolor": "#EBF0F8",
            "linecolor": "#EBF0F8",
            "ticks": ""
           },
           "bgcolor": "white",
           "radialaxis": {
            "gridcolor": "#EBF0F8",
            "linecolor": "#EBF0F8",
            "ticks": ""
           }
          },
          "scene": {
           "xaxis": {
            "backgroundcolor": "white",
            "gridcolor": "#DFE8F3",
            "gridwidth": 2,
            "linecolor": "#EBF0F8",
            "showbackground": true,
            "ticks": "",
            "zerolinecolor": "#EBF0F8"
           },
           "yaxis": {
            "backgroundcolor": "white",
            "gridcolor": "#DFE8F3",
            "gridwidth": 2,
            "linecolor": "#EBF0F8",
            "showbackground": true,
            "ticks": "",
            "zerolinecolor": "#EBF0F8"
           },
           "zaxis": {
            "backgroundcolor": "white",
            "gridcolor": "#DFE8F3",
            "gridwidth": 2,
            "linecolor": "#EBF0F8",
            "showbackground": true,
            "ticks": "",
            "zerolinecolor": "#EBF0F8"
           }
          },
          "shapedefaults": {
           "line": {
            "color": "#2a3f5f"
           }
          },
          "ternary": {
           "aaxis": {
            "gridcolor": "#DFE8F3",
            "linecolor": "#A2B1C6",
            "ticks": ""
           },
           "baxis": {
            "gridcolor": "#DFE8F3",
            "linecolor": "#A2B1C6",
            "ticks": ""
           },
           "bgcolor": "white",
           "caxis": {
            "gridcolor": "#DFE8F3",
            "linecolor": "#A2B1C6",
            "ticks": ""
           }
          },
          "title": {
           "x": 0.05
          },
          "xaxis": {
           "automargin": true,
           "gridcolor": "#EBF0F8",
           "linecolor": "#EBF0F8",
           "ticks": "",
           "title": {
            "standoff": 15
           },
           "zerolinecolor": "#EBF0F8",
           "zerolinewidth": 2
          },
          "yaxis": {
           "automargin": true,
           "gridcolor": "#EBF0F8",
           "linecolor": "#EBF0F8",
           "ticks": "",
           "title": {
            "standoff": 15
           },
           "zerolinecolor": "#EBF0F8",
           "zerolinewidth": 2
          }
         }
        },
        "title": {
         "text": "Revenue by Region 2022",
         "x": 0.5
        }
       }
      }
     },
     "metadata": {},
     "output_type": "display_data"
    }
   ],
   "source": [
    "def region_wise_revenue(year):\n",
    "    data=region_data[region_data[\"Year\"]==year]\n",
    "    fig=px.pie(data,\n",
    "            values=\"Revenue (INR Mn)\",\n",
    "            names=\"Region\",\n",
    "            title=\"Revenue by Region\"\n",
    "            )\n",
    "    fig.update_traces(textinfo='percent+label')\n",
    "    fig.update_layout(\n",
    "        title_text=f\"Revenue by Region {year}\",\n",
    "        title_x=0.5,\n",
    "        template=\"plotly_white\"\n",
    "\n",
    "    )\n",
    "\n",
    "    return fig.show()\n",
    "\n",
    "region_wise_revenue(2022)"
   ]
  },
  {
   "cell_type": "code",
   "execution_count": 30,
   "id": "7bb88b38",
   "metadata": {},
   "outputs": [
    {
     "name": "stderr",
     "output_type": "stream",
     "text": [
      "C:\\Users\\mshub\\AppData\\Local\\Temp\\ipykernel_26916\\982880447.py:3: FutureWarning:\n",
      "\n",
      "The default of observed=False is deprecated and will be changed to True in a future version of pandas. Pass observed=False to retain current behavior or observed=True to adopt the future default and silence this warning.\n",
      "\n"
     ]
    },
    {
     "data": {
      "text/html": [
       "<div>\n",
       "<style scoped>\n",
       "    .dataframe tbody tr th:only-of-type {\n",
       "        vertical-align: middle;\n",
       "    }\n",
       "\n",
       "    .dataframe tbody tr th {\n",
       "        vertical-align: top;\n",
       "    }\n",
       "\n",
       "    .dataframe thead th {\n",
       "        text-align: right;\n",
       "    }\n",
       "</style>\n",
       "<table border=\"1\" class=\"dataframe\">\n",
       "  <thead>\n",
       "    <tr style=\"text-align: right;\">\n",
       "      <th></th>\n",
       "      <th>Month_Name</th>\n",
       "      <th>Market</th>\n",
       "      <th>Revenue (INR Mn)</th>\n",
       "      <th>ASK (Mn km)</th>\n",
       "      <th>Year</th>\n",
       "    </tr>\n",
       "  </thead>\n",
       "  <tbody>\n",
       "    <tr>\n",
       "      <th>0</th>\n",
       "      <td>January</td>\n",
       "      <td>DEL-SIN</td>\n",
       "      <td>161.94</td>\n",
       "      <td>43.08</td>\n",
       "      <td>2023</td>\n",
       "    </tr>\n",
       "    <tr>\n",
       "      <th>1</th>\n",
       "      <td>January</td>\n",
       "      <td>COK-DEL</td>\n",
       "      <td>146.45</td>\n",
       "      <td>36.98</td>\n",
       "      <td>2023</td>\n",
       "    </tr>\n",
       "    <tr>\n",
       "      <th>2</th>\n",
       "      <td>January</td>\n",
       "      <td>BLR-DEL</td>\n",
       "      <td>110.16</td>\n",
       "      <td>24.45</td>\n",
       "      <td>2023</td>\n",
       "    </tr>\n",
       "    <tr>\n",
       "      <th>3</th>\n",
       "      <td>January</td>\n",
       "      <td>BOM-DEL</td>\n",
       "      <td>106.48</td>\n",
       "      <td>26.40</td>\n",
       "      <td>2023</td>\n",
       "    </tr>\n",
       "    <tr>\n",
       "      <th>4</th>\n",
       "      <td>January</td>\n",
       "      <td>BLR-MAA</td>\n",
       "      <td>96.89</td>\n",
       "      <td>22.46</td>\n",
       "      <td>2023</td>\n",
       "    </tr>\n",
       "    <tr>\n",
       "      <th>...</th>\n",
       "      <td>...</td>\n",
       "      <td>...</td>\n",
       "      <td>...</td>\n",
       "      <td>...</td>\n",
       "      <td>...</td>\n",
       "    </tr>\n",
       "    <tr>\n",
       "      <th>127</th>\n",
       "      <td>December</td>\n",
       "      <td>DEL-DXB</td>\n",
       "      <td>57.32</td>\n",
       "      <td>16.93</td>\n",
       "      <td>2023</td>\n",
       "    </tr>\n",
       "    <tr>\n",
       "      <th>128</th>\n",
       "      <td>December</td>\n",
       "      <td>BOM-JFK</td>\n",
       "      <td>54.92</td>\n",
       "      <td>14.91</td>\n",
       "      <td>2023</td>\n",
       "    </tr>\n",
       "    <tr>\n",
       "      <th>129</th>\n",
       "      <td>December</td>\n",
       "      <td>CCU-DEL</td>\n",
       "      <td>50.19</td>\n",
       "      <td>13.20</td>\n",
       "      <td>2023</td>\n",
       "    </tr>\n",
       "    <tr>\n",
       "      <th>130</th>\n",
       "      <td>December</td>\n",
       "      <td>DEL-LHR</td>\n",
       "      <td>41.62</td>\n",
       "      <td>9.78</td>\n",
       "      <td>2023</td>\n",
       "    </tr>\n",
       "    <tr>\n",
       "      <th>131</th>\n",
       "      <td>December</td>\n",
       "      <td>BOM-DXB</td>\n",
       "      <td>26.30</td>\n",
       "      <td>5.95</td>\n",
       "      <td>2023</td>\n",
       "    </tr>\n",
       "  </tbody>\n",
       "</table>\n",
       "<p>132 rows × 5 columns</p>\n",
       "</div>"
      ],
      "text/plain": [
       "    Month_Name   Market  Revenue (INR Mn)  ASK (Mn km)  Year\n",
       "0      January  DEL-SIN            161.94        43.08  2023\n",
       "1      January  COK-DEL            146.45        36.98  2023\n",
       "2      January  BLR-DEL            110.16        24.45  2023\n",
       "3      January  BOM-DEL            106.48        26.40  2023\n",
       "4      January  BLR-MAA             96.89        22.46  2023\n",
       "..         ...      ...               ...          ...   ...\n",
       "127   December  DEL-DXB             57.32        16.93  2023\n",
       "128   December  BOM-JFK             54.92        14.91  2023\n",
       "129   December  CCU-DEL             50.19        13.20  2023\n",
       "130   December  DEL-LHR             41.62         9.78  2023\n",
       "131   December  BOM-DXB             26.30         5.95  2023\n",
       "\n",
       "[132 rows x 5 columns]"
      ]
     },
     "execution_count": 30,
     "metadata": {},
     "output_type": "execute_result"
    }
   ],
   "source": [
    "def Ask_data(year):\n",
    "    df=dataframe\n",
    "    ask_data=df[df[\"Year\"]==int(year)].groupby([\"Month_Name\",\"Market\"]).agg({\"Revenue (INR Mn)\":\"sum\",\"ASK (Mn km)\":\"sum\"}).reset_index().sort_values(by=[\"Month_Name\",\"Revenue (INR Mn)\"], ascending=[True,False])\n",
    "    ask_data.reset_index(drop=True, inplace=True)\n",
    "    ask_data[\"Year\"]=int(year)\n",
    "    return ask_data\n",
    "Ask_data(2023)"
   ]
  },
  {
   "cell_type": "code",
   "execution_count": null,
   "id": "fc290466",
   "metadata": {},
   "outputs": [],
   "source": []
  },
  {
   "cell_type": "code",
   "execution_count": 31,
   "id": "e59b1c52",
   "metadata": {},
   "outputs": [
    {
     "data": {
      "text/html": [
       "<div>\n",
       "<style scoped>\n",
       "    .dataframe tbody tr th:only-of-type {\n",
       "        vertical-align: middle;\n",
       "    }\n",
       "\n",
       "    .dataframe tbody tr th {\n",
       "        vertical-align: top;\n",
       "    }\n",
       "\n",
       "    .dataframe thead th {\n",
       "        text-align: right;\n",
       "    }\n",
       "</style>\n",
       "<table border=\"1\" class=\"dataframe\">\n",
       "  <thead>\n",
       "    <tr style=\"text-align: right;\">\n",
       "      <th></th>\n",
       "      <th>Year</th>\n",
       "      <th>Month</th>\n",
       "      <th>Month_Name</th>\n",
       "      <th>Route</th>\n",
       "      <th>Region</th>\n",
       "      <th>ASK (Mn km)</th>\n",
       "      <th>RPK (Mn km)</th>\n",
       "      <th>Passengers</th>\n",
       "      <th>CASK</th>\n",
       "      <th>PRASK</th>\n",
       "      <th>Yield</th>\n",
       "      <th>Revenue (INR Mn)</th>\n",
       "      <th>Market</th>\n",
       "      <th>Cost (INR Mn)</th>\n",
       "    </tr>\n",
       "  </thead>\n",
       "  <tbody>\n",
       "    <tr>\n",
       "      <th>0</th>\n",
       "      <td>2022</td>\n",
       "      <td>1</td>\n",
       "      <td>January</td>\n",
       "      <td>DEL-BOM</td>\n",
       "      <td>Domestic</td>\n",
       "      <td>16.73</td>\n",
       "      <td>11.81</td>\n",
       "      <td>11423</td>\n",
       "      <td>4.64</td>\n",
       "      <td>3.12</td>\n",
       "      <td>4.41</td>\n",
       "      <td>52.13</td>\n",
       "      <td>BOM-DEL</td>\n",
       "      <td>77.6272</td>\n",
       "    </tr>\n",
       "    <tr>\n",
       "      <th>1</th>\n",
       "      <td>2022</td>\n",
       "      <td>2</td>\n",
       "      <td>February</td>\n",
       "      <td>DEL-BOM</td>\n",
       "      <td>Domestic</td>\n",
       "      <td>17.68</td>\n",
       "      <td>12.49</td>\n",
       "      <td>12073</td>\n",
       "      <td>4.80</td>\n",
       "      <td>3.12</td>\n",
       "      <td>4.41</td>\n",
       "      <td>55.09</td>\n",
       "      <td>BOM-DEL</td>\n",
       "      <td>84.8640</td>\n",
       "    </tr>\n",
       "    <tr>\n",
       "      <th>2</th>\n",
       "      <td>2022</td>\n",
       "      <td>3</td>\n",
       "      <td>March</td>\n",
       "      <td>DEL-BOM</td>\n",
       "      <td>Domestic</td>\n",
       "      <td>14.75</td>\n",
       "      <td>10.42</td>\n",
       "      <td>10073</td>\n",
       "      <td>4.70</td>\n",
       "      <td>3.12</td>\n",
       "      <td>4.41</td>\n",
       "      <td>45.97</td>\n",
       "      <td>BOM-DEL</td>\n",
       "      <td>69.3250</td>\n",
       "    </tr>\n",
       "    <tr>\n",
       "      <th>3</th>\n",
       "      <td>2022</td>\n",
       "      <td>4</td>\n",
       "      <td>April</td>\n",
       "      <td>DEL-BOM</td>\n",
       "      <td>Domestic</td>\n",
       "      <td>15.07</td>\n",
       "      <td>10.64</td>\n",
       "      <td>10289</td>\n",
       "      <td>4.55</td>\n",
       "      <td>3.12</td>\n",
       "      <td>4.41</td>\n",
       "      <td>46.95</td>\n",
       "      <td>BOM-DEL</td>\n",
       "      <td>68.5685</td>\n",
       "    </tr>\n",
       "    <tr>\n",
       "      <th>4</th>\n",
       "      <td>2022</td>\n",
       "      <td>5</td>\n",
       "      <td>May</td>\n",
       "      <td>DEL-BOM</td>\n",
       "      <td>Domestic</td>\n",
       "      <td>19.05</td>\n",
       "      <td>13.45</td>\n",
       "      <td>13008</td>\n",
       "      <td>4.51</td>\n",
       "      <td>3.12</td>\n",
       "      <td>4.41</td>\n",
       "      <td>59.36</td>\n",
       "      <td>BOM-DEL</td>\n",
       "      <td>85.9155</td>\n",
       "    </tr>\n",
       "  </tbody>\n",
       "</table>\n",
       "</div>"
      ],
      "text/plain": [
       "   Year  Month Month_Name  ... Revenue (INR Mn)   Market  Cost (INR Mn)\n",
       "0  2022      1    January  ...            52.13  BOM-DEL        77.6272\n",
       "1  2022      2   February  ...            55.09  BOM-DEL        84.8640\n",
       "2  2022      3      March  ...            45.97  BOM-DEL        69.3250\n",
       "3  2022      4      April  ...            46.95  BOM-DEL        68.5685\n",
       "4  2022      5        May  ...            59.36  BOM-DEL        85.9155\n",
       "\n",
       "[5 rows x 14 columns]"
      ]
     },
     "execution_count": 31,
     "metadata": {},
     "output_type": "execute_result"
    }
   ],
   "source": [
    "dataframe.head()"
   ]
  },
  {
   "cell_type": "code",
   "execution_count": 32,
   "id": "e1e9ae0b",
   "metadata": {},
   "outputs": [
    {
     "name": "stderr",
     "output_type": "stream",
     "text": [
      "C:\\Users\\mshub\\AppData\\Local\\Temp\\ipykernel_26916\\982880447.py:3: FutureWarning:\n",
      "\n",
      "The default of observed=False is deprecated and will be changed to True in a future version of pandas. Pass observed=False to retain current behavior or observed=True to adopt the future default and silence this warning.\n",
      "\n",
      "C:\\Users\\mshub\\AppData\\Local\\Temp\\ipykernel_26916\\669006672.py:4: FutureWarning:\n",
      "\n",
      "The default of observed=False is deprecated and will be changed to True in a future version of pandas. Pass observed=False to retain current behavior or observed=True to adopt the future default and silence this warning.\n",
      "\n"
     ]
    },
    {
     "data": {
      "application/vnd.plotly.v1+json": {
       "config": {
        "plotlyServerURL": "https://plot.ly"
       },
       "data": [
        {
         "hovertemplate": "Market=BLR-DEL<br>Revenue (INR Mn)=%{x}<br>Passengers=%{y}<br>ASK (Mn km)=%{marker.size}<extra></extra>",
         "legendgroup": "BLR-DEL",
         "marker": {
          "color": "#636efa",
          "line": {
           "color": "DarkSlateGrey",
           "width": 1
          },
          "size": {
           "bdata": "Urgehet5eEA=",
           "dtype": "f8"
          },
          "sizemode": "area",
          "sizeref": 0.11513055555555557,
          "symbol": "circle"
         },
         "mode": "markers",
         "name": "BLR-DEL",
         "orientation": "v",
         "showlegend": true,
         "type": "scatter",
         "x": {
          "bdata": "uB6F61Eyl0A=",
          "dtype": "f8"
         },
         "xaxis": "x",
         "y": {
          "bdata": "uVcFAA==",
          "dtype": "i4"
         },
         "yaxis": "y"
        },
        {
         "hovertemplate": "Market=BLR-MAA<br>Revenue (INR Mn)=%{x}<br>Passengers=%{y}<br>ASK (Mn km)=%{marker.size}<extra></extra>",
         "legendgroup": "BLR-MAA",
         "marker": {
          "color": "#EF553B",
          "line": {
           "color": "DarkSlateGrey",
           "width": 1
          },
          "size": {
           "bdata": "AAAAAACkcUA=",
           "dtype": "f8"
          },
          "sizemode": "area",
          "sizeref": 0.11513055555555557,
          "symbol": "circle"
         },
         "mode": "markers",
         "name": "BLR-MAA",
         "orientation": "v",
         "showlegend": true,
         "type": "scatter",
         "x": {
          "bdata": "61G4HoWplUA=",
          "dtype": "f8"
         },
         "xaxis": "x",
         "y": {
          "bdata": "ic8DAA==",
          "dtype": "i4"
         },
         "yaxis": "y"
        },
        {
         "hovertemplate": "Market=BOM-DEL<br>Revenue (INR Mn)=%{x}<br>Passengers=%{y}<br>ASK (Mn km)=%{marker.size}<extra></extra>",
         "legendgroup": "BOM-DEL",
         "marker": {
          "color": "#00cc96",
          "line": {
           "color": "DarkSlateGrey",
           "width": 1
          },
          "size": {
           "bdata": "16NwPQpnZkA=",
           "dtype": "f8"
          },
          "sizemode": "area",
          "sizeref": 0.11513055555555557,
          "symbol": "circle"
         },
         "mode": "markers",
         "name": "BOM-DEL",
         "orientation": "v",
         "showlegend": true,
         "type": "scatter",
         "x": {
          "bdata": "MzMzMzMVhUA=",
          "dtype": "f8"
         },
         "xaxis": "x",
         "y": {
          "bdata": "6FsCAA==",
          "dtype": "i4"
         },
         "yaxis": "y"
        },
        {
         "hovertemplate": "Market=BOM-DXB<br>Revenue (INR Mn)=%{x}<br>Passengers=%{y}<br>ASK (Mn km)=%{marker.size}<extra></extra>",
         "legendgroup": "BOM-DXB",
         "marker": {
          "color": "#ab63fa",
          "line": {
           "color": "DarkSlateGrey",
           "width": 1
          },
          "size": {
           "bdata": "wvUoXI+KbkA=",
           "dtype": "f8"
          },
          "sizemode": "area",
          "sizeref": 0.11513055555555557,
          "symbol": "circle"
         },
         "mode": "markers",
         "name": "BOM-DXB",
         "orientation": "v",
         "showlegend": true,
         "type": "scatter",
         "x": {
          "bdata": "4XoUrkcnkkA=",
          "dtype": "f8"
         },
         "xaxis": "x",
         "y": {
          "bdata": "TgIDAA==",
          "dtype": "i4"
         },
         "yaxis": "y"
        },
        {
         "hovertemplate": "Market=BOM-HYD<br>Revenue (INR Mn)=%{x}<br>Passengers=%{y}<br>ASK (Mn km)=%{marker.size}<extra></extra>",
         "legendgroup": "BOM-HYD",
         "marker": {
          "color": "#FFA15A",
          "line": {
           "color": "DarkSlateGrey",
           "width": 1
          },
          "size": {
           "bdata": "w/UoXI+yeUA=",
           "dtype": "f8"
          },
          "sizemode": "area",
          "sizeref": 0.11513055555555557,
          "symbol": "circle"
         },
         "mode": "markers",
         "name": "BOM-HYD",
         "orientation": "v",
         "showlegend": true,
         "type": "scatter",
         "x": {
          "bdata": "9ihcj8I8m0A=",
          "dtype": "f8"
         },
         "xaxis": "x",
         "y": {
          "bdata": "NzsFAA==",
          "dtype": "i4"
         },
         "yaxis": "y"
        },
        {
         "hovertemplate": "Market=BOM-JFK<br>Revenue (INR Mn)=%{x}<br>Passengers=%{y}<br>ASK (Mn km)=%{marker.size}<extra></extra>",
         "legendgroup": "BOM-JFK",
         "marker": {
          "color": "#19d3f3",
          "line": {
           "color": "DarkSlateGrey",
           "width": 1
          },
          "size": {
           "bdata": "16NwPQqLcUA=",
           "dtype": "f8"
          },
          "sizemode": "area",
          "sizeref": 0.11513055555555557,
          "symbol": "circle"
         },
         "mode": "markers",
         "name": "BOM-JFK",
         "orientation": "v",
         "showlegend": true,
         "type": "scatter",
         "x": {
          "bdata": "mpmZmZnVkUA=",
          "dtype": "f8"
         },
         "xaxis": "x",
         "y": {
          "bdata": "gxEEAA==",
          "dtype": "i4"
         },
         "yaxis": "y"
        },
        {
         "hovertemplate": "Market=CCU-DEL<br>Revenue (INR Mn)=%{x}<br>Passengers=%{y}<br>ASK (Mn km)=%{marker.size}<extra></extra>",
         "legendgroup": "CCU-DEL",
         "marker": {
          "color": "#FF6692",
          "line": {
           "color": "DarkSlateGrey",
           "width": 1
          },
          "size": {
           "bdata": "ZmZmZmZmXEA=",
           "dtype": "f8"
          },
          "sizemode": "area",
          "sizeref": 0.11513055555555557,
          "symbol": "circle"
         },
         "mode": "markers",
         "name": "CCU-DEL",
         "orientation": "v",
         "showlegend": true,
         "type": "scatter",
         "x": {
          "bdata": "mZmZmZk5d0A=",
          "dtype": "f8"
         },
         "xaxis": "x",
         "y": {
          "bdata": "8WcBAA==",
          "dtype": "i4"
         },
         "yaxis": "y"
        },
        {
         "hovertemplate": "Market=COK-DEL<br>Revenue (INR Mn)=%{x}<br>Passengers=%{y}<br>ASK (Mn km)=%{marker.size}<extra></extra>",
         "legendgroup": "COK-DEL",
         "marker": {
          "color": "#B6E880",
          "line": {
           "color": "DarkSlateGrey",
           "width": 1
          },
          "size": {
           "bdata": "16NwPQqnaEA=",
           "dtype": "f8"
          },
          "sizemode": "area",
          "sizeref": 0.11513055555555557,
          "symbol": "circle"
         },
         "mode": "markers",
         "name": "COK-DEL",
         "orientation": "v",
         "showlegend": true,
         "type": "scatter",
         "x": {
          "bdata": "wvUoXI+kh0A=",
          "dtype": "f8"
         },
         "xaxis": "x",
         "y": {
          "bdata": "S7oCAA==",
          "dtype": "i4"
         },
         "yaxis": "y"
        },
        {
         "hovertemplate": "Market=DEL-DXB<br>Revenue (INR Mn)=%{x}<br>Passengers=%{y}<br>ASK (Mn km)=%{marker.size}<extra></extra>",
         "legendgroup": "DEL-DXB",
         "marker": {
          "color": "#FF97FF",
          "line": {
           "color": "DarkSlateGrey",
           "width": 1
          },
          "size": {
           "bdata": "rkfhehQuYkA=",
           "dtype": "f8"
          },
          "sizemode": "area",
          "sizeref": 0.11513055555555557,
          "symbol": "circle"
         },
         "mode": "markers",
         "name": "DEL-DXB",
         "orientation": "v",
         "showlegend": true,
         "type": "scatter",
         "x": {
          "bdata": "4XoUrkcxgkA=",
          "dtype": "f8"
         },
         "xaxis": "x",
         "y": {
          "bdata": "r/EBAA==",
          "dtype": "i4"
         },
         "yaxis": "y"
        },
        {
         "hovertemplate": "Market=DEL-LHR<br>Revenue (INR Mn)=%{x}<br>Passengers=%{y}<br>ASK (Mn km)=%{marker.size}<extra></extra>",
         "legendgroup": "DEL-LHR",
         "marker": {
          "color": "#FECB52",
          "line": {
           "color": "DarkSlateGrey",
           "width": 1
          },
          "size": {
           "bdata": "rkfhehQuakA=",
           "dtype": "f8"
          },
          "sizemode": "area",
          "sizeref": 0.11513055555555557,
          "symbol": "circle"
         },
         "mode": "markers",
         "name": "DEL-LHR",
         "orientation": "v",
         "showlegend": true,
         "type": "scatter",
         "x": {
          "bdata": "SOF6FK6HjEA=",
          "dtype": "f8"
         },
         "xaxis": "x",
         "y": {
          "bdata": "3n8CAA==",
          "dtype": "i4"
         },
         "yaxis": "y"
        },
        {
         "hovertemplate": "Market=DEL-SIN<br>Revenue (INR Mn)=%{x}<br>Passengers=%{y}<br>ASK (Mn km)=%{marker.size}<extra></extra>",
         "legendgroup": "DEL-SIN",
         "marker": {
          "color": "#636efa",
          "line": {
           "color": "DarkSlateGrey",
           "width": 1
          },
          "size": {
           "bdata": "7FG4HoXneUA=",
           "dtype": "f8"
          },
          "sizemode": "area",
          "sizeref": 0.11513055555555557,
          "symbol": "circle"
         },
         "mode": "markers",
         "name": "DEL-SIN",
         "orientation": "v",
         "showlegend": true,
         "type": "scatter",
         "x": {
          "bdata": "KVyPwvX9lUA=",
          "dtype": "f8"
         },
         "xaxis": "x",
         "y": {
          "bdata": "oh0GAA==",
          "dtype": "i4"
         },
         "yaxis": "y"
        }
       ],
       "layout": {
        "legend": {
         "itemsizing": "constant",
         "title": {
          "text": "Market"
         },
         "tracegroupgap": 0
        },
        "template": {
         "data": {
          "bar": [
           {
            "error_x": {
             "color": "#2a3f5f"
            },
            "error_y": {
             "color": "#2a3f5f"
            },
            "marker": {
             "line": {
              "color": "white",
              "width": 0.5
             },
             "pattern": {
              "fillmode": "overlay",
              "size": 10,
              "solidity": 0.2
             }
            },
            "type": "bar"
           }
          ],
          "barpolar": [
           {
            "marker": {
             "line": {
              "color": "white",
              "width": 0.5
             },
             "pattern": {
              "fillmode": "overlay",
              "size": 10,
              "solidity": 0.2
             }
            },
            "type": "barpolar"
           }
          ],
          "carpet": [
           {
            "aaxis": {
             "endlinecolor": "#2a3f5f",
             "gridcolor": "#C8D4E3",
             "linecolor": "#C8D4E3",
             "minorgridcolor": "#C8D4E3",
             "startlinecolor": "#2a3f5f"
            },
            "baxis": {
             "endlinecolor": "#2a3f5f",
             "gridcolor": "#C8D4E3",
             "linecolor": "#C8D4E3",
             "minorgridcolor": "#C8D4E3",
             "startlinecolor": "#2a3f5f"
            },
            "type": "carpet"
           }
          ],
          "choropleth": [
           {
            "colorbar": {
             "outlinewidth": 0,
             "ticks": ""
            },
            "type": "choropleth"
           }
          ],
          "contour": [
           {
            "colorbar": {
             "outlinewidth": 0,
             "ticks": ""
            },
            "colorscale": [
             [
              0,
              "#0d0887"
             ],
             [
              0.1111111111111111,
              "#46039f"
             ],
             [
              0.2222222222222222,
              "#7201a8"
             ],
             [
              0.3333333333333333,
              "#9c179e"
             ],
             [
              0.4444444444444444,
              "#bd3786"
             ],
             [
              0.5555555555555556,
              "#d8576b"
             ],
             [
              0.6666666666666666,
              "#ed7953"
             ],
             [
              0.7777777777777778,
              "#fb9f3a"
             ],
             [
              0.8888888888888888,
              "#fdca26"
             ],
             [
              1,
              "#f0f921"
             ]
            ],
            "type": "contour"
           }
          ],
          "contourcarpet": [
           {
            "colorbar": {
             "outlinewidth": 0,
             "ticks": ""
            },
            "type": "contourcarpet"
           }
          ],
          "heatmap": [
           {
            "colorbar": {
             "outlinewidth": 0,
             "ticks": ""
            },
            "colorscale": [
             [
              0,
              "#0d0887"
             ],
             [
              0.1111111111111111,
              "#46039f"
             ],
             [
              0.2222222222222222,
              "#7201a8"
             ],
             [
              0.3333333333333333,
              "#9c179e"
             ],
             [
              0.4444444444444444,
              "#bd3786"
             ],
             [
              0.5555555555555556,
              "#d8576b"
             ],
             [
              0.6666666666666666,
              "#ed7953"
             ],
             [
              0.7777777777777778,
              "#fb9f3a"
             ],
             [
              0.8888888888888888,
              "#fdca26"
             ],
             [
              1,
              "#f0f921"
             ]
            ],
            "type": "heatmap"
           }
          ],
          "histogram": [
           {
            "marker": {
             "pattern": {
              "fillmode": "overlay",
              "size": 10,
              "solidity": 0.2
             }
            },
            "type": "histogram"
           }
          ],
          "histogram2d": [
           {
            "colorbar": {
             "outlinewidth": 0,
             "ticks": ""
            },
            "colorscale": [
             [
              0,
              "#0d0887"
             ],
             [
              0.1111111111111111,
              "#46039f"
             ],
             [
              0.2222222222222222,
              "#7201a8"
             ],
             [
              0.3333333333333333,
              "#9c179e"
             ],
             [
              0.4444444444444444,
              "#bd3786"
             ],
             [
              0.5555555555555556,
              "#d8576b"
             ],
             [
              0.6666666666666666,
              "#ed7953"
             ],
             [
              0.7777777777777778,
              "#fb9f3a"
             ],
             [
              0.8888888888888888,
              "#fdca26"
             ],
             [
              1,
              "#f0f921"
             ]
            ],
            "type": "histogram2d"
           }
          ],
          "histogram2dcontour": [
           {
            "colorbar": {
             "outlinewidth": 0,
             "ticks": ""
            },
            "colorscale": [
             [
              0,
              "#0d0887"
             ],
             [
              0.1111111111111111,
              "#46039f"
             ],
             [
              0.2222222222222222,
              "#7201a8"
             ],
             [
              0.3333333333333333,
              "#9c179e"
             ],
             [
              0.4444444444444444,
              "#bd3786"
             ],
             [
              0.5555555555555556,
              "#d8576b"
             ],
             [
              0.6666666666666666,
              "#ed7953"
             ],
             [
              0.7777777777777778,
              "#fb9f3a"
             ],
             [
              0.8888888888888888,
              "#fdca26"
             ],
             [
              1,
              "#f0f921"
             ]
            ],
            "type": "histogram2dcontour"
           }
          ],
          "mesh3d": [
           {
            "colorbar": {
             "outlinewidth": 0,
             "ticks": ""
            },
            "type": "mesh3d"
           }
          ],
          "parcoords": [
           {
            "line": {
             "colorbar": {
              "outlinewidth": 0,
              "ticks": ""
             }
            },
            "type": "parcoords"
           }
          ],
          "pie": [
           {
            "automargin": true,
            "type": "pie"
           }
          ],
          "scatter": [
           {
            "fillpattern": {
             "fillmode": "overlay",
             "size": 10,
             "solidity": 0.2
            },
            "type": "scatter"
           }
          ],
          "scatter3d": [
           {
            "line": {
             "colorbar": {
              "outlinewidth": 0,
              "ticks": ""
             }
            },
            "marker": {
             "colorbar": {
              "outlinewidth": 0,
              "ticks": ""
             }
            },
            "type": "scatter3d"
           }
          ],
          "scattercarpet": [
           {
            "marker": {
             "colorbar": {
              "outlinewidth": 0,
              "ticks": ""
             }
            },
            "type": "scattercarpet"
           }
          ],
          "scattergeo": [
           {
            "marker": {
             "colorbar": {
              "outlinewidth": 0,
              "ticks": ""
             }
            },
            "type": "scattergeo"
           }
          ],
          "scattergl": [
           {
            "marker": {
             "colorbar": {
              "outlinewidth": 0,
              "ticks": ""
             }
            },
            "type": "scattergl"
           }
          ],
          "scattermap": [
           {
            "marker": {
             "colorbar": {
              "outlinewidth": 0,
              "ticks": ""
             }
            },
            "type": "scattermap"
           }
          ],
          "scattermapbox": [
           {
            "marker": {
             "colorbar": {
              "outlinewidth": 0,
              "ticks": ""
             }
            },
            "type": "scattermapbox"
           }
          ],
          "scatterpolar": [
           {
            "marker": {
             "colorbar": {
              "outlinewidth": 0,
              "ticks": ""
             }
            },
            "type": "scatterpolar"
           }
          ],
          "scatterpolargl": [
           {
            "marker": {
             "colorbar": {
              "outlinewidth": 0,
              "ticks": ""
             }
            },
            "type": "scatterpolargl"
           }
          ],
          "scatterternary": [
           {
            "marker": {
             "colorbar": {
              "outlinewidth": 0,
              "ticks": ""
             }
            },
            "type": "scatterternary"
           }
          ],
          "surface": [
           {
            "colorbar": {
             "outlinewidth": 0,
             "ticks": ""
            },
            "colorscale": [
             [
              0,
              "#0d0887"
             ],
             [
              0.1111111111111111,
              "#46039f"
             ],
             [
              0.2222222222222222,
              "#7201a8"
             ],
             [
              0.3333333333333333,
              "#9c179e"
             ],
             [
              0.4444444444444444,
              "#bd3786"
             ],
             [
              0.5555555555555556,
              "#d8576b"
             ],
             [
              0.6666666666666666,
              "#ed7953"
             ],
             [
              0.7777777777777778,
              "#fb9f3a"
             ],
             [
              0.8888888888888888,
              "#fdca26"
             ],
             [
              1,
              "#f0f921"
             ]
            ],
            "type": "surface"
           }
          ],
          "table": [
           {
            "cells": {
             "fill": {
              "color": "#EBF0F8"
             },
             "line": {
              "color": "white"
             }
            },
            "header": {
             "fill": {
              "color": "#C8D4E3"
             },
             "line": {
              "color": "white"
             }
            },
            "type": "table"
           }
          ]
         },
         "layout": {
          "annotationdefaults": {
           "arrowcolor": "#2a3f5f",
           "arrowhead": 0,
           "arrowwidth": 1
          },
          "autotypenumbers": "strict",
          "coloraxis": {
           "colorbar": {
            "outlinewidth": 0,
            "ticks": ""
           }
          },
          "colorscale": {
           "diverging": [
            [
             0,
             "#8e0152"
            ],
            [
             0.1,
             "#c51b7d"
            ],
            [
             0.2,
             "#de77ae"
            ],
            [
             0.3,
             "#f1b6da"
            ],
            [
             0.4,
             "#fde0ef"
            ],
            [
             0.5,
             "#f7f7f7"
            ],
            [
             0.6,
             "#e6f5d0"
            ],
            [
             0.7,
             "#b8e186"
            ],
            [
             0.8,
             "#7fbc41"
            ],
            [
             0.9,
             "#4d9221"
            ],
            [
             1,
             "#276419"
            ]
           ],
           "sequential": [
            [
             0,
             "#0d0887"
            ],
            [
             0.1111111111111111,
             "#46039f"
            ],
            [
             0.2222222222222222,
             "#7201a8"
            ],
            [
             0.3333333333333333,
             "#9c179e"
            ],
            [
             0.4444444444444444,
             "#bd3786"
            ],
            [
             0.5555555555555556,
             "#d8576b"
            ],
            [
             0.6666666666666666,
             "#ed7953"
            ],
            [
             0.7777777777777778,
             "#fb9f3a"
            ],
            [
             0.8888888888888888,
             "#fdca26"
            ],
            [
             1,
             "#f0f921"
            ]
           ],
           "sequentialminus": [
            [
             0,
             "#0d0887"
            ],
            [
             0.1111111111111111,
             "#46039f"
            ],
            [
             0.2222222222222222,
             "#7201a8"
            ],
            [
             0.3333333333333333,
             "#9c179e"
            ],
            [
             0.4444444444444444,
             "#bd3786"
            ],
            [
             0.5555555555555556,
             "#d8576b"
            ],
            [
             0.6666666666666666,
             "#ed7953"
            ],
            [
             0.7777777777777778,
             "#fb9f3a"
            ],
            [
             0.8888888888888888,
             "#fdca26"
            ],
            [
             1,
             "#f0f921"
            ]
           ]
          },
          "colorway": [
           "#636efa",
           "#EF553B",
           "#00cc96",
           "#ab63fa",
           "#FFA15A",
           "#19d3f3",
           "#FF6692",
           "#B6E880",
           "#FF97FF",
           "#FECB52"
          ],
          "font": {
           "color": "#2a3f5f"
          },
          "geo": {
           "bgcolor": "white",
           "lakecolor": "white",
           "landcolor": "white",
           "showlakes": true,
           "showland": true,
           "subunitcolor": "#C8D4E3"
          },
          "hoverlabel": {
           "align": "left"
          },
          "hovermode": "closest",
          "mapbox": {
           "style": "light"
          },
          "paper_bgcolor": "white",
          "plot_bgcolor": "white",
          "polar": {
           "angularaxis": {
            "gridcolor": "#EBF0F8",
            "linecolor": "#EBF0F8",
            "ticks": ""
           },
           "bgcolor": "white",
           "radialaxis": {
            "gridcolor": "#EBF0F8",
            "linecolor": "#EBF0F8",
            "ticks": ""
           }
          },
          "scene": {
           "xaxis": {
            "backgroundcolor": "white",
            "gridcolor": "#DFE8F3",
            "gridwidth": 2,
            "linecolor": "#EBF0F8",
            "showbackground": true,
            "ticks": "",
            "zerolinecolor": "#EBF0F8"
           },
           "yaxis": {
            "backgroundcolor": "white",
            "gridcolor": "#DFE8F3",
            "gridwidth": 2,
            "linecolor": "#EBF0F8",
            "showbackground": true,
            "ticks": "",
            "zerolinecolor": "#EBF0F8"
           },
           "zaxis": {
            "backgroundcolor": "white",
            "gridcolor": "#DFE8F3",
            "gridwidth": 2,
            "linecolor": "#EBF0F8",
            "showbackground": true,
            "ticks": "",
            "zerolinecolor": "#EBF0F8"
           }
          },
          "shapedefaults": {
           "line": {
            "color": "#2a3f5f"
           }
          },
          "ternary": {
           "aaxis": {
            "gridcolor": "#DFE8F3",
            "linecolor": "#A2B1C6",
            "ticks": ""
           },
           "baxis": {
            "gridcolor": "#DFE8F3",
            "linecolor": "#A2B1C6",
            "ticks": ""
           },
           "bgcolor": "white",
           "caxis": {
            "gridcolor": "#DFE8F3",
            "linecolor": "#A2B1C6",
            "ticks": ""
           }
          },
          "title": {
           "x": 0.05
          },
          "xaxis": {
           "automargin": true,
           "gridcolor": "#EBF0F8",
           "linecolor": "#EBF0F8",
           "ticks": "",
           "title": {
            "standoff": 15
           },
           "zerolinecolor": "#EBF0F8",
           "zerolinewidth": 2
          },
          "yaxis": {
           "automargin": true,
           "gridcolor": "#EBF0F8",
           "linecolor": "#EBF0F8",
           "ticks": "",
           "title": {
            "standoff": 15
           },
           "zerolinecolor": "#EBF0F8",
           "zerolinewidth": 2
          }
         }
        },
        "title": {
         "text": "Market wise distribution for 2024"
        },
        "xaxis": {
         "anchor": "y",
         "domain": [
          0,
          1
         ],
         "title": {
          "text": "Revenue (INR Mn)"
         }
        },
        "yaxis": {
         "anchor": "x",
         "domain": [
          0,
          1
         ],
         "title": {
          "text": "Passengers"
         }
        }
       }
      }
     },
     "metadata": {},
     "output_type": "display_data"
    }
   ],
   "source": [
    "def top_5_markets(year):\n",
    "    ask_data=Ask_data(year)\n",
    "    df=dataframe\n",
    "    market_data=df.groupby([\"Market\",\"Month_Name\",\"Year\"])[\"Passengers\"].sum().reset_index()\n",
    "    merged_data=ask_data.merge(market_data[[\"Passengers\",\"Year\",\"Month_Name\",\"Market\"]],on=[\"Year\",\"Month_Name\",\"Market\"], how=\"left\")\n",
    "    market_data=merged_data.groupby(\"Market\")[[\"Revenue (INR Mn)\",\"ASK (Mn km)\",\"Passengers\"]].sum().reset_index()\n",
    "\n",
    "    fig=px.scatter(market_data,x=market_data[\"Revenue (INR Mn)\"], y=market_data[\"Passengers\"],\n",
    "                color=\"Market\", \n",
    "                title=\"Market wise distribution for 2024\",\n",
    "                    size=\"ASK (Mn km)\",\n",
    "                    size_max=60,\n",
    "                    hover_data=[\"Passengers\"]\n",
    "                )\n",
    "    fig.update_traces(marker=dict(line=dict(width=1, color='DarkSlateGrey')))\n",
    "    fig.update_layout(\n",
    "        xaxis_title=\"Revenue (INR Mn)\",\n",
    "        yaxis_title=\"Passengers\",\n",
    "        legend_title=\"Market\",\n",
    "        template=\"plotly_white\"\n",
    "    )\n",
    "    return fig.show()\n",
    "\n",
    "top_5_markets(2024)"
   ]
  },
  {
   "cell_type": "code",
   "execution_count": 33,
   "id": "3aecc2b4",
   "metadata": {},
   "outputs": [
    {
     "data": {
      "text/html": [
       "<div>\n",
       "<style scoped>\n",
       "    .dataframe tbody tr th:only-of-type {\n",
       "        vertical-align: middle;\n",
       "    }\n",
       "\n",
       "    .dataframe tbody tr th {\n",
       "        vertical-align: top;\n",
       "    }\n",
       "\n",
       "    .dataframe thead th {\n",
       "        text-align: right;\n",
       "    }\n",
       "</style>\n",
       "<table border=\"1\" class=\"dataframe\">\n",
       "  <thead>\n",
       "    <tr style=\"text-align: right;\">\n",
       "      <th></th>\n",
       "      <th>Year</th>\n",
       "      <th>Route</th>\n",
       "      <th>Passengers</th>\n",
       "    </tr>\n",
       "  </thead>\n",
       "  <tbody>\n",
       "    <tr>\n",
       "      <th>0</th>\n",
       "      <td>2024</td>\n",
       "      <td>BOM-JFK</td>\n",
       "      <td>266627</td>\n",
       "    </tr>\n",
       "    <tr>\n",
       "      <th>1</th>\n",
       "      <td>2024</td>\n",
       "      <td>DEL-BLR</td>\n",
       "      <td>264232</td>\n",
       "    </tr>\n",
       "    <tr>\n",
       "      <th>2</th>\n",
       "      <td>2024</td>\n",
       "      <td>SIN-DEL</td>\n",
       "      <td>257408</td>\n",
       "    </tr>\n",
       "    <tr>\n",
       "      <th>3</th>\n",
       "      <td>2024</td>\n",
       "      <td>BLR-MAA</td>\n",
       "      <td>249737</td>\n",
       "    </tr>\n",
       "    <tr>\n",
       "      <th>4</th>\n",
       "      <td>2024</td>\n",
       "      <td>HYD-BOM</td>\n",
       "      <td>223330</td>\n",
       "    </tr>\n",
       "  </tbody>\n",
       "</table>\n",
       "</div>"
      ],
      "text/plain": [
       "   Year    Route  Passengers\n",
       "0  2024  BOM-JFK      266627\n",
       "1  2024  DEL-BLR      264232\n",
       "2  2024  SIN-DEL      257408\n",
       "3  2024  BLR-MAA      249737\n",
       "4  2024  HYD-BOM      223330"
      ]
     },
     "execution_count": 33,
     "metadata": {},
     "output_type": "execute_result"
    }
   ],
   "source": [
    "\n",
    "def top_5_markets(year):\n",
    "    df=dataframe\n",
    "    group=df.groupby(['Year','Route'])[\"Passengers\"].sum().reset_index().sort_values(by=[\"Passengers\"], ascending=False)\n",
    "    top_routes=group.groupby([\"Year\"]).head(5).reset_index(drop=True).sort_values(by=[\"Year\",\"Passengers\"], ascending=[True,False]).reset_index(drop=True)\n",
    "    return top_routes[top_routes[\"Year\"]==int(year)].reset_index(drop=True)\n",
    "top_5_markets(2024)"
   ]
  },
  {
   "cell_type": "code",
   "execution_count": 34,
   "id": "7f789e7b",
   "metadata": {},
   "outputs": [
    {
     "name": "stderr",
     "output_type": "stream",
     "text": [
      "C:\\Users\\mshub\\AppData\\Local\\Temp\\ipykernel_26916\\982880447.py:3: FutureWarning:\n",
      "\n",
      "The default of observed=False is deprecated and will be changed to True in a future version of pandas. Pass observed=False to retain current behavior or observed=True to adopt the future default and silence this warning.\n",
      "\n",
      "C:\\Users\\mshub\\AppData\\Local\\Temp\\ipykernel_26916\\25292607.py:3: FutureWarning:\n",
      "\n",
      "The default of observed=False is deprecated and will be changed to True in a future version of pandas. Pass observed=False to retain current behavior or observed=True to adopt the future default and silence this warning.\n",
      "\n"
     ]
    },
    {
     "data": {
      "application/vnd.plotly.v1+json": {
       "config": {
        "plotlyServerURL": "https://plot.ly"
       },
       "data": [
        {
         "hovertemplate": "Market=BOM-HYD<br>Month_Name=%{x}<br>Revenue (INR Mn)=%{y}<br>ASK (Mn km)=%{marker.size}<extra></extra>",
         "legendgroup": "BOM-HYD",
         "marker": {
          "color": "#636efa",
          "line": {
           "color": "DarkSlateGrey",
           "width": 1
          },
          "size": {
           "bdata": "9ihcj8I1QED2KFyPwvU/QNejcD0Kd0BAAAAAAABAREAAAAAAAAA/QEjhehSu50FAMzMzMzOzQUAzMzMzM7NCQKRwPQrXoz9ArkfhehQuPkAAAAAAAIBDQPYoXI/CdUBA",
           "dtype": "f8"
          },
          "sizemode": "area",
          "sizeref": 0.04558888888888889,
          "symbol": "circle"
         },
         "mode": "markers",
         "name": "BOM-HYD",
         "orientation": "v",
         "showlegend": true,
         "type": "scatter",
         "x": [
          "January",
          "February",
          "March",
          "April",
          "May",
          "June",
          "July",
          "August",
          "September",
          "October",
          "November",
          "December"
         ],
         "xaxis": "x",
         "y": {
          "bdata": "uB6F61EoYUD2KFyPwu1gQHE9CtejcGFAH4XrUbh2ZUBI4XoUrmdgQK5H4XoU/mJA16NwPQrHYkC4HoXrUdhjQIXrUbgexWBA16NwPQr3X0AAAAAAALBkQHsUrkfhcmFA",
          "dtype": "f8"
         },
         "yaxis": "y"
        },
        {
         "hovertemplate": "Market=BLR-MAA<br>Month_Name=%{x}<br>Revenue (INR Mn)=%{y}<br>ASK (Mn km)=%{marker.size}<extra></extra>",
         "legendgroup": "BLR-MAA",
         "marker": {
          "color": "#EF553B",
          "line": {
           "color": "DarkSlateGrey",
           "width": 1
          },
          "size": {
           "bdata": "7FG4HoVrO0DNzMzMzEw4QHE9Ctej8DVAAAAAAABANUAAAAAAAIAyQOxRuB6FKzxAPQrXo3D9OUCPwvUoXA87QKRwPQrX4zJA9ihcj8J1OEBcj8L1KBw5QA==",
           "dtype": "f8"
          },
          "sizemode": "area",
          "sizeref": 0.04558888888888889,
          "symbol": "circle"
         },
         "mode": "markers",
         "name": "BLR-MAA",
         "orientation": "v",
         "showlegend": true,
         "type": "scatter",
         "x": [
          "January",
          "February",
          "March",
          "April",
          "June",
          "July",
          "August",
          "September",
          "October",
          "November",
          "December"
         ],
         "xaxis": "x",
         "y": {
          "bdata": "9ihcj8LVYEBmZmZmZtZdQHE9Ctej8FpAuB6F61EYWkBmZmZmZrZWQKRwPQrXS2FACtejcD3qX0A9CtejcJ1gQDMzMzMzM1dACtejcD0KXkBmZmZmZtZeQA==",
          "dtype": "f8"
         },
         "yaxis": "y"
        },
        {
         "hovertemplate": "Market=BLR-DEL<br>Month_Name=%{x}<br>Revenue (INR Mn)=%{y}<br>ASK (Mn km)=%{marker.size}<extra></extra>",
         "legendgroup": "BLR-DEL",
         "marker": {
          "color": "#00cc96",
          "line": {
           "color": "DarkSlateGrey",
           "width": 1
          },
          "size": {
           "bdata": "SOF6FK7HP0D2KFyPwtVAQD4K16NwXUJAKFyPwvXoOkD2KFyPwnU6QOJ6FK5HAUJAHoXrUbjeP0DWo3A9Cpc+QK5H4XoUjkFAkML1KFyPQUCamZmZmZlAQPYoXI/CFUFA",
           "dtype": "f8"
          },
          "sizemode": "area",
          "sizeref": 0.04558888888888889,
          "symbol": "circle"
         },
         "mode": "markers",
         "name": "BLR-DEL",
         "orientation": "v",
         "showlegend": true,
         "type": "scatter",
         "x": [
          "January",
          "February",
          "March",
          "April",
          "May",
          "June",
          "July",
          "August",
          "September",
          "October",
          "November",
          "December"
         ],
         "xaxis": "x",
         "y": {
          "bdata": "zMzMzMwcXkBSuB6F6wlgQGZmZmZmhmFAzczMzMxMWUBmZmZmZuZYQClcj8L1+GBAexSuR+HqXUAUrkfhejRdQML1KFyPkmBAKVyPwvWoYECQwvUoXJ9fQGZmZmZmRmBA",
          "dtype": "f8"
         },
         "yaxis": "y"
        },
        {
         "hovertemplate": "Market=BOM-JFK<br>Month_Name=%{x}<br>Revenue (INR Mn)=%{y}<br>ASK (Mn km)=%{marker.size}<extra></extra>",
         "legendgroup": "BOM-JFK",
         "marker": {
          "color": "#ab63fa",
          "line": {
           "color": "DarkSlateGrey",
           "width": 1
          },
          "size": {
           "bdata": "zczMzMyMPEBI4XoUrgc7QLgehetRODtAuB6F61F4OUA9CtejcP04QIXrUbgehTVA7FG4HoWrPEA=",
           "dtype": "f8"
          },
          "sizemode": "area",
          "sizeref": 0.04558888888888889,
          "symbol": "circle"
         },
         "mode": "markers",
         "name": "BOM-JFK",
         "orientation": "v",
         "showlegend": true,
         "type": "scatter",
         "x": [
          "January",
          "March",
          "April",
          "May",
          "June",
          "July",
          "September"
         ],
         "xaxis": "x",
         "y": {
          "bdata": "16NwPQoHXUAK16NwPXpbQM3MzMzMrFtAFK5H4XrkWUDXo3A9CmdZQAAAAAAA4FVA9ihcj8IlXUA=",
          "dtype": "f8"
         },
         "yaxis": "y"
        },
        {
         "hovertemplate": "Market=DEL-SIN<br>Month_Name=%{x}<br>Revenue (INR Mn)=%{y}<br>ASK (Mn km)=%{marker.size}<extra></extra>",
         "legendgroup": "DEL-SIN",
         "marker": {
          "color": "#FFA15A",
          "line": {
           "color": "DarkSlateGrey",
           "width": 1
          },
          "size": {
           "bdata": "kML1KFxPQEBcj8L1KDxDQOtRuB6FK0NAZmZmZmYGQEDhehSuR2E9QKRwPQrXg0RAKVyPwvWIQkCQwvUoXE9CQLgehetR+D5ACtejcD1KQUC4HoXrURhCQA==",
           "dtype": "f8"
          },
          "sizemode": "area",
          "sizeref": 0.04558888888888889,
          "symbol": "circle"
         },
         "mode": "markers",
         "name": "DEL-SIN",
         "orientation": "v",
         "showlegend": true,
         "type": "scatter",
         "x": [
          "January",
          "February",
          "March",
          "April",
          "May",
          "June",
          "July",
          "August",
          "October",
          "November",
          "December"
         ],
         "xaxis": "x",
         "y": {
          "bdata": "7FG4HoWrW0AVrkfhelRgQClcj8L1SGBAexSuR+EqW0CamZmZmelYQKRwPQrXa2FAZmZmZmZ2X0AqXI/C9RhfQOxRuB6FS1pAcT0K16NgXUCkcD0K18NeQA==",
          "dtype": "f8"
         },
         "yaxis": "y"
        },
        {
         "hovertemplate": "Market=BOM-DXB<br>Month_Name=%{x}<br>Revenue (INR Mn)=%{y}<br>ASK (Mn km)=%{marker.size}<extra></extra>",
         "legendgroup": "BOM-DXB",
         "marker": {
          "color": "#19d3f3",
          "line": {
           "color": "DarkSlateGrey",
           "width": 1
          },
          "size": {
           "bdata": "AAAAAABANUCamZmZmZk0QIXrUbgexTNAPQrXo3B9NkC4HoXrUTg2QPYoXI/CdTRAFK5H4XpUN0A=",
           "dtype": "f8"
          },
          "sizemode": "area",
          "sizeref": 0.04558888888888889,
          "symbol": "circle"
         },
         "mode": "markers",
         "name": "BOM-DXB",
         "orientation": "v",
         "showlegend": true,
         "type": "scatter",
         "x": [
          "February",
          "May",
          "August",
          "September",
          "October",
          "November",
          "December"
         ],
         "xaxis": "x",
         "y": {
          "bdata": "UrgehetBWUCuR+F6FH5YQFK4HoXrgVdAXI/C9Si8WkB7FK5H4WpaQDMzMzMzU1hAXI/C9Si8W0A=",
          "dtype": "f8"
         },
         "yaxis": "y"
        }
       ],
       "layout": {
        "legend": {
         "itemsizing": "constant",
         "title": {
          "text": "Market"
         },
         "tracegroupgap": 0
        },
        "template": {
         "data": {
          "bar": [
           {
            "error_x": {
             "color": "#2a3f5f"
            },
            "error_y": {
             "color": "#2a3f5f"
            },
            "marker": {
             "line": {
              "color": "white",
              "width": 0.5
             },
             "pattern": {
              "fillmode": "overlay",
              "size": 10,
              "solidity": 0.2
             }
            },
            "type": "bar"
           }
          ],
          "barpolar": [
           {
            "marker": {
             "line": {
              "color": "white",
              "width": 0.5
             },
             "pattern": {
              "fillmode": "overlay",
              "size": 10,
              "solidity": 0.2
             }
            },
            "type": "barpolar"
           }
          ],
          "carpet": [
           {
            "aaxis": {
             "endlinecolor": "#2a3f5f",
             "gridcolor": "#C8D4E3",
             "linecolor": "#C8D4E3",
             "minorgridcolor": "#C8D4E3",
             "startlinecolor": "#2a3f5f"
            },
            "baxis": {
             "endlinecolor": "#2a3f5f",
             "gridcolor": "#C8D4E3",
             "linecolor": "#C8D4E3",
             "minorgridcolor": "#C8D4E3",
             "startlinecolor": "#2a3f5f"
            },
            "type": "carpet"
           }
          ],
          "choropleth": [
           {
            "colorbar": {
             "outlinewidth": 0,
             "ticks": ""
            },
            "type": "choropleth"
           }
          ],
          "contour": [
           {
            "colorbar": {
             "outlinewidth": 0,
             "ticks": ""
            },
            "colorscale": [
             [
              0,
              "#0d0887"
             ],
             [
              0.1111111111111111,
              "#46039f"
             ],
             [
              0.2222222222222222,
              "#7201a8"
             ],
             [
              0.3333333333333333,
              "#9c179e"
             ],
             [
              0.4444444444444444,
              "#bd3786"
             ],
             [
              0.5555555555555556,
              "#d8576b"
             ],
             [
              0.6666666666666666,
              "#ed7953"
             ],
             [
              0.7777777777777778,
              "#fb9f3a"
             ],
             [
              0.8888888888888888,
              "#fdca26"
             ],
             [
              1,
              "#f0f921"
             ]
            ],
            "type": "contour"
           }
          ],
          "contourcarpet": [
           {
            "colorbar": {
             "outlinewidth": 0,
             "ticks": ""
            },
            "type": "contourcarpet"
           }
          ],
          "heatmap": [
           {
            "colorbar": {
             "outlinewidth": 0,
             "ticks": ""
            },
            "colorscale": [
             [
              0,
              "#0d0887"
             ],
             [
              0.1111111111111111,
              "#46039f"
             ],
             [
              0.2222222222222222,
              "#7201a8"
             ],
             [
              0.3333333333333333,
              "#9c179e"
             ],
             [
              0.4444444444444444,
              "#bd3786"
             ],
             [
              0.5555555555555556,
              "#d8576b"
             ],
             [
              0.6666666666666666,
              "#ed7953"
             ],
             [
              0.7777777777777778,
              "#fb9f3a"
             ],
             [
              0.8888888888888888,
              "#fdca26"
             ],
             [
              1,
              "#f0f921"
             ]
            ],
            "type": "heatmap"
           }
          ],
          "histogram": [
           {
            "marker": {
             "pattern": {
              "fillmode": "overlay",
              "size": 10,
              "solidity": 0.2
             }
            },
            "type": "histogram"
           }
          ],
          "histogram2d": [
           {
            "colorbar": {
             "outlinewidth": 0,
             "ticks": ""
            },
            "colorscale": [
             [
              0,
              "#0d0887"
             ],
             [
              0.1111111111111111,
              "#46039f"
             ],
             [
              0.2222222222222222,
              "#7201a8"
             ],
             [
              0.3333333333333333,
              "#9c179e"
             ],
             [
              0.4444444444444444,
              "#bd3786"
             ],
             [
              0.5555555555555556,
              "#d8576b"
             ],
             [
              0.6666666666666666,
              "#ed7953"
             ],
             [
              0.7777777777777778,
              "#fb9f3a"
             ],
             [
              0.8888888888888888,
              "#fdca26"
             ],
             [
              1,
              "#f0f921"
             ]
            ],
            "type": "histogram2d"
           }
          ],
          "histogram2dcontour": [
           {
            "colorbar": {
             "outlinewidth": 0,
             "ticks": ""
            },
            "colorscale": [
             [
              0,
              "#0d0887"
             ],
             [
              0.1111111111111111,
              "#46039f"
             ],
             [
              0.2222222222222222,
              "#7201a8"
             ],
             [
              0.3333333333333333,
              "#9c179e"
             ],
             [
              0.4444444444444444,
              "#bd3786"
             ],
             [
              0.5555555555555556,
              "#d8576b"
             ],
             [
              0.6666666666666666,
              "#ed7953"
             ],
             [
              0.7777777777777778,
              "#fb9f3a"
             ],
             [
              0.8888888888888888,
              "#fdca26"
             ],
             [
              1,
              "#f0f921"
             ]
            ],
            "type": "histogram2dcontour"
           }
          ],
          "mesh3d": [
           {
            "colorbar": {
             "outlinewidth": 0,
             "ticks": ""
            },
            "type": "mesh3d"
           }
          ],
          "parcoords": [
           {
            "line": {
             "colorbar": {
              "outlinewidth": 0,
              "ticks": ""
             }
            },
            "type": "parcoords"
           }
          ],
          "pie": [
           {
            "automargin": true,
            "type": "pie"
           }
          ],
          "scatter": [
           {
            "fillpattern": {
             "fillmode": "overlay",
             "size": 10,
             "solidity": 0.2
            },
            "type": "scatter"
           }
          ],
          "scatter3d": [
           {
            "line": {
             "colorbar": {
              "outlinewidth": 0,
              "ticks": ""
             }
            },
            "marker": {
             "colorbar": {
              "outlinewidth": 0,
              "ticks": ""
             }
            },
            "type": "scatter3d"
           }
          ],
          "scattercarpet": [
           {
            "marker": {
             "colorbar": {
              "outlinewidth": 0,
              "ticks": ""
             }
            },
            "type": "scattercarpet"
           }
          ],
          "scattergeo": [
           {
            "marker": {
             "colorbar": {
              "outlinewidth": 0,
              "ticks": ""
             }
            },
            "type": "scattergeo"
           }
          ],
          "scattergl": [
           {
            "marker": {
             "colorbar": {
              "outlinewidth": 0,
              "ticks": ""
             }
            },
            "type": "scattergl"
           }
          ],
          "scattermap": [
           {
            "marker": {
             "colorbar": {
              "outlinewidth": 0,
              "ticks": ""
             }
            },
            "type": "scattermap"
           }
          ],
          "scattermapbox": [
           {
            "marker": {
             "colorbar": {
              "outlinewidth": 0,
              "ticks": ""
             }
            },
            "type": "scattermapbox"
           }
          ],
          "scatterpolar": [
           {
            "marker": {
             "colorbar": {
              "outlinewidth": 0,
              "ticks": ""
             }
            },
            "type": "scatterpolar"
           }
          ],
          "scatterpolargl": [
           {
            "marker": {
             "colorbar": {
              "outlinewidth": 0,
              "ticks": ""
             }
            },
            "type": "scatterpolargl"
           }
          ],
          "scatterternary": [
           {
            "marker": {
             "colorbar": {
              "outlinewidth": 0,
              "ticks": ""
             }
            },
            "type": "scatterternary"
           }
          ],
          "surface": [
           {
            "colorbar": {
             "outlinewidth": 0,
             "ticks": ""
            },
            "colorscale": [
             [
              0,
              "#0d0887"
             ],
             [
              0.1111111111111111,
              "#46039f"
             ],
             [
              0.2222222222222222,
              "#7201a8"
             ],
             [
              0.3333333333333333,
              "#9c179e"
             ],
             [
              0.4444444444444444,
              "#bd3786"
             ],
             [
              0.5555555555555556,
              "#d8576b"
             ],
             [
              0.6666666666666666,
              "#ed7953"
             ],
             [
              0.7777777777777778,
              "#fb9f3a"
             ],
             [
              0.8888888888888888,
              "#fdca26"
             ],
             [
              1,
              "#f0f921"
             ]
            ],
            "type": "surface"
           }
          ],
          "table": [
           {
            "cells": {
             "fill": {
              "color": "#EBF0F8"
             },
             "line": {
              "color": "white"
             }
            },
            "header": {
             "fill": {
              "color": "#C8D4E3"
             },
             "line": {
              "color": "white"
             }
            },
            "type": "table"
           }
          ]
         },
         "layout": {
          "annotationdefaults": {
           "arrowcolor": "#2a3f5f",
           "arrowhead": 0,
           "arrowwidth": 1
          },
          "autotypenumbers": "strict",
          "coloraxis": {
           "colorbar": {
            "outlinewidth": 0,
            "ticks": ""
           }
          },
          "colorscale": {
           "diverging": [
            [
             0,
             "#8e0152"
            ],
            [
             0.1,
             "#c51b7d"
            ],
            [
             0.2,
             "#de77ae"
            ],
            [
             0.3,
             "#f1b6da"
            ],
            [
             0.4,
             "#fde0ef"
            ],
            [
             0.5,
             "#f7f7f7"
            ],
            [
             0.6,
             "#e6f5d0"
            ],
            [
             0.7,
             "#b8e186"
            ],
            [
             0.8,
             "#7fbc41"
            ],
            [
             0.9,
             "#4d9221"
            ],
            [
             1,
             "#276419"
            ]
           ],
           "sequential": [
            [
             0,
             "#0d0887"
            ],
            [
             0.1111111111111111,
             "#46039f"
            ],
            [
             0.2222222222222222,
             "#7201a8"
            ],
            [
             0.3333333333333333,
             "#9c179e"
            ],
            [
             0.4444444444444444,
             "#bd3786"
            ],
            [
             0.5555555555555556,
             "#d8576b"
            ],
            [
             0.6666666666666666,
             "#ed7953"
            ],
            [
             0.7777777777777778,
             "#fb9f3a"
            ],
            [
             0.8888888888888888,
             "#fdca26"
            ],
            [
             1,
             "#f0f921"
            ]
           ],
           "sequentialminus": [
            [
             0,
             "#0d0887"
            ],
            [
             0.1111111111111111,
             "#46039f"
            ],
            [
             0.2222222222222222,
             "#7201a8"
            ],
            [
             0.3333333333333333,
             "#9c179e"
            ],
            [
             0.4444444444444444,
             "#bd3786"
            ],
            [
             0.5555555555555556,
             "#d8576b"
            ],
            [
             0.6666666666666666,
             "#ed7953"
            ],
            [
             0.7777777777777778,
             "#fb9f3a"
            ],
            [
             0.8888888888888888,
             "#fdca26"
            ],
            [
             1,
             "#f0f921"
            ]
           ]
          },
          "colorway": [
           "#636efa",
           "#EF553B",
           "#00cc96",
           "#ab63fa",
           "#FFA15A",
           "#19d3f3",
           "#FF6692",
           "#B6E880",
           "#FF97FF",
           "#FECB52"
          ],
          "font": {
           "color": "#2a3f5f"
          },
          "geo": {
           "bgcolor": "white",
           "lakecolor": "white",
           "landcolor": "white",
           "showlakes": true,
           "showland": true,
           "subunitcolor": "#C8D4E3"
          },
          "hoverlabel": {
           "align": "left"
          },
          "hovermode": "closest",
          "mapbox": {
           "style": "light"
          },
          "paper_bgcolor": "white",
          "plot_bgcolor": "white",
          "polar": {
           "angularaxis": {
            "gridcolor": "#EBF0F8",
            "linecolor": "#EBF0F8",
            "ticks": ""
           },
           "bgcolor": "white",
           "radialaxis": {
            "gridcolor": "#EBF0F8",
            "linecolor": "#EBF0F8",
            "ticks": ""
           }
          },
          "scene": {
           "xaxis": {
            "backgroundcolor": "white",
            "gridcolor": "#DFE8F3",
            "gridwidth": 2,
            "linecolor": "#EBF0F8",
            "showbackground": true,
            "ticks": "",
            "zerolinecolor": "#EBF0F8"
           },
           "yaxis": {
            "backgroundcolor": "white",
            "gridcolor": "#DFE8F3",
            "gridwidth": 2,
            "linecolor": "#EBF0F8",
            "showbackground": true,
            "ticks": "",
            "zerolinecolor": "#EBF0F8"
           },
           "zaxis": {
            "backgroundcolor": "white",
            "gridcolor": "#DFE8F3",
            "gridwidth": 2,
            "linecolor": "#EBF0F8",
            "showbackground": true,
            "ticks": "",
            "zerolinecolor": "#EBF0F8"
           }
          },
          "shapedefaults": {
           "line": {
            "color": "#2a3f5f"
           }
          },
          "ternary": {
           "aaxis": {
            "gridcolor": "#DFE8F3",
            "linecolor": "#A2B1C6",
            "ticks": ""
           },
           "baxis": {
            "gridcolor": "#DFE8F3",
            "linecolor": "#A2B1C6",
            "ticks": ""
           },
           "bgcolor": "white",
           "caxis": {
            "gridcolor": "#DFE8F3",
            "linecolor": "#A2B1C6",
            "ticks": ""
           }
          },
          "title": {
           "x": 0.05
          },
          "xaxis": {
           "automargin": true,
           "gridcolor": "#EBF0F8",
           "linecolor": "#EBF0F8",
           "ticks": "",
           "title": {
            "standoff": 15
           },
           "zerolinecolor": "#EBF0F8",
           "zerolinewidth": 2
          },
          "yaxis": {
           "automargin": true,
           "gridcolor": "#EBF0F8",
           "linecolor": "#EBF0F8",
           "ticks": "",
           "title": {
            "standoff": 15
           },
           "zerolinecolor": "#EBF0F8",
           "zerolinewidth": 2
          }
         }
        },
        "title": {
         "text": "Revenue for 2024"
        },
        "xaxis": {
         "anchor": "y",
         "domain": [
          0,
          1
         ],
         "title": {
          "text": "Month"
         }
        },
        "yaxis": {
         "anchor": "x",
         "domain": [
          0,
          1
         ],
         "title": {
          "text": "Revenue (INR Mn)"
         }
        }
       }
      }
     },
     "metadata": {},
     "output_type": "display_data"
    }
   ],
   "source": [
    "def top_market_year(year):\n",
    "    ask_data=Ask_data(year)\n",
    "    top_markets=ask_data.groupby([\"Month_Name\"]).head(5).reset_index(drop=True)\n",
    "\n",
    "    fig=px.scatter(top_markets, x=\"Month_Name\", y=\"Revenue (INR Mn)\",\n",
    "                color=\"Market\", \n",
    "                title=f\"Revenue for {year}\",\n",
    "                    size=\"ASK (Mn km)\",\n",
    "                    size_max=30\n",
    "                )\n",
    "    fig.update_traces(marker=dict(line=dict(width=1, color='DarkSlateGrey')))\n",
    "    fig.update_layout(\n",
    "        xaxis_title=\"Month\",\n",
    "        yaxis_title=\"Revenue (INR Mn)\",\n",
    "        legend_title=\"Market\",\n",
    "        template=\"plotly_white\"\n",
    "    )\n",
    "\n",
    "    return fig.show()   \n",
    "top_market_year(2024)"
   ]
  },
  {
   "cell_type": "code",
   "execution_count": 35,
   "id": "c6b8bdd1",
   "metadata": {},
   "outputs": [
    {
     "data": {
      "application/vnd.plotly.v1+json": {
       "config": {
        "plotlyServerURL": "https://plot.ly"
       },
       "data": [
        {
         "hovertemplate": "Route=%{x}<br>Passengers=%{marker.color}<extra></extra>",
         "legendgroup": "",
         "marker": {
          "color": {
           "bdata": "5BYEALLZAwDrRgMAUkADAAUTAwA=",
           "dtype": "i4"
          },
          "coloraxis": "coloraxis",
          "pattern": {
           "shape": ""
          }
         },
         "name": "",
         "orientation": "v",
         "showlegend": false,
         "text": {
          "bdata": "AAAAAJBbEEEAAAAAkM0OQQAAAABYNwpBAAAAAJACCkEAAAAAKJgIQQ==",
          "dtype": "f8"
         },
         "textposition": "outside",
         "texttemplate": "%{text:.2s}",
         "type": "bar",
         "x": [
          "BOM-JFK",
          "DEL-SIN",
          "BOM-DXB",
          "BOM-DEL",
          "SIN-DEL"
         ],
         "xaxis": "x",
         "y": {
          "bdata": "5BYEALLZAwDrRgMAUkADAAUTAwA=",
          "dtype": "i4"
         },
         "yaxis": "y"
        }
       ],
       "layout": {
        "barmode": "relative",
        "coloraxis": {
         "colorbar": {
          "title": {
           "text": "Passengers"
          }
         },
         "colorscale": [
          [
           0,
           "#440154"
          ],
          [
           0.1111111111111111,
           "#482878"
          ],
          [
           0.2222222222222222,
           "#3e4989"
          ],
          [
           0.3333333333333333,
           "#31688e"
          ],
          [
           0.4444444444444444,
           "#26828e"
          ],
          [
           0.5555555555555556,
           "#1f9e89"
          ],
          [
           0.6666666666666666,
           "#35b779"
          ],
          [
           0.7777777777777778,
           "#6ece58"
          ],
          [
           0.8888888888888888,
           "#b5de2b"
          ],
          [
           1,
           "#fde725"
          ]
         ]
        },
        "height": 550,
        "legend": {
         "title": {
          "text": "Passenger Count"
         },
         "tracegroupgap": 0
        },
        "template": {
         "data": {
          "bar": [
           {
            "error_x": {
             "color": "#2a3f5f"
            },
            "error_y": {
             "color": "#2a3f5f"
            },
            "marker": {
             "line": {
              "color": "white",
              "width": 0.5
             },
             "pattern": {
              "fillmode": "overlay",
              "size": 10,
              "solidity": 0.2
             }
            },
            "type": "bar"
           }
          ],
          "barpolar": [
           {
            "marker": {
             "line": {
              "color": "white",
              "width": 0.5
             },
             "pattern": {
              "fillmode": "overlay",
              "size": 10,
              "solidity": 0.2
             }
            },
            "type": "barpolar"
           }
          ],
          "carpet": [
           {
            "aaxis": {
             "endlinecolor": "#2a3f5f",
             "gridcolor": "#C8D4E3",
             "linecolor": "#C8D4E3",
             "minorgridcolor": "#C8D4E3",
             "startlinecolor": "#2a3f5f"
            },
            "baxis": {
             "endlinecolor": "#2a3f5f",
             "gridcolor": "#C8D4E3",
             "linecolor": "#C8D4E3",
             "minorgridcolor": "#C8D4E3",
             "startlinecolor": "#2a3f5f"
            },
            "type": "carpet"
           }
          ],
          "choropleth": [
           {
            "colorbar": {
             "outlinewidth": 0,
             "ticks": ""
            },
            "type": "choropleth"
           }
          ],
          "contour": [
           {
            "colorbar": {
             "outlinewidth": 0,
             "ticks": ""
            },
            "colorscale": [
             [
              0,
              "#0d0887"
             ],
             [
              0.1111111111111111,
              "#46039f"
             ],
             [
              0.2222222222222222,
              "#7201a8"
             ],
             [
              0.3333333333333333,
              "#9c179e"
             ],
             [
              0.4444444444444444,
              "#bd3786"
             ],
             [
              0.5555555555555556,
              "#d8576b"
             ],
             [
              0.6666666666666666,
              "#ed7953"
             ],
             [
              0.7777777777777778,
              "#fb9f3a"
             ],
             [
              0.8888888888888888,
              "#fdca26"
             ],
             [
              1,
              "#f0f921"
             ]
            ],
            "type": "contour"
           }
          ],
          "contourcarpet": [
           {
            "colorbar": {
             "outlinewidth": 0,
             "ticks": ""
            },
            "type": "contourcarpet"
           }
          ],
          "heatmap": [
           {
            "colorbar": {
             "outlinewidth": 0,
             "ticks": ""
            },
            "colorscale": [
             [
              0,
              "#0d0887"
             ],
             [
              0.1111111111111111,
              "#46039f"
             ],
             [
              0.2222222222222222,
              "#7201a8"
             ],
             [
              0.3333333333333333,
              "#9c179e"
             ],
             [
              0.4444444444444444,
              "#bd3786"
             ],
             [
              0.5555555555555556,
              "#d8576b"
             ],
             [
              0.6666666666666666,
              "#ed7953"
             ],
             [
              0.7777777777777778,
              "#fb9f3a"
             ],
             [
              0.8888888888888888,
              "#fdca26"
             ],
             [
              1,
              "#f0f921"
             ]
            ],
            "type": "heatmap"
           }
          ],
          "histogram": [
           {
            "marker": {
             "pattern": {
              "fillmode": "overlay",
              "size": 10,
              "solidity": 0.2
             }
            },
            "type": "histogram"
           }
          ],
          "histogram2d": [
           {
            "colorbar": {
             "outlinewidth": 0,
             "ticks": ""
            },
            "colorscale": [
             [
              0,
              "#0d0887"
             ],
             [
              0.1111111111111111,
              "#46039f"
             ],
             [
              0.2222222222222222,
              "#7201a8"
             ],
             [
              0.3333333333333333,
              "#9c179e"
             ],
             [
              0.4444444444444444,
              "#bd3786"
             ],
             [
              0.5555555555555556,
              "#d8576b"
             ],
             [
              0.6666666666666666,
              "#ed7953"
             ],
             [
              0.7777777777777778,
              "#fb9f3a"
             ],
             [
              0.8888888888888888,
              "#fdca26"
             ],
             [
              1,
              "#f0f921"
             ]
            ],
            "type": "histogram2d"
           }
          ],
          "histogram2dcontour": [
           {
            "colorbar": {
             "outlinewidth": 0,
             "ticks": ""
            },
            "colorscale": [
             [
              0,
              "#0d0887"
             ],
             [
              0.1111111111111111,
              "#46039f"
             ],
             [
              0.2222222222222222,
              "#7201a8"
             ],
             [
              0.3333333333333333,
              "#9c179e"
             ],
             [
              0.4444444444444444,
              "#bd3786"
             ],
             [
              0.5555555555555556,
              "#d8576b"
             ],
             [
              0.6666666666666666,
              "#ed7953"
             ],
             [
              0.7777777777777778,
              "#fb9f3a"
             ],
             [
              0.8888888888888888,
              "#fdca26"
             ],
             [
              1,
              "#f0f921"
             ]
            ],
            "type": "histogram2dcontour"
           }
          ],
          "mesh3d": [
           {
            "colorbar": {
             "outlinewidth": 0,
             "ticks": ""
            },
            "type": "mesh3d"
           }
          ],
          "parcoords": [
           {
            "line": {
             "colorbar": {
              "outlinewidth": 0,
              "ticks": ""
             }
            },
            "type": "parcoords"
           }
          ],
          "pie": [
           {
            "automargin": true,
            "type": "pie"
           }
          ],
          "scatter": [
           {
            "fillpattern": {
             "fillmode": "overlay",
             "size": 10,
             "solidity": 0.2
            },
            "type": "scatter"
           }
          ],
          "scatter3d": [
           {
            "line": {
             "colorbar": {
              "outlinewidth": 0,
              "ticks": ""
             }
            },
            "marker": {
             "colorbar": {
              "outlinewidth": 0,
              "ticks": ""
             }
            },
            "type": "scatter3d"
           }
          ],
          "scattercarpet": [
           {
            "marker": {
             "colorbar": {
              "outlinewidth": 0,
              "ticks": ""
             }
            },
            "type": "scattercarpet"
           }
          ],
          "scattergeo": [
           {
            "marker": {
             "colorbar": {
              "outlinewidth": 0,
              "ticks": ""
             }
            },
            "type": "scattergeo"
           }
          ],
          "scattergl": [
           {
            "marker": {
             "colorbar": {
              "outlinewidth": 0,
              "ticks": ""
             }
            },
            "type": "scattergl"
           }
          ],
          "scattermap": [
           {
            "marker": {
             "colorbar": {
              "outlinewidth": 0,
              "ticks": ""
             }
            },
            "type": "scattermap"
           }
          ],
          "scattermapbox": [
           {
            "marker": {
             "colorbar": {
              "outlinewidth": 0,
              "ticks": ""
             }
            },
            "type": "scattermapbox"
           }
          ],
          "scatterpolar": [
           {
            "marker": {
             "colorbar": {
              "outlinewidth": 0,
              "ticks": ""
             }
            },
            "type": "scatterpolar"
           }
          ],
          "scatterpolargl": [
           {
            "marker": {
             "colorbar": {
              "outlinewidth": 0,
              "ticks": ""
             }
            },
            "type": "scatterpolargl"
           }
          ],
          "scatterternary": [
           {
            "marker": {
             "colorbar": {
              "outlinewidth": 0,
              "ticks": ""
             }
            },
            "type": "scatterternary"
           }
          ],
          "surface": [
           {
            "colorbar": {
             "outlinewidth": 0,
             "ticks": ""
            },
            "colorscale": [
             [
              0,
              "#0d0887"
             ],
             [
              0.1111111111111111,
              "#46039f"
             ],
             [
              0.2222222222222222,
              "#7201a8"
             ],
             [
              0.3333333333333333,
              "#9c179e"
             ],
             [
              0.4444444444444444,
              "#bd3786"
             ],
             [
              0.5555555555555556,
              "#d8576b"
             ],
             [
              0.6666666666666666,
              "#ed7953"
             ],
             [
              0.7777777777777778,
              "#fb9f3a"
             ],
             [
              0.8888888888888888,
              "#fdca26"
             ],
             [
              1,
              "#f0f921"
             ]
            ],
            "type": "surface"
           }
          ],
          "table": [
           {
            "cells": {
             "fill": {
              "color": "#EBF0F8"
             },
             "line": {
              "color": "white"
             }
            },
            "header": {
             "fill": {
              "color": "#C8D4E3"
             },
             "line": {
              "color": "white"
             }
            },
            "type": "table"
           }
          ]
         },
         "layout": {
          "annotationdefaults": {
           "arrowcolor": "#2a3f5f",
           "arrowhead": 0,
           "arrowwidth": 1
          },
          "autotypenumbers": "strict",
          "coloraxis": {
           "colorbar": {
            "outlinewidth": 0,
            "ticks": ""
           }
          },
          "colorscale": {
           "diverging": [
            [
             0,
             "#8e0152"
            ],
            [
             0.1,
             "#c51b7d"
            ],
            [
             0.2,
             "#de77ae"
            ],
            [
             0.3,
             "#f1b6da"
            ],
            [
             0.4,
             "#fde0ef"
            ],
            [
             0.5,
             "#f7f7f7"
            ],
            [
             0.6,
             "#e6f5d0"
            ],
            [
             0.7,
             "#b8e186"
            ],
            [
             0.8,
             "#7fbc41"
            ],
            [
             0.9,
             "#4d9221"
            ],
            [
             1,
             "#276419"
            ]
           ],
           "sequential": [
            [
             0,
             "#0d0887"
            ],
            [
             0.1111111111111111,
             "#46039f"
            ],
            [
             0.2222222222222222,
             "#7201a8"
            ],
            [
             0.3333333333333333,
             "#9c179e"
            ],
            [
             0.4444444444444444,
             "#bd3786"
            ],
            [
             0.5555555555555556,
             "#d8576b"
            ],
            [
             0.6666666666666666,
             "#ed7953"
            ],
            [
             0.7777777777777778,
             "#fb9f3a"
            ],
            [
             0.8888888888888888,
             "#fdca26"
            ],
            [
             1,
             "#f0f921"
            ]
           ],
           "sequentialminus": [
            [
             0,
             "#0d0887"
            ],
            [
             0.1111111111111111,
             "#46039f"
            ],
            [
             0.2222222222222222,
             "#7201a8"
            ],
            [
             0.3333333333333333,
             "#9c179e"
            ],
            [
             0.4444444444444444,
             "#bd3786"
            ],
            [
             0.5555555555555556,
             "#d8576b"
            ],
            [
             0.6666666666666666,
             "#ed7953"
            ],
            [
             0.7777777777777778,
             "#fb9f3a"
            ],
            [
             0.8888888888888888,
             "#fdca26"
            ],
            [
             1,
             "#f0f921"
            ]
           ]
          },
          "colorway": [
           "#636efa",
           "#EF553B",
           "#00cc96",
           "#ab63fa",
           "#FFA15A",
           "#19d3f3",
           "#FF6692",
           "#B6E880",
           "#FF97FF",
           "#FECB52"
          ],
          "font": {
           "color": "#2a3f5f"
          },
          "geo": {
           "bgcolor": "white",
           "lakecolor": "white",
           "landcolor": "white",
           "showlakes": true,
           "showland": true,
           "subunitcolor": "#C8D4E3"
          },
          "hoverlabel": {
           "align": "left"
          },
          "hovermode": "closest",
          "mapbox": {
           "style": "light"
          },
          "paper_bgcolor": "white",
          "plot_bgcolor": "white",
          "polar": {
           "angularaxis": {
            "gridcolor": "#EBF0F8",
            "linecolor": "#EBF0F8",
            "ticks": ""
           },
           "bgcolor": "white",
           "radialaxis": {
            "gridcolor": "#EBF0F8",
            "linecolor": "#EBF0F8",
            "ticks": ""
           }
          },
          "scene": {
           "xaxis": {
            "backgroundcolor": "white",
            "gridcolor": "#DFE8F3",
            "gridwidth": 2,
            "linecolor": "#EBF0F8",
            "showbackground": true,
            "ticks": "",
            "zerolinecolor": "#EBF0F8"
           },
           "yaxis": {
            "backgroundcolor": "white",
            "gridcolor": "#DFE8F3",
            "gridwidth": 2,
            "linecolor": "#EBF0F8",
            "showbackground": true,
            "ticks": "",
            "zerolinecolor": "#EBF0F8"
           },
           "zaxis": {
            "backgroundcolor": "white",
            "gridcolor": "#DFE8F3",
            "gridwidth": 2,
            "linecolor": "#EBF0F8",
            "showbackground": true,
            "ticks": "",
            "zerolinecolor": "#EBF0F8"
           }
          },
          "shapedefaults": {
           "line": {
            "color": "#2a3f5f"
           }
          },
          "ternary": {
           "aaxis": {
            "gridcolor": "#DFE8F3",
            "linecolor": "#A2B1C6",
            "ticks": ""
           },
           "baxis": {
            "gridcolor": "#DFE8F3",
            "linecolor": "#A2B1C6",
            "ticks": ""
           },
           "bgcolor": "white",
           "caxis": {
            "gridcolor": "#DFE8F3",
            "linecolor": "#A2B1C6",
            "ticks": ""
           }
          },
          "title": {
           "x": 0.05
          },
          "xaxis": {
           "automargin": true,
           "gridcolor": "#EBF0F8",
           "linecolor": "#EBF0F8",
           "ticks": "",
           "title": {
            "standoff": 15
           },
           "zerolinecolor": "#EBF0F8",
           "zerolinewidth": 2
          },
          "yaxis": {
           "automargin": true,
           "gridcolor": "#EBF0F8",
           "linecolor": "#EBF0F8",
           "ticks": "",
           "title": {
            "standoff": 15
           },
           "zerolinecolor": "#EBF0F8",
           "zerolinewidth": 2
          }
         }
        },
        "title": {
         "text": "Top 5 Routes by Passenger Count in 2022"
        },
        "width": 1000,
        "xaxis": {
         "anchor": "y",
         "domain": [
          0,
          1
         ],
         "title": {
          "text": "Route"
         }
        },
        "yaxis": {
         "anchor": "x",
         "domain": [
          0,
          1
         ],
         "title": {
          "text": "Passenger Count"
         }
        }
       }
      }
     },
     "metadata": {},
     "output_type": "display_data"
    }
   ],
   "source": [
    "def top_5_markets(year):\n",
    "    df=dataframe\n",
    "    group=df.groupby(['Year','Route'])[\"Passengers\"].sum().reset_index().sort_values(by=[\"Passengers\"], ascending=False)\n",
    "    top_routes=group.groupby([\"Year\"]).head(5).reset_index(drop=True).sort_values(by=[\"Year\",\"Passengers\"], ascending=[True,False]).reset_index(drop=True)\n",
    "    return top_routes[top_routes[\"Year\"]==int(year)].reset_index(drop=True)\n",
    "top_5_markets(2024)\n",
    "\n",
    "def top_market_year(year):\n",
    "    fig=px.bar(top_5_markets(year), x=\"Route\", y=\"Passengers\",\n",
    "            color=\"Passengers\",\n",
    "            title=f\"Top 5 Routes by Passenger Count in {year}\",\n",
    "            text=\"Passengers\",\n",
    "            color_continuous_scale= \"Viridis\"\n",
    "    )\n",
    "    fig.update_traces(texttemplate='%{text:.2s}', textposition='outside')\n",
    "    fig.update_layout(\n",
    "        xaxis_title=\"Route\",\n",
    "        yaxis_title=\"Passenger Count\",\n",
    "        legend_title=\"Passenger Count\",\n",
    "        template=\"plotly_white\",\n",
    "        height=550,\n",
    "        width=1000,\n",
    "\n",
    "    )\n",
    "    return fig.show()\n",
    "\n",
    "top_market_year(2022)"
   ]
  },
  {
   "cell_type": "code",
   "execution_count": 36,
   "id": "33a6ff7a",
   "metadata": {},
   "outputs": [
    {
     "data": {
      "application/vnd.plotly.v1+json": {
       "config": {
        "plotlyServerURL": "https://plot.ly"
       },
       "data": [
        {
         "hovertemplate": "Year=2022<br>Month_Name=%{x}<br>PRASK (INR)=%{y}<extra></extra>",
         "legendgroup": "2022",
         "line": {
          "color": "#636efa",
          "dash": "solid"
         },
         "marker": {
          "line": {
           "color": "DarkSlateGrey",
           "width": 1
          },
          "symbol": "circle"
         },
         "mode": "lines+markers",
         "name": "2022",
         "orientation": "v",
         "showlegend": true,
         "type": "scatter",
         "x": [
          "January",
          "February",
          "March",
          "April",
          "May",
          "June",
          "July",
          "August",
          "September",
          "October",
          "November",
          "December"
         ],
         "xaxis": "x",
         "y": {
          "bdata": "16NwPQrXDUCuR+F6FK4NQClcj8L1KA5A7FG4HoXrDUCuR+F6FK4NQAAAAAAAAA5ArkfhehSuDUDXo3A9CtcNQMP1KFyPwg1A7FG4HoXrDUDXo3A9CtcNQK5H4XoUrg1A",
          "dtype": "f8"
         },
         "yaxis": "y"
        },
        {
         "hovertemplate": "Year=2023<br>Month_Name=%{x}<br>PRASK (INR)=%{y}<extra></extra>",
         "legendgroup": "2023",
         "line": {
          "color": "#EF553B",
          "dash": "solid"
         },
         "marker": {
          "line": {
           "color": "DarkSlateGrey",
           "width": 1
          },
          "symbol": "circle"
         },
         "mode": "lines+markers",
         "name": "2023",
         "orientation": "v",
         "showlegend": true,
         "type": "scatter",
         "x": [
          "January",
          "February",
          "March",
          "April",
          "May",
          "June",
          "July",
          "August",
          "September",
          "October",
          "November",
          "December"
         ],
         "xaxis": "x",
         "y": {
          "bdata": "rkfhehSuD0CF61G4HoUPQMP1KFyPwg9AmpmZmZmZD0BxPQrXo3APQFyPwvUoXA9AhetRuB6FD0CuR+F6FK4PQJqZmZmZmQ9AhetRuB6FD0BxPQrXo3APQHE9CtejcA9A",
          "dtype": "f8"
         },
         "yaxis": "y"
        },
        {
         "hovertemplate": "Year=2024<br>Month_Name=%{x}<br>PRASK (INR)=%{y}<extra></extra>",
         "legendgroup": "2024",
         "line": {
          "color": "#00cc96",
          "dash": "solid"
         },
         "marker": {
          "line": {
           "color": "DarkSlateGrey",
           "width": 1
          },
          "symbol": "circle"
         },
         "mode": "lines+markers",
         "name": "2024",
         "orientation": "v",
         "showlegend": true,
         "type": "scatter",
         "x": [
          "January",
          "February",
          "March",
          "April",
          "May",
          "June",
          "July",
          "August",
          "September",
          "October",
          "November",
          "December"
         ],
         "xaxis": "x",
         "y": {
          "bdata": "PQrXo3A9EEAfhetRuB4QQClcj8L1KBBAMzMzMzMzEEAzMzMzMzMQQOxRuB6F6w9APQrXo3A9EEA9CtejcD0QQFyPwvUoXBBAMzMzMzMzEEBI4XoUrkcQQEjhehSuRxBA",
          "dtype": "f8"
         },
         "yaxis": "y"
        }
       ],
       "layout": {
        "legend": {
         "title": {
          "text": "Year"
         },
         "tracegroupgap": 0
        },
        "template": {
         "data": {
          "bar": [
           {
            "error_x": {
             "color": "#2a3f5f"
            },
            "error_y": {
             "color": "#2a3f5f"
            },
            "marker": {
             "line": {
              "color": "white",
              "width": 0.5
             },
             "pattern": {
              "fillmode": "overlay",
              "size": 10,
              "solidity": 0.2
             }
            },
            "type": "bar"
           }
          ],
          "barpolar": [
           {
            "marker": {
             "line": {
              "color": "white",
              "width": 0.5
             },
             "pattern": {
              "fillmode": "overlay",
              "size": 10,
              "solidity": 0.2
             }
            },
            "type": "barpolar"
           }
          ],
          "carpet": [
           {
            "aaxis": {
             "endlinecolor": "#2a3f5f",
             "gridcolor": "#C8D4E3",
             "linecolor": "#C8D4E3",
             "minorgridcolor": "#C8D4E3",
             "startlinecolor": "#2a3f5f"
            },
            "baxis": {
             "endlinecolor": "#2a3f5f",
             "gridcolor": "#C8D4E3",
             "linecolor": "#C8D4E3",
             "minorgridcolor": "#C8D4E3",
             "startlinecolor": "#2a3f5f"
            },
            "type": "carpet"
           }
          ],
          "choropleth": [
           {
            "colorbar": {
             "outlinewidth": 0,
             "ticks": ""
            },
            "type": "choropleth"
           }
          ],
          "contour": [
           {
            "colorbar": {
             "outlinewidth": 0,
             "ticks": ""
            },
            "colorscale": [
             [
              0,
              "#0d0887"
             ],
             [
              0.1111111111111111,
              "#46039f"
             ],
             [
              0.2222222222222222,
              "#7201a8"
             ],
             [
              0.3333333333333333,
              "#9c179e"
             ],
             [
              0.4444444444444444,
              "#bd3786"
             ],
             [
              0.5555555555555556,
              "#d8576b"
             ],
             [
              0.6666666666666666,
              "#ed7953"
             ],
             [
              0.7777777777777778,
              "#fb9f3a"
             ],
             [
              0.8888888888888888,
              "#fdca26"
             ],
             [
              1,
              "#f0f921"
             ]
            ],
            "type": "contour"
           }
          ],
          "contourcarpet": [
           {
            "colorbar": {
             "outlinewidth": 0,
             "ticks": ""
            },
            "type": "contourcarpet"
           }
          ],
          "heatmap": [
           {
            "colorbar": {
             "outlinewidth": 0,
             "ticks": ""
            },
            "colorscale": [
             [
              0,
              "#0d0887"
             ],
             [
              0.1111111111111111,
              "#46039f"
             ],
             [
              0.2222222222222222,
              "#7201a8"
             ],
             [
              0.3333333333333333,
              "#9c179e"
             ],
             [
              0.4444444444444444,
              "#bd3786"
             ],
             [
              0.5555555555555556,
              "#d8576b"
             ],
             [
              0.6666666666666666,
              "#ed7953"
             ],
             [
              0.7777777777777778,
              "#fb9f3a"
             ],
             [
              0.8888888888888888,
              "#fdca26"
             ],
             [
              1,
              "#f0f921"
             ]
            ],
            "type": "heatmap"
           }
          ],
          "histogram": [
           {
            "marker": {
             "pattern": {
              "fillmode": "overlay",
              "size": 10,
              "solidity": 0.2
             }
            },
            "type": "histogram"
           }
          ],
          "histogram2d": [
           {
            "colorbar": {
             "outlinewidth": 0,
             "ticks": ""
            },
            "colorscale": [
             [
              0,
              "#0d0887"
             ],
             [
              0.1111111111111111,
              "#46039f"
             ],
             [
              0.2222222222222222,
              "#7201a8"
             ],
             [
              0.3333333333333333,
              "#9c179e"
             ],
             [
              0.4444444444444444,
              "#bd3786"
             ],
             [
              0.5555555555555556,
              "#d8576b"
             ],
             [
              0.6666666666666666,
              "#ed7953"
             ],
             [
              0.7777777777777778,
              "#fb9f3a"
             ],
             [
              0.8888888888888888,
              "#fdca26"
             ],
             [
              1,
              "#f0f921"
             ]
            ],
            "type": "histogram2d"
           }
          ],
          "histogram2dcontour": [
           {
            "colorbar": {
             "outlinewidth": 0,
             "ticks": ""
            },
            "colorscale": [
             [
              0,
              "#0d0887"
             ],
             [
              0.1111111111111111,
              "#46039f"
             ],
             [
              0.2222222222222222,
              "#7201a8"
             ],
             [
              0.3333333333333333,
              "#9c179e"
             ],
             [
              0.4444444444444444,
              "#bd3786"
             ],
             [
              0.5555555555555556,
              "#d8576b"
             ],
             [
              0.6666666666666666,
              "#ed7953"
             ],
             [
              0.7777777777777778,
              "#fb9f3a"
             ],
             [
              0.8888888888888888,
              "#fdca26"
             ],
             [
              1,
              "#f0f921"
             ]
            ],
            "type": "histogram2dcontour"
           }
          ],
          "mesh3d": [
           {
            "colorbar": {
             "outlinewidth": 0,
             "ticks": ""
            },
            "type": "mesh3d"
           }
          ],
          "parcoords": [
           {
            "line": {
             "colorbar": {
              "outlinewidth": 0,
              "ticks": ""
             }
            },
            "type": "parcoords"
           }
          ],
          "pie": [
           {
            "automargin": true,
            "type": "pie"
           }
          ],
          "scatter": [
           {
            "fillpattern": {
             "fillmode": "overlay",
             "size": 10,
             "solidity": 0.2
            },
            "type": "scatter"
           }
          ],
          "scatter3d": [
           {
            "line": {
             "colorbar": {
              "outlinewidth": 0,
              "ticks": ""
             }
            },
            "marker": {
             "colorbar": {
              "outlinewidth": 0,
              "ticks": ""
             }
            },
            "type": "scatter3d"
           }
          ],
          "scattercarpet": [
           {
            "marker": {
             "colorbar": {
              "outlinewidth": 0,
              "ticks": ""
             }
            },
            "type": "scattercarpet"
           }
          ],
          "scattergeo": [
           {
            "marker": {
             "colorbar": {
              "outlinewidth": 0,
              "ticks": ""
             }
            },
            "type": "scattergeo"
           }
          ],
          "scattergl": [
           {
            "marker": {
             "colorbar": {
              "outlinewidth": 0,
              "ticks": ""
             }
            },
            "type": "scattergl"
           }
          ],
          "scattermap": [
           {
            "marker": {
             "colorbar": {
              "outlinewidth": 0,
              "ticks": ""
             }
            },
            "type": "scattermap"
           }
          ],
          "scattermapbox": [
           {
            "marker": {
             "colorbar": {
              "outlinewidth": 0,
              "ticks": ""
             }
            },
            "type": "scattermapbox"
           }
          ],
          "scatterpolar": [
           {
            "marker": {
             "colorbar": {
              "outlinewidth": 0,
              "ticks": ""
             }
            },
            "type": "scatterpolar"
           }
          ],
          "scatterpolargl": [
           {
            "marker": {
             "colorbar": {
              "outlinewidth": 0,
              "ticks": ""
             }
            },
            "type": "scatterpolargl"
           }
          ],
          "scatterternary": [
           {
            "marker": {
             "colorbar": {
              "outlinewidth": 0,
              "ticks": ""
             }
            },
            "type": "scatterternary"
           }
          ],
          "surface": [
           {
            "colorbar": {
             "outlinewidth": 0,
             "ticks": ""
            },
            "colorscale": [
             [
              0,
              "#0d0887"
             ],
             [
              0.1111111111111111,
              "#46039f"
             ],
             [
              0.2222222222222222,
              "#7201a8"
             ],
             [
              0.3333333333333333,
              "#9c179e"
             ],
             [
              0.4444444444444444,
              "#bd3786"
             ],
             [
              0.5555555555555556,
              "#d8576b"
             ],
             [
              0.6666666666666666,
              "#ed7953"
             ],
             [
              0.7777777777777778,
              "#fb9f3a"
             ],
             [
              0.8888888888888888,
              "#fdca26"
             ],
             [
              1,
              "#f0f921"
             ]
            ],
            "type": "surface"
           }
          ],
          "table": [
           {
            "cells": {
             "fill": {
              "color": "#EBF0F8"
             },
             "line": {
              "color": "white"
             }
            },
            "header": {
             "fill": {
              "color": "#C8D4E3"
             },
             "line": {
              "color": "white"
             }
            },
            "type": "table"
           }
          ]
         },
         "layout": {
          "annotationdefaults": {
           "arrowcolor": "#2a3f5f",
           "arrowhead": 0,
           "arrowwidth": 1
          },
          "autotypenumbers": "strict",
          "coloraxis": {
           "colorbar": {
            "outlinewidth": 0,
            "ticks": ""
           }
          },
          "colorscale": {
           "diverging": [
            [
             0,
             "#8e0152"
            ],
            [
             0.1,
             "#c51b7d"
            ],
            [
             0.2,
             "#de77ae"
            ],
            [
             0.3,
             "#f1b6da"
            ],
            [
             0.4,
             "#fde0ef"
            ],
            [
             0.5,
             "#f7f7f7"
            ],
            [
             0.6,
             "#e6f5d0"
            ],
            [
             0.7,
             "#b8e186"
            ],
            [
             0.8,
             "#7fbc41"
            ],
            [
             0.9,
             "#4d9221"
            ],
            [
             1,
             "#276419"
            ]
           ],
           "sequential": [
            [
             0,
             "#0d0887"
            ],
            [
             0.1111111111111111,
             "#46039f"
            ],
            [
             0.2222222222222222,
             "#7201a8"
            ],
            [
             0.3333333333333333,
             "#9c179e"
            ],
            [
             0.4444444444444444,
             "#bd3786"
            ],
            [
             0.5555555555555556,
             "#d8576b"
            ],
            [
             0.6666666666666666,
             "#ed7953"
            ],
            [
             0.7777777777777778,
             "#fb9f3a"
            ],
            [
             0.8888888888888888,
             "#fdca26"
            ],
            [
             1,
             "#f0f921"
            ]
           ],
           "sequentialminus": [
            [
             0,
             "#0d0887"
            ],
            [
             0.1111111111111111,
             "#46039f"
            ],
            [
             0.2222222222222222,
             "#7201a8"
            ],
            [
             0.3333333333333333,
             "#9c179e"
            ],
            [
             0.4444444444444444,
             "#bd3786"
            ],
            [
             0.5555555555555556,
             "#d8576b"
            ],
            [
             0.6666666666666666,
             "#ed7953"
            ],
            [
             0.7777777777777778,
             "#fb9f3a"
            ],
            [
             0.8888888888888888,
             "#fdca26"
            ],
            [
             1,
             "#f0f921"
            ]
           ]
          },
          "colorway": [
           "#636efa",
           "#EF553B",
           "#00cc96",
           "#ab63fa",
           "#FFA15A",
           "#19d3f3",
           "#FF6692",
           "#B6E880",
           "#FF97FF",
           "#FECB52"
          ],
          "font": {
           "color": "#2a3f5f"
          },
          "geo": {
           "bgcolor": "white",
           "lakecolor": "white",
           "landcolor": "white",
           "showlakes": true,
           "showland": true,
           "subunitcolor": "#C8D4E3"
          },
          "hoverlabel": {
           "align": "left"
          },
          "hovermode": "closest",
          "mapbox": {
           "style": "light"
          },
          "paper_bgcolor": "white",
          "plot_bgcolor": "white",
          "polar": {
           "angularaxis": {
            "gridcolor": "#EBF0F8",
            "linecolor": "#EBF0F8",
            "ticks": ""
           },
           "bgcolor": "white",
           "radialaxis": {
            "gridcolor": "#EBF0F8",
            "linecolor": "#EBF0F8",
            "ticks": ""
           }
          },
          "scene": {
           "xaxis": {
            "backgroundcolor": "white",
            "gridcolor": "#DFE8F3",
            "gridwidth": 2,
            "linecolor": "#EBF0F8",
            "showbackground": true,
            "ticks": "",
            "zerolinecolor": "#EBF0F8"
           },
           "yaxis": {
            "backgroundcolor": "white",
            "gridcolor": "#DFE8F3",
            "gridwidth": 2,
            "linecolor": "#EBF0F8",
            "showbackground": true,
            "ticks": "",
            "zerolinecolor": "#EBF0F8"
           },
           "zaxis": {
            "backgroundcolor": "white",
            "gridcolor": "#DFE8F3",
            "gridwidth": 2,
            "linecolor": "#EBF0F8",
            "showbackground": true,
            "ticks": "",
            "zerolinecolor": "#EBF0F8"
           }
          },
          "shapedefaults": {
           "line": {
            "color": "#2a3f5f"
           }
          },
          "ternary": {
           "aaxis": {
            "gridcolor": "#DFE8F3",
            "linecolor": "#A2B1C6",
            "ticks": ""
           },
           "baxis": {
            "gridcolor": "#DFE8F3",
            "linecolor": "#A2B1C6",
            "ticks": ""
           },
           "bgcolor": "white",
           "caxis": {
            "gridcolor": "#DFE8F3",
            "linecolor": "#A2B1C6",
            "ticks": ""
           }
          },
          "title": {
           "x": 0.05
          },
          "xaxis": {
           "automargin": true,
           "gridcolor": "#EBF0F8",
           "linecolor": "#EBF0F8",
           "ticks": "",
           "title": {
            "standoff": 15
           },
           "zerolinecolor": "#EBF0F8",
           "zerolinewidth": 2
          },
          "yaxis": {
           "automargin": true,
           "gridcolor": "#EBF0F8",
           "linecolor": "#EBF0F8",
           "ticks": "",
           "title": {
            "standoff": 15
           },
           "zerolinecolor": "#EBF0F8",
           "zerolinewidth": 2
          }
         }
        },
        "title": {
         "text": "Monthly PRASK Trend"
        },
        "xaxis": {
         "anchor": "y",
         "domain": [
          0,
          1
         ],
         "title": {
          "text": "Month"
         }
        },
        "yaxis": {
         "anchor": "x",
         "domain": [
          0,
          1
         ],
         "title": {
          "text": "PRASK (INR)"
         }
        }
       }
      }
     },
     "metadata": {},
     "output_type": "display_data"
    }
   ],
   "source": [
    "def monthly_trend():\n",
    "    fig=px.line(pnl, x=\"Month_Name\", y=\"Monthly_PRASK\",\n",
    "                color=\"Year\",\n",
    "                title=\"Monthly PRASK Trend\",\n",
    "                labels={\"Monthly_PRASK\":\"PRASK (INR)\"},\n",
    "                markers=True,\n",
    "                \n",
    "                \n",
    "                )\n",
    "    fig.update_traces(marker=dict(line=dict(width=1, color='DarkSlateGrey')))\n",
    "    fig.update_layout(\n",
    "        xaxis_title=\"Month\",\n",
    "        yaxis_title=\"PRASK (INR)\",\n",
    "        legend_title=\"Year\",\n",
    "        template=\"plotly_white\"\n",
    "    )\n",
    "    return fig.show()\n",
    "monthly_trend()"
   ]
  },
  {
   "cell_type": "code",
   "execution_count": 37,
   "id": "de47b4e5",
   "metadata": {},
   "outputs": [
    {
     "data": {
      "text/html": [
       "<div>\n",
       "<style scoped>\n",
       "    .dataframe tbody tr th:only-of-type {\n",
       "        vertical-align: middle;\n",
       "    }\n",
       "\n",
       "    .dataframe tbody tr th {\n",
       "        vertical-align: top;\n",
       "    }\n",
       "\n",
       "    .dataframe thead th {\n",
       "        text-align: right;\n",
       "    }\n",
       "</style>\n",
       "<table border=\"1\" class=\"dataframe\">\n",
       "  <thead>\n",
       "    <tr style=\"text-align: right;\">\n",
       "      <th></th>\n",
       "      <th>Year</th>\n",
       "      <th>Month_Name</th>\n",
       "      <th>Revenue (INR Mn)</th>\n",
       "      <th>Cost (INR Mn)</th>\n",
       "      <th>ASK (Mn km)</th>\n",
       "      <th>Monthly_PRASK</th>\n",
       "    </tr>\n",
       "  </thead>\n",
       "  <tbody>\n",
       "    <tr>\n",
       "      <th>0</th>\n",
       "      <td>2022</td>\n",
       "      <td>January</td>\n",
       "      <td>874.93</td>\n",
       "      <td>982.1233</td>\n",
       "      <td>234.79</td>\n",
       "      <td>3.73</td>\n",
       "    </tr>\n",
       "    <tr>\n",
       "      <th>1</th>\n",
       "      <td>2022</td>\n",
       "      <td>February</td>\n",
       "      <td>930.65</td>\n",
       "      <td>1058.5332</td>\n",
       "      <td>250.92</td>\n",
       "      <td>3.71</td>\n",
       "    </tr>\n",
       "    <tr>\n",
       "      <th>2</th>\n",
       "      <td>2022</td>\n",
       "      <td>March</td>\n",
       "      <td>955.83</td>\n",
       "      <td>1069.2161</td>\n",
       "      <td>253.67</td>\n",
       "      <td>3.77</td>\n",
       "    </tr>\n",
       "    <tr>\n",
       "      <th>3</th>\n",
       "      <td>2022</td>\n",
       "      <td>April</td>\n",
       "      <td>944.53</td>\n",
       "      <td>1054.5595</td>\n",
       "      <td>252.28</td>\n",
       "      <td>3.74</td>\n",
       "    </tr>\n",
       "    <tr>\n",
       "      <th>4</th>\n",
       "      <td>2022</td>\n",
       "      <td>May</td>\n",
       "      <td>932.87</td>\n",
       "      <td>1054.3885</td>\n",
       "      <td>251.12</td>\n",
       "      <td>3.71</td>\n",
       "    </tr>\n",
       "  </tbody>\n",
       "</table>\n",
       "</div>"
      ],
      "text/plain": [
       "   Year Month_Name  Revenue (INR Mn)  Cost (INR Mn)  ASK (Mn km)  Monthly_PRASK\n",
       "0  2022    January            874.93       982.1233       234.79           3.73\n",
       "1  2022   February            930.65      1058.5332       250.92           3.71\n",
       "2  2022      March            955.83      1069.2161       253.67           3.77\n",
       "3  2022      April            944.53      1054.5595       252.28           3.74\n",
       "4  2022        May            932.87      1054.3885       251.12           3.71"
      ]
     },
     "execution_count": 37,
     "metadata": {},
     "output_type": "execute_result"
    }
   ],
   "source": [
    "pnl.head()\n"
   ]
  },
  {
   "cell_type": "code",
   "execution_count": 38,
   "id": "f9d096b2",
   "metadata": {},
   "outputs": [
    {
     "data": {
      "text/html": [
       "<div>\n",
       "<style scoped>\n",
       "    .dataframe tbody tr th:only-of-type {\n",
       "        vertical-align: middle;\n",
       "    }\n",
       "\n",
       "    .dataframe tbody tr th {\n",
       "        vertical-align: top;\n",
       "    }\n",
       "\n",
       "    .dataframe thead th {\n",
       "        text-align: right;\n",
       "    }\n",
       "</style>\n",
       "<table border=\"1\" class=\"dataframe\">\n",
       "  <thead>\n",
       "    <tr style=\"text-align: right;\">\n",
       "      <th></th>\n",
       "      <th>Year</th>\n",
       "      <th>Month_Name</th>\n",
       "      <th>Revenue (INR Mn)</th>\n",
       "      <th>Cost (INR Mn)</th>\n",
       "      <th>ASK (Mn km)</th>\n",
       "      <th>Monthly_PRASK</th>\n",
       "      <th>shifted_year</th>\n",
       "    </tr>\n",
       "  </thead>\n",
       "  <tbody>\n",
       "    <tr>\n",
       "      <th>0</th>\n",
       "      <td>2022</td>\n",
       "      <td>January</td>\n",
       "      <td>874.93</td>\n",
       "      <td>982.1233</td>\n",
       "      <td>234.79</td>\n",
       "      <td>3.73</td>\n",
       "      <td>2021</td>\n",
       "    </tr>\n",
       "    <tr>\n",
       "      <th>1</th>\n",
       "      <td>2022</td>\n",
       "      <td>February</td>\n",
       "      <td>930.65</td>\n",
       "      <td>1058.5332</td>\n",
       "      <td>250.92</td>\n",
       "      <td>3.71</td>\n",
       "      <td>2021</td>\n",
       "    </tr>\n",
       "    <tr>\n",
       "      <th>2</th>\n",
       "      <td>2022</td>\n",
       "      <td>March</td>\n",
       "      <td>955.83</td>\n",
       "      <td>1069.2161</td>\n",
       "      <td>253.67</td>\n",
       "      <td>3.77</td>\n",
       "      <td>2021</td>\n",
       "    </tr>\n",
       "    <tr>\n",
       "      <th>3</th>\n",
       "      <td>2022</td>\n",
       "      <td>April</td>\n",
       "      <td>944.53</td>\n",
       "      <td>1054.5595</td>\n",
       "      <td>252.28</td>\n",
       "      <td>3.74</td>\n",
       "      <td>2021</td>\n",
       "    </tr>\n",
       "    <tr>\n",
       "      <th>4</th>\n",
       "      <td>2022</td>\n",
       "      <td>May</td>\n",
       "      <td>932.87</td>\n",
       "      <td>1054.3885</td>\n",
       "      <td>251.12</td>\n",
       "      <td>3.71</td>\n",
       "      <td>2021</td>\n",
       "    </tr>\n",
       "  </tbody>\n",
       "</table>\n",
       "</div>"
      ],
      "text/plain": [
       "   Year Month_Name  Revenue (INR Mn)  ...  ASK (Mn km)  Monthly_PRASK  shifted_year\n",
       "0  2022    January            874.93  ...       234.79           3.73          2021\n",
       "1  2022   February            930.65  ...       250.92           3.71          2021\n",
       "2  2022      March            955.83  ...       253.67           3.77          2021\n",
       "3  2022      April            944.53  ...       252.28           3.74          2021\n",
       "4  2022        May            932.87  ...       251.12           3.71          2021\n",
       "\n",
       "[5 rows x 7 columns]"
      ]
     },
     "execution_count": 38,
     "metadata": {},
     "output_type": "execute_result"
    }
   ],
   "source": [
    "pnl[\"shifted_year\"]=pnl[\"Year\"].astype(int)-1\n",
    "pnl.head()\n"
   ]
  },
  {
   "cell_type": "code",
   "execution_count": 39,
   "id": "3322bde4",
   "metadata": {},
   "outputs": [
    {
     "data": {
      "text/html": [
       "<div>\n",
       "<style scoped>\n",
       "    .dataframe tbody tr th:only-of-type {\n",
       "        vertical-align: middle;\n",
       "    }\n",
       "\n",
       "    .dataframe tbody tr th {\n",
       "        vertical-align: top;\n",
       "    }\n",
       "\n",
       "    .dataframe thead th {\n",
       "        text-align: right;\n",
       "    }\n",
       "</style>\n",
       "<table border=\"1\" class=\"dataframe\">\n",
       "  <thead>\n",
       "    <tr style=\"text-align: right;\">\n",
       "      <th></th>\n",
       "      <th>Year</th>\n",
       "      <th>Month_Name</th>\n",
       "      <th>Revenue (INR Mn)</th>\n",
       "      <th>Cost (INR Mn)</th>\n",
       "      <th>ASK (Mn km)</th>\n",
       "      <th>Monthly_PRASK</th>\n",
       "      <th>shifted_year</th>\n",
       "    </tr>\n",
       "  </thead>\n",
       "  <tbody>\n",
       "    <tr>\n",
       "      <th>0</th>\n",
       "      <td>2022</td>\n",
       "      <td>January</td>\n",
       "      <td>874.93</td>\n",
       "      <td>982.1233</td>\n",
       "      <td>234.79</td>\n",
       "      <td>3.73</td>\n",
       "      <td>2021</td>\n",
       "    </tr>\n",
       "    <tr>\n",
       "      <th>1</th>\n",
       "      <td>2022</td>\n",
       "      <td>February</td>\n",
       "      <td>930.65</td>\n",
       "      <td>1058.5332</td>\n",
       "      <td>250.92</td>\n",
       "      <td>3.71</td>\n",
       "      <td>2021</td>\n",
       "    </tr>\n",
       "    <tr>\n",
       "      <th>2</th>\n",
       "      <td>2022</td>\n",
       "      <td>March</td>\n",
       "      <td>955.83</td>\n",
       "      <td>1069.2161</td>\n",
       "      <td>253.67</td>\n",
       "      <td>3.77</td>\n",
       "      <td>2021</td>\n",
       "    </tr>\n",
       "    <tr>\n",
       "      <th>3</th>\n",
       "      <td>2022</td>\n",
       "      <td>April</td>\n",
       "      <td>944.53</td>\n",
       "      <td>1054.5595</td>\n",
       "      <td>252.28</td>\n",
       "      <td>3.74</td>\n",
       "      <td>2021</td>\n",
       "    </tr>\n",
       "    <tr>\n",
       "      <th>4</th>\n",
       "      <td>2022</td>\n",
       "      <td>May</td>\n",
       "      <td>932.87</td>\n",
       "      <td>1054.3885</td>\n",
       "      <td>251.12</td>\n",
       "      <td>3.71</td>\n",
       "      <td>2021</td>\n",
       "    </tr>\n",
       "  </tbody>\n",
       "</table>\n",
       "</div>"
      ],
      "text/plain": [
       "   Year Month_Name  Revenue (INR Mn)  ...  ASK (Mn km)  Monthly_PRASK  shifted_year\n",
       "0  2022    January            874.93  ...       234.79           3.73          2021\n",
       "1  2022   February            930.65  ...       250.92           3.71          2021\n",
       "2  2022      March            955.83  ...       253.67           3.77          2021\n",
       "3  2022      April            944.53  ...       252.28           3.74          2021\n",
       "4  2022        May            932.87  ...       251.12           3.71          2021\n",
       "\n",
       "[5 rows x 7 columns]"
      ]
     },
     "execution_count": 39,
     "metadata": {},
     "output_type": "execute_result"
    }
   ],
   "source": [
    "pnl_shifted=pnl.copy()\n",
    "pnl_shifted.head()"
   ]
  },
  {
   "cell_type": "code",
   "execution_count": 40,
   "id": "0bce4f62",
   "metadata": {},
   "outputs": [],
   "source": [
    "yoydif=pnl_shifted.merge(pnl[[\"Year\",\"shifted_year\",\"Month_Name\",\"Monthly_PRASK\"]], left_on=[\"shifted_year\",\"Month_Name\"], right_on=[\"Year\",\"Month_Name\"], how=\"left\", suffixes=(\"_o\", \"_n\"))"
   ]
  },
  {
   "cell_type": "code",
   "execution_count": 41,
   "id": "82281133",
   "metadata": {},
   "outputs": [],
   "source": [
    "yoydif.tail()\n",
    "yoydif[\"YoY %\"]=round((yoydif[\"Monthly_PRASK_o\"]-yoydif[\"Monthly_PRASK_n\"])/yoydif[\"Monthly_PRASK_n\"]*100,2).astype(str) +\"%\"\n"
   ]
  },
  {
   "cell_type": "code",
   "execution_count": 42,
   "id": "185e899e",
   "metadata": {},
   "outputs": [],
   "source": [
    "\n",
    "yoydif[\"YoY %\"]=yoydif[\"YoY %\"].replace(\"nan%\",\"\")\n"
   ]
  },
  {
   "cell_type": "code",
   "execution_count": 43,
   "id": "0fc65b9f",
   "metadata": {},
   "outputs": [
    {
     "data": {
      "text/html": [
       "<div>\n",
       "<style scoped>\n",
       "    .dataframe tbody tr th:only-of-type {\n",
       "        vertical-align: middle;\n",
       "    }\n",
       "\n",
       "    .dataframe tbody tr th {\n",
       "        vertical-align: top;\n",
       "    }\n",
       "\n",
       "    .dataframe thead th {\n",
       "        text-align: right;\n",
       "    }\n",
       "</style>\n",
       "<table border=\"1\" class=\"dataframe\">\n",
       "  <thead>\n",
       "    <tr style=\"text-align: right;\">\n",
       "      <th></th>\n",
       "      <th>Year</th>\n",
       "      <th>Month_Name</th>\n",
       "      <th>Revenue (INR Mn)</th>\n",
       "      <th>Cost (INR Mn)</th>\n",
       "      <th>ASK (Mn km)</th>\n",
       "      <th>Monthly_PRASK</th>\n",
       "      <th>shifted_year_o</th>\n",
       "      <th>Year_n</th>\n",
       "      <th>shifted_year_n</th>\n",
       "      <th>Monthly_PRASK_prev</th>\n",
       "      <th>YoY %</th>\n",
       "    </tr>\n",
       "  </thead>\n",
       "  <tbody>\n",
       "    <tr>\n",
       "      <th>0</th>\n",
       "      <td>2022</td>\n",
       "      <td>January</td>\n",
       "      <td>874.93</td>\n",
       "      <td>982.1233</td>\n",
       "      <td>234.79</td>\n",
       "      <td>3.73</td>\n",
       "      <td>2021</td>\n",
       "      <td>NaN</td>\n",
       "      <td>NaN</td>\n",
       "      <td>NaN</td>\n",
       "      <td></td>\n",
       "    </tr>\n",
       "    <tr>\n",
       "      <th>1</th>\n",
       "      <td>2022</td>\n",
       "      <td>February</td>\n",
       "      <td>930.65</td>\n",
       "      <td>1058.5332</td>\n",
       "      <td>250.92</td>\n",
       "      <td>3.71</td>\n",
       "      <td>2021</td>\n",
       "      <td>NaN</td>\n",
       "      <td>NaN</td>\n",
       "      <td>NaN</td>\n",
       "      <td></td>\n",
       "    </tr>\n",
       "    <tr>\n",
       "      <th>2</th>\n",
       "      <td>2022</td>\n",
       "      <td>March</td>\n",
       "      <td>955.83</td>\n",
       "      <td>1069.2161</td>\n",
       "      <td>253.67</td>\n",
       "      <td>3.77</td>\n",
       "      <td>2021</td>\n",
       "      <td>NaN</td>\n",
       "      <td>NaN</td>\n",
       "      <td>NaN</td>\n",
       "      <td></td>\n",
       "    </tr>\n",
       "    <tr>\n",
       "      <th>3</th>\n",
       "      <td>2022</td>\n",
       "      <td>April</td>\n",
       "      <td>944.53</td>\n",
       "      <td>1054.5595</td>\n",
       "      <td>252.28</td>\n",
       "      <td>3.74</td>\n",
       "      <td>2021</td>\n",
       "      <td>NaN</td>\n",
       "      <td>NaN</td>\n",
       "      <td>NaN</td>\n",
       "      <td></td>\n",
       "    </tr>\n",
       "    <tr>\n",
       "      <th>4</th>\n",
       "      <td>2022</td>\n",
       "      <td>May</td>\n",
       "      <td>932.87</td>\n",
       "      <td>1054.3885</td>\n",
       "      <td>251.12</td>\n",
       "      <td>3.71</td>\n",
       "      <td>2021</td>\n",
       "      <td>NaN</td>\n",
       "      <td>NaN</td>\n",
       "      <td>NaN</td>\n",
       "      <td></td>\n",
       "    </tr>\n",
       "    <tr>\n",
       "      <th>5</th>\n",
       "      <td>2022</td>\n",
       "      <td>June</td>\n",
       "      <td>966.36</td>\n",
       "      <td>1082.2070</td>\n",
       "      <td>257.89</td>\n",
       "      <td>3.75</td>\n",
       "      <td>2021</td>\n",
       "      <td>NaN</td>\n",
       "      <td>NaN</td>\n",
       "      <td>NaN</td>\n",
       "      <td></td>\n",
       "    </tr>\n",
       "    <tr>\n",
       "      <th>6</th>\n",
       "      <td>2022</td>\n",
       "      <td>July</td>\n",
       "      <td>956.67</td>\n",
       "      <td>1089.5488</td>\n",
       "      <td>257.81</td>\n",
       "      <td>3.71</td>\n",
       "      <td>2021</td>\n",
       "      <td>NaN</td>\n",
       "      <td>NaN</td>\n",
       "      <td>NaN</td>\n",
       "      <td></td>\n",
       "    </tr>\n",
       "    <tr>\n",
       "      <th>7</th>\n",
       "      <td>2022</td>\n",
       "      <td>August</td>\n",
       "      <td>936.29</td>\n",
       "      <td>1066.0843</td>\n",
       "      <td>251.35</td>\n",
       "      <td>3.73</td>\n",
       "      <td>2021</td>\n",
       "      <td>NaN</td>\n",
       "      <td>NaN</td>\n",
       "      <td>NaN</td>\n",
       "      <td></td>\n",
       "    </tr>\n",
       "    <tr>\n",
       "      <th>8</th>\n",
       "      <td>2022</td>\n",
       "      <td>September</td>\n",
       "      <td>989.15</td>\n",
       "      <td>1095.9701</td>\n",
       "      <td>265.59</td>\n",
       "      <td>3.72</td>\n",
       "      <td>2021</td>\n",
       "      <td>NaN</td>\n",
       "      <td>NaN</td>\n",
       "      <td>NaN</td>\n",
       "      <td></td>\n",
       "    </tr>\n",
       "    <tr>\n",
       "      <th>9</th>\n",
       "      <td>2022</td>\n",
       "      <td>October</td>\n",
       "      <td>1026.19</td>\n",
       "      <td>1151.1098</td>\n",
       "      <td>274.36</td>\n",
       "      <td>3.74</td>\n",
       "      <td>2021</td>\n",
       "      <td>NaN</td>\n",
       "      <td>NaN</td>\n",
       "      <td>NaN</td>\n",
       "      <td></td>\n",
       "    </tr>\n",
       "    <tr>\n",
       "      <th>10</th>\n",
       "      <td>2022</td>\n",
       "      <td>November</td>\n",
       "      <td>1049.91</td>\n",
       "      <td>1182.4145</td>\n",
       "      <td>281.67</td>\n",
       "      <td>3.73</td>\n",
       "      <td>2021</td>\n",
       "      <td>NaN</td>\n",
       "      <td>NaN</td>\n",
       "      <td>NaN</td>\n",
       "      <td></td>\n",
       "    </tr>\n",
       "    <tr>\n",
       "      <th>11</th>\n",
       "      <td>2022</td>\n",
       "      <td>December</td>\n",
       "      <td>918.97</td>\n",
       "      <td>1033.1370</td>\n",
       "      <td>247.98</td>\n",
       "      <td>3.71</td>\n",
       "      <td>2021</td>\n",
       "      <td>NaN</td>\n",
       "      <td>NaN</td>\n",
       "      <td>NaN</td>\n",
       "      <td></td>\n",
       "    </tr>\n",
       "    <tr>\n",
       "      <th>12</th>\n",
       "      <td>2023</td>\n",
       "      <td>January</td>\n",
       "      <td>913.89</td>\n",
       "      <td>949.2454</td>\n",
       "      <td>230.67</td>\n",
       "      <td>3.96</td>\n",
       "      <td>2022</td>\n",
       "      <td>2022.0</td>\n",
       "      <td>2021.0</td>\n",
       "      <td>3.73</td>\n",
       "      <td>6.17%</td>\n",
       "    </tr>\n",
       "    <tr>\n",
       "      <th>13</th>\n",
       "      <td>2023</td>\n",
       "      <td>February</td>\n",
       "      <td>952.40</td>\n",
       "      <td>987.0951</td>\n",
       "      <td>241.89</td>\n",
       "      <td>3.94</td>\n",
       "      <td>2022</td>\n",
       "      <td>2022.0</td>\n",
       "      <td>2021.0</td>\n",
       "      <td>3.71</td>\n",
       "      <td>6.2%</td>\n",
       "    </tr>\n",
       "    <tr>\n",
       "      <th>14</th>\n",
       "      <td>2023</td>\n",
       "      <td>March</td>\n",
       "      <td>921.31</td>\n",
       "      <td>952.8843</td>\n",
       "      <td>232.29</td>\n",
       "      <td>3.97</td>\n",
       "      <td>2022</td>\n",
       "      <td>2022.0</td>\n",
       "      <td>2021.0</td>\n",
       "      <td>3.77</td>\n",
       "      <td>5.31%</td>\n",
       "    </tr>\n",
       "    <tr>\n",
       "      <th>15</th>\n",
       "      <td>2023</td>\n",
       "      <td>April</td>\n",
       "      <td>921.58</td>\n",
       "      <td>953.0439</td>\n",
       "      <td>233.20</td>\n",
       "      <td>3.95</td>\n",
       "      <td>2022</td>\n",
       "      <td>2022.0</td>\n",
       "      <td>2021.0</td>\n",
       "      <td>3.74</td>\n",
       "      <td>5.61%</td>\n",
       "    </tr>\n",
       "    <tr>\n",
       "      <th>16</th>\n",
       "      <td>2023</td>\n",
       "      <td>May</td>\n",
       "      <td>909.58</td>\n",
       "      <td>947.5311</td>\n",
       "      <td>231.47</td>\n",
       "      <td>3.93</td>\n",
       "      <td>2022</td>\n",
       "      <td>2022.0</td>\n",
       "      <td>2021.0</td>\n",
       "      <td>3.71</td>\n",
       "      <td>5.93%</td>\n",
       "    </tr>\n",
       "    <tr>\n",
       "      <th>17</th>\n",
       "      <td>2023</td>\n",
       "      <td>June</td>\n",
       "      <td>917.25</td>\n",
       "      <td>955.1126</td>\n",
       "      <td>234.27</td>\n",
       "      <td>3.92</td>\n",
       "      <td>2022</td>\n",
       "      <td>2022.0</td>\n",
       "      <td>2021.0</td>\n",
       "      <td>3.75</td>\n",
       "      <td>4.53%</td>\n",
       "    </tr>\n",
       "    <tr>\n",
       "      <th>18</th>\n",
       "      <td>2023</td>\n",
       "      <td>July</td>\n",
       "      <td>936.94</td>\n",
       "      <td>964.0274</td>\n",
       "      <td>238.10</td>\n",
       "      <td>3.94</td>\n",
       "      <td>2022</td>\n",
       "      <td>2022.0</td>\n",
       "      <td>2021.0</td>\n",
       "      <td>3.71</td>\n",
       "      <td>6.2%</td>\n",
       "    </tr>\n",
       "    <tr>\n",
       "      <th>19</th>\n",
       "      <td>2023</td>\n",
       "      <td>August</td>\n",
       "      <td>968.66</td>\n",
       "      <td>997.2770</td>\n",
       "      <td>244.91</td>\n",
       "      <td>3.96</td>\n",
       "      <td>2022</td>\n",
       "      <td>2022.0</td>\n",
       "      <td>2021.0</td>\n",
       "      <td>3.73</td>\n",
       "      <td>6.17%</td>\n",
       "    </tr>\n",
       "    <tr>\n",
       "      <th>20</th>\n",
       "      <td>2023</td>\n",
       "      <td>September</td>\n",
       "      <td>927.24</td>\n",
       "      <td>967.8859</td>\n",
       "      <td>235.03</td>\n",
       "      <td>3.95</td>\n",
       "      <td>2022</td>\n",
       "      <td>2022.0</td>\n",
       "      <td>2021.0</td>\n",
       "      <td>3.72</td>\n",
       "      <td>6.18%</td>\n",
       "    </tr>\n",
       "    <tr>\n",
       "      <th>21</th>\n",
       "      <td>2023</td>\n",
       "      <td>October</td>\n",
       "      <td>928.08</td>\n",
       "      <td>954.9884</td>\n",
       "      <td>235.82</td>\n",
       "      <td>3.94</td>\n",
       "      <td>2022</td>\n",
       "      <td>2022.0</td>\n",
       "      <td>2021.0</td>\n",
       "      <td>3.74</td>\n",
       "      <td>5.35%</td>\n",
       "    </tr>\n",
       "    <tr>\n",
       "      <th>22</th>\n",
       "      <td>2023</td>\n",
       "      <td>November</td>\n",
       "      <td>874.21</td>\n",
       "      <td>910.8565</td>\n",
       "      <td>222.31</td>\n",
       "      <td>3.93</td>\n",
       "      <td>2022</td>\n",
       "      <td>2022.0</td>\n",
       "      <td>2021.0</td>\n",
       "      <td>3.73</td>\n",
       "      <td>5.36%</td>\n",
       "    </tr>\n",
       "    <tr>\n",
       "      <th>23</th>\n",
       "      <td>2023</td>\n",
       "      <td>December</td>\n",
       "      <td>908.06</td>\n",
       "      <td>956.6374</td>\n",
       "      <td>231.19</td>\n",
       "      <td>3.93</td>\n",
       "      <td>2022</td>\n",
       "      <td>2022.0</td>\n",
       "      <td>2021.0</td>\n",
       "      <td>3.71</td>\n",
       "      <td>5.93%</td>\n",
       "    </tr>\n",
       "    <tr>\n",
       "      <th>24</th>\n",
       "      <td>2024</td>\n",
       "      <td>January</td>\n",
       "      <td>1017.47</td>\n",
       "      <td>1076.3702</td>\n",
       "      <td>250.39</td>\n",
       "      <td>4.06</td>\n",
       "      <td>2023</td>\n",
       "      <td>2023.0</td>\n",
       "      <td>2022.0</td>\n",
       "      <td>3.96</td>\n",
       "      <td>2.53%</td>\n",
       "    </tr>\n",
       "    <tr>\n",
       "      <th>25</th>\n",
       "      <td>2024</td>\n",
       "      <td>February</td>\n",
       "      <td>964.87</td>\n",
       "      <td>1044.1617</td>\n",
       "      <td>239.39</td>\n",
       "      <td>4.03</td>\n",
       "      <td>2023</td>\n",
       "      <td>2023.0</td>\n",
       "      <td>2022.0</td>\n",
       "      <td>3.94</td>\n",
       "      <td>2.28%</td>\n",
       "    </tr>\n",
       "    <tr>\n",
       "      <th>26</th>\n",
       "      <td>2024</td>\n",
       "      <td>March</td>\n",
       "      <td>995.24</td>\n",
       "      <td>1058.4702</td>\n",
       "      <td>246.64</td>\n",
       "      <td>4.04</td>\n",
       "      <td>2023</td>\n",
       "      <td>2023.0</td>\n",
       "      <td>2022.0</td>\n",
       "      <td>3.97</td>\n",
       "      <td>1.76%</td>\n",
       "    </tr>\n",
       "    <tr>\n",
       "      <th>27</th>\n",
       "      <td>2024</td>\n",
       "      <td>April</td>\n",
       "      <td>959.45</td>\n",
       "      <td>1015.7475</td>\n",
       "      <td>236.88</td>\n",
       "      <td>4.05</td>\n",
       "      <td>2023</td>\n",
       "      <td>2023.0</td>\n",
       "      <td>2022.0</td>\n",
       "      <td>3.95</td>\n",
       "      <td>2.53%</td>\n",
       "    </tr>\n",
       "    <tr>\n",
       "      <th>28</th>\n",
       "      <td>2024</td>\n",
       "      <td>May</td>\n",
       "      <td>911.59</td>\n",
       "      <td>964.7788</td>\n",
       "      <td>225.25</td>\n",
       "      <td>4.05</td>\n",
       "      <td>2023</td>\n",
       "      <td>2023.0</td>\n",
       "      <td>2022.0</td>\n",
       "      <td>3.93</td>\n",
       "      <td>3.05%</td>\n",
       "    </tr>\n",
       "    <tr>\n",
       "      <th>29</th>\n",
       "      <td>2024</td>\n",
       "      <td>June</td>\n",
       "      <td>981.29</td>\n",
       "      <td>1054.3188</td>\n",
       "      <td>245.69</td>\n",
       "      <td>3.99</td>\n",
       "      <td>2023</td>\n",
       "      <td>2023.0</td>\n",
       "      <td>2022.0</td>\n",
       "      <td>3.92</td>\n",
       "      <td>1.79%</td>\n",
       "    </tr>\n",
       "    <tr>\n",
       "      <th>30</th>\n",
       "      <td>2024</td>\n",
       "      <td>July</td>\n",
       "      <td>979.17</td>\n",
       "      <td>1036.8249</td>\n",
       "      <td>241.42</td>\n",
       "      <td>4.06</td>\n",
       "      <td>2023</td>\n",
       "      <td>2023.0</td>\n",
       "      <td>2022.0</td>\n",
       "      <td>3.94</td>\n",
       "      <td>3.05%</td>\n",
       "    </tr>\n",
       "    <tr>\n",
       "      <th>31</th>\n",
       "      <td>2024</td>\n",
       "      <td>August</td>\n",
       "      <td>982.14</td>\n",
       "      <td>1053.8537</td>\n",
       "      <td>241.84</td>\n",
       "      <td>4.06</td>\n",
       "      <td>2023</td>\n",
       "      <td>2023.0</td>\n",
       "      <td>2022.0</td>\n",
       "      <td>3.96</td>\n",
       "      <td>2.53%</td>\n",
       "    </tr>\n",
       "    <tr>\n",
       "      <th>32</th>\n",
       "      <td>2024</td>\n",
       "      <td>September</td>\n",
       "      <td>964.38</td>\n",
       "      <td>1003.1523</td>\n",
       "      <td>235.70</td>\n",
       "      <td>4.09</td>\n",
       "      <td>2023</td>\n",
       "      <td>2023.0</td>\n",
       "      <td>2022.0</td>\n",
       "      <td>3.95</td>\n",
       "      <td>3.54%</td>\n",
       "    </tr>\n",
       "    <tr>\n",
       "      <th>33</th>\n",
       "      <td>2024</td>\n",
       "      <td>October</td>\n",
       "      <td>939.84</td>\n",
       "      <td>1007.4559</td>\n",
       "      <td>232.33</td>\n",
       "      <td>4.05</td>\n",
       "      <td>2023</td>\n",
       "      <td>2023.0</td>\n",
       "      <td>2022.0</td>\n",
       "      <td>3.94</td>\n",
       "      <td>2.79%</td>\n",
       "    </tr>\n",
       "    <tr>\n",
       "      <th>34</th>\n",
       "      <td>2024</td>\n",
       "      <td>November</td>\n",
       "      <td>948.72</td>\n",
       "      <td>1011.9838</td>\n",
       "      <td>233.24</td>\n",
       "      <td>4.07</td>\n",
       "      <td>2023</td>\n",
       "      <td>2023.0</td>\n",
       "      <td>2022.0</td>\n",
       "      <td>3.93</td>\n",
       "      <td>3.56%</td>\n",
       "    </tr>\n",
       "    <tr>\n",
       "      <th>35</th>\n",
       "      <td>2024</td>\n",
       "      <td>December</td>\n",
       "      <td>978.64</td>\n",
       "      <td>1036.4707</td>\n",
       "      <td>240.67</td>\n",
       "      <td>4.07</td>\n",
       "      <td>2023</td>\n",
       "      <td>2023.0</td>\n",
       "      <td>2022.0</td>\n",
       "      <td>3.93</td>\n",
       "      <td>3.56%</td>\n",
       "    </tr>\n",
       "  </tbody>\n",
       "</table>\n",
       "</div>"
      ],
      "text/plain": [
       "    Year Month_Name  ...  Monthly_PRASK_prev  YoY %\n",
       "0   2022    January  ...                 NaN       \n",
       "1   2022   February  ...                 NaN       \n",
       "2   2022      March  ...                 NaN       \n",
       "3   2022      April  ...                 NaN       \n",
       "4   2022        May  ...                 NaN       \n",
       "5   2022       June  ...                 NaN       \n",
       "6   2022       July  ...                 NaN       \n",
       "7   2022     August  ...                 NaN       \n",
       "8   2022  September  ...                 NaN       \n",
       "9   2022    October  ...                 NaN       \n",
       "10  2022   November  ...                 NaN       \n",
       "11  2022   December  ...                 NaN       \n",
       "12  2023    January  ...                3.73  6.17%\n",
       "13  2023   February  ...                3.71   6.2%\n",
       "14  2023      March  ...                3.77  5.31%\n",
       "15  2023      April  ...                3.74  5.61%\n",
       "16  2023        May  ...                3.71  5.93%\n",
       "17  2023       June  ...                3.75  4.53%\n",
       "18  2023       July  ...                3.71   6.2%\n",
       "19  2023     August  ...                3.73  6.17%\n",
       "20  2023  September  ...                3.72  6.18%\n",
       "21  2023    October  ...                3.74  5.35%\n",
       "22  2023   November  ...                3.73  5.36%\n",
       "23  2023   December  ...                3.71  5.93%\n",
       "24  2024    January  ...                3.96  2.53%\n",
       "25  2024   February  ...                3.94  2.28%\n",
       "26  2024      March  ...                3.97  1.76%\n",
       "27  2024      April  ...                3.95  2.53%\n",
       "28  2024        May  ...                3.93  3.05%\n",
       "29  2024       June  ...                3.92  1.79%\n",
       "30  2024       July  ...                3.94  3.05%\n",
       "31  2024     August  ...                3.96  2.53%\n",
       "32  2024  September  ...                3.95  3.54%\n",
       "33  2024    October  ...                3.94  2.79%\n",
       "34  2024   November  ...                3.93  3.56%\n",
       "35  2024   December  ...                3.93  3.56%\n",
       "\n",
       "[36 rows x 11 columns]"
      ]
     },
     "execution_count": 43,
     "metadata": {},
     "output_type": "execute_result"
    }
   ],
   "source": [
    "yoydif.rename(columns={\"Monthly_PRASK_o\":\"Monthly_PRASK\", \"Monthly_PRASK_n\":\"Monthly_PRASK_prev\",\"Year_o\":\"Year\"}, inplace=True)\n",
    "yoydif"
   ]
  },
  {
   "cell_type": "code",
   "execution_count": 44,
   "id": "371b9eb5",
   "metadata": {},
   "outputs": [
    {
     "data": {
      "application/vnd.plotly.v1+json": {
       "config": {
        "plotlyServerURL": "https://plot.ly"
       },
       "data": [
        {
         "customdata": [
          [
           ""
          ],
          [
           ""
          ],
          [
           ""
          ],
          [
           ""
          ],
          [
           ""
          ],
          [
           ""
          ],
          [
           ""
          ],
          [
           ""
          ],
          [
           ""
          ],
          [
           ""
          ],
          [
           ""
          ],
          [
           ""
          ]
         ],
         "hovertemplate": "Year=2022<br>Month_Name=%{x}<br>PRASK (INR)=%{text}<br>YoY=%{customdata[0]}<extra></extra>",
         "legendgroup": "2022",
         "line": {
          "color": "#636efa",
          "dash": "solid"
         },
         "marker": {
          "line": {
           "color": "DarkSlateGrey",
           "width": 1
          },
          "symbol": "circle"
         },
         "mode": "lines+markers+text",
         "name": "2022",
         "orientation": "v",
         "showlegend": true,
         "text": {
          "bdata": "16NwPQrXDUCuR+F6FK4NQClcj8L1KA5A7FG4HoXrDUCuR+F6FK4NQAAAAAAAAA5ArkfhehSuDUDXo3A9CtcNQMP1KFyPwg1A7FG4HoXrDUDXo3A9CtcNQK5H4XoUrg1A",
          "dtype": "f8"
         },
         "textposition": "top center",
         "type": "scatter",
         "x": [
          "January",
          "February",
          "March",
          "April",
          "May",
          "June",
          "July",
          "August",
          "September",
          "October",
          "November",
          "December"
         ],
         "xaxis": "x",
         "y": {
          "bdata": "16NwPQrXDUCuR+F6FK4NQClcj8L1KA5A7FG4HoXrDUCuR+F6FK4NQAAAAAAAAA5ArkfhehSuDUDXo3A9CtcNQMP1KFyPwg1A7FG4HoXrDUDXo3A9CtcNQK5H4XoUrg1A",
          "dtype": "f8"
         },
         "yaxis": "y"
        },
        {
         "customdata": [
          [
           "6.17%"
          ],
          [
           "6.2%"
          ],
          [
           "5.31%"
          ],
          [
           "5.61%"
          ],
          [
           "5.93%"
          ],
          [
           "4.53%"
          ],
          [
           "6.2%"
          ],
          [
           "6.17%"
          ],
          [
           "6.18%"
          ],
          [
           "5.35%"
          ],
          [
           "5.36%"
          ],
          [
           "5.93%"
          ]
         ],
         "hovertemplate": "Year=2023<br>Month_Name=%{x}<br>PRASK (INR)=%{text}<br>YoY=%{customdata[0]}<extra></extra>",
         "legendgroup": "2023",
         "line": {
          "color": "#EF553B",
          "dash": "solid"
         },
         "marker": {
          "line": {
           "color": "DarkSlateGrey",
           "width": 1
          },
          "symbol": "circle"
         },
         "mode": "lines+markers+text",
         "name": "2023",
         "orientation": "v",
         "showlegend": true,
         "text": {
          "bdata": "rkfhehSuD0CF61G4HoUPQMP1KFyPwg9AmpmZmZmZD0BxPQrXo3APQFyPwvUoXA9AhetRuB6FD0CuR+F6FK4PQJqZmZmZmQ9AhetRuB6FD0BxPQrXo3APQHE9CtejcA9A",
          "dtype": "f8"
         },
         "textposition": "top center",
         "type": "scatter",
         "x": [
          "January",
          "February",
          "March",
          "April",
          "May",
          "June",
          "July",
          "August",
          "September",
          "October",
          "November",
          "December"
         ],
         "xaxis": "x",
         "y": {
          "bdata": "rkfhehSuD0CF61G4HoUPQMP1KFyPwg9AmpmZmZmZD0BxPQrXo3APQFyPwvUoXA9AhetRuB6FD0CuR+F6FK4PQJqZmZmZmQ9AhetRuB6FD0BxPQrXo3APQHE9CtejcA9A",
          "dtype": "f8"
         },
         "yaxis": "y"
        },
        {
         "customdata": [
          [
           "2.53%"
          ],
          [
           "2.28%"
          ],
          [
           "1.76%"
          ],
          [
           "2.53%"
          ],
          [
           "3.05%"
          ],
          [
           "1.79%"
          ],
          [
           "3.05%"
          ],
          [
           "2.53%"
          ],
          [
           "3.54%"
          ],
          [
           "2.79%"
          ],
          [
           "3.56%"
          ],
          [
           "3.56%"
          ]
         ],
         "hovertemplate": "Year=2024<br>Month_Name=%{x}<br>PRASK (INR)=%{text}<br>YoY=%{customdata[0]}<extra></extra>",
         "legendgroup": "2024",
         "line": {
          "color": "#00cc96",
          "dash": "solid"
         },
         "marker": {
          "line": {
           "color": "DarkSlateGrey",
           "width": 1
          },
          "symbol": "circle"
         },
         "mode": "lines+markers+text",
         "name": "2024",
         "orientation": "v",
         "showlegend": true,
         "text": {
          "bdata": "PQrXo3A9EEAfhetRuB4QQClcj8L1KBBAMzMzMzMzEEAzMzMzMzMQQOxRuB6F6w9APQrXo3A9EEA9CtejcD0QQFyPwvUoXBBAMzMzMzMzEEBI4XoUrkcQQEjhehSuRxBA",
          "dtype": "f8"
         },
         "textposition": "top center",
         "type": "scatter",
         "x": [
          "January",
          "February",
          "March",
          "April",
          "May",
          "June",
          "July",
          "August",
          "September",
          "October",
          "November",
          "December"
         ],
         "xaxis": "x",
         "y": {
          "bdata": "PQrXo3A9EEAfhetRuB4QQClcj8L1KBBAMzMzMzMzEEAzMzMzMzMQQOxRuB6F6w9APQrXo3A9EEA9CtejcD0QQFyPwvUoXBBAMzMzMzMzEEBI4XoUrkcQQEjhehSuRxBA",
          "dtype": "f8"
         },
         "yaxis": "y"
        }
       ],
       "layout": {
        "legend": {
         "title": {
          "text": "Year"
         },
         "tracegroupgap": 0
        },
        "template": {
         "data": {
          "bar": [
           {
            "error_x": {
             "color": "#2a3f5f"
            },
            "error_y": {
             "color": "#2a3f5f"
            },
            "marker": {
             "line": {
              "color": "white",
              "width": 0.5
             },
             "pattern": {
              "fillmode": "overlay",
              "size": 10,
              "solidity": 0.2
             }
            },
            "type": "bar"
           }
          ],
          "barpolar": [
           {
            "marker": {
             "line": {
              "color": "white",
              "width": 0.5
             },
             "pattern": {
              "fillmode": "overlay",
              "size": 10,
              "solidity": 0.2
             }
            },
            "type": "barpolar"
           }
          ],
          "carpet": [
           {
            "aaxis": {
             "endlinecolor": "#2a3f5f",
             "gridcolor": "#C8D4E3",
             "linecolor": "#C8D4E3",
             "minorgridcolor": "#C8D4E3",
             "startlinecolor": "#2a3f5f"
            },
            "baxis": {
             "endlinecolor": "#2a3f5f",
             "gridcolor": "#C8D4E3",
             "linecolor": "#C8D4E3",
             "minorgridcolor": "#C8D4E3",
             "startlinecolor": "#2a3f5f"
            },
            "type": "carpet"
           }
          ],
          "choropleth": [
           {
            "colorbar": {
             "outlinewidth": 0,
             "ticks": ""
            },
            "type": "choropleth"
           }
          ],
          "contour": [
           {
            "colorbar": {
             "outlinewidth": 0,
             "ticks": ""
            },
            "colorscale": [
             [
              0,
              "#0d0887"
             ],
             [
              0.1111111111111111,
              "#46039f"
             ],
             [
              0.2222222222222222,
              "#7201a8"
             ],
             [
              0.3333333333333333,
              "#9c179e"
             ],
             [
              0.4444444444444444,
              "#bd3786"
             ],
             [
              0.5555555555555556,
              "#d8576b"
             ],
             [
              0.6666666666666666,
              "#ed7953"
             ],
             [
              0.7777777777777778,
              "#fb9f3a"
             ],
             [
              0.8888888888888888,
              "#fdca26"
             ],
             [
              1,
              "#f0f921"
             ]
            ],
            "type": "contour"
           }
          ],
          "contourcarpet": [
           {
            "colorbar": {
             "outlinewidth": 0,
             "ticks": ""
            },
            "type": "contourcarpet"
           }
          ],
          "heatmap": [
           {
            "colorbar": {
             "outlinewidth": 0,
             "ticks": ""
            },
            "colorscale": [
             [
              0,
              "#0d0887"
             ],
             [
              0.1111111111111111,
              "#46039f"
             ],
             [
              0.2222222222222222,
              "#7201a8"
             ],
             [
              0.3333333333333333,
              "#9c179e"
             ],
             [
              0.4444444444444444,
              "#bd3786"
             ],
             [
              0.5555555555555556,
              "#d8576b"
             ],
             [
              0.6666666666666666,
              "#ed7953"
             ],
             [
              0.7777777777777778,
              "#fb9f3a"
             ],
             [
              0.8888888888888888,
              "#fdca26"
             ],
             [
              1,
              "#f0f921"
             ]
            ],
            "type": "heatmap"
           }
          ],
          "histogram": [
           {
            "marker": {
             "pattern": {
              "fillmode": "overlay",
              "size": 10,
              "solidity": 0.2
             }
            },
            "type": "histogram"
           }
          ],
          "histogram2d": [
           {
            "colorbar": {
             "outlinewidth": 0,
             "ticks": ""
            },
            "colorscale": [
             [
              0,
              "#0d0887"
             ],
             [
              0.1111111111111111,
              "#46039f"
             ],
             [
              0.2222222222222222,
              "#7201a8"
             ],
             [
              0.3333333333333333,
              "#9c179e"
             ],
             [
              0.4444444444444444,
              "#bd3786"
             ],
             [
              0.5555555555555556,
              "#d8576b"
             ],
             [
              0.6666666666666666,
              "#ed7953"
             ],
             [
              0.7777777777777778,
              "#fb9f3a"
             ],
             [
              0.8888888888888888,
              "#fdca26"
             ],
             [
              1,
              "#f0f921"
             ]
            ],
            "type": "histogram2d"
           }
          ],
          "histogram2dcontour": [
           {
            "colorbar": {
             "outlinewidth": 0,
             "ticks": ""
            },
            "colorscale": [
             [
              0,
              "#0d0887"
             ],
             [
              0.1111111111111111,
              "#46039f"
             ],
             [
              0.2222222222222222,
              "#7201a8"
             ],
             [
              0.3333333333333333,
              "#9c179e"
             ],
             [
              0.4444444444444444,
              "#bd3786"
             ],
             [
              0.5555555555555556,
              "#d8576b"
             ],
             [
              0.6666666666666666,
              "#ed7953"
             ],
             [
              0.7777777777777778,
              "#fb9f3a"
             ],
             [
              0.8888888888888888,
              "#fdca26"
             ],
             [
              1,
              "#f0f921"
             ]
            ],
            "type": "histogram2dcontour"
           }
          ],
          "mesh3d": [
           {
            "colorbar": {
             "outlinewidth": 0,
             "ticks": ""
            },
            "type": "mesh3d"
           }
          ],
          "parcoords": [
           {
            "line": {
             "colorbar": {
              "outlinewidth": 0,
              "ticks": ""
             }
            },
            "type": "parcoords"
           }
          ],
          "pie": [
           {
            "automargin": true,
            "type": "pie"
           }
          ],
          "scatter": [
           {
            "fillpattern": {
             "fillmode": "overlay",
             "size": 10,
             "solidity": 0.2
            },
            "type": "scatter"
           }
          ],
          "scatter3d": [
           {
            "line": {
             "colorbar": {
              "outlinewidth": 0,
              "ticks": ""
             }
            },
            "marker": {
             "colorbar": {
              "outlinewidth": 0,
              "ticks": ""
             }
            },
            "type": "scatter3d"
           }
          ],
          "scattercarpet": [
           {
            "marker": {
             "colorbar": {
              "outlinewidth": 0,
              "ticks": ""
             }
            },
            "type": "scattercarpet"
           }
          ],
          "scattergeo": [
           {
            "marker": {
             "colorbar": {
              "outlinewidth": 0,
              "ticks": ""
             }
            },
            "type": "scattergeo"
           }
          ],
          "scattergl": [
           {
            "marker": {
             "colorbar": {
              "outlinewidth": 0,
              "ticks": ""
             }
            },
            "type": "scattergl"
           }
          ],
          "scattermap": [
           {
            "marker": {
             "colorbar": {
              "outlinewidth": 0,
              "ticks": ""
             }
            },
            "type": "scattermap"
           }
          ],
          "scattermapbox": [
           {
            "marker": {
             "colorbar": {
              "outlinewidth": 0,
              "ticks": ""
             }
            },
            "type": "scattermapbox"
           }
          ],
          "scatterpolar": [
           {
            "marker": {
             "colorbar": {
              "outlinewidth": 0,
              "ticks": ""
             }
            },
            "type": "scatterpolar"
           }
          ],
          "scatterpolargl": [
           {
            "marker": {
             "colorbar": {
              "outlinewidth": 0,
              "ticks": ""
             }
            },
            "type": "scatterpolargl"
           }
          ],
          "scatterternary": [
           {
            "marker": {
             "colorbar": {
              "outlinewidth": 0,
              "ticks": ""
             }
            },
            "type": "scatterternary"
           }
          ],
          "surface": [
           {
            "colorbar": {
             "outlinewidth": 0,
             "ticks": ""
            },
            "colorscale": [
             [
              0,
              "#0d0887"
             ],
             [
              0.1111111111111111,
              "#46039f"
             ],
             [
              0.2222222222222222,
              "#7201a8"
             ],
             [
              0.3333333333333333,
              "#9c179e"
             ],
             [
              0.4444444444444444,
              "#bd3786"
             ],
             [
              0.5555555555555556,
              "#d8576b"
             ],
             [
              0.6666666666666666,
              "#ed7953"
             ],
             [
              0.7777777777777778,
              "#fb9f3a"
             ],
             [
              0.8888888888888888,
              "#fdca26"
             ],
             [
              1,
              "#f0f921"
             ]
            ],
            "type": "surface"
           }
          ],
          "table": [
           {
            "cells": {
             "fill": {
              "color": "#EBF0F8"
             },
             "line": {
              "color": "white"
             }
            },
            "header": {
             "fill": {
              "color": "#C8D4E3"
             },
             "line": {
              "color": "white"
             }
            },
            "type": "table"
           }
          ]
         },
         "layout": {
          "annotationdefaults": {
           "arrowcolor": "#2a3f5f",
           "arrowhead": 0,
           "arrowwidth": 1
          },
          "autotypenumbers": "strict",
          "coloraxis": {
           "colorbar": {
            "outlinewidth": 0,
            "ticks": ""
           }
          },
          "colorscale": {
           "diverging": [
            [
             0,
             "#8e0152"
            ],
            [
             0.1,
             "#c51b7d"
            ],
            [
             0.2,
             "#de77ae"
            ],
            [
             0.3,
             "#f1b6da"
            ],
            [
             0.4,
             "#fde0ef"
            ],
            [
             0.5,
             "#f7f7f7"
            ],
            [
             0.6,
             "#e6f5d0"
            ],
            [
             0.7,
             "#b8e186"
            ],
            [
             0.8,
             "#7fbc41"
            ],
            [
             0.9,
             "#4d9221"
            ],
            [
             1,
             "#276419"
            ]
           ],
           "sequential": [
            [
             0,
             "#0d0887"
            ],
            [
             0.1111111111111111,
             "#46039f"
            ],
            [
             0.2222222222222222,
             "#7201a8"
            ],
            [
             0.3333333333333333,
             "#9c179e"
            ],
            [
             0.4444444444444444,
             "#bd3786"
            ],
            [
             0.5555555555555556,
             "#d8576b"
            ],
            [
             0.6666666666666666,
             "#ed7953"
            ],
            [
             0.7777777777777778,
             "#fb9f3a"
            ],
            [
             0.8888888888888888,
             "#fdca26"
            ],
            [
             1,
             "#f0f921"
            ]
           ],
           "sequentialminus": [
            [
             0,
             "#0d0887"
            ],
            [
             0.1111111111111111,
             "#46039f"
            ],
            [
             0.2222222222222222,
             "#7201a8"
            ],
            [
             0.3333333333333333,
             "#9c179e"
            ],
            [
             0.4444444444444444,
             "#bd3786"
            ],
            [
             0.5555555555555556,
             "#d8576b"
            ],
            [
             0.6666666666666666,
             "#ed7953"
            ],
            [
             0.7777777777777778,
             "#fb9f3a"
            ],
            [
             0.8888888888888888,
             "#fdca26"
            ],
            [
             1,
             "#f0f921"
            ]
           ]
          },
          "colorway": [
           "#636efa",
           "#EF553B",
           "#00cc96",
           "#ab63fa",
           "#FFA15A",
           "#19d3f3",
           "#FF6692",
           "#B6E880",
           "#FF97FF",
           "#FECB52"
          ],
          "font": {
           "color": "#2a3f5f"
          },
          "geo": {
           "bgcolor": "white",
           "lakecolor": "white",
           "landcolor": "white",
           "showlakes": true,
           "showland": true,
           "subunitcolor": "#C8D4E3"
          },
          "hoverlabel": {
           "align": "left"
          },
          "hovermode": "closest",
          "mapbox": {
           "style": "light"
          },
          "paper_bgcolor": "white",
          "plot_bgcolor": "white",
          "polar": {
           "angularaxis": {
            "gridcolor": "#EBF0F8",
            "linecolor": "#EBF0F8",
            "ticks": ""
           },
           "bgcolor": "white",
           "radialaxis": {
            "gridcolor": "#EBF0F8",
            "linecolor": "#EBF0F8",
            "ticks": ""
           }
          },
          "scene": {
           "xaxis": {
            "backgroundcolor": "white",
            "gridcolor": "#DFE8F3",
            "gridwidth": 2,
            "linecolor": "#EBF0F8",
            "showbackground": true,
            "ticks": "",
            "zerolinecolor": "#EBF0F8"
           },
           "yaxis": {
            "backgroundcolor": "white",
            "gridcolor": "#DFE8F3",
            "gridwidth": 2,
            "linecolor": "#EBF0F8",
            "showbackground": true,
            "ticks": "",
            "zerolinecolor": "#EBF0F8"
           },
           "zaxis": {
            "backgroundcolor": "white",
            "gridcolor": "#DFE8F3",
            "gridwidth": 2,
            "linecolor": "#EBF0F8",
            "showbackground": true,
            "ticks": "",
            "zerolinecolor": "#EBF0F8"
           }
          },
          "shapedefaults": {
           "line": {
            "color": "#2a3f5f"
           }
          },
          "ternary": {
           "aaxis": {
            "gridcolor": "#DFE8F3",
            "linecolor": "#A2B1C6",
            "ticks": ""
           },
           "baxis": {
            "gridcolor": "#DFE8F3",
            "linecolor": "#A2B1C6",
            "ticks": ""
           },
           "bgcolor": "white",
           "caxis": {
            "gridcolor": "#DFE8F3",
            "linecolor": "#A2B1C6",
            "ticks": ""
           }
          },
          "title": {
           "x": 0.05
          },
          "xaxis": {
           "automargin": true,
           "gridcolor": "#EBF0F8",
           "linecolor": "#EBF0F8",
           "ticks": "",
           "title": {
            "standoff": 15
           },
           "zerolinecolor": "#EBF0F8",
           "zerolinewidth": 2
          },
          "yaxis": {
           "automargin": true,
           "gridcolor": "#EBF0F8",
           "linecolor": "#EBF0F8",
           "ticks": "",
           "title": {
            "standoff": 15
           },
           "zerolinecolor": "#EBF0F8",
           "zerolinewidth": 2
          }
         }
        },
        "title": {
         "text": "Monthly PRASK Trend"
        },
        "xaxis": {
         "anchor": "y",
         "categoryarray": [
          "January",
          "February",
          "March",
          "April",
          "May",
          "June",
          "July",
          "August",
          "September",
          "October",
          "November",
          "December"
         ],
         "categoryorder": "array",
         "domain": [
          0,
          1
         ],
         "title": {
          "text": "Month"
         }
        },
        "yaxis": {
         "anchor": "x",
         "domain": [
          0,
          1
         ],
         "title": {
          "text": "PRASK (INR)"
         }
        }
       }
      }
     },
     "metadata": {},
     "output_type": "display_data"
    }
   ],
   "source": [
    "from utils.dataframes import md\n",
    "\n",
    "def monthly_trend():\n",
    "    pnl=md\n",
    "    pnl[\"shifted_year\"]=pnl[\"Year\"].astype(int)-1\n",
    "    pnl_shifted=pnl.copy()\n",
    "    yoydif=pnl_shifted.merge(pnl[[\"Year\",\"shifted_year\",\"Month_Name\",\"Monthly_PRASK\"]],\n",
    "                              left_on=[\"shifted_year\",\"Month_Name\"], right_on=[\"Year\",\"Month_Name\"],\n",
    "                                how=\"left\", suffixes=(\"_o\", \"_n\"))\n",
    "    yoydif[\"YoY\"]=round((yoydif[\"Monthly_PRASK_o\"]-yoydif[\"Monthly_PRASK_n\"])/yoydif[\"Monthly_PRASK_n\"]*100,2).astype(str) +\"%\"\n",
    "    yoydif[\"YoY\"]=yoydif[\"YoY\"].replace(\"nan%\",\"\")\n",
    "    yoydif.rename(columns={\"Monthly_PRASK_o\":\"Monthly_PRASK\", \"Monthly_PRASK_n\":\"Monthly_PRASK_prev\",\"Year_o\":\"Year\"}, inplace=True)\n",
    "    month_order = [\n",
    "        \"January\", \"February\", \"March\", \"April\", \"May\", \"June\",\n",
    "        \"July\", \"August\", \"September\", \"October\", \"November\", \"December\"\n",
    "    ]\n",
    "    fig=px.line(yoydif, x=\"Month_Name\", y=\"Monthly_PRASK\",\n",
    "                color=\"Year\",\n",
    "                title=\"Monthly PRASK Trend\",\n",
    "                labels={\"Monthly_PRASK\":\"PRASK (INR)\"},\n",
    "                markers=True,\n",
    "                category_orders={\"Month_Name\": month_order},\n",
    "                hover_data=[\"YoY\"],\n",
    "                text=\"Monthly_PRASK\"\n",
    "                )\n",
    "    fig.update_traces(marker=dict(line=dict(width=1, color='DarkSlateGrey')), textposition=\"top center\")\n",
    "    fig.update_layout(\n",
    "        xaxis_title=\"Month\",\n",
    "        yaxis_title=\"PRASK (INR)\",\n",
    "        legend_title=\"Year\",\n",
    "        template=\"plotly_white\"\n",
    "\n",
    "    )\n",
    "    return fig.show()\n",
    "monthly_trend()"
   ]
  },
  {
   "cell_type": "code",
   "execution_count": 45,
   "id": "7a9dd60c",
   "metadata": {},
   "outputs": [
    {
     "data": {
      "text/html": [
       "<div>\n",
       "<style scoped>\n",
       "    .dataframe tbody tr th:only-of-type {\n",
       "        vertical-align: middle;\n",
       "    }\n",
       "\n",
       "    .dataframe tbody tr th {\n",
       "        vertical-align: top;\n",
       "    }\n",
       "\n",
       "    .dataframe thead th {\n",
       "        text-align: right;\n",
       "    }\n",
       "</style>\n",
       "<table border=\"1\" class=\"dataframe\">\n",
       "  <thead>\n",
       "    <tr style=\"text-align: right;\">\n",
       "      <th></th>\n",
       "      <th>Year</th>\n",
       "      <th>Month_Name</th>\n",
       "      <th>Revenue (INR Mn)</th>\n",
       "      <th>Cost (INR Mn)</th>\n",
       "      <th>ASK (Mn km)</th>\n",
       "      <th>Monthly_PRASK</th>\n",
       "      <th>shifted_year</th>\n",
       "    </tr>\n",
       "  </thead>\n",
       "  <tbody>\n",
       "    <tr>\n",
       "      <th>0</th>\n",
       "      <td>2022</td>\n",
       "      <td>January</td>\n",
       "      <td>874.93</td>\n",
       "      <td>982.1233</td>\n",
       "      <td>234.79</td>\n",
       "      <td>3.73</td>\n",
       "      <td>2021</td>\n",
       "    </tr>\n",
       "    <tr>\n",
       "      <th>1</th>\n",
       "      <td>2022</td>\n",
       "      <td>February</td>\n",
       "      <td>930.65</td>\n",
       "      <td>1058.5332</td>\n",
       "      <td>250.92</td>\n",
       "      <td>3.71</td>\n",
       "      <td>2021</td>\n",
       "    </tr>\n",
       "    <tr>\n",
       "      <th>2</th>\n",
       "      <td>2022</td>\n",
       "      <td>March</td>\n",
       "      <td>955.83</td>\n",
       "      <td>1069.2161</td>\n",
       "      <td>253.67</td>\n",
       "      <td>3.77</td>\n",
       "      <td>2021</td>\n",
       "    </tr>\n",
       "    <tr>\n",
       "      <th>3</th>\n",
       "      <td>2022</td>\n",
       "      <td>April</td>\n",
       "      <td>944.53</td>\n",
       "      <td>1054.5595</td>\n",
       "      <td>252.28</td>\n",
       "      <td>3.74</td>\n",
       "      <td>2021</td>\n",
       "    </tr>\n",
       "    <tr>\n",
       "      <th>4</th>\n",
       "      <td>2022</td>\n",
       "      <td>May</td>\n",
       "      <td>932.87</td>\n",
       "      <td>1054.3885</td>\n",
       "      <td>251.12</td>\n",
       "      <td>3.71</td>\n",
       "      <td>2021</td>\n",
       "    </tr>\n",
       "    <tr>\n",
       "      <th>5</th>\n",
       "      <td>2022</td>\n",
       "      <td>June</td>\n",
       "      <td>966.36</td>\n",
       "      <td>1082.2070</td>\n",
       "      <td>257.89</td>\n",
       "      <td>3.75</td>\n",
       "      <td>2021</td>\n",
       "    </tr>\n",
       "    <tr>\n",
       "      <th>6</th>\n",
       "      <td>2022</td>\n",
       "      <td>July</td>\n",
       "      <td>956.67</td>\n",
       "      <td>1089.5488</td>\n",
       "      <td>257.81</td>\n",
       "      <td>3.71</td>\n",
       "      <td>2021</td>\n",
       "    </tr>\n",
       "    <tr>\n",
       "      <th>7</th>\n",
       "      <td>2022</td>\n",
       "      <td>August</td>\n",
       "      <td>936.29</td>\n",
       "      <td>1066.0843</td>\n",
       "      <td>251.35</td>\n",
       "      <td>3.73</td>\n",
       "      <td>2021</td>\n",
       "    </tr>\n",
       "    <tr>\n",
       "      <th>8</th>\n",
       "      <td>2022</td>\n",
       "      <td>September</td>\n",
       "      <td>989.15</td>\n",
       "      <td>1095.9701</td>\n",
       "      <td>265.59</td>\n",
       "      <td>3.72</td>\n",
       "      <td>2021</td>\n",
       "    </tr>\n",
       "    <tr>\n",
       "      <th>9</th>\n",
       "      <td>2022</td>\n",
       "      <td>October</td>\n",
       "      <td>1026.19</td>\n",
       "      <td>1151.1098</td>\n",
       "      <td>274.36</td>\n",
       "      <td>3.74</td>\n",
       "      <td>2021</td>\n",
       "    </tr>\n",
       "    <tr>\n",
       "      <th>10</th>\n",
       "      <td>2022</td>\n",
       "      <td>November</td>\n",
       "      <td>1049.91</td>\n",
       "      <td>1182.4145</td>\n",
       "      <td>281.67</td>\n",
       "      <td>3.73</td>\n",
       "      <td>2021</td>\n",
       "    </tr>\n",
       "    <tr>\n",
       "      <th>11</th>\n",
       "      <td>2022</td>\n",
       "      <td>December</td>\n",
       "      <td>918.97</td>\n",
       "      <td>1033.1370</td>\n",
       "      <td>247.98</td>\n",
       "      <td>3.71</td>\n",
       "      <td>2021</td>\n",
       "    </tr>\n",
       "    <tr>\n",
       "      <th>12</th>\n",
       "      <td>2023</td>\n",
       "      <td>January</td>\n",
       "      <td>913.89</td>\n",
       "      <td>949.2454</td>\n",
       "      <td>230.67</td>\n",
       "      <td>3.96</td>\n",
       "      <td>2022</td>\n",
       "    </tr>\n",
       "    <tr>\n",
       "      <th>13</th>\n",
       "      <td>2023</td>\n",
       "      <td>February</td>\n",
       "      <td>952.40</td>\n",
       "      <td>987.0951</td>\n",
       "      <td>241.89</td>\n",
       "      <td>3.94</td>\n",
       "      <td>2022</td>\n",
       "    </tr>\n",
       "    <tr>\n",
       "      <th>14</th>\n",
       "      <td>2023</td>\n",
       "      <td>March</td>\n",
       "      <td>921.31</td>\n",
       "      <td>952.8843</td>\n",
       "      <td>232.29</td>\n",
       "      <td>3.97</td>\n",
       "      <td>2022</td>\n",
       "    </tr>\n",
       "    <tr>\n",
       "      <th>15</th>\n",
       "      <td>2023</td>\n",
       "      <td>April</td>\n",
       "      <td>921.58</td>\n",
       "      <td>953.0439</td>\n",
       "      <td>233.20</td>\n",
       "      <td>3.95</td>\n",
       "      <td>2022</td>\n",
       "    </tr>\n",
       "    <tr>\n",
       "      <th>16</th>\n",
       "      <td>2023</td>\n",
       "      <td>May</td>\n",
       "      <td>909.58</td>\n",
       "      <td>947.5311</td>\n",
       "      <td>231.47</td>\n",
       "      <td>3.93</td>\n",
       "      <td>2022</td>\n",
       "    </tr>\n",
       "    <tr>\n",
       "      <th>17</th>\n",
       "      <td>2023</td>\n",
       "      <td>June</td>\n",
       "      <td>917.25</td>\n",
       "      <td>955.1126</td>\n",
       "      <td>234.27</td>\n",
       "      <td>3.92</td>\n",
       "      <td>2022</td>\n",
       "    </tr>\n",
       "    <tr>\n",
       "      <th>18</th>\n",
       "      <td>2023</td>\n",
       "      <td>July</td>\n",
       "      <td>936.94</td>\n",
       "      <td>964.0274</td>\n",
       "      <td>238.10</td>\n",
       "      <td>3.94</td>\n",
       "      <td>2022</td>\n",
       "    </tr>\n",
       "    <tr>\n",
       "      <th>19</th>\n",
       "      <td>2023</td>\n",
       "      <td>August</td>\n",
       "      <td>968.66</td>\n",
       "      <td>997.2770</td>\n",
       "      <td>244.91</td>\n",
       "      <td>3.96</td>\n",
       "      <td>2022</td>\n",
       "    </tr>\n",
       "    <tr>\n",
       "      <th>20</th>\n",
       "      <td>2023</td>\n",
       "      <td>September</td>\n",
       "      <td>927.24</td>\n",
       "      <td>967.8859</td>\n",
       "      <td>235.03</td>\n",
       "      <td>3.95</td>\n",
       "      <td>2022</td>\n",
       "    </tr>\n",
       "    <tr>\n",
       "      <th>21</th>\n",
       "      <td>2023</td>\n",
       "      <td>October</td>\n",
       "      <td>928.08</td>\n",
       "      <td>954.9884</td>\n",
       "      <td>235.82</td>\n",
       "      <td>3.94</td>\n",
       "      <td>2022</td>\n",
       "    </tr>\n",
       "    <tr>\n",
       "      <th>22</th>\n",
       "      <td>2023</td>\n",
       "      <td>November</td>\n",
       "      <td>874.21</td>\n",
       "      <td>910.8565</td>\n",
       "      <td>222.31</td>\n",
       "      <td>3.93</td>\n",
       "      <td>2022</td>\n",
       "    </tr>\n",
       "    <tr>\n",
       "      <th>23</th>\n",
       "      <td>2023</td>\n",
       "      <td>December</td>\n",
       "      <td>908.06</td>\n",
       "      <td>956.6374</td>\n",
       "      <td>231.19</td>\n",
       "      <td>3.93</td>\n",
       "      <td>2022</td>\n",
       "    </tr>\n",
       "    <tr>\n",
       "      <th>24</th>\n",
       "      <td>2024</td>\n",
       "      <td>January</td>\n",
       "      <td>1017.47</td>\n",
       "      <td>1076.3702</td>\n",
       "      <td>250.39</td>\n",
       "      <td>4.06</td>\n",
       "      <td>2023</td>\n",
       "    </tr>\n",
       "    <tr>\n",
       "      <th>25</th>\n",
       "      <td>2024</td>\n",
       "      <td>February</td>\n",
       "      <td>964.87</td>\n",
       "      <td>1044.1617</td>\n",
       "      <td>239.39</td>\n",
       "      <td>4.03</td>\n",
       "      <td>2023</td>\n",
       "    </tr>\n",
       "    <tr>\n",
       "      <th>26</th>\n",
       "      <td>2024</td>\n",
       "      <td>March</td>\n",
       "      <td>995.24</td>\n",
       "      <td>1058.4702</td>\n",
       "      <td>246.64</td>\n",
       "      <td>4.04</td>\n",
       "      <td>2023</td>\n",
       "    </tr>\n",
       "    <tr>\n",
       "      <th>27</th>\n",
       "      <td>2024</td>\n",
       "      <td>April</td>\n",
       "      <td>959.45</td>\n",
       "      <td>1015.7475</td>\n",
       "      <td>236.88</td>\n",
       "      <td>4.05</td>\n",
       "      <td>2023</td>\n",
       "    </tr>\n",
       "    <tr>\n",
       "      <th>28</th>\n",
       "      <td>2024</td>\n",
       "      <td>May</td>\n",
       "      <td>911.59</td>\n",
       "      <td>964.7788</td>\n",
       "      <td>225.25</td>\n",
       "      <td>4.05</td>\n",
       "      <td>2023</td>\n",
       "    </tr>\n",
       "    <tr>\n",
       "      <th>29</th>\n",
       "      <td>2024</td>\n",
       "      <td>June</td>\n",
       "      <td>981.29</td>\n",
       "      <td>1054.3188</td>\n",
       "      <td>245.69</td>\n",
       "      <td>3.99</td>\n",
       "      <td>2023</td>\n",
       "    </tr>\n",
       "    <tr>\n",
       "      <th>30</th>\n",
       "      <td>2024</td>\n",
       "      <td>July</td>\n",
       "      <td>979.17</td>\n",
       "      <td>1036.8249</td>\n",
       "      <td>241.42</td>\n",
       "      <td>4.06</td>\n",
       "      <td>2023</td>\n",
       "    </tr>\n",
       "    <tr>\n",
       "      <th>31</th>\n",
       "      <td>2024</td>\n",
       "      <td>August</td>\n",
       "      <td>982.14</td>\n",
       "      <td>1053.8537</td>\n",
       "      <td>241.84</td>\n",
       "      <td>4.06</td>\n",
       "      <td>2023</td>\n",
       "    </tr>\n",
       "    <tr>\n",
       "      <th>32</th>\n",
       "      <td>2024</td>\n",
       "      <td>September</td>\n",
       "      <td>964.38</td>\n",
       "      <td>1003.1523</td>\n",
       "      <td>235.70</td>\n",
       "      <td>4.09</td>\n",
       "      <td>2023</td>\n",
       "    </tr>\n",
       "    <tr>\n",
       "      <th>33</th>\n",
       "      <td>2024</td>\n",
       "      <td>October</td>\n",
       "      <td>939.84</td>\n",
       "      <td>1007.4559</td>\n",
       "      <td>232.33</td>\n",
       "      <td>4.05</td>\n",
       "      <td>2023</td>\n",
       "    </tr>\n",
       "    <tr>\n",
       "      <th>34</th>\n",
       "      <td>2024</td>\n",
       "      <td>November</td>\n",
       "      <td>948.72</td>\n",
       "      <td>1011.9838</td>\n",
       "      <td>233.24</td>\n",
       "      <td>4.07</td>\n",
       "      <td>2023</td>\n",
       "    </tr>\n",
       "    <tr>\n",
       "      <th>35</th>\n",
       "      <td>2024</td>\n",
       "      <td>December</td>\n",
       "      <td>978.64</td>\n",
       "      <td>1036.4707</td>\n",
       "      <td>240.67</td>\n",
       "      <td>4.07</td>\n",
       "      <td>2023</td>\n",
       "    </tr>\n",
       "  </tbody>\n",
       "</table>\n",
       "</div>"
      ],
      "text/plain": [
       "    Year Month_Name  Revenue (INR Mn)  ...  ASK (Mn km)  Monthly_PRASK  shifted_year\n",
       "0   2022    January            874.93  ...       234.79           3.73          2021\n",
       "1   2022   February            930.65  ...       250.92           3.71          2021\n",
       "2   2022      March            955.83  ...       253.67           3.77          2021\n",
       "3   2022      April            944.53  ...       252.28           3.74          2021\n",
       "4   2022        May            932.87  ...       251.12           3.71          2021\n",
       "5   2022       June            966.36  ...       257.89           3.75          2021\n",
       "6   2022       July            956.67  ...       257.81           3.71          2021\n",
       "7   2022     August            936.29  ...       251.35           3.73          2021\n",
       "8   2022  September            989.15  ...       265.59           3.72          2021\n",
       "9   2022    October           1026.19  ...       274.36           3.74          2021\n",
       "10  2022   November           1049.91  ...       281.67           3.73          2021\n",
       "11  2022   December            918.97  ...       247.98           3.71          2021\n",
       "12  2023    January            913.89  ...       230.67           3.96          2022\n",
       "13  2023   February            952.40  ...       241.89           3.94          2022\n",
       "14  2023      March            921.31  ...       232.29           3.97          2022\n",
       "15  2023      April            921.58  ...       233.20           3.95          2022\n",
       "16  2023        May            909.58  ...       231.47           3.93          2022\n",
       "17  2023       June            917.25  ...       234.27           3.92          2022\n",
       "18  2023       July            936.94  ...       238.10           3.94          2022\n",
       "19  2023     August            968.66  ...       244.91           3.96          2022\n",
       "20  2023  September            927.24  ...       235.03           3.95          2022\n",
       "21  2023    October            928.08  ...       235.82           3.94          2022\n",
       "22  2023   November            874.21  ...       222.31           3.93          2022\n",
       "23  2023   December            908.06  ...       231.19           3.93          2022\n",
       "24  2024    January           1017.47  ...       250.39           4.06          2023\n",
       "25  2024   February            964.87  ...       239.39           4.03          2023\n",
       "26  2024      March            995.24  ...       246.64           4.04          2023\n",
       "27  2024      April            959.45  ...       236.88           4.05          2023\n",
       "28  2024        May            911.59  ...       225.25           4.05          2023\n",
       "29  2024       June            981.29  ...       245.69           3.99          2023\n",
       "30  2024       July            979.17  ...       241.42           4.06          2023\n",
       "31  2024     August            982.14  ...       241.84           4.06          2023\n",
       "32  2024  September            964.38  ...       235.70           4.09          2023\n",
       "33  2024    October            939.84  ...       232.33           4.05          2023\n",
       "34  2024   November            948.72  ...       233.24           4.07          2023\n",
       "35  2024   December            978.64  ...       240.67           4.07          2023\n",
       "\n",
       "[36 rows x 7 columns]"
      ]
     },
     "execution_count": 45,
     "metadata": {},
     "output_type": "execute_result"
    }
   ],
   "source": [
    "from utils.dataframes import md\n",
    "\n",
    "md"
   ]
  },
  {
   "cell_type": "code",
   "execution_count": 46,
   "id": "642b5dbe",
   "metadata": {},
   "outputs": [
    {
     "data": {
      "text/plain": [
       "1.030534351145038"
      ]
     },
     "execution_count": 46,
     "metadata": {},
     "output_type": "execute_result"
    }
   ],
   "source": [
    "4.05/3.93"
   ]
  },
  {
   "cell_type": "code",
   "execution_count": null,
   "id": "ba3c88e1",
   "metadata": {},
   "outputs": [],
   "source": [
    "\n"
   ]
  },
  {
   "cell_type": "code",
   "execution_count": 50,
   "id": "2006068d",
   "metadata": {},
   "outputs": [
    {
     "data": {
      "application/vnd.plotly.v1+json": {
       "config": {
        "plotlyServerURL": "https://plot.ly"
       },
       "data": [
        {
         "customdata": [
          [
           ""
          ],
          [
           ""
          ],
          [
           ""
          ],
          [
           ""
          ],
          [
           ""
          ],
          [
           ""
          ],
          [
           ""
          ],
          [
           ""
          ],
          [
           ""
          ],
          [
           ""
          ],
          [
           ""
          ],
          [
           ""
          ]
         ],
         "hovertemplate": "Year=2022<br>Month_Name=%{x}<br>PRASK (INR)=%{text}<br>YoY=%{customdata[0]}<extra></extra>",
         "legendgroup": "2022",
         "line": {
          "color": "#636efa",
          "dash": "solid"
         },
         "marker": {
          "line": {
           "color": "DarkSlateGrey",
           "width": 1
          },
          "symbol": "circle"
         },
         "mode": "lines+markers+text",
         "name": "2022",
         "orientation": "v",
         "showlegend": true,
         "text": {
          "bdata": "16NwPQrXDUCuR+F6FK4NQClcj8L1KA5A7FG4HoXrDUCuR+F6FK4NQAAAAAAAAA5ArkfhehSuDUDXo3A9CtcNQMP1KFyPwg1A7FG4HoXrDUDXo3A9CtcNQK5H4XoUrg1A",
          "dtype": "f8"
         },
         "textposition": "top center",
         "type": "scatter",
         "x": [
          "January",
          "February",
          "March",
          "April",
          "May",
          "June",
          "July",
          "August",
          "September",
          "October",
          "November",
          "December"
         ],
         "xaxis": "x",
         "y": {
          "bdata": "16NwPQrXDUCuR+F6FK4NQClcj8L1KA5A7FG4HoXrDUCuR+F6FK4NQAAAAAAAAA5ArkfhehSuDUDXo3A9CtcNQMP1KFyPwg1A7FG4HoXrDUDXo3A9CtcNQK5H4XoUrg1A",
          "dtype": "f8"
         },
         "yaxis": "y"
        },
        {
         "customdata": [
          [
           "6.17%"
          ],
          [
           "6.2%"
          ],
          [
           "5.31%"
          ],
          [
           "5.61%"
          ],
          [
           "5.93%"
          ],
          [
           "4.53%"
          ],
          [
           "6.2%"
          ],
          [
           "6.17%"
          ],
          [
           "6.18%"
          ],
          [
           "5.35%"
          ],
          [
           "5.36%"
          ],
          [
           "5.93%"
          ]
         ],
         "hovertemplate": "Year=2023<br>Month_Name=%{x}<br>PRASK (INR)=%{text}<br>YoY=%{customdata[0]}<extra></extra>",
         "legendgroup": "2023",
         "line": {
          "color": "#EF553B",
          "dash": "solid"
         },
         "marker": {
          "line": {
           "color": "DarkSlateGrey",
           "width": 1
          },
          "symbol": "circle"
         },
         "mode": "lines+markers+text",
         "name": "2023",
         "orientation": "v",
         "showlegend": true,
         "text": {
          "bdata": "rkfhehSuD0CF61G4HoUPQMP1KFyPwg9AmpmZmZmZD0BxPQrXo3APQFyPwvUoXA9AhetRuB6FD0CuR+F6FK4PQJqZmZmZmQ9AhetRuB6FD0BxPQrXo3APQHE9CtejcA9A",
          "dtype": "f8"
         },
         "textposition": "top center",
         "type": "scatter",
         "x": [
          "January",
          "February",
          "March",
          "April",
          "May",
          "June",
          "July",
          "August",
          "September",
          "October",
          "November",
          "December"
         ],
         "xaxis": "x",
         "y": {
          "bdata": "rkfhehSuD0CF61G4HoUPQMP1KFyPwg9AmpmZmZmZD0BxPQrXo3APQFyPwvUoXA9AhetRuB6FD0CuR+F6FK4PQJqZmZmZmQ9AhetRuB6FD0BxPQrXo3APQHE9CtejcA9A",
          "dtype": "f8"
         },
         "yaxis": "y"
        },
        {
         "customdata": [
          [
           "2.53%"
          ],
          [
           "2.28%"
          ],
          [
           "1.76%"
          ],
          [
           "2.53%"
          ],
          [
           "3.05%"
          ],
          [
           "1.79%"
          ],
          [
           "3.05%"
          ],
          [
           "2.53%"
          ],
          [
           "3.54%"
          ],
          [
           "2.79%"
          ],
          [
           "3.56%"
          ],
          [
           "3.56%"
          ]
         ],
         "hovertemplate": "Year=2024<br>Month_Name=%{x}<br>PRASK (INR)=%{text}<br>YoY=%{customdata[0]}<extra></extra>",
         "legendgroup": "2024",
         "line": {
          "color": "#00cc96",
          "dash": "solid"
         },
         "marker": {
          "line": {
           "color": "DarkSlateGrey",
           "width": 1
          },
          "symbol": "circle"
         },
         "mode": "lines+markers+text",
         "name": "2024",
         "orientation": "v",
         "showlegend": true,
         "text": {
          "bdata": "PQrXo3A9EEAfhetRuB4QQClcj8L1KBBAMzMzMzMzEEAzMzMzMzMQQOxRuB6F6w9APQrXo3A9EEA9CtejcD0QQFyPwvUoXBBAMzMzMzMzEEBI4XoUrkcQQEjhehSuRxBA",
          "dtype": "f8"
         },
         "textposition": "top center",
         "type": "scatter",
         "x": [
          "January",
          "February",
          "March",
          "April",
          "May",
          "June",
          "July",
          "August",
          "September",
          "October",
          "November",
          "December"
         ],
         "xaxis": "x",
         "y": {
          "bdata": "PQrXo3A9EEAfhetRuB4QQClcj8L1KBBAMzMzMzMzEEAzMzMzMzMQQOxRuB6F6w9APQrXo3A9EEA9CtejcD0QQFyPwvUoXBBAMzMzMzMzEEBI4XoUrkcQQEjhehSuRxBA",
          "dtype": "f8"
         },
         "yaxis": "y"
        }
       ],
       "layout": {
        "legend": {
         "title": {
          "text": "Year"
         },
         "tracegroupgap": 0
        },
        "template": {
         "data": {
          "bar": [
           {
            "error_x": {
             "color": "#2a3f5f"
            },
            "error_y": {
             "color": "#2a3f5f"
            },
            "marker": {
             "line": {
              "color": "white",
              "width": 0.5
             },
             "pattern": {
              "fillmode": "overlay",
              "size": 10,
              "solidity": 0.2
             }
            },
            "type": "bar"
           }
          ],
          "barpolar": [
           {
            "marker": {
             "line": {
              "color": "white",
              "width": 0.5
             },
             "pattern": {
              "fillmode": "overlay",
              "size": 10,
              "solidity": 0.2
             }
            },
            "type": "barpolar"
           }
          ],
          "carpet": [
           {
            "aaxis": {
             "endlinecolor": "#2a3f5f",
             "gridcolor": "#C8D4E3",
             "linecolor": "#C8D4E3",
             "minorgridcolor": "#C8D4E3",
             "startlinecolor": "#2a3f5f"
            },
            "baxis": {
             "endlinecolor": "#2a3f5f",
             "gridcolor": "#C8D4E3",
             "linecolor": "#C8D4E3",
             "minorgridcolor": "#C8D4E3",
             "startlinecolor": "#2a3f5f"
            },
            "type": "carpet"
           }
          ],
          "choropleth": [
           {
            "colorbar": {
             "outlinewidth": 0,
             "ticks": ""
            },
            "type": "choropleth"
           }
          ],
          "contour": [
           {
            "colorbar": {
             "outlinewidth": 0,
             "ticks": ""
            },
            "colorscale": [
             [
              0,
              "#0d0887"
             ],
             [
              0.1111111111111111,
              "#46039f"
             ],
             [
              0.2222222222222222,
              "#7201a8"
             ],
             [
              0.3333333333333333,
              "#9c179e"
             ],
             [
              0.4444444444444444,
              "#bd3786"
             ],
             [
              0.5555555555555556,
              "#d8576b"
             ],
             [
              0.6666666666666666,
              "#ed7953"
             ],
             [
              0.7777777777777778,
              "#fb9f3a"
             ],
             [
              0.8888888888888888,
              "#fdca26"
             ],
             [
              1,
              "#f0f921"
             ]
            ],
            "type": "contour"
           }
          ],
          "contourcarpet": [
           {
            "colorbar": {
             "outlinewidth": 0,
             "ticks": ""
            },
            "type": "contourcarpet"
           }
          ],
          "heatmap": [
           {
            "colorbar": {
             "outlinewidth": 0,
             "ticks": ""
            },
            "colorscale": [
             [
              0,
              "#0d0887"
             ],
             [
              0.1111111111111111,
              "#46039f"
             ],
             [
              0.2222222222222222,
              "#7201a8"
             ],
             [
              0.3333333333333333,
              "#9c179e"
             ],
             [
              0.4444444444444444,
              "#bd3786"
             ],
             [
              0.5555555555555556,
              "#d8576b"
             ],
             [
              0.6666666666666666,
              "#ed7953"
             ],
             [
              0.7777777777777778,
              "#fb9f3a"
             ],
             [
              0.8888888888888888,
              "#fdca26"
             ],
             [
              1,
              "#f0f921"
             ]
            ],
            "type": "heatmap"
           }
          ],
          "histogram": [
           {
            "marker": {
             "pattern": {
              "fillmode": "overlay",
              "size": 10,
              "solidity": 0.2
             }
            },
            "type": "histogram"
           }
          ],
          "histogram2d": [
           {
            "colorbar": {
             "outlinewidth": 0,
             "ticks": ""
            },
            "colorscale": [
             [
              0,
              "#0d0887"
             ],
             [
              0.1111111111111111,
              "#46039f"
             ],
             [
              0.2222222222222222,
              "#7201a8"
             ],
             [
              0.3333333333333333,
              "#9c179e"
             ],
             [
              0.4444444444444444,
              "#bd3786"
             ],
             [
              0.5555555555555556,
              "#d8576b"
             ],
             [
              0.6666666666666666,
              "#ed7953"
             ],
             [
              0.7777777777777778,
              "#fb9f3a"
             ],
             [
              0.8888888888888888,
              "#fdca26"
             ],
             [
              1,
              "#f0f921"
             ]
            ],
            "type": "histogram2d"
           }
          ],
          "histogram2dcontour": [
           {
            "colorbar": {
             "outlinewidth": 0,
             "ticks": ""
            },
            "colorscale": [
             [
              0,
              "#0d0887"
             ],
             [
              0.1111111111111111,
              "#46039f"
             ],
             [
              0.2222222222222222,
              "#7201a8"
             ],
             [
              0.3333333333333333,
              "#9c179e"
             ],
             [
              0.4444444444444444,
              "#bd3786"
             ],
             [
              0.5555555555555556,
              "#d8576b"
             ],
             [
              0.6666666666666666,
              "#ed7953"
             ],
             [
              0.7777777777777778,
              "#fb9f3a"
             ],
             [
              0.8888888888888888,
              "#fdca26"
             ],
             [
              1,
              "#f0f921"
             ]
            ],
            "type": "histogram2dcontour"
           }
          ],
          "mesh3d": [
           {
            "colorbar": {
             "outlinewidth": 0,
             "ticks": ""
            },
            "type": "mesh3d"
           }
          ],
          "parcoords": [
           {
            "line": {
             "colorbar": {
              "outlinewidth": 0,
              "ticks": ""
             }
            },
            "type": "parcoords"
           }
          ],
          "pie": [
           {
            "automargin": true,
            "type": "pie"
           }
          ],
          "scatter": [
           {
            "fillpattern": {
             "fillmode": "overlay",
             "size": 10,
             "solidity": 0.2
            },
            "type": "scatter"
           }
          ],
          "scatter3d": [
           {
            "line": {
             "colorbar": {
              "outlinewidth": 0,
              "ticks": ""
             }
            },
            "marker": {
             "colorbar": {
              "outlinewidth": 0,
              "ticks": ""
             }
            },
            "type": "scatter3d"
           }
          ],
          "scattercarpet": [
           {
            "marker": {
             "colorbar": {
              "outlinewidth": 0,
              "ticks": ""
             }
            },
            "type": "scattercarpet"
           }
          ],
          "scattergeo": [
           {
            "marker": {
             "colorbar": {
              "outlinewidth": 0,
              "ticks": ""
             }
            },
            "type": "scattergeo"
           }
          ],
          "scattergl": [
           {
            "marker": {
             "colorbar": {
              "outlinewidth": 0,
              "ticks": ""
             }
            },
            "type": "scattergl"
           }
          ],
          "scattermap": [
           {
            "marker": {
             "colorbar": {
              "outlinewidth": 0,
              "ticks": ""
             }
            },
            "type": "scattermap"
           }
          ],
          "scattermapbox": [
           {
            "marker": {
             "colorbar": {
              "outlinewidth": 0,
              "ticks": ""
             }
            },
            "type": "scattermapbox"
           }
          ],
          "scatterpolar": [
           {
            "marker": {
             "colorbar": {
              "outlinewidth": 0,
              "ticks": ""
             }
            },
            "type": "scatterpolar"
           }
          ],
          "scatterpolargl": [
           {
            "marker": {
             "colorbar": {
              "outlinewidth": 0,
              "ticks": ""
             }
            },
            "type": "scatterpolargl"
           }
          ],
          "scatterternary": [
           {
            "marker": {
             "colorbar": {
              "outlinewidth": 0,
              "ticks": ""
             }
            },
            "type": "scatterternary"
           }
          ],
          "surface": [
           {
            "colorbar": {
             "outlinewidth": 0,
             "ticks": ""
            },
            "colorscale": [
             [
              0,
              "#0d0887"
             ],
             [
              0.1111111111111111,
              "#46039f"
             ],
             [
              0.2222222222222222,
              "#7201a8"
             ],
             [
              0.3333333333333333,
              "#9c179e"
             ],
             [
              0.4444444444444444,
              "#bd3786"
             ],
             [
              0.5555555555555556,
              "#d8576b"
             ],
             [
              0.6666666666666666,
              "#ed7953"
             ],
             [
              0.7777777777777778,
              "#fb9f3a"
             ],
             [
              0.8888888888888888,
              "#fdca26"
             ],
             [
              1,
              "#f0f921"
             ]
            ],
            "type": "surface"
           }
          ],
          "table": [
           {
            "cells": {
             "fill": {
              "color": "#EBF0F8"
             },
             "line": {
              "color": "white"
             }
            },
            "header": {
             "fill": {
              "color": "#C8D4E3"
             },
             "line": {
              "color": "white"
             }
            },
            "type": "table"
           }
          ]
         },
         "layout": {
          "annotationdefaults": {
           "arrowcolor": "#2a3f5f",
           "arrowhead": 0,
           "arrowwidth": 1
          },
          "autotypenumbers": "strict",
          "coloraxis": {
           "colorbar": {
            "outlinewidth": 0,
            "ticks": ""
           }
          },
          "colorscale": {
           "diverging": [
            [
             0,
             "#8e0152"
            ],
            [
             0.1,
             "#c51b7d"
            ],
            [
             0.2,
             "#de77ae"
            ],
            [
             0.3,
             "#f1b6da"
            ],
            [
             0.4,
             "#fde0ef"
            ],
            [
             0.5,
             "#f7f7f7"
            ],
            [
             0.6,
             "#e6f5d0"
            ],
            [
             0.7,
             "#b8e186"
            ],
            [
             0.8,
             "#7fbc41"
            ],
            [
             0.9,
             "#4d9221"
            ],
            [
             1,
             "#276419"
            ]
           ],
           "sequential": [
            [
             0,
             "#0d0887"
            ],
            [
             0.1111111111111111,
             "#46039f"
            ],
            [
             0.2222222222222222,
             "#7201a8"
            ],
            [
             0.3333333333333333,
             "#9c179e"
            ],
            [
             0.4444444444444444,
             "#bd3786"
            ],
            [
             0.5555555555555556,
             "#d8576b"
            ],
            [
             0.6666666666666666,
             "#ed7953"
            ],
            [
             0.7777777777777778,
             "#fb9f3a"
            ],
            [
             0.8888888888888888,
             "#fdca26"
            ],
            [
             1,
             "#f0f921"
            ]
           ],
           "sequentialminus": [
            [
             0,
             "#0d0887"
            ],
            [
             0.1111111111111111,
             "#46039f"
            ],
            [
             0.2222222222222222,
             "#7201a8"
            ],
            [
             0.3333333333333333,
             "#9c179e"
            ],
            [
             0.4444444444444444,
             "#bd3786"
            ],
            [
             0.5555555555555556,
             "#d8576b"
            ],
            [
             0.6666666666666666,
             "#ed7953"
            ],
            [
             0.7777777777777778,
             "#fb9f3a"
            ],
            [
             0.8888888888888888,
             "#fdca26"
            ],
            [
             1,
             "#f0f921"
            ]
           ]
          },
          "colorway": [
           "#636efa",
           "#EF553B",
           "#00cc96",
           "#ab63fa",
           "#FFA15A",
           "#19d3f3",
           "#FF6692",
           "#B6E880",
           "#FF97FF",
           "#FECB52"
          ],
          "font": {
           "color": "#2a3f5f"
          },
          "geo": {
           "bgcolor": "white",
           "lakecolor": "white",
           "landcolor": "white",
           "showlakes": true,
           "showland": true,
           "subunitcolor": "#C8D4E3"
          },
          "hoverlabel": {
           "align": "left"
          },
          "hovermode": "closest",
          "mapbox": {
           "style": "light"
          },
          "paper_bgcolor": "white",
          "plot_bgcolor": "white",
          "polar": {
           "angularaxis": {
            "gridcolor": "#EBF0F8",
            "linecolor": "#EBF0F8",
            "ticks": ""
           },
           "bgcolor": "white",
           "radialaxis": {
            "gridcolor": "#EBF0F8",
            "linecolor": "#EBF0F8",
            "ticks": ""
           }
          },
          "scene": {
           "xaxis": {
            "backgroundcolor": "white",
            "gridcolor": "#DFE8F3",
            "gridwidth": 2,
            "linecolor": "#EBF0F8",
            "showbackground": true,
            "ticks": "",
            "zerolinecolor": "#EBF0F8"
           },
           "yaxis": {
            "backgroundcolor": "white",
            "gridcolor": "#DFE8F3",
            "gridwidth": 2,
            "linecolor": "#EBF0F8",
            "showbackground": true,
            "ticks": "",
            "zerolinecolor": "#EBF0F8"
           },
           "zaxis": {
            "backgroundcolor": "white",
            "gridcolor": "#DFE8F3",
            "gridwidth": 2,
            "linecolor": "#EBF0F8",
            "showbackground": true,
            "ticks": "",
            "zerolinecolor": "#EBF0F8"
           }
          },
          "shapedefaults": {
           "line": {
            "color": "#2a3f5f"
           }
          },
          "ternary": {
           "aaxis": {
            "gridcolor": "#DFE8F3",
            "linecolor": "#A2B1C6",
            "ticks": ""
           },
           "baxis": {
            "gridcolor": "#DFE8F3",
            "linecolor": "#A2B1C6",
            "ticks": ""
           },
           "bgcolor": "white",
           "caxis": {
            "gridcolor": "#DFE8F3",
            "linecolor": "#A2B1C6",
            "ticks": ""
           }
          },
          "title": {
           "x": 0.05
          },
          "xaxis": {
           "automargin": true,
           "gridcolor": "#EBF0F8",
           "linecolor": "#EBF0F8",
           "ticks": "",
           "title": {
            "standoff": 15
           },
           "zerolinecolor": "#EBF0F8",
           "zerolinewidth": 2
          },
          "yaxis": {
           "automargin": true,
           "gridcolor": "#EBF0F8",
           "linecolor": "#EBF0F8",
           "ticks": "",
           "title": {
            "standoff": 15
           },
           "zerolinecolor": "#EBF0F8",
           "zerolinewidth": 2
          }
         }
        },
        "title": {
         "text": "Monthly PRASK Trend"
        },
        "xaxis": {
         "anchor": "y",
         "categoryarray": [
          "January",
          "February",
          "March",
          "April",
          "May",
          "June",
          "July",
          "August",
          "September",
          "October",
          "November",
          "December"
         ],
         "categoryorder": "array",
         "domain": [
          0,
          1
         ],
         "title": {
          "text": "Month"
         }
        },
        "yaxis": {
         "anchor": "x",
         "domain": [
          0,
          1
         ],
         "title": {
          "text": "PRASK (INR)"
         }
        }
       }
      }
     },
     "metadata": {},
     "output_type": "display_data"
    }
   ],
   "source": [
    "def monthly_trend():\n",
    "    pnl=md\n",
    "    pnl[\"shifted_year\"]=pnl[\"Year\"].astype(int)-1\n",
    "    pnl_shifted=pnl.copy()\n",
    "    yoydif=pnl_shifted.merge(pnl[[\"Year\",\"shifted_year\",\"Month_Name\",\"Monthly_PRASK\"]],\n",
    "                              left_on=[\"shifted_year\",\"Month_Name\"], right_on=[\"Year\",\"Month_Name\"],\n",
    "                                how=\"left\", suffixes=(\"_o\", \"_n\"))\n",
    "    yoydif[\"YoY\"]=round((yoydif[\"Monthly_PRASK_o\"]-yoydif[\"Monthly_PRASK_n\"])/yoydif[\"Monthly_PRASK_n\"]*100,2).astype(str) +\"%\"\n",
    "    yoydif[\"YoY\"]=yoydif[\"YoY\"].replace(\"nan%\",\"\")\n",
    "    yoydif.rename(columns={\"Monthly_PRASK_o\":\"Monthly_PRASK\", \"Monthly_PRASK_n\":\"Monthly_PRASK_prev\",\"Year_o\":\"Year\"}, inplace=True)\n",
    "    month_order = [\n",
    "        \"January\", \"February\", \"March\", \"April\", \"May\", \"June\",\n",
    "        \"July\", \"August\", \"September\", \"October\", \"November\", \"December\"\n",
    "    ]\n",
    "    fig=px.line(yoydif, x=\"Month_Name\", y=\"Monthly_PRASK\",\n",
    "                color=\"Year\",\n",
    "                title=\"Monthly PRASK Trend\",\n",
    "                labels={\"Monthly_PRASK\":\"PRASK (INR)\"},\n",
    "                markers=True,\n",
    "                category_orders={\"Month_Name\": month_order},\n",
    "                hover_data=[\"YoY\"],\n",
    "                text=\"Monthly_PRASK\"\n",
    "                )\n",
    "    fig.update_traces(marker=dict(line=dict(width=1, color='DarkSlateGrey')), textposition=\"top center\")\n",
    "    fig.update_layout(\n",
    "        xaxis_title=\"Month\",\n",
    "        yaxis_title=\"PRASK (INR)\",\n",
    "        legend_title=\"Year\",\n",
    "        template=\"plotly_white\"\n",
    "\n",
    "    )\n",
    "    return fig\n",
    "monthly_trend()"
   ]
  },
  {
   "cell_type": "code",
   "execution_count": null,
   "id": "915d7767",
   "metadata": {},
   "outputs": [
    {
     "data": {
      "text/html": [
       "<div>\n",
       "<style scoped>\n",
       "    .dataframe tbody tr th:only-of-type {\n",
       "        vertical-align: middle;\n",
       "    }\n",
       "\n",
       "    .dataframe tbody tr th {\n",
       "        vertical-align: top;\n",
       "    }\n",
       "\n",
       "    .dataframe thead th {\n",
       "        text-align: right;\n",
       "    }\n",
       "</style>\n",
       "<table border=\"1\" class=\"dataframe\">\n",
       "  <thead>\n",
       "    <tr style=\"text-align: right;\">\n",
       "      <th></th>\n",
       "      <th>Year</th>\n",
       "      <th>Month_Name</th>\n",
       "      <th>Revenue (INR Mn)</th>\n",
       "      <th>Cost (INR Mn)</th>\n",
       "      <th>ASK (Mn km)</th>\n",
       "      <th>Monthly_PRASK</th>\n",
       "      <th>shifted_year</th>\n",
       "    </tr>\n",
       "  </thead>\n",
       "  <tbody>\n",
       "    <tr>\n",
       "      <th>0</th>\n",
       "      <td>2022</td>\n",
       "      <td>January</td>\n",
       "      <td>874.93</td>\n",
       "      <td>982.1233</td>\n",
       "      <td>234.79</td>\n",
       "      <td>3.73</td>\n",
       "      <td>2021</td>\n",
       "    </tr>\n",
       "    <tr>\n",
       "      <th>1</th>\n",
       "      <td>2022</td>\n",
       "      <td>February</td>\n",
       "      <td>930.65</td>\n",
       "      <td>1058.5332</td>\n",
       "      <td>250.92</td>\n",
       "      <td>3.71</td>\n",
       "      <td>2021</td>\n",
       "    </tr>\n",
       "    <tr>\n",
       "      <th>2</th>\n",
       "      <td>2022</td>\n",
       "      <td>March</td>\n",
       "      <td>955.83</td>\n",
       "      <td>1069.2161</td>\n",
       "      <td>253.67</td>\n",
       "      <td>3.77</td>\n",
       "      <td>2021</td>\n",
       "    </tr>\n",
       "    <tr>\n",
       "      <th>3</th>\n",
       "      <td>2022</td>\n",
       "      <td>April</td>\n",
       "      <td>944.53</td>\n",
       "      <td>1054.5595</td>\n",
       "      <td>252.28</td>\n",
       "      <td>3.74</td>\n",
       "      <td>2021</td>\n",
       "    </tr>\n",
       "    <tr>\n",
       "      <th>4</th>\n",
       "      <td>2022</td>\n",
       "      <td>May</td>\n",
       "      <td>932.87</td>\n",
       "      <td>1054.3885</td>\n",
       "      <td>251.12</td>\n",
       "      <td>3.71</td>\n",
       "      <td>2021</td>\n",
       "    </tr>\n",
       "    <tr>\n",
       "      <th>5</th>\n",
       "      <td>2022</td>\n",
       "      <td>June</td>\n",
       "      <td>966.36</td>\n",
       "      <td>1082.2070</td>\n",
       "      <td>257.89</td>\n",
       "      <td>3.75</td>\n",
       "      <td>2021</td>\n",
       "    </tr>\n",
       "    <tr>\n",
       "      <th>6</th>\n",
       "      <td>2022</td>\n",
       "      <td>July</td>\n",
       "      <td>956.67</td>\n",
       "      <td>1089.5488</td>\n",
       "      <td>257.81</td>\n",
       "      <td>3.71</td>\n",
       "      <td>2021</td>\n",
       "    </tr>\n",
       "    <tr>\n",
       "      <th>7</th>\n",
       "      <td>2022</td>\n",
       "      <td>August</td>\n",
       "      <td>936.29</td>\n",
       "      <td>1066.0843</td>\n",
       "      <td>251.35</td>\n",
       "      <td>3.73</td>\n",
       "      <td>2021</td>\n",
       "    </tr>\n",
       "    <tr>\n",
       "      <th>8</th>\n",
       "      <td>2022</td>\n",
       "      <td>September</td>\n",
       "      <td>989.15</td>\n",
       "      <td>1095.9701</td>\n",
       "      <td>265.59</td>\n",
       "      <td>3.72</td>\n",
       "      <td>2021</td>\n",
       "    </tr>\n",
       "    <tr>\n",
       "      <th>9</th>\n",
       "      <td>2022</td>\n",
       "      <td>October</td>\n",
       "      <td>1026.19</td>\n",
       "      <td>1151.1098</td>\n",
       "      <td>274.36</td>\n",
       "      <td>3.74</td>\n",
       "      <td>2021</td>\n",
       "    </tr>\n",
       "    <tr>\n",
       "      <th>10</th>\n",
       "      <td>2022</td>\n",
       "      <td>November</td>\n",
       "      <td>1049.91</td>\n",
       "      <td>1182.4145</td>\n",
       "      <td>281.67</td>\n",
       "      <td>3.73</td>\n",
       "      <td>2021</td>\n",
       "    </tr>\n",
       "    <tr>\n",
       "      <th>11</th>\n",
       "      <td>2022</td>\n",
       "      <td>December</td>\n",
       "      <td>918.97</td>\n",
       "      <td>1033.1370</td>\n",
       "      <td>247.98</td>\n",
       "      <td>3.71</td>\n",
       "      <td>2021</td>\n",
       "    </tr>\n",
       "    <tr>\n",
       "      <th>12</th>\n",
       "      <td>2023</td>\n",
       "      <td>January</td>\n",
       "      <td>913.89</td>\n",
       "      <td>949.2454</td>\n",
       "      <td>230.67</td>\n",
       "      <td>3.96</td>\n",
       "      <td>2022</td>\n",
       "    </tr>\n",
       "    <tr>\n",
       "      <th>13</th>\n",
       "      <td>2023</td>\n",
       "      <td>February</td>\n",
       "      <td>952.40</td>\n",
       "      <td>987.0951</td>\n",
       "      <td>241.89</td>\n",
       "      <td>3.94</td>\n",
       "      <td>2022</td>\n",
       "    </tr>\n",
       "    <tr>\n",
       "      <th>14</th>\n",
       "      <td>2023</td>\n",
       "      <td>March</td>\n",
       "      <td>921.31</td>\n",
       "      <td>952.8843</td>\n",
       "      <td>232.29</td>\n",
       "      <td>3.97</td>\n",
       "      <td>2022</td>\n",
       "    </tr>\n",
       "    <tr>\n",
       "      <th>15</th>\n",
       "      <td>2023</td>\n",
       "      <td>April</td>\n",
       "      <td>921.58</td>\n",
       "      <td>953.0439</td>\n",
       "      <td>233.20</td>\n",
       "      <td>3.95</td>\n",
       "      <td>2022</td>\n",
       "    </tr>\n",
       "    <tr>\n",
       "      <th>16</th>\n",
       "      <td>2023</td>\n",
       "      <td>May</td>\n",
       "      <td>909.58</td>\n",
       "      <td>947.5311</td>\n",
       "      <td>231.47</td>\n",
       "      <td>3.93</td>\n",
       "      <td>2022</td>\n",
       "    </tr>\n",
       "    <tr>\n",
       "      <th>17</th>\n",
       "      <td>2023</td>\n",
       "      <td>June</td>\n",
       "      <td>917.25</td>\n",
       "      <td>955.1126</td>\n",
       "      <td>234.27</td>\n",
       "      <td>3.92</td>\n",
       "      <td>2022</td>\n",
       "    </tr>\n",
       "    <tr>\n",
       "      <th>18</th>\n",
       "      <td>2023</td>\n",
       "      <td>July</td>\n",
       "      <td>936.94</td>\n",
       "      <td>964.0274</td>\n",
       "      <td>238.10</td>\n",
       "      <td>3.94</td>\n",
       "      <td>2022</td>\n",
       "    </tr>\n",
       "    <tr>\n",
       "      <th>19</th>\n",
       "      <td>2023</td>\n",
       "      <td>August</td>\n",
       "      <td>968.66</td>\n",
       "      <td>997.2770</td>\n",
       "      <td>244.91</td>\n",
       "      <td>3.96</td>\n",
       "      <td>2022</td>\n",
       "    </tr>\n",
       "    <tr>\n",
       "      <th>20</th>\n",
       "      <td>2023</td>\n",
       "      <td>September</td>\n",
       "      <td>927.24</td>\n",
       "      <td>967.8859</td>\n",
       "      <td>235.03</td>\n",
       "      <td>3.95</td>\n",
       "      <td>2022</td>\n",
       "    </tr>\n",
       "    <tr>\n",
       "      <th>21</th>\n",
       "      <td>2023</td>\n",
       "      <td>October</td>\n",
       "      <td>928.08</td>\n",
       "      <td>954.9884</td>\n",
       "      <td>235.82</td>\n",
       "      <td>3.94</td>\n",
       "      <td>2022</td>\n",
       "    </tr>\n",
       "    <tr>\n",
       "      <th>22</th>\n",
       "      <td>2023</td>\n",
       "      <td>November</td>\n",
       "      <td>874.21</td>\n",
       "      <td>910.8565</td>\n",
       "      <td>222.31</td>\n",
       "      <td>3.93</td>\n",
       "      <td>2022</td>\n",
       "    </tr>\n",
       "    <tr>\n",
       "      <th>23</th>\n",
       "      <td>2023</td>\n",
       "      <td>December</td>\n",
       "      <td>908.06</td>\n",
       "      <td>956.6374</td>\n",
       "      <td>231.19</td>\n",
       "      <td>3.93</td>\n",
       "      <td>2022</td>\n",
       "    </tr>\n",
       "    <tr>\n",
       "      <th>24</th>\n",
       "      <td>2024</td>\n",
       "      <td>January</td>\n",
       "      <td>1017.47</td>\n",
       "      <td>1076.3702</td>\n",
       "      <td>250.39</td>\n",
       "      <td>4.06</td>\n",
       "      <td>2023</td>\n",
       "    </tr>\n",
       "    <tr>\n",
       "      <th>25</th>\n",
       "      <td>2024</td>\n",
       "      <td>February</td>\n",
       "      <td>964.87</td>\n",
       "      <td>1044.1617</td>\n",
       "      <td>239.39</td>\n",
       "      <td>4.03</td>\n",
       "      <td>2023</td>\n",
       "    </tr>\n",
       "    <tr>\n",
       "      <th>26</th>\n",
       "      <td>2024</td>\n",
       "      <td>March</td>\n",
       "      <td>995.24</td>\n",
       "      <td>1058.4702</td>\n",
       "      <td>246.64</td>\n",
       "      <td>4.04</td>\n",
       "      <td>2023</td>\n",
       "    </tr>\n",
       "    <tr>\n",
       "      <th>27</th>\n",
       "      <td>2024</td>\n",
       "      <td>April</td>\n",
       "      <td>959.45</td>\n",
       "      <td>1015.7475</td>\n",
       "      <td>236.88</td>\n",
       "      <td>4.05</td>\n",
       "      <td>2023</td>\n",
       "    </tr>\n",
       "    <tr>\n",
       "      <th>28</th>\n",
       "      <td>2024</td>\n",
       "      <td>May</td>\n",
       "      <td>911.59</td>\n",
       "      <td>964.7788</td>\n",
       "      <td>225.25</td>\n",
       "      <td>4.05</td>\n",
       "      <td>2023</td>\n",
       "    </tr>\n",
       "    <tr>\n",
       "      <th>29</th>\n",
       "      <td>2024</td>\n",
       "      <td>June</td>\n",
       "      <td>981.29</td>\n",
       "      <td>1054.3188</td>\n",
       "      <td>245.69</td>\n",
       "      <td>3.99</td>\n",
       "      <td>2023</td>\n",
       "    </tr>\n",
       "    <tr>\n",
       "      <th>30</th>\n",
       "      <td>2024</td>\n",
       "      <td>July</td>\n",
       "      <td>979.17</td>\n",
       "      <td>1036.8249</td>\n",
       "      <td>241.42</td>\n",
       "      <td>4.06</td>\n",
       "      <td>2023</td>\n",
       "    </tr>\n",
       "    <tr>\n",
       "      <th>31</th>\n",
       "      <td>2024</td>\n",
       "      <td>August</td>\n",
       "      <td>982.14</td>\n",
       "      <td>1053.8537</td>\n",
       "      <td>241.84</td>\n",
       "      <td>4.06</td>\n",
       "      <td>2023</td>\n",
       "    </tr>\n",
       "    <tr>\n",
       "      <th>32</th>\n",
       "      <td>2024</td>\n",
       "      <td>September</td>\n",
       "      <td>964.38</td>\n",
       "      <td>1003.1523</td>\n",
       "      <td>235.70</td>\n",
       "      <td>4.09</td>\n",
       "      <td>2023</td>\n",
       "    </tr>\n",
       "    <tr>\n",
       "      <th>33</th>\n",
       "      <td>2024</td>\n",
       "      <td>October</td>\n",
       "      <td>939.84</td>\n",
       "      <td>1007.4559</td>\n",
       "      <td>232.33</td>\n",
       "      <td>4.05</td>\n",
       "      <td>2023</td>\n",
       "    </tr>\n",
       "    <tr>\n",
       "      <th>34</th>\n",
       "      <td>2024</td>\n",
       "      <td>November</td>\n",
       "      <td>948.72</td>\n",
       "      <td>1011.9838</td>\n",
       "      <td>233.24</td>\n",
       "      <td>4.07</td>\n",
       "      <td>2023</td>\n",
       "    </tr>\n",
       "    <tr>\n",
       "      <th>35</th>\n",
       "      <td>2024</td>\n",
       "      <td>December</td>\n",
       "      <td>978.64</td>\n",
       "      <td>1036.4707</td>\n",
       "      <td>240.67</td>\n",
       "      <td>4.07</td>\n",
       "      <td>2023</td>\n",
       "    </tr>\n",
       "  </tbody>\n",
       "</table>\n",
       "</div>"
      ],
      "text/plain": [
       "    Year Month_Name  Revenue (INR Mn)  ...  ASK (Mn km)  Monthly_PRASK  shifted_year\n",
       "0   2022    January            874.93  ...       234.79           3.73          2021\n",
       "1   2022   February            930.65  ...       250.92           3.71          2021\n",
       "2   2022      March            955.83  ...       253.67           3.77          2021\n",
       "3   2022      April            944.53  ...       252.28           3.74          2021\n",
       "4   2022        May            932.87  ...       251.12           3.71          2021\n",
       "5   2022       June            966.36  ...       257.89           3.75          2021\n",
       "6   2022       July            956.67  ...       257.81           3.71          2021\n",
       "7   2022     August            936.29  ...       251.35           3.73          2021\n",
       "8   2022  September            989.15  ...       265.59           3.72          2021\n",
       "9   2022    October           1026.19  ...       274.36           3.74          2021\n",
       "10  2022   November           1049.91  ...       281.67           3.73          2021\n",
       "11  2022   December            918.97  ...       247.98           3.71          2021\n",
       "12  2023    January            913.89  ...       230.67           3.96          2022\n",
       "13  2023   February            952.40  ...       241.89           3.94          2022\n",
       "14  2023      March            921.31  ...       232.29           3.97          2022\n",
       "15  2023      April            921.58  ...       233.20           3.95          2022\n",
       "16  2023        May            909.58  ...       231.47           3.93          2022\n",
       "17  2023       June            917.25  ...       234.27           3.92          2022\n",
       "18  2023       July            936.94  ...       238.10           3.94          2022\n",
       "19  2023     August            968.66  ...       244.91           3.96          2022\n",
       "20  2023  September            927.24  ...       235.03           3.95          2022\n",
       "21  2023    October            928.08  ...       235.82           3.94          2022\n",
       "22  2023   November            874.21  ...       222.31           3.93          2022\n",
       "23  2023   December            908.06  ...       231.19           3.93          2022\n",
       "24  2024    January           1017.47  ...       250.39           4.06          2023\n",
       "25  2024   February            964.87  ...       239.39           4.03          2023\n",
       "26  2024      March            995.24  ...       246.64           4.04          2023\n",
       "27  2024      April            959.45  ...       236.88           4.05          2023\n",
       "28  2024        May            911.59  ...       225.25           4.05          2023\n",
       "29  2024       June            981.29  ...       245.69           3.99          2023\n",
       "30  2024       July            979.17  ...       241.42           4.06          2023\n",
       "31  2024     August            982.14  ...       241.84           4.06          2023\n",
       "32  2024  September            964.38  ...       235.70           4.09          2023\n",
       "33  2024    October            939.84  ...       232.33           4.05          2023\n",
       "34  2024   November            948.72  ...       233.24           4.07          2023\n",
       "35  2024   December            978.64  ...       240.67           4.07          2023\n",
       "\n",
       "[36 rows x 7 columns]"
      ]
     },
     "execution_count": 51,
     "metadata": {},
     "output_type": "execute_result"
    }
   ],
   "source": [
    "m"
   ]
  },
  {
   "cell_type": "code",
   "execution_count": null,
   "id": "299e5cfc",
   "metadata": {},
   "outputs": [],
   "source": []
  }
 ],
 "metadata": {
  "kernelspec": {
   "display_name": "Python 3",
   "language": "python",
   "name": "python3"
  },
  "language_info": {
   "codemirror_mode": {
    "name": "ipython",
    "version": 3
   },
   "file_extension": ".py",
   "mimetype": "text/x-python",
   "name": "python",
   "nbconvert_exporter": "python",
   "pygments_lexer": "ipython3",
   "version": "3.13.3"
  }
 },
 "nbformat": 4,
 "nbformat_minor": 5
}
